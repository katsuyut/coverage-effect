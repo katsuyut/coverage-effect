{
 "cells": [
  {
   "cell_type": "code",
   "execution_count": 39,
   "metadata": {},
   "outputs": [],
   "source": [
    "from MAUtil import *\n",
    "from MAInit import *\n",
    "from ase.build import hcp0001"
   ]
  },
  {
   "cell_type": "code",
   "execution_count": 40,
   "metadata": {},
   "outputs": [],
   "source": [
    "# original vasp setting\n",
    "Cu = 3.67692954505\n",
    "Pt = 3.99080053103\n",
    "Ag = 4.21306528057\n",
    "NiGa = 2.94185291954\n",
    "CoPt3 = 3.88603895417\n",
    "Pd = 3.97922820431\n",
    "Au = 4.1970811886\n",
    "Ni = 3.5454199748\n",
    "Al = 4.06035537719\n",
    "Rh = 3.84986145057\n",
    "Rua = 2.72726896243\n",
    "Ruc = 4.29944899279\n",
    "Zna = 2.71355980277\n",
    "Znc = 4.95001772558"
   ]
  },
  {
   "cell_type": "code",
   "execution_count": 17,
   "metadata": {},
   "outputs": [],
   "source": [
    "a = 3.88603895417\n",
    "\n",
    "atoms = getCoPt3(a)\n",
    "pos = atoms.cell[0][0]/4\n",
    "atoms.rotate(180, 'x', center=(pos, pos, pos))\n",
    "# view(atoms)\n",
    "\n",
    "atoms = make_surface_from_bulk(atoms, unitlength = 1)\n",
    "view(atoms)\n",
    "\n",
    "name = 'CoPt3_100_u1.traj'\n",
    "trajpath = '/home/katsuyut/init/' + str(name) \n",
    "atoms.write(trajpath)"
   ]
  }
 ],
 "metadata": {
  "kernelspec": {
   "display_name": "Python 3",
   "language": "python",
   "name": "python3"
  },
  "language_info": {
   "codemirror_mode": {
    "name": "ipython",
    "version": 3
   },
   "file_extension": ".py",
   "mimetype": "text/x-python",
   "name": "python",
   "nbconvert_exporter": "python",
   "pygments_lexer": "ipython3",
   "version": "3.6.9"
  }
 },
 "nbformat": 4,
 "nbformat_minor": 2
}
