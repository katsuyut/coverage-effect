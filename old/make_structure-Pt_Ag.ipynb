{
 "cells": [
  {
   "cell_type": "code",
   "execution_count": 1,
   "metadata": {},
   "outputs": [],
   "source": [
    "import numpy as np\n",
    "import sys, os, random, itertools, warnings, math\n",
    "import matplotlib.pyplot as plt\n",
    "from ase import Atoms, Atom\n",
    "from ase.build import fcc111, fcc100, add_adsorbate, rotate\n",
    "from ase.calculators.emt import EMT\n",
    "from ase.calculators.vasp import Vasp, Vasp2\n",
    "from ase.calculators.singlepoint import SinglePointCalculator as SPC\n",
    "from ase.constraints import FixAtoms\n",
    "from ase.eos import EquationOfState\n",
    "from ase.geometry import find_mic\n",
    "from ase.io import read, write\n",
    "from ase.io.trajectory import Trajectory, TrajectoryWriter\n",
    "from ase.lattice.cubic import FaceCenteredCubic\n",
    "from ase.optimize import QuasiNewton\n",
    "from ase.visualize import view\n",
    "from scipy.spatial.qhull import QhullError\n",
    "from pymatgen.io.ase import AseAtomsAdaptor\n",
    "from pymatgen.analysis.adsorption import AdsorbateSiteFinder\n",
    "\n",
    "def getadsites(atoms, symm_reduce):\n",
    "    '''\n",
    "    Given surface, return sites dictionary.\n",
    "    '''\n",
    "    if not symm_reduce:\n",
    "        struct = AseAtomsAdaptor.get_structure(atoms)\n",
    "        sites_dict = AdsorbateSiteFinder(struct).find_adsorption_sites(put_inside=True, symm_reduce=0)\n",
    "        return sites_dict\n",
    "    \n",
    "    elif symm_reduce:\n",
    "        struct = AseAtomsAdaptor.get_structure(atoms)\n",
    "        sites_dict = AdsorbateSiteFinder(struct).find_adsorption_sites(put_inside=True)\n",
    "        return sites_dict"
   ]
  },
  {
   "cell_type": "code",
   "execution_count": 1,
   "metadata": {
    "scrolled": false
   },
   "outputs": [
    {
     "name": "stdout",
     "output_type": "stream",
     "text": [
      "CO.traj read\n",
      "Pt111_unit3.traj read\n"
     ]
    },
    {
     "ename": "NameError",
     "evalue": "name 'read' is not defined",
     "output_type": "error",
     "traceback": [
      "\u001b[0;31m---------------------------------------------------------------\u001b[0m",
      "\u001b[0;31mNameError\u001b[0m                     Traceback (most recent call last)",
      "\u001b[0;32m<ipython-input-1-1e70f41a50e3>\u001b[0m in \u001b[0;36m<module>\u001b[0;34m\u001b[0m\n\u001b[1;32m     65\u001b[0m \u001b[0;34m\u001b[0m\u001b[0m\n\u001b[1;32m     66\u001b[0m \u001b[0;31m# atoms = read('/home/katsuyut/init/' + 'Cu100_unit2.traj')\u001b[0m\u001b[0;34m\u001b[0m\u001b[0;34m\u001b[0m\u001b[0;34m\u001b[0m\u001b[0m\n\u001b[0;32m---> 67\u001b[0;31m \u001b[0matoms\u001b[0m \u001b[0;34m=\u001b[0m \u001b[0mread\u001b[0m\u001b[0;34m(\u001b[0m\u001b[0;34m'/home/katsuyut/init/'\u001b[0m \u001b[0;34m+\u001b[0m \u001b[0;34m'Cu100_unit2_CO_300_3.traj'\u001b[0m\u001b[0;34m)\u001b[0m\u001b[0;34m\u001b[0m\u001b[0;34m\u001b[0m\u001b[0m\n\u001b[0m\u001b[1;32m     68\u001b[0m \u001b[0mview\u001b[0m\u001b[0;34m(\u001b[0m\u001b[0matoms\u001b[0m\u001b[0;34m)\u001b[0m\u001b[0;34m\u001b[0m\u001b[0;34m\u001b[0m\u001b[0m\n\u001b[1;32m     69\u001b[0m \u001b[0;31m### Set adsorption sites ###\u001b[0m\u001b[0;34m\u001b[0m\u001b[0;34m\u001b[0m\u001b[0;34m\u001b[0m\u001b[0m\n",
      "\u001b[0;31mNameError\u001b[0m: name 'read' is not defined"
     ]
    }
   ],
   "source": [
    "import numpy as np\n",
    "import sys\n",
    "import copy\n",
    "import ktms\n",
    "\n",
    "# env = 'local'\n",
    "env = 'spacom'\n",
    "surface = 'Pt'\n",
    "adsorbate = 'CO'\n",
    "\n",
    "mirror = '111'\n",
    "unitlength = 3\n",
    "molenum = 2 # number of molecules\n",
    "# mindistlim = 2.5\n",
    "\n",
    "##################################################################################\n",
    "### Set coefficients ###\n",
    "d = 1.13\n",
    "h = 1.85\n",
    "layers = 4\n",
    "# fixlayer = 3\n",
    "latticeconstant = 4.21027100913\n",
    "# Cu = 3.67676461295 # previously 3.67674038800827\n",
    "# Pt = 3.99042863796\n",
    "# Ag = 4.21027100913\n",
    "\n",
    "unique = ''\n",
    "\n",
    "if molenum == 1:\n",
    "    symred = True\n",
    "else:\n",
    "    symred = False\n",
    "\n",
    "if mirror =='100':\n",
    "    initatoms = ktms.fcc100(surface, a=latticeconstant, size=(unitlength, unitlength, layers), vacuum=10.0)\n",
    "elif mirror == '111':\n",
    "    initatoms = ktms.fcc111(surface, a=latticeconstant, size=(unitlength, unitlength, layers), vacuum=10.0)\n",
    "\n",
    "### Set molecule ###\n",
    "name = adsorbate + unique +'.traj'\n",
    "\n",
    "if ktms.init_query(name, env) != 'No file':\n",
    "    molecule = ktms.init_query(name, env)\n",
    "    print(name, 'read')\n",
    "else:\n",
    "    molecule = ktms.Atoms(adsorbate, positions=[(0., 0., 0.), (0., 0., d)], cell=(10., 10., 10.))\n",
    "    trajpath = '/home/katsuyut/init/' + str(name)\n",
    "#     molecule.write(trajpath)\n",
    "    print(name, 'created!')\n",
    "\n",
    "\n",
    "### Set slab ###\n",
    "name = surface + mirror + '_unit' + str(unitlength) + unique + '.traj'\n",
    "\n",
    "if ktms.init_query(name, env) != 'No file':\n",
    "    atoms = ktms.init_query(name, env)\n",
    "    print(name, 'read')\n",
    "else:\n",
    "    atoms = initatoms\n",
    "    trajpath = '/home/katsuyut/init/' + str(name)\n",
    "#     atoms.write(trajpath)\n",
    "    print(name, 'created!')\n",
    "\n",
    "cell = atoms.cell\n",
    "\n",
    "# atoms = read('/home/katsuyut/init/' + 'Cu100_unit2.traj')\n",
    "atoms = read('/home/katsuyut/init/' + 'Cu100_unit2_CO_300_3.traj')\n",
    "view(atoms)\n",
    "### Set adsorption sites ###\n",
    "sites = ktms.getadsites(atoms, True) # all sites\n",
    "sites\n",
    "\n",
    "# positions = ktms.getadsitecomb(sites, molenum) # combination of sites with n molecules\n",
    "# calccombs, uniquecomb, results = ktms.getcalccomb(sites, molenum, cell) # reduced combinations"
   ]
  },
  {
   "cell_type": "code",
   "execution_count": null,
   "metadata": {},
   "outputs": [],
   "source": [
    "[array([ 0.        ,  0.        , 20.49511058]),\n",
    "  array([ 0.        ,  2.59984806, 20.49511058]),\n",
    "  array([ 2.59984806,  2.59984806, 20.49511058])]}\n",
    "\n",
    "[array([ 0.        ,  0.        , 17.51511058]),\n",
    "  array([ 0.        ,  1.29992403, 17.51511058]),\n",
    "  array([ 1.29992403,  1.29992403, 17.51511058])]}"
   ]
  }
 ],
 "metadata": {
  "kernelspec": {
   "display_name": "Python 3",
   "language": "python",
   "name": "python3"
  },
  "language_info": {
   "codemirror_mode": {
    "name": "ipython",
    "version": 3
   },
   "file_extension": ".py",
   "mimetype": "text/x-python",
   "name": "python",
   "nbconvert_exporter": "python",
   "pygments_lexer": "ipython3",
   "version": "3.6.7"
  }
 },
 "nbformat": 4,
 "nbformat_minor": 2
}
