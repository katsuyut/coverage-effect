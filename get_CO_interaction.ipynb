{
 "cells": [
  {
   "cell_type": "code",
   "execution_count": 22,
   "metadata": {
    "scrolled": false
   },
   "outputs": [],
   "source": [
    "import numpy as np\n",
    "import sys\n",
    "import copy\n",
    "from ktms import *\n",
    "from MACalc import *\n",
    "\n",
    "env = 'local'\n",
    "# env = 'spacom'\n",
    "\n",
    "d = 1.13\n",
    "\n",
    "dist = np.linspace(1.5/2**0.5, 5/2**0.5, 5)\n",
    "\n",
    "for r in dist:\n",
    "    atoms = Atoms('COCO',\n",
    "                  positions=[(0., 0., 0.), (0., 0., d), (r, r, 0), (r, r, d)],\n",
    "                  cell=(10., 10., 10.))\n",
    "\n",
    "    ### Set vasp ###    \n",
    "    kpoints = getkpts(atoms)    \n",
    "    nb = getnbands(atoms, 2) # default value is 0.5\n",
    "\n",
    "    vaspset = Vasp(                              \n",
    "                xc = 'PBE',                           \n",
    "                gga = 'RP',                           \n",
    "                ncore = 4,                            \n",
    "                encut = 350,                      \n",
    "                nsw = 200,                            \n",
    "                kpts = kpoints,                       \n",
    "                ibrion = 2,                           \n",
    "                isif = 0,                             \n",
    "                ediffg = -3.00e-02,                   \n",
    "                isym = 0,                             \n",
    "                lreal = 'Auto',                       \n",
    "                lcharg = False,                       \n",
    "                lwave = False,                        \n",
    "                )                                     \n",
    "\n",
    "\n",
    "    ### Get energy ###\n",
    "    atoms.set_calculator(vaspset)\n",
    "    e_atoms = atoms.get_potential_energy()\n",
    "\n",
    "    print('{0}, {1}'.format(r ,e_atoms))\n",
    "    f = open('result.txt', 'a')\n",
    "    f.write('{0}, {1}'.format(r ,e_atoms))\n",
    "    f.close()"
   ]
  }
 ],
 "metadata": {
  "kernelspec": {
   "display_name": "Python 3",
   "language": "python",
   "name": "python3"
  },
  "language_info": {
   "codemirror_mode": {
    "name": "ipython",
    "version": 3
   },
   "file_extension": ".py",
   "mimetype": "text/x-python",
   "name": "python",
   "nbconvert_exporter": "python",
   "pygments_lexer": "ipython3",
   "version": "3.6.7"
  }
 },
 "nbformat": 4,
 "nbformat_minor": 2
}
