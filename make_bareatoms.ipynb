{
 "cells": [
  {
   "cell_type": "code",
   "execution_count": 39,
   "metadata": {},
   "outputs": [],
   "source": [
    "from MAUtil import *\n",
    "from MAInit import *\n",
    "from ase.build import hcp0001"
   ]
  },
  {
   "cell_type": "code",
   "execution_count": 40,
   "metadata": {},
   "outputs": [],
   "source": [
    "# original vasp setting\n",
    "Cu = 3.67692954505\n",
    "Pt = 3.99080053103\n",
    "Ag = 4.21306528057\n",
    "NiGa = 2.94185291954\n",
    "CoPt3 = 3.88603895417\n",
    "Pd = 3.97922820431\n",
    "Au = 4.1970811886\n",
    "Ni = 3.5454199748\n",
    "Al = 4.06035537719\n",
    "Rh = 3.84986145057\n",
    "Rua = 2.72726896243\n",
    "Ruc = 4.29944899279\n",
    "Zna = 2.71355980277\n",
    "Znc = 4.95001772558"
   ]
  },
  {
   "cell_type": "code",
   "execution_count": 48,
   "metadata": {},
   "outputs": [],
   "source": [
    "env = 'spacom'\n",
    "surface = 'Rh'\n",
    "\n",
    "mirror = '111'\n",
    "unitlength = 4\n",
    "\n",
    "### Set coefficients ###\n",
    "d = 1.13\n",
    "h = 1.85\n",
    "layers = 4\n",
    "latticeconstant = Rh\n",
    "\n",
    "if mirror == '100':\n",
    "    atoms = fcc100(surface, a=latticeconstant, \n",
    "           size=(unitlength, unitlength, layers), \n",
    "           vacuum=10.0)\n",
    "elif mirror == '111':\n",
    "    atoms = fcc111(surface, a=latticeconstant, \n",
    "           size=(unitlength, unitlength, layers), \n",
    "           vacuum=10.0)    \n",
    "view(atoms)\n",
    "\n",
    "name = surface + '_' + mirror + '_u' + str(unitlength) + '.traj'\n",
    "trajpath = '/home/katsuyut/init/' + str(name) \n",
    "atoms.write(trajpath)"
   ]
  },
  {
   "cell_type": "code",
   "execution_count": 17,
   "metadata": {},
   "outputs": [],
   "source": [
    "# a = 3.88603895417\n",
    "\n",
    "# atoms = getCoPt3(a)\n",
    "# pos = atoms.cell[0][0]/4\n",
    "# atoms.rotate(180, 'x', center=(pos, pos, pos))\n",
    "# # view(atoms)\n",
    "\n",
    "# atoms = make_surface_from_bulk(atoms, unitlength = 1)\n",
    "# view(atoms)\n",
    "\n",
    "# name = 'CoPt3_100_u1.traj'\n",
    "# trajpath = '/home/katsuyut/init/' + str(name) \n",
    "# atoms.write(trajpath)"
   ]
  },
  {
   "cell_type": "code",
   "execution_count": 18,
   "metadata": {},
   "outputs": [],
   "source": [
    "# atoms.cell"
   ]
  },
  {
   "cell_type": "code",
   "execution_count": 35,
   "metadata": {},
   "outputs": [],
   "source": [
    "# env = 'spacom'\n",
    "# surface = 'Ru'\n",
    "\n",
    "# unitlength = 4\n",
    "# mirror = '0001'\n",
    "\n",
    "# ### Set coefficients ###\n",
    "# d = 1.13\n",
    "# h = 1.85\n",
    "# layers = 4\n",
    "# a0 = Rua\n",
    "# c0 = Ruc\n",
    "\n",
    "# atoms = hcp0001(surface, a=a0, c=c0, \n",
    "#        size=(unitlength, unitlength, layers), \n",
    "#        vacuum=10.0)    \n",
    "# view(atoms)\n",
    "\n",
    "# name = surface + '_' + mirror + '_u' + str(unitlength) + '.traj'\n",
    "# trajpath = '/home/katsuyut/init/' + str(name) \n",
    "# atoms.write(trajpath)"
   ]
  },
  {
   "cell_type": "code",
   "execution_count": null,
   "metadata": {},
   "outputs": [],
   "source": []
  }
 ],
 "metadata": {
  "kernelspec": {
   "display_name": "Python 3",
   "language": "python",
   "name": "python3"
  },
  "language_info": {
   "codemirror_mode": {
    "name": "ipython",
    "version": 3
   },
   "file_extension": ".py",
   "mimetype": "text/x-python",
   "name": "python",
   "nbconvert_exporter": "python",
   "pygments_lexer": "ipython3",
   "version": "3.6.7"
  }
 },
 "nbformat": 4,
 "nbformat_minor": 2
}
