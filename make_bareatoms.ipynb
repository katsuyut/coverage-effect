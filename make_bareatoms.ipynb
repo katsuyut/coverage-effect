{
 "cells": [
  {
   "cell_type": "code",
   "execution_count": 1,
   "metadata": {},
   "outputs": [],
   "source": [
    "from ktms import *\n",
    "from MAInit import *"
   ]
  },
  {
   "cell_type": "code",
   "execution_count": 2,
   "metadata": {},
   "outputs": [],
   "source": [
    "# original vasp setting\n",
    "# Cu = 3.67676461295 # previously 3.67674038800827\n",
    "# Pt = 3.99042863796\n",
    "# Ag = 4.21027100913"
   ]
  },
  {
   "cell_type": "code",
   "execution_count": 3,
   "metadata": {},
   "outputs": [],
   "source": [
    "env = 'spacom'\n",
    "surface = 'Ag'\n",
    "\n",
    "mirror = '100'\n",
    "unitlength = 1\n",
    "\n",
    "### Set coefficients ###\n",
    "d = 1.13\n",
    "h = 1.85\n",
    "layers = 4\n",
    "latticeconstant = 4.21306528057\n",
    "# Cu = 3.67692954505\n",
    "# Pt = 3.99080053103\n",
    "# Ag = 4.21306528057\n",
    "# NiGa = 2.94185291954\n",
    "\n",
    "atoms = fcc111(surface, a=latticeconstant, \n",
    "       size=(unitlength, unitlength, layers), \n",
    "       vacuum=10.0)\n",
    "view(atoms)\n",
    "\n",
    "name = surface + mirror + '_u' + str(unitlength) + '.traj'\n",
    "trajpath = '/home/katsuyut/init/' + str(name) \n",
    "# atoms.write(trajpath)"
   ]
  },
  {
   "cell_type": "code",
   "execution_count": 4,
   "metadata": {},
   "outputs": [],
   "source": [
    "a = 2.94185291954\n",
    "\n",
    "atoms = getNiGa110(a)\n",
    "atoms.pbc[2] = False\n",
    "\n",
    "unitlength = 4\n",
    "atoms = atoms.repeat([unitlength, unitlength, 2])\n",
    "atoms.center(vacuum=10, axis=2)\n",
    "\n",
    "view(atoms)\n",
    "\n",
    "name = 'NiGa110_u4.traj'\n",
    "trajpath = '/home/katsuyut/init/' + str(name) \n",
    "# atoms.write(trajpath)"
   ]
  },
  {
   "cell_type": "code",
   "execution_count": null,
   "metadata": {},
   "outputs": [],
   "source": []
  },
  {
   "cell_type": "code",
   "execution_count": null,
   "metadata": {},
   "outputs": [],
   "source": []
  }
 ],
 "metadata": {
  "kernelspec": {
   "display_name": "Python 3",
   "language": "python",
   "name": "python3"
  },
  "language_info": {
   "codemirror_mode": {
    "name": "ipython",
    "version": 3
   },
   "file_extension": ".py",
   "mimetype": "text/x-python",
   "name": "python",
   "nbconvert_exporter": "python",
   "pygments_lexer": "ipython3",
   "version": "3.6.7"
  }
 },
 "nbformat": 4,
 "nbformat_minor": 2
}
