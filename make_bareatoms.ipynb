{
 "cells": [
  {
   "cell_type": "code",
   "execution_count": 1,
   "metadata": {},
   "outputs": [],
   "source": [
    "from ktms import *\n",
    "from MAInit import *"
   ]
  },
  {
   "cell_type": "code",
   "execution_count": 2,
   "metadata": {},
   "outputs": [],
   "source": [
    "# original vasp setting\n",
    "# Cu = 3.67676461295 # previously 3.67674038800827\n",
    "# Pt = 3.99042863796\n",
    "# Ag = 4.21027100913"
   ]
  },
  {
   "cell_type": "code",
   "execution_count": 3,
   "metadata": {},
   "outputs": [],
   "source": [
    "env = 'spacom'\n",
    "surface = 'Ag'\n",
    "\n",
    "mirror = '100'\n",
    "unitlength = 1\n",
    "\n",
    "### Set coefficients ###\n",
    "d = 1.13\n",
    "h = 1.85\n",
    "layers = 4\n",
    "latticeconstant = 4.21306528057\n",
    "# Cu = 3.67692954505\n",
    "# Pt = 3.99080053103\n",
    "# Ag = 4.21306528057\n",
    "# NiGa = 2.94185291954\n",
    "\n",
    "atoms = fcc111(surface, a=latticeconstant, \n",
    "       size=(unitlength, unitlength, layers), \n",
    "       vacuum=10.0)\n",
    "view(atoms)\n",
    "\n",
    "name = surface + mirror + '_u' + str(unitlength) + '.traj'\n",
    "trajpath = '/home/katsuyut/init/' + str(name) \n",
    "# atoms.write(trajpath)"
   ]
  },
  {
   "cell_type": "code",
   "execution_count": 6,
   "metadata": {},
   "outputs": [],
   "source": [
    "a = 3.88603895417\n",
    "\n",
    "atoms = getCoPt3(a)\n",
    "pos = atoms.cell[0][0]/4\n",
    "atoms.rotate(180, 'x', center=(pos, pos, pos))\n",
    "# view(atoms)\n",
    "\n",
    "atoms = make_surface_from_bulk(atoms, unitlength = 1)\n",
    "view(atoms)\n",
    "\n",
    "name = 'CoPt3_100_u1.traj'\n",
    "trajpath = '/home/katsuyut/init/' + str(name) \n",
    "atoms.write(trajpath)"
   ]
  },
  {
   "cell_type": "code",
   "execution_count": 3,
   "metadata": {},
   "outputs": [
    {
     "data": {
      "text/plain": [
       "array([[3.9, 0. , 0. ],\n",
       "       [0. , 3.9, 0. ],\n",
       "       [0. , 0. , 3.9]])"
      ]
     },
     "execution_count": 3,
     "metadata": {},
     "output_type": "execute_result"
    }
   ],
   "source": [
    "atoms.cell"
   ]
  },
  {
   "cell_type": "code",
   "execution_count": null,
   "metadata": {},
   "outputs": [],
   "source": []
  }
 ],
 "metadata": {
  "kernelspec": {
   "display_name": "Python 3",
   "language": "python",
   "name": "python3"
  },
  "language_info": {
   "codemirror_mode": {
    "name": "ipython",
    "version": 3
   },
   "file_extension": ".py",
   "mimetype": "text/x-python",
   "name": "python",
   "nbconvert_exporter": "python",
   "pygments_lexer": "ipython3",
   "version": "3.6.7"
  }
 },
 "nbformat": 4,
 "nbformat_minor": 2
}
