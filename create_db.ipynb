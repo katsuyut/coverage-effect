{
 "cells": [
  {
   "cell_type": "code",
   "execution_count": 1,
   "metadata": {},
   "outputs": [],
   "source": [
    "from MAUtil import *\n",
    "from MAInit import *\n",
    "from MACalc import *\n",
    "from MAPost import *"
   ]
  },
  {
   "cell_type": "code",
   "execution_count": 2,
   "metadata": {
    "scrolled": true
   },
   "outputs": [
    {
     "name": "stdout",
     "output_type": "stream",
     "text": [
      "3166 Pd_100_u4_RPBE_no001_CO_n10_d3.traj\n",
      "3170 Pd_100_u4_RPBE_no001_CO_n12_d3.traj\n",
      "3176 Pd_100_u4_RPBE_no001_CO_n8_d3.traj\n",
      "3180 Pd_100_u4_RPBE_no002_CO_n10_d3.traj\n",
      "3188 Pd_100_u4_RPBE_no002_CO_n8_d3.traj\n",
      "3194 Pd_100_u4_RPBE_no003_CO_n12_d3.traj\n",
      "3198 Pd_100_u4_RPBE_no003_CO_n8_d3.traj\n",
      "3820 Pt_111_u4_RPBE_no001_CO_n10_d3.traj\n",
      "3828 Pt_111_u4_RPBE_no001_CO_n8_d3.traj\n",
      "3834 Pt_111_u4_RPBE_no002_CO_n12_d3.traj\n",
      "3840 Pt_111_u4_RPBE_no002_CO_n8_d3.traj\n",
      "3844 Pt_111_u4_RPBE_no003_CO_n10_d3.traj\n",
      "3848 Pt_111_u4_RPBE_no003_CO_n12_d3.traj\n"
     ]
    }
   ],
   "source": [
    "### get file names ###\n",
    "env = 'local'\n",
    "files = os.listdir('./database/')\n",
    "filenames = []\n",
    "\n",
    "words = ['E_no','u4']\n",
    "nwords = ['__', 'all']\n",
    "\n",
    "for i in range(len(files)):\n",
    "    if all((s in files[i]) for s in words):\n",
    "        if all((s not in files[i]) for s in nwords):\n",
    "#     if 'E_no' in files[i]:\n",
    "#         if '__' not in files[i]:\n",
    "            filenames.append(files[i])\n",
    "            print(i, files[i])"
   ]
  },
  {
   "cell_type": "code",
   "execution_count": 3,
   "metadata": {
    "scrolled": true
   },
   "outputs": [
    {
     "name": "stdout",
     "output_type": "stream",
     "text": [
      "-----------------------------------------------------------\n",
      "Pd_100_u4_RPBE_no001_CO_n10_d3.traj\n",
      "Pd_100_u4_RPBE_no001_CO_n10_d3.traj deleted\n",
      "-----------------------------------------------------------\n",
      "Pd_100_u4_RPBE_no001_CO_n12_d3.traj\n",
      "Not in database.\n",
      "-----------------------------------------------------------\n",
      "Pd_100_u4_RPBE_no001_CO_n8_d3.traj\n",
      "Not in database.\n",
      "-----------------------------------------------------------\n",
      "Pd_100_u4_RPBE_no002_CO_n10_d3.traj\n",
      "Not in database.\n",
      "-----------------------------------------------------------\n",
      "Pd_100_u4_RPBE_no002_CO_n8_d3.traj\n",
      "Not in database.\n",
      "-----------------------------------------------------------\n",
      "Pd_100_u4_RPBE_no003_CO_n12_d3.traj\n",
      "Not in database.\n",
      "-----------------------------------------------------------\n",
      "Pd_100_u4_RPBE_no003_CO_n8_d3.traj\n",
      "Not in database.\n",
      "-----------------------------------------------------------\n",
      "Pt_111_u4_RPBE_no001_CO_n10_d3.traj\n",
      "Not in database.\n",
      "-----------------------------------------------------------\n",
      "Pt_111_u4_RPBE_no001_CO_n8_d3.traj\n",
      "Not in database.\n",
      "-----------------------------------------------------------\n",
      "Pt_111_u4_RPBE_no002_CO_n12_d3.traj\n",
      "Not in database.\n",
      "-----------------------------------------------------------\n",
      "Pt_111_u4_RPBE_no002_CO_n8_d3.traj\n",
      "Not in database.\n",
      "-----------------------------------------------------------\n",
      "Pt_111_u4_RPBE_no003_CO_n10_d3.traj\n",
      "Not in database.\n",
      "-----------------------------------------------------------\n",
      "Pt_111_u4_RPBE_no003_CO_n12_d3.traj\n",
      "Not in database.\n"
     ]
    },
    {
     "name": "stderr",
     "output_type": "stream",
     "text": [
      "/home/katsuyut/.local/lib/python3.6/site-packages/ase/io/jsonio.py:122: VisibleDeprecationWarning: Creating an ndarray from ragged nested sequences (which is a list-or-tuple of lists-or-tuples-or ndarrays with different lengths or shapes) is deprecated. If you meant to do this, you must specify 'dtype=object' when creating the ndarray\n",
      "  a = np.array(obj)\n"
     ]
    }
   ],
   "source": [
    "### DELETE ###\n",
    "for file in filenames:\n",
    "    try:\n",
    "        A = make_database(file, 'adsE_method2_new')\n",
    "        A.delete_from_database()\n",
    "    except:\n",
    "        print(file, 'Some error occured.')"
   ]
  },
  {
   "cell_type": "code",
   "execution_count": 4,
   "metadata": {
    "scrolled": true
   },
   "outputs": [
    {
     "name": "stdout",
     "output_type": "stream",
     "text": [
      "-----------------------------------------------------------\n",
      "Pd_100_u4_RPBE_no001_CO_n10_d3.traj\n",
      "Not in database.\n",
      "One post: 5f0b3a2310ea930a2b5421f2\n",
      "\n",
      "E_each_ads and E_residue/suratom updated.\n",
      "Adsorbate correlation updated.\n",
      "-----------------------------------------------------------\n",
      "Pd_100_u4_RPBE_no001_CO_n12_d3.traj\n",
      "Not in database.\n",
      "One post: 5f0b3ae410ea930a2b5421f4\n",
      "\n",
      "E_each_ads and E_residue/suratom updated.\n",
      "Adsorbate correlation updated.\n",
      "-----------------------------------------------------------\n",
      "Pd_100_u4_RPBE_no001_CO_n8_d3.traj\n",
      "Not in database.\n",
      "One post: 5f0b3baa10ea930a2b5421f6\n",
      "\n",
      "E_each_ads and E_residue/suratom updated.\n",
      "Adsorbate correlation updated.\n",
      "-----------------------------------------------------------\n",
      "Pd_100_u4_RPBE_no002_CO_n10_d3.traj\n",
      "Not in database.\n",
      "One post: 5f0b3c6a10ea930a2b5421f8\n",
      "\n",
      "E_each_ads and E_residue/suratom updated.\n",
      "Adsorbate correlation updated.\n",
      "-----------------------------------------------------------\n",
      "Pd_100_u4_RPBE_no002_CO_n8_d3.traj\n",
      "Not in database.\n",
      "One post: 5f0b3d2d10ea930a2b5421fa\n",
      "\n",
      "E_each_ads and E_residue/suratom updated.\n",
      "Adsorbate correlation updated.\n",
      "-----------------------------------------------------------\n",
      "Pd_100_u4_RPBE_no003_CO_n12_d3.traj\n",
      "Not in database.\n",
      "One post: 5f0b3deb10ea930a2b5421fc\n",
      "\n",
      "E_each_ads and E_residue/suratom updated.\n",
      "Adsorbate correlation updated.\n",
      "-----------------------------------------------------------\n",
      "Pd_100_u4_RPBE_no003_CO_n8_d3.traj\n",
      "Not in database.\n",
      "One post: 5f0b3eb410ea930a2b5421fe\n",
      "\n",
      "E_each_ads and E_residue/suratom updated.\n",
      "Adsorbate correlation updated.\n",
      "-----------------------------------------------------------\n",
      "Pt_111_u4_RPBE_no001_CO_n10_d3.traj\n",
      "Not in database.\n",
      "One post: 5f0b3f7710ea930a2b542200\n",
      "\n",
      "E_each_ads and E_residue/suratom updated.\n",
      "Adsorbate correlation updated.\n",
      "-----------------------------------------------------------\n",
      "Pt_111_u4_RPBE_no001_CO_n8_d3.traj\n",
      "Not in database.\n",
      "One post: 5f0b3fe610ea930a2b542202\n",
      "\n",
      "E_each_ads and E_residue/suratom updated.\n",
      "Adsorbate correlation updated.\n",
      "-----------------------------------------------------------\n",
      "Pt_111_u4_RPBE_no002_CO_n12_d3.traj\n",
      "Not in database.\n",
      "One post: 5f0b404f10ea930a2b542204\n",
      "\n",
      "E_each_ads and E_residue/suratom updated.\n",
      "Adsorbate correlation updated.\n",
      "-----------------------------------------------------------\n",
      "Pt_111_u4_RPBE_no002_CO_n8_d3.traj\n",
      "Not in database.\n",
      "One post: 5f0b40c110ea930a2b542206\n",
      "\n",
      "E_each_ads and E_residue/suratom updated.\n",
      "Adsorbate correlation updated.\n",
      "-----------------------------------------------------------\n",
      "Pt_111_u4_RPBE_no003_CO_n10_d3.traj\n",
      "Not in database.\n",
      "One post: 5f0b40eb10ea930a2b542208\n",
      "\n",
      "E_each_ads and E_residue/suratom updated.\n",
      "Adsorbate correlation updated.\n",
      "-----------------------------------------------------------\n",
      "Pt_111_u4_RPBE_no003_CO_n12_d3.traj\n",
      "Not in database.\n",
      "One post: 5f0b415b10ea930a2b54220a\n",
      "\n",
      "E_each_ads and E_residue/suratom updated.\n",
      "Adsorbate correlation updated.\n"
     ]
    }
   ],
   "source": [
    "### ADD and UPDATE ENERGY ###\n",
    "for file in filenames:\n",
    "#     try:\n",
    "    A = make_database(file, 'adsE_method2_new')\n",
    "    A.add_to_database()\n",
    "    A.update_Energy()\n",
    "    A.update_adsorbates_correlation(expression=2, force_update=False)\n",
    "#     except:\n",
    "#         print(file, 'Some error occured.')"
   ]
  },
  {
   "cell_type": "code",
   "execution_count": null,
   "metadata": {},
   "outputs": [],
   "source": []
  },
  {
   "cell_type": "code",
   "execution_count": null,
   "metadata": {},
   "outputs": [],
   "source": []
  },
  {
   "cell_type": "code",
   "execution_count": null,
   "metadata": {},
   "outputs": [],
   "source": []
  },
  {
   "cell_type": "code",
   "execution_count": 8,
   "metadata": {
    "scrolled": true
   },
   "outputs": [
    {
     "name": "stdout",
     "output_type": "stream",
     "text": [
      "-----------------------------------------------------------\n",
      "Zn_100_u2_RPBE_no899_CO_n3_d3.traj\n"
     ]
    },
    {
     "data": {
      "text/plain": [
       "{'_id': ObjectId('5e8b856122a772c44608a0f2'),\n",
       " 'name': 'Zn_100_u2_RPBE_no899_CO_n3_d3.traj',\n",
       " 'isvalid': 'no',\n",
       " 'ispredictable': 'yes',\n",
       " 'element': 'Zn',\n",
       " 'face': '100',\n",
       " 'unitlength': 2,\n",
       " 'xc': 'RPBE',\n",
       " 'adsorbate': 'CO',\n",
       " 'numberofads': 3,\n",
       " 'coverage': 0.75,\n",
       " 'surfatomnum': 4,\n",
       " 'E': -51.03105548,\n",
       " 'bareE': -7.45475945,\n",
       " 'E_ads': -14.48543631,\n",
       " 'totaladsE': -0.1199870999999959,\n",
       " 'aveadsE/suratom': -0.029996774999998976,\n",
       " 'aveadsE/ads': -0.039995699999998635,\n",
       " 'E_int_space': -0.004996649999995384,\n",
       " 'sumE_each_ads': -0.1509804999999922,\n",
       " 'E_residue/suratom': 0.008997512499997917,\n",
       " 'area': 56.86330592504613,\n",
       " 'density': 0.052758100346019694,\n",
       " 'igroups': [3, 3, 1],\n",
       " 'rgroups': [3, 1, 1],\n",
       " 'converged': 'yes',\n",
       " 'is_adsorbed': 'yes',\n",
       " 'kept_sites': 'no',\n",
       " 'E_not_exceeded': 'yes',\n",
       " 'minimum_distance': 3,\n",
       " 'ads_dist2': 0.0,\n",
       " 'ads_dist3': 4.0}"
      ]
     },
     "execution_count": 8,
     "metadata": {},
     "output_type": "execute_result"
    }
   ],
   "source": [
    "file = 'Zn_100_u2_RPBE_no899_CO_n3_d3.traj'\n",
    "A = make_database(file, 'adsE_method2')\n",
    "A.check_database()"
   ]
  },
  {
   "cell_type": "code",
   "execution_count": 5,
   "metadata": {},
   "outputs": [
    {
     "data": {
      "text/plain": [
       "Atoms(symbols='C12O12Pd64', pbc=True, cell=[[11.257269504247992, 0.0, 7e-16], [1.8e-15, 11.25726950424799, 7e-16], [0.0, 0.0, 35.82041221844225]], constraint=FixAtoms(indices=[2, 3, 6, 7, 10, 11, 14, 15, 18, 19, 22, 23, 26, 27, 30, 31, 34, 35, 38, 39, 42, 43, 46, 47, 50, 51, 54, 55, 58, 59, 62, 63]), calculator=SinglePointCalculator(...))"
      ]
     },
     "execution_count": 5,
     "metadata": {},
     "output_type": "execute_result"
    }
   ],
   "source": [
    "query('Pd_100_u4_RPBE_no001_CO_n12_d3.traj','local')"
   ]
  },
  {
   "cell_type": "code",
   "execution_count": null,
   "metadata": {},
   "outputs": [],
   "source": []
  }
 ],
 "metadata": {
  "kernelspec": {
   "display_name": "Python 3",
   "language": "python",
   "name": "python3"
  },
  "language_info": {
   "codemirror_mode": {
    "name": "ipython",
    "version": 3
   },
   "file_extension": ".py",
   "mimetype": "text/x-python",
   "name": "python",
   "nbconvert_exporter": "python",
   "pygments_lexer": "ipython3",
   "version": "3.6.9"
  }
 },
 "nbformat": 4,
 "nbformat_minor": 2
}
