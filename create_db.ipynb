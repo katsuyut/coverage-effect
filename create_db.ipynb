{
 "cells": [
  {
   "cell_type": "code",
   "execution_count": 9,
   "metadata": {},
   "outputs": [],
   "source": [
    "from MAUtil import *\n",
    "from MAInit import *\n",
    "from MACalc import *\n",
    "from MAPost import *"
   ]
  },
  {
   "cell_type": "code",
   "execution_count": 10,
   "metadata": {
    "scrolled": true
   },
   "outputs": [
    {
     "name": "stdout",
     "output_type": "stream",
     "text": [
      "3168 Pd_100_u4_RPBE_no001_CO_n12_d3.traj\n",
      "3182 Pd_100_u4_RPBE_no002_CO_n8_d3.traj\n",
      "3186 Pd_100_u4_RPBE_no003_CO_n10_d3.traj\n",
      "3194 Pd_100_u4_RPBE_no003_CO_n8_d3.traj\n",
      "3816 Pt_111_u4_RPBE_no001_CO_n10_d3.traj\n",
      "3820 Pt_111_u4_RPBE_no001_CO_n12_d3.traj\n",
      "3826 Pt_111_u4_RPBE_no001_CO_n8_d3.traj\n",
      "3830 Pt_111_u4_RPBE_no002_CO_n10_d3.traj\n",
      "3834 Pt_111_u4_RPBE_no002_CO_n12_d3.traj\n",
      "3840 Pt_111_u4_RPBE_no002_CO_n8_d3.traj\n",
      "3848 Pt_111_u4_RPBE_no003_CO_n6_d3.traj\n"
     ]
    }
   ],
   "source": [
    "### get file names ###\n",
    "env = 'local'\n",
    "files = os.listdir('./database/')\n",
    "filenames = []\n",
    "\n",
    "words = ['E_no','u4']\n",
    "nwords = ['__', 'all']\n",
    "\n",
    "for i in range(len(files)):\n",
    "    if all((s in files[i]) for s in words):\n",
    "        if all((s not in files[i]) for s in nwords):\n",
    "#     if 'E_no' in files[i]:\n",
    "#         if '__' not in files[i]:\n",
    "            filenames.append(files[i])\n",
    "            print(i, files[i])"
   ]
  },
  {
   "cell_type": "code",
   "execution_count": 11,
   "metadata": {
    "scrolled": true
   },
   "outputs": [
    {
     "name": "stdout",
     "output_type": "stream",
     "text": [
      "-----------------------------------------------------------\n",
      "Pd_100_u4_RPBE_no001_CO_n12_d3.traj\n",
      "Pd_100_u4_RPBE_no001_CO_n12_d3.traj deleted\n",
      "-----------------------------------------------------------\n",
      "Pd_100_u4_RPBE_no002_CO_n8_d3.traj\n",
      "Pd_100_u4_RPBE_no002_CO_n8_d3.traj deleted\n",
      "-----------------------------------------------------------\n",
      "Pd_100_u4_RPBE_no003_CO_n10_d3.traj\n",
      "Pd_100_u4_RPBE_no003_CO_n10_d3.traj deleted\n",
      "-----------------------------------------------------------\n",
      "Pd_100_u4_RPBE_no003_CO_n8_d3.traj\n",
      "Pd_100_u4_RPBE_no003_CO_n8_d3.traj deleted\n",
      "-----------------------------------------------------------\n",
      "Pt_111_u4_RPBE_no001_CO_n10_d3.traj\n",
      "Pt_111_u4_RPBE_no001_CO_n10_d3.traj deleted\n",
      "-----------------------------------------------------------\n",
      "Pt_111_u4_RPBE_no001_CO_n12_d3.traj\n",
      "Pt_111_u4_RPBE_no001_CO_n12_d3.traj deleted\n",
      "-----------------------------------------------------------\n",
      "Pt_111_u4_RPBE_no001_CO_n8_d3.traj\n",
      "Pt_111_u4_RPBE_no001_CO_n8_d3.traj deleted\n",
      "-----------------------------------------------------------\n",
      "Pt_111_u4_RPBE_no002_CO_n10_d3.traj\n",
      "Pt_111_u4_RPBE_no002_CO_n10_d3.traj deleted\n",
      "-----------------------------------------------------------\n",
      "Pt_111_u4_RPBE_no002_CO_n12_d3.traj\n",
      "Pt_111_u4_RPBE_no002_CO_n12_d3.traj deleted\n",
      "-----------------------------------------------------------\n",
      "Pt_111_u4_RPBE_no002_CO_n8_d3.traj\n",
      "Pt_111_u4_RPBE_no002_CO_n8_d3.traj deleted\n",
      "-----------------------------------------------------------\n",
      "Pt_111_u4_RPBE_no003_CO_n6_d3.traj\n",
      "Pt_111_u4_RPBE_no003_CO_n6_d3.traj deleted\n"
     ]
    }
   ],
   "source": [
    "# ### DELETE ###\n",
    "# for file in filenames:\n",
    "#     try:\n",
    "#         A = make_database(file, 'adsE_method2_new')\n",
    "#         A.delete_from_database()\n",
    "#     except:\n",
    "#         print(file, 'Some error occured.')"
   ]
  },
  {
   "cell_type": "code",
   "execution_count": 8,
   "metadata": {
    "scrolled": true
   },
   "outputs": [
    {
     "name": "stdout",
     "output_type": "stream",
     "text": [
      "-----------------------------------------------------------\n",
      "Pd_100_u4_RPBE_no001_CO_n12_d3.traj\n",
      "Not in database.\n",
      "One post: 5f0a3d03bdb65c1c5cb188a1\n",
      "\n",
      "E_each_ads and E_residue/suratom updated.\n",
      "Adsorbate correlation updated.\n",
      "-----------------------------------------------------------\n",
      "Pd_100_u4_RPBE_no002_CO_n8_d3.traj\n",
      "Not in database.\n",
      "One post: 5f0a3d5abdb65c1c5cb188a3\n",
      "\n",
      "E_each_ads and E_residue/suratom updated.\n",
      "Adsorbate correlation updated.\n",
      "-----------------------------------------------------------\n",
      "Pd_100_u4_RPBE_no003_CO_n10_d3.traj\n",
      "Not in database.\n",
      "One post: 5f0a3dacbdb65c1c5cb188a5\n",
      "\n",
      "E_each_ads and E_residue/suratom updated.\n",
      "Adsorbate correlation updated.\n",
      "-----------------------------------------------------------\n",
      "Pd_100_u4_RPBE_no003_CO_n8_d3.traj\n",
      "Not in database.\n",
      "One post: 5f0a3e01bdb65c1c5cb188a7\n",
      "\n",
      "E_each_ads and E_residue/suratom updated.\n",
      "Adsorbate correlation updated.\n",
      "-----------------------------------------------------------\n",
      "Pt_111_u4_RPBE_no001_CO_n10_d3.traj\n",
      "Not in database.\n",
      "One post: 5f0a3e55bdb65c1c5cb188a9\n",
      "\n",
      "E_each_ads and E_residue/suratom updated.\n",
      "Adsorbate correlation updated.\n",
      "-----------------------------------------------------------\n",
      "Pt_111_u4_RPBE_no001_CO_n12_d3.traj\n",
      "Not in database.\n",
      "One post: 5f0a3e80bdb65c1c5cb188ab\n",
      "\n",
      "E_each_ads and E_residue/suratom updated.\n",
      "Adsorbate correlation updated.\n",
      "-----------------------------------------------------------\n",
      "Pt_111_u4_RPBE_no001_CO_n8_d3.traj\n",
      "Not in database.\n",
      "One post: 5f0a3eaebdb65c1c5cb188ad\n",
      "\n",
      "E_each_ads and E_residue/suratom updated.\n",
      "Adsorbate correlation updated.\n",
      "-----------------------------------------------------------\n",
      "Pt_111_u4_RPBE_no002_CO_n10_d3.traj\n",
      "Not in database.\n",
      "One post: 5f0a3ed7bdb65c1c5cb188af\n",
      "\n",
      "E_each_ads and E_residue/suratom updated.\n",
      "Adsorbate correlation updated.\n",
      "-----------------------------------------------------------\n",
      "Pt_111_u4_RPBE_no002_CO_n12_d3.traj\n",
      "Not in database.\n",
      "One post: 5f0a3f03bdb65c1c5cb188b1\n",
      "\n",
      "E_each_ads and E_residue/suratom updated.\n",
      "Adsorbate correlation updated.\n",
      "-----------------------------------------------------------\n",
      "Pt_111_u4_RPBE_no002_CO_n8_d3.traj\n",
      "Not in database.\n",
      "One post: 5f0a3f33bdb65c1c5cb188b3\n",
      "\n",
      "E_each_ads and E_residue/suratom updated.\n",
      "Adsorbate correlation updated.\n",
      "-----------------------------------------------------------\n",
      "Pt_111_u4_RPBE_no003_CO_n6_d3.traj\n",
      "Not in database.\n",
      "One post: 5f0a3f5cbdb65c1c5cb188b5\n",
      "\n",
      "E_each_ads and E_residue/suratom updated.\n",
      "Adsorbate correlation updated.\n"
     ]
    }
   ],
   "source": [
    "### ADD and UPDATE ENERGY ###\n",
    "for file in filenames:\n",
    "#     try:\n",
    "    A = make_database(file, 'adsE_method2_new')\n",
    "    A.add_to_database()\n",
    "    A.update_Energy()\n",
    "    A.update_adsorbates_correlation(expression=2, force_update=False)\n",
    "#     except:\n",
    "#         print(file, 'Some error occured.')"
   ]
  },
  {
   "cell_type": "code",
   "execution_count": null,
   "metadata": {},
   "outputs": [],
   "source": []
  },
  {
   "cell_type": "code",
   "execution_count": null,
   "metadata": {},
   "outputs": [],
   "source": []
  },
  {
   "cell_type": "code",
   "execution_count": null,
   "metadata": {},
   "outputs": [],
   "source": []
  },
  {
   "cell_type": "code",
   "execution_count": 8,
   "metadata": {
    "scrolled": true
   },
   "outputs": [
    {
     "name": "stdout",
     "output_type": "stream",
     "text": [
      "-----------------------------------------------------------\n",
      "Zn_100_u2_RPBE_no899_CO_n3_d3.traj\n"
     ]
    },
    {
     "data": {
      "text/plain": [
       "{'_id': ObjectId('5e8b856122a772c44608a0f2'),\n",
       " 'name': 'Zn_100_u2_RPBE_no899_CO_n3_d3.traj',\n",
       " 'isvalid': 'no',\n",
       " 'ispredictable': 'yes',\n",
       " 'element': 'Zn',\n",
       " 'face': '100',\n",
       " 'unitlength': 2,\n",
       " 'xc': 'RPBE',\n",
       " 'adsorbate': 'CO',\n",
       " 'numberofads': 3,\n",
       " 'coverage': 0.75,\n",
       " 'surfatomnum': 4,\n",
       " 'E': -51.03105548,\n",
       " 'bareE': -7.45475945,\n",
       " 'E_ads': -14.48543631,\n",
       " 'totaladsE': -0.1199870999999959,\n",
       " 'aveadsE/suratom': -0.029996774999998976,\n",
       " 'aveadsE/ads': -0.039995699999998635,\n",
       " 'E_int_space': -0.004996649999995384,\n",
       " 'sumE_each_ads': -0.1509804999999922,\n",
       " 'E_residue/suratom': 0.008997512499997917,\n",
       " 'area': 56.86330592504613,\n",
       " 'density': 0.052758100346019694,\n",
       " 'igroups': [3, 3, 1],\n",
       " 'rgroups': [3, 1, 1],\n",
       " 'converged': 'yes',\n",
       " 'is_adsorbed': 'yes',\n",
       " 'kept_sites': 'no',\n",
       " 'E_not_exceeded': 'yes',\n",
       " 'minimum_distance': 3,\n",
       " 'ads_dist2': 0.0,\n",
       " 'ads_dist3': 4.0}"
      ]
     },
     "execution_count": 8,
     "metadata": {},
     "output_type": "execute_result"
    }
   ],
   "source": [
    "file = 'Zn_100_u2_RPBE_no899_CO_n3_d3.traj'\n",
    "A = make_database(file, 'adsE_method2')\n",
    "A.check_database()"
   ]
  },
  {
   "cell_type": "code",
   "execution_count": 18,
   "metadata": {},
   "outputs": [
    {
     "data": {
      "text/plain": [
       "Atoms(symbols='Zn16CO', pbc=True, cell=[[5.323107383026382, 0.0, 3e-16], [-2.661553691513193, 4.609946220773349, 3e-16], [0.0, 0.0, 37.388231425177516]], constraint=FixAtoms(indices=[0, 1, 4, 5, 8, 9, 12, 13]), calculator=SinglePointCalculator(...))"
      ]
     },
     "execution_count": 18,
     "metadata": {},
     "output_type": "execute_result"
    }
   ],
   "source": [
    "query('Zn_001_u2_RPBE_no003_CO_n1_d8.traj','local')"
   ]
  },
  {
   "cell_type": "code",
   "execution_count": null,
   "metadata": {},
   "outputs": [],
   "source": []
  }
 ],
 "metadata": {
  "kernelspec": {
   "display_name": "Python 3",
   "language": "python",
   "name": "python3"
  },
  "language_info": {
   "codemirror_mode": {
    "name": "ipython",
    "version": 3
   },
   "file_extension": ".py",
   "mimetype": "text/x-python",
   "name": "python",
   "nbconvert_exporter": "python",
   "pygments_lexer": "ipython3",
   "version": "3.6.9"
  }
 },
 "nbformat": 4,
 "nbformat_minor": 2
}
