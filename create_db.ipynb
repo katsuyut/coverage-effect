{
 "cells": [
  {
   "cell_type": "code",
   "execution_count": 1,
   "metadata": {},
   "outputs": [],
   "source": [
    "from MAUtil import *\n",
    "from MAInit import *\n",
    "from MACalc import *\n",
    "from MAPost import *"
   ]
  },
  {
   "cell_type": "code",
   "execution_count": 2,
   "metadata": {
    "scrolled": true
   },
   "outputs": [
    {
     "name": "stdout",
     "output_type": "stream",
     "text": [
      "0 Cu_100_u2_BEEF-vdW_no001_CO_n1_d8.traj\n",
      "2 Cu_100_u2_BEEF-vdW_no010_CO_n1_d8.traj\n",
      "4 Cu_100_u2_BEEF-vdW_no019_CO_n1_d8.traj\n",
      "6 Cu_100_u2_RPBE-D2_no001_CO_n1_d8.traj\n",
      "8 Cu_100_u2_RPBE-D2_no010_CO_n1_d8.traj\n",
      "10 Cu_100_u2_RPBE_no001_CO_n1_d8.traj\n"
     ]
    }
   ],
   "source": [
    "### get file names ###\n",
    "env = 'local'\n",
    "files = os.listdir('./database/')\n",
    "filenames = []\n",
    "\n",
    "for i in range(len(files)):\n",
    "    if 'no' in files[i]:\n",
    "        if '__' not in files[i]:\n",
    "            if 'all' not in files[i]:\n",
    "                filenames.append(files[i])\n",
    "                print(i, files[i])"
   ]
  },
  {
   "cell_type": "code",
   "execution_count": 3,
   "metadata": {
    "scrolled": true
   },
   "outputs": [
    {
     "name": "stdout",
     "output_type": "stream",
     "text": [
      "Cu_100_u2_BEEF-vdW_no001_CO_n1_d8.traj deleted\n",
      "Cu_100_u2_BEEF-vdW_no010_CO_n1_d8.traj deleted\n",
      "Cu_100_u2_BEEF-vdW_no019_CO_n1_d8.traj deleted\n",
      "Cu_100_u2_RPBE-D2_no001_CO_n1_d8.traj deleted\n",
      "Cu_100_u2_RPBE-D2_no010_CO_n1_d8.traj deleted\n",
      "Cu_100_u2_RPBE_no001_CO_n1_d8.traj deleted\n"
     ]
    }
   ],
   "source": [
    "for file in filenames:\n",
    "    try:\n",
    "        A = make_database(file)\n",
    "        A.delete_from_database()\n",
    "    except:\n",
    "        print(file, 'Some error occured.')"
   ]
  },
  {
   "cell_type": "code",
   "execution_count": 4,
   "metadata": {
    "scrolled": true
   },
   "outputs": [
    {
     "name": "stdout",
     "output_type": "stream",
     "text": [
      "Not in database.\n",
      "No file named Cu_100_u2_BEEF-vdW.traj in database\n",
      "No file named CO_BEEF-vdW.traj in database\n",
      "Cu_100_u2_BEEF-vdW_no001_CO_n1_d8.traj Some error occured.\n",
      "Not in database.\n",
      "No file named Cu_100_u2_BEEF-vdW.traj in database\n",
      "No file named CO_BEEF-vdW.traj in database\n",
      "Cu_100_u2_BEEF-vdW_no010_CO_n1_d8.traj Some error occured.\n",
      "Not in database.\n",
      "No file named Cu_100_u2_BEEF-vdW.traj in database\n",
      "No file named CO_BEEF-vdW.traj in database\n",
      "Cu_100_u2_BEEF-vdW_no019_CO_n1_d8.traj Some error occured.\n",
      "Not in database.\n",
      "No file named Cu_100_u2_RPBE-D2.traj in database\n",
      "No file named CO_RPBE-D2.traj in database\n",
      "Cu_100_u2_RPBE-D2_no001_CO_n1_d8.traj Some error occured.\n",
      "Not in database.\n",
      "No file named Cu_100_u2_RPBE-D2.traj in database\n",
      "No file named CO_RPBE-D2.traj in database\n",
      "Cu_100_u2_RPBE-D2_no010_CO_n1_d8.traj Some error occured.\n",
      "Not in database.\n",
      "No file named Cu_100_u2_RPBE.traj in database\n",
      "No file named CO_RPBE.traj in database\n",
      "Cu_100_u2_RPBE_no001_CO_n1_d8.traj Some error occured.\n"
     ]
    }
   ],
   "source": [
    "for file in filenames:\n",
    "    try:\n",
    "        A = make_database(file)\n",
    "        A.add_to_database()\n",
    "        A.update_database_Eeach()\n",
    "        A.check_database()\n",
    "    except:\n",
    "        print(file, 'Some error occured.')"
   ]
  },
  {
   "cell_type": "code",
   "execution_count": 36,
   "metadata": {},
   "outputs": [
    {
     "name": "stdout",
     "output_type": "stream",
     "text": [
      "Not in database.\n",
      "Cu_100_u2_BEEF-vdW_no001_CO_n1_d8.traj Some error occured.\n",
      "Not in database.\n",
      "Cu_100_u2_BEEF-vdW_no010_CO_n1_d8.traj Some error occured.\n",
      "Not in database.\n",
      "Cu_100_u2_BEEF-vdW_no019_CO_n1_d8.traj Some error occured.\n",
      "Not in database.\n",
      "Cu_100_u2_RPBE-D2_no001_CO_n1_d8.traj Some error occured.\n",
      "Not in database.\n",
      "Cu_100_u2_RPBE-D2_no010_CO_n1_d8.traj Some error occured.\n",
      "Not in database.\n",
      "Cu_100_u2_RPBE_no001_CO_n1_d8.traj Some error occured.\n"
     ]
    }
   ],
   "source": [
    "for file in filenames:\n",
    "    try:\n",
    "        A = make_database(file)\n",
    "        data = A.check_database()\n",
    "        print(data['name'], data['totaladsE'])\n",
    "    except:\n",
    "        print(file, 'Some error occured.')"
   ]
  },
  {
   "cell_type": "code",
   "execution_count": 7,
   "metadata": {},
   "outputs": [
    {
     "name": "stdout",
     "output_type": "stream",
     "text": [
      "Pd_111_u1_RPBE_no001_CO_n1_d3.traj Some error occured.\n",
      "Pd_111_u1_RPBE_no002_CO_n1_d3.traj Some error occured.\n",
      "Pd_111_u1_RPBE_no003_CO_n1_d3.traj Some error occured.\n",
      "Pd_111_u1_RPBE_no004_CO_n1_d3.traj Some error occured.\n",
      "Pd_111_u2_RPBE_no001_CO_n1_d9.traj Some error occured.\n",
      "Pd_111_u2_RPBE_no002_CO_n2_d3.traj Adsorbate correlation updated.\n",
      "Pd_111_u2_RPBE_no003_CO_n3_d3.traj Adsorbate correlation updated.\n",
      "Pd_111_u2_RPBE_no004_CO_n4_d3.traj Adsorbate correlation updated.\n",
      "Pd_111_u2_RPBE_no005_CO_n2_d4.traj Adsorbate correlation updated.\n",
      "Pd_111_u2_RPBE_no006_CO_n3_d4.traj Adsorbate correlation updated.\n",
      "Pd_111_u2_RPBE_no007_CO_n2_d4.traj Adsorbate correlation updated.\n",
      "Pd_111_u2_RPBE_no008_CO_n1_d9.traj Some error occured.\n",
      "Pd_111_u2_RPBE_no009_CO_n2_d3.traj Adsorbate correlation updated.\n",
      "Pd_111_u2_RPBE_no010_CO_n3_d3.traj Adsorbate correlation updated.\n",
      "Pd_111_u2_RPBE_no011_CO_n4_d3.traj Adsorbate correlation updated.\n",
      "Pd_111_u2_RPBE_no012_CO_n2_d3.traj Adsorbate correlation updated.\n",
      "Pd_111_u2_RPBE_no013_CO_n2_d3.traj Adsorbate correlation updated.\n",
      "Pd_111_u2_RPBE_no014_CO_n2_d3.traj Adsorbate correlation updated.\n",
      "Pd_111_u2_RPBE_no015_CO_n1_d9.traj Some error occured.\n",
      "Pd_111_u2_RPBE_no016_CO_n2_d3.traj Adsorbate correlation updated.\n",
      "Pd_111_u2_RPBE_no017_CO_n3_d3.traj Adsorbate correlation updated.\n",
      "Pd_111_u2_RPBE_no018_CO_n4_d3.traj Adsorbate correlation updated.\n",
      "Pd_111_u2_RPBE_no019_CO_n2_d4.traj Adsorbate correlation updated.\n",
      "Pd_111_u2_RPBE_no020_CO_n1_d9.traj Some error occured.\n",
      "Pd_111_u2_RPBE_no021_CO_n2_d3.traj Adsorbate correlation updated.\n",
      "Pd_111_u2_RPBE_no022_CO_n3_d3.traj Adsorbate correlation updated.\n",
      "Pd_111_u2_RPBE_no023_CO_n4_d3.traj Adsorbate correlation updated.\n",
      "Pd_111_u3_RPBE_no001_CO_n1_d14.traj Some error occured.\n",
      "Pd_111_u3_RPBE_no002_CO_n1_d14.traj Some error occured.\n",
      "Pd_111_u3_RPBE_no003_CO_n1_d14.traj Some error occured.\n",
      "Pd_111_u3_RPBE_no004_CO_n1_d14.traj Some error occured.\n",
      "Pd_111_u4_RPBE_no002_CO_n1_d20.traj Some error occured.\n",
      "Pd_111_u4_RPBE_no004_CO_n1_d20.traj Some error occured.\n"
     ]
    }
   ],
   "source": [
    "for file in filenames:\n",
    "    try:\n",
    "        A = make_database(file)\n",
    "        A.update_database_adsorbates_correlation()\n",
    "    except:\n",
    "        print(file, 'Some error occured.')"
   ]
  },
  {
   "cell_type": "code",
   "execution_count": 22,
   "metadata": {},
   "outputs": [],
   "source": [
    "# for file in filenames:\n",
    "#     try:\n",
    "#         A = make_database(file)\n",
    "#         print(A.check_database()['minimum_distance'])\n",
    "#     except:\n",
    "#         print(file, 'Some error occured.')"
   ]
  },
  {
   "cell_type": "code",
   "execution_count": 23,
   "metadata": {},
   "outputs": [
    {
     "data": {
      "text/plain": [
       "{'_id': ObjectId('5e5acdf87d4eccacdaef0455'),\n",
       " 'name': 'Cu_100_u2_BEEF-vdW_no019_CO_n1_d8.traj',\n",
       " 'isvalid': 'yes',\n",
       " 'element': 'Cu',\n",
       " 'face': '100',\n",
       " 'unitlength': 2,\n",
       " 'xc': 'BEEF-vdW',\n",
       " 'adsorbate': 'CO',\n",
       " 'numberofads': 1,\n",
       " 'coverage': 0.25,\n",
       " 'surfatomnum': 4,\n",
       " 'E': -18.28520232,\n",
       " 'bareE': -48.0018866,\n",
       " 'E_CO': -12.13796648,\n",
       " 'totaladsE': 41.85465076,\n",
       " 'aveadsE/suratom': 10.46366269,\n",
       " 'aveadsE/ads': 41.85465076,\n",
       " 'E_int_space': -0.0045082500000006576,\n",
       " 'E_each_ads': None,\n",
       " 'area': 26.82487613815005,\n",
       " 'density': 0.03727883009971519,\n",
       " 'igroups': [2],\n",
       " 'rgroups': [2],\n",
       " 'COlengthlis': [1.1686617418332206],\n",
       " 'converged': 'yes',\n",
       " 'not_moved': 'yes',\n",
       " 'kept_sites': 'yes',\n",
       " 'minimum_distance': None,\n",
       " 'ads_dist2': None,\n",
       " 'ads_dist3': None}"
      ]
     },
     "execution_count": 23,
     "metadata": {},
     "output_type": "execute_result"
    }
   ],
   "source": [
    "file = 'Cu_100_u2_BEEF-vdW_no019_CO_n1_d8.traj'\n",
    "A = make_database(file)\n",
    "A.check_database()"
   ]
  },
  {
   "cell_type": "code",
   "execution_count": 15,
   "metadata": {},
   "outputs": [
    {
     "data": {
      "text/plain": [
       "{'_id': ObjectId('5e59f4dc7d4eccacdaef02d1'),\n",
       " 'name': 'Cu_100_u2_RPBE_no020_CO_n1_d8.traj',\n",
       " 'isvalid': 'yes',\n",
       " 'element': 'Cu',\n",
       " 'face': '100',\n",
       " 'unitlength': 2,\n",
       " 'xc': 'RPBE',\n",
       " 'adsorbate': 'CO',\n",
       " 'numberofads': 1,\n",
       " 'coverage': 0.25,\n",
       " 'surfatomnum': 4,\n",
       " 'E': -62.8509433,\n",
       " 'bareE': -47.96798272,\n",
       " 'E_CO': -14.48543631,\n",
       " 'totaladsE': -0.397524269999991,\n",
       " 'aveadsE/suratom': -0.09938106749999776,\n",
       " 'aveadsE/ads': -0.397524269999991,\n",
       " 'E_int_space': 0.0014228000000002794,\n",
       " 'E_each_ads': None,\n",
       " 'area': 27.044159151757036,\n",
       " 'density': 0.03697656097897319,\n",
       " 'igroups': [2],\n",
       " 'rgroups': [2],\n",
       " 'COlengthlis': [1.203542351539886],\n",
       " 'converged': 'yes',\n",
       " 'not_moved': 'yes',\n",
       " 'kept_sites': 'yes',\n",
       " 'minimum_distance': None,\n",
       " 'ads_dist2': None,\n",
       " 'ads_dist3': None}"
      ]
     },
     "execution_count": 15,
     "metadata": {},
     "output_type": "execute_result"
    }
   ],
   "source": [
    "file = 'Cu_100_u2_RPBE_no020_CO_n1_d8.traj'\n",
    "A = make_database(file)\n",
    "A.check_database()"
   ]
  },
  {
   "cell_type": "code",
   "execution_count": 27,
   "metadata": {},
   "outputs": [
    {
     "data": {
      "text/plain": [
       "{'_id': ObjectId('5e5acdf77d4eccacdaef0451'),\n",
       " 'name': 'Cu_100_u2_BEEF-vdW_no001_CO_n1_d8.traj',\n",
       " 'isvalid': 'no',\n",
       " 'element': 'Cu',\n",
       " 'face': '100',\n",
       " 'unitlength': 2,\n",
       " 'xc': 'BEEF-vdW',\n",
       " 'adsorbate': 'CO',\n",
       " 'numberofads': 1,\n",
       " 'coverage': 0.25,\n",
       " 'surfatomnum': 4,\n",
       " 'E': -18.36345009,\n",
       " 'bareE': -48.0018866,\n",
       " 'E_CO': -12.13796648,\n",
       " 'totaladsE': 41.776402989999994,\n",
       " 'aveadsE/suratom': 10.444100747499999,\n",
       " 'aveadsE/ads': 41.776402989999994,\n",
       " 'E_int_space': -0.00450823999999983,\n",
       " 'E_each_ads': None,\n",
       " 'area': 26.82487613815005,\n",
       " 'density': 0.03727883009971519,\n",
       " 'igroups': [0],\n",
       " 'rgroups': [0],\n",
       " 'COlengthlis': [1.1546559422838865],\n",
       " 'converged': 'no',\n",
       " 'not_moved': 'no',\n",
       " 'kept_sites': 'yes',\n",
       " 'minimum_distance': None,\n",
       " 'ads_dist2': None,\n",
       " 'ads_dist3': None}"
      ]
     },
     "execution_count": 27,
     "metadata": {},
     "output_type": "execute_result"
    }
   ],
   "source": [
    "A = make_database('Cu_100_u2_BEEF-vdW_no001_CO_n1_d8.traj')\n",
    "A.check_database()"
   ]
  },
  {
   "cell_type": "code",
   "execution_count": 30,
   "metadata": {},
   "outputs": [],
   "source": [
    "x = mycol.delete_many({})\n",
    "print(x.deleted_count, \" documents deleted.\")\n"
   ]
  },
  {
   "cell_type": "code",
   "execution_count": null,
   "metadata": {},
   "outputs": [],
   "source": []
  }
 ],
 "metadata": {
  "kernelspec": {
   "display_name": "Python 3",
   "language": "python",
   "name": "python3"
  },
  "language_info": {
   "codemirror_mode": {
    "name": "ipython",
    "version": 3
   },
   "file_extension": ".py",
   "mimetype": "text/x-python",
   "name": "python",
   "nbconvert_exporter": "python",
   "pygments_lexer": "ipython3",
   "version": "3.6.9"
  }
 },
 "nbformat": 4,
 "nbformat_minor": 2
}
