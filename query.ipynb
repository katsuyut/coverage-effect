{
 "cells": [
  {
   "cell_type": "code",
   "execution_count": 52,
   "metadata": {
    "scrolled": false
   },
   "outputs": [
    {
     "name": "stdout",
     "output_type": "stream",
     "text": [
      "155 NiGa110_u1_no01_CO_n1_d3.traj\n",
      "156 NiGa110_u1_no02_CO_n2_d3.traj\n",
      "157 NiGa110_u1_no03_CO_n1_d3.traj\n",
      "158 NiGa110_u1_no03_CO_n1_d3_no01_CO_n2_d3.traj\n",
      "159 NiGa110_u1_no03_CO_n1_d3_no02_CO_n2_d3.traj\n",
      "160 NiGa110_u1_no03_CO_n1_d3_no03_CO_n2_d-3.traj\n",
      "161 NiGa110_u1_no03_CO_n1_d3_no04_CO_n2_d0.traj\n",
      "162 NiGa110_u1_no03_CO_n1_d3_no05_CO_n2_d0.traj\n",
      "163 NiGa110_u1_no03_CO_n1_d3_no06_CO_n2_d2.traj\n",
      "164 NiGa110_u1_no03_CO_n1_d3_no07_CO_n2_d1.traj\n",
      "165 NiGa110_u1_no04_CO_n1_d3.traj\n",
      "166 NiGa110_u1_no05_CO_n2_d3.traj\n",
      "167 NiGa110_u1_no06_CO_n1_d3.traj\n",
      "168 NiGa110_u1_no07_CO_n2_d3.traj\n",
      "169 NiGa110_u1_no08_CO_n1_d3.traj\n",
      "170 NiGa110_u1_no09_CO_n1_d3.traj\n",
      "171 NiGa110_u1_no10_CO_n2_d3.traj\n",
      "172 NiGa110_u1_no11_CO_n1_d3.traj\n"
     ]
    }
   ],
   "source": [
    "import ktms\n",
    "\n",
    "env = 'local'\n",
    "files = ktms.os.listdir('/home/katsuyut/init/')\n",
    "# files = ktms.os.listdir('/home/katsuyut/database/')\n",
    "\n",
    "for i in range(len(files)):\n",
    "    if 'NiGa110_u1_' in files[i]:\n",
    "#         if 'n5' in files[i]:\n",
    "#             if not 'all' in files[i]:\n",
    "        print(i, files[i])\n",
    "        atoms = ktms.query(files[i], 'spacom')\n",
    "#         ktms.view(atoms)"
   ]
  },
  {
   "cell_type": "code",
   "execution_count": 54,
   "metadata": {},
   "outputs": [
    {
     "name": "stdout",
     "output_type": "stream",
     "text": [
      "NiGa110_u2.traj\n"
     ]
    }
   ],
   "source": [
    "file = 'NiGa110_u2.traj'\n",
    "# file = 'NiGa110_u1_no08_CO_n1_d3_all.traj'\n",
    "# file = 'NiGa110_u1_no06_CO_n1_d3.traj'\n",
    "# file = files[155]\n",
    "print(file)\n",
    "atoms = ktms.init_query(file, 'local')\n",
    "# print((atoms.get_potential_energy() + 14.48543631*3 + 48.81821971)/3)\n",
    "# type(atoms)\n",
    "# atoms0"
   ]
  },
  {
   "cell_type": "code",
   "execution_count": null,
   "metadata": {},
   "outputs": [],
   "source": []
  },
  {
   "cell_type": "code",
   "execution_count": null,
   "metadata": {},
   "outputs": [],
   "source": []
  },
  {
   "cell_type": "code",
   "execution_count": null,
   "metadata": {},
   "outputs": [],
   "source": []
  },
  {
   "cell_type": "code",
   "execution_count": null,
   "metadata": {},
   "outputs": [],
   "source": []
  },
  {
   "cell_type": "code",
   "execution_count": 41,
   "metadata": {},
   "outputs": [
    {
     "name": "stdout",
     "output_type": "stream",
     "text": [
      "292 NiGa110_u1_all.traj\n",
      "294 NiGa110_u1_no01_CO_n1_d3_all.traj\n",
      "296 NiGa110_u1_no02_CO_n2_d3_all.traj\n",
      "298 NiGa110_u1_no03_CO_n1_d3_all.traj\n",
      "300 NiGa110_u1_no03_CO_n1_d3_no01_CO_n2_d3_all.traj\n",
      "302 NiGa110_u1_no03_CO_n1_d3_no03_CO_n2_d-3_all.traj\n",
      "304 NiGa110_u1_no03_CO_n1_d3_no04_CO_n2_d0_all.traj\n",
      "306 NiGa110_u1_no03_CO_n1_d3_no05_CO_n2_d0_all.traj\n",
      "308 NiGa110_u1_no03_CO_n1_d3_no06_CO_n2_d2_all.traj\n",
      "310 NiGa110_u1_no03_CO_n1_d3_no07_CO_n2_d1_all.traj\n",
      "312 NiGa110_u1_no04_CO_n1_d3_all.traj\n",
      "314 NiGa110_u1_no05_CO_n2_d3_all.traj\n",
      "316 NiGa110_u1_no06_CO_n1_d3_all.traj\n",
      "318 NiGa110_u1_no07_CO_n2_d3_all.traj\n",
      "320 NiGa110_u1_no08_CO_n1_d3_all.traj\n",
      "322 NiGa110_u1_no09_CO_n1_d3_all.traj\n",
      "324 NiGa110_u1_no10_CO_n2_d3_all.traj\n",
      "326 NiGa110_u1_no11_CO_n1_d3_all.traj\n"
     ]
    }
   ],
   "source": [
    "env = 'local'\n",
    "files = ktms.os.listdir('/home/katsuyut/database/')\n",
    "\n",
    "for i in range(len(files)):\n",
    "    if 'NiGa110_u1_' in files[i]:\n",
    "#         if 'n5' in files[i]:\n",
    "        if 'all' in files[i]:\n",
    "            print(i, files[i])\n",
    "            atoms = ktms.query(files[i], 'spacom')\n",
    "#         ktms.view(atoms)"
   ]
  },
  {
   "cell_type": "code",
   "execution_count": 50,
   "metadata": {},
   "outputs": [
    {
     "name": "stdout",
     "output_type": "stream",
     "text": [
      "Cu100_u2.traj\n"
     ]
    }
   ],
   "source": [
    "# file = 'NiGa110_u2.traj'\n",
    "# file = 'NiGa110_u1_no08_CO_n1_d3_all.traj'\n",
    "# file = 'NiGa110_u1_no06_CO_n1_d3.traj'\n",
    "file = files[155]\n",
    "print(file)\n",
    "atoms = ktms.query(file, 'local')\n",
    "# print((atoms.get_potential_energy() + 14.48543631*3 + 48.81821971)/3)\n",
    "# type(atoms)\n",
    "# atoms0"
   ]
  },
  {
   "cell_type": "code",
   "execution_count": null,
   "metadata": {},
   "outputs": [],
   "source": []
  },
  {
   "cell_type": "code",
   "execution_count": null,
   "metadata": {},
   "outputs": [],
   "source": []
  }
 ],
 "metadata": {
  "kernelspec": {
   "display_name": "Python 3",
   "language": "python",
   "name": "python3"
  },
  "language_info": {
   "codemirror_mode": {
    "name": "ipython",
    "version": 3
   },
   "file_extension": ".py",
   "mimetype": "text/x-python",
   "name": "python",
   "nbconvert_exporter": "python",
   "pygments_lexer": "ipython3",
   "version": "3.6.7"
  }
 },
 "nbformat": 4,
 "nbformat_minor": 2
}
