{
 "cells": [
  {
   "cell_type": "code",
   "execution_count": 1,
   "metadata": {
    "scrolled": false
   },
   "outputs": [],
   "source": [
    "from MAUtil import *\n",
    "from MAPost import *\n",
    "from MAInit import *\n",
    "import re"
   ]
  },
  {
   "cell_type": "code",
   "execution_count": 3,
   "metadata": {
    "scrolled": true
   },
   "outputs": [
    {
     "name": "stdout",
     "output_type": "stream",
     "text": [
      "910 Cu_111_u1.traj\n",
      "912 Cu_111_u1_no01_CO_n1_d3.traj\n",
      "915 Cu_111_u1_no02_CO_n1_d3.traj\n",
      "918 Cu_111_u1_no03_CO_n1_d3.traj\n",
      "921 Cu_111_u1_no04_CO_n1_d3.traj\n",
      "924 Cu_111_u2.traj\n",
      "926 Cu_111_u2_no01_CO_n1_d8.traj\n",
      "929 Cu_111_u2_no02_CO_n2_d3.traj\n",
      "932 Cu_111_u2_no03_CO_n3_d3.traj\n",
      "935 Cu_111_u2_no04_CO_n4_d3.traj\n",
      "938 Cu_111_u2_no05_CO_n2_d4.traj\n",
      "941 Cu_111_u2_no06_CO_n3_d4.traj\n",
      "944 Cu_111_u2_no07_CO_n2_d4.traj\n",
      "947 Cu_111_u2_no08_CO_n1_d8.traj\n",
      "950 Cu_111_u2_no09_CO_n2_d3.traj\n",
      "953 Cu_111_u2_no10_CO_n3_d3.traj\n",
      "956 Cu_111_u2_no11_CO_n4_d3.traj\n",
      "959 Cu_111_u2_no12_CO_n2_d3.traj\n",
      "962 Cu_111_u2_no13_CO_n2_d3.traj\n",
      "965 Cu_111_u2_no14_CO_n2_d3.traj\n",
      "968 Cu_111_u2_no15_CO_n1_d8.traj\n",
      "971 Cu_111_u2_no16_CO_n2_d3.traj\n",
      "974 Cu_111_u2_no17_CO_n3_d3.traj\n",
      "977 Cu_111_u2_no18_CO_n4_d3.traj\n",
      "980 Cu_111_u2_no19_CO_n2_d4.traj\n",
      "983 Cu_111_u2_no20_CO_n1_d8.traj\n",
      "986 Cu_111_u2_no21_CO_n2_d3.traj\n",
      "989 Cu_111_u2_no22_CO_n3_d3.traj\n",
      "992 Cu_111_u2_no23_CO_n4_d3.traj\n",
      "995 Cu_111_u3.traj\n",
      "997 Cu_111_u3_no01_CO_n1_d13.traj\n",
      "1000 Cu_111_u3_no02_CO_n1_d13.traj\n",
      "1003 Cu_111_u3_no03_CO_n1_d13.traj\n",
      "1006 Cu_111_u3_no04_CO_n1_d13.traj\n",
      "1009 Cu_111_u4.traj\n",
      "1011 Cu_111_u4_no01_CO_n1_d18.traj\n",
      "1014 Cu_111_u4_no02_CO_n1_d18.traj\n",
      "1017 Cu_111_u4_no03_CO_n1_d18.traj\n",
      "1020 Cu_111_u4_no04_CO_n1_d18.traj\n"
     ]
    }
   ],
   "source": [
    "env = 'local'\n",
    "# files = os.listdir('/home/katsuyut/init/')\n",
    "files = os.listdir('./database/')\n",
    "\n",
    "for i in range(len(files)):\n",
    "    if 'Cu_111' in files[i]:\n",
    "#         if 'u2' in files[i]:\n",
    "#             if 'n4' in files[i]:\n",
    "                if 'all' not in files[i]:\n",
    "                    if '__' not in files[i]:\n",
    "                        print(i, files[i])"
   ]
  },
  {
   "cell_type": "code",
   "execution_count": 3,
   "metadata": {},
   "outputs": [
    {
     "name": "stdout",
     "output_type": "stream",
     "text": [
      "Cu_111_u2_no23_CO_n4_d3__.traj\n"
     ]
    }
   ],
   "source": [
    "# file = 'Pt_111_u2_no23_CO_n4_d3.traj'\n",
    "# file = files[856]\n",
    "file = files[993]\n",
    "\n",
    "print(file)\n",
    "iatoms = init_query(file, 'local')\n",
    "# ratoms = query(file, 'local')\n",
    "# print(ratoms.get_potential_energy())"
   ]
  },
  {
   "cell_type": "code",
   "execution_count": 4,
   "metadata": {},
   "outputs": [
    {
     "data": {
      "text/plain": [
       "Atoms(symbols='Cu16', pbc=[True, True, False], cell=[[5.1999636305000445, 0.0, 0.0], [2.5999818152500223, 4.503300602768196, 0.0], [0.0, 0.0, 26.368628787877718]], tags=...)"
      ]
     },
     "execution_count": 4,
     "metadata": {},
     "output_type": "execute_result"
    }
   ],
   "source": [
    "init_query('Cu_111_u2.traj', 'local')"
   ]
  },
  {
   "cell_type": "code",
   "execution_count": null,
   "metadata": {},
   "outputs": [],
   "source": []
  },
  {
   "cell_type": "code",
   "execution_count": 6,
   "metadata": {},
   "outputs": [],
   "source": [
    "vtags = {'xc':'RPBE', 'gga':'RP'}"
   ]
  },
  {
   "cell_type": "code",
   "execution_count": 7,
   "metadata": {},
   "outputs": [
    {
     "data": {
      "text/plain": [
       "{'xc': 'RPBE', 'gga': 'RP'}"
      ]
     },
     "execution_count": 7,
     "metadata": {},
     "output_type": "execute_result"
    }
   ],
   "source": [
    "vtags"
   ]
  },
  {
   "cell_type": "code",
   "execution_count": 8,
   "metadata": {},
   "outputs": [
    {
     "data": {
      "text/plain": [
       "'RPBE'"
      ]
     },
     "execution_count": 8,
     "metadata": {},
     "output_type": "execute_result"
    }
   ],
   "source": [
    "vtags['xc']"
   ]
  },
  {
   "cell_type": "code",
   "execution_count": 9,
   "metadata": {},
   "outputs": [
    {
     "data": {
      "text/plain": [
       "'No file'"
      ]
     },
     "execution_count": 9,
     "metadata": {},
     "output_type": "execute_result"
    }
   ],
   "source": [
    "query('Ci')"
   ]
  },
  {
   "cell_type": "code",
   "execution_count": null,
   "metadata": {},
   "outputs": [],
   "source": []
  }
 ],
 "metadata": {
  "kernelspec": {
   "display_name": "Python 3",
   "language": "python",
   "name": "python3"
  },
  "language_info": {
   "codemirror_mode": {
    "name": "ipython",
    "version": 3
   },
   "file_extension": ".py",
   "mimetype": "text/x-python",
   "name": "python",
   "nbconvert_exporter": "python",
   "pygments_lexer": "ipython3",
   "version": "3.6.9"
  }
 },
 "nbformat": 4,
 "nbformat_minor": 2
}
