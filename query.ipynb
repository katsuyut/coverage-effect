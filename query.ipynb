{
 "cells": [
  {
   "cell_type": "code",
   "execution_count": 53,
   "metadata": {
    "scrolled": false
   },
   "outputs": [],
   "source": [
    "from MAUtil import *\n",
    "from MAPost import *\n",
    "from MAInit import *\n",
    "import re"
   ]
  },
  {
   "cell_type": "code",
   "execution_count": 58,
   "metadata": {
    "scrolled": true
   },
   "outputs": [
    {
     "name": "stdout",
     "output_type": "stream",
     "text": [
      "230 Pd_111_u2_RPBE.traj\n",
      "232 Pd_111_u2_RPBE_no001_CO_n1_d9.traj\n",
      "235 Pd_111_u2_RPBE_no002_CO_n2_d3.traj\n",
      "238 Pd_111_u2_RPBE_no003_CO_n3_d3.traj\n",
      "241 Pd_111_u2_RPBE_no004_CO_n4_d3.traj\n",
      "244 Pd_111_u2_RPBE_no005_CO_n2_d4.traj\n",
      "247 Pd_111_u2_RPBE_no006_CO_n3_d4.traj\n",
      "250 Pd_111_u2_RPBE_no007_CO_n2_d4.traj\n",
      "253 Pd_111_u2_RPBE_no008_CO_n1_d9.traj\n",
      "256 Pd_111_u2_RPBE_no009_CO_n2_d3.traj\n",
      "259 Pd_111_u2_RPBE_no010_CO_n3_d3.traj\n",
      "262 Pd_111_u2_RPBE_no011_CO_n4_d3.traj\n",
      "265 Pd_111_u2_RPBE_no012_CO_n2_d3.traj\n",
      "268 Pd_111_u2_RPBE_no013_CO_n2_d3.traj\n",
      "271 Pd_111_u2_RPBE_no014_CO_n2_d3.traj\n",
      "274 Pd_111_u2_RPBE_no015_CO_n1_d9.traj\n",
      "277 Pd_111_u2_RPBE_no016_CO_n2_d3.traj\n",
      "280 Pd_111_u2_RPBE_no017_CO_n3_d3.traj\n",
      "283 Pd_111_u2_RPBE_no018_CO_n4_d3.traj\n",
      "286 Pd_111_u2_RPBE_no019_CO_n2_d4.traj\n",
      "289 Pd_111_u2_RPBE_no020_CO_n1_d9.traj\n",
      "292 Pd_111_u2_RPBE_no021_CO_n2_d3.traj\n",
      "295 Pd_111_u2_RPBE_no022_CO_n3_d3.traj\n",
      "298 Pd_111_u2_RPBE_no023_CO_n4_d3.traj\n"
     ]
    }
   ],
   "source": [
    "env = 'local'\n",
    "files = os.listdir('./init/')\n",
    "files = os.listdir('./database/')\n",
    "\n",
    "for i in range(len(files)):\n",
    "    if 'Pd' in files[i]:\n",
    "        if 'u2' in files[i]:\n",
    "            if '__' not in files[i]:\n",
    "                if 'all' not in files[i]:\n",
    "                    print(i, files[i])"
   ]
  },
  {
   "cell_type": "code",
   "execution_count": 63,
   "metadata": {},
   "outputs": [
    {
     "name": "stdout",
     "output_type": "stream",
     "text": [
      "Pd_111_u2_RPBE_no015_CO_n1_d9.traj\n",
      "-86.41392279\n"
     ]
    }
   ],
   "source": [
    "# file = 'Pt_111_u2_no23_CO_n4_d3.traj'\n",
    "file = files[274]\n",
    "\n",
    "print(file)\n",
    "# iatoms = init_query(file, 'local')\n",
    "ratoms = query(file, 'local')\n",
    "print(ratoms.get_potential_energy())"
   ]
  },
  {
   "cell_type": "code",
   "execution_count": 38,
   "metadata": {},
   "outputs": [],
   "source": [
    "name = 'Cu_100_u1_BEEF-vdW_no001_CO_n1_d3.traj'\n",
    "if query(name, 'spacom') != None:\n",
    "     atoms = query(name, env)"
   ]
  },
  {
   "cell_type": "code",
   "execution_count": 30,
   "metadata": {},
   "outputs": [
    {
     "name": "stdout",
     "output_type": "stream",
     "text": [
      "No file\n"
     ]
    }
   ],
   "source": [
    "query(name, 'spacom')"
   ]
  },
  {
   "cell_type": "code",
   "execution_count": 3,
   "metadata": {},
   "outputs": [
    {
     "data": {
      "text/plain": [
       "Atoms(symbols='COCO', pbc=True, cell=[10.0, 10.0, 10.0], calculator=SinglePointCalculator(...))"
      ]
     },
     "execution_count": 3,
     "metadata": {},
     "output_type": "execute_result"
    }
   ],
   "source": [
    "file = 'COCO_all.traj'\n",
    "query(file,'local')"
   ]
  },
  {
   "cell_type": "code",
   "execution_count": 7,
   "metadata": {},
   "outputs": [],
   "source": [
    "ttt = 3\n",
    "E_not_exceeded = ((ttt < 2.0) and (ttt > -2.0))"
   ]
  },
  {
   "cell_type": "code",
   "execution_count": 8,
   "metadata": {},
   "outputs": [
    {
     "data": {
      "text/plain": [
       "False"
      ]
     },
     "execution_count": 8,
     "metadata": {},
     "output_type": "execute_result"
    }
   ],
   "source": [
    "E_not_exceeded"
   ]
  },
  {
   "cell_type": "code",
   "execution_count": null,
   "metadata": {},
   "outputs": [],
   "source": []
  }
 ],
 "metadata": {
  "kernelspec": {
   "display_name": "Python 3",
   "language": "python",
   "name": "python3"
  },
  "language_info": {
   "codemirror_mode": {
    "name": "ipython",
    "version": 3
   },
   "file_extension": ".py",
   "mimetype": "text/x-python",
   "name": "python",
   "nbconvert_exporter": "python",
   "pygments_lexer": "ipython3",
   "version": "3.6.9"
  }
 },
 "nbformat": 4,
 "nbformat_minor": 2
}
