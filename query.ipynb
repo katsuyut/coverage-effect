{
 "cells": [
  {
   "cell_type": "code",
   "execution_count": 1,
   "metadata": {
    "scrolled": false
   },
   "outputs": [],
   "source": [
    "from MAUtil import *\n",
    "from MAPost import *\n",
    "from MAInit import *\n",
    "import re"
   ]
  },
  {
   "cell_type": "code",
   "execution_count": 2,
   "metadata": {
    "scrolled": true
   },
   "outputs": [
    {
     "name": "stdout",
     "output_type": "stream",
     "text": [
      "935 Cu_111_u2_no04_CO_n4_d3.traj\n",
      "956 Cu_111_u2_no11_CO_n4_d3.traj\n",
      "977 Cu_111_u2_no18_CO_n4_d3.traj\n",
      "992 Cu_111_u2_no23_CO_n4_d3.traj\n"
     ]
    }
   ],
   "source": [
    "env = 'local'\n",
    "# files = os.listdir('/home/katsuyut/init/')\n",
    "files = os.listdir('./database/')\n",
    "\n",
    "for i in range(len(files)):\n",
    "    if 'Cu_111' in files[i]:\n",
    "        if 'u2' in files[i]:\n",
    "            if 'n4' in files[i]:\n",
    "                if 'all' not in files[i]:\n",
    "                    if '__' not in files[i]:\n",
    "                        print(i, files[i])"
   ]
  },
  {
   "cell_type": "code",
   "execution_count": 3,
   "metadata": {},
   "outputs": [
    {
     "name": "stdout",
     "output_type": "stream",
     "text": [
      "Cu_111_u2_no23_CO_n4_d3__.traj\n"
     ]
    }
   ],
   "source": [
    "# file = 'Pt_111_u2_no23_CO_n4_d3.traj'\n",
    "# file = files[856]\n",
    "file = files[993]\n",
    "\n",
    "print(file)\n",
    "iatoms = init_query(file, 'local')\n",
    "# ratoms = query(file, 'local')\n",
    "# print(ratoms.get_potential_energy())"
   ]
  },
  {
   "cell_type": "code",
   "execution_count": 4,
   "metadata": {},
   "outputs": [
    {
     "data": {
      "text/plain": [
       "Atoms(symbols='Cu16', pbc=[True, True, False], cell=[[5.1999636305000445, 0.0, 0.0], [2.5999818152500223, 4.503300602768196, 0.0], [0.0, 0.0, 26.368628787877718]], tags=...)"
      ]
     },
     "execution_count": 4,
     "metadata": {},
     "output_type": "execute_result"
    }
   ],
   "source": [
    "init_query('Cu_111_u2.traj', 'local')"
   ]
  },
  {
   "cell_type": "code",
   "execution_count": null,
   "metadata": {},
   "outputs": [],
   "source": []
  },
  {
   "cell_type": "code",
   "execution_count": null,
   "metadata": {},
   "outputs": [],
   "source": []
  }
 ],
 "metadata": {
  "kernelspec": {
   "display_name": "Python 3",
   "language": "python",
   "name": "python3"
  },
  "language_info": {
   "codemirror_mode": {
    "name": "ipython",
    "version": 3
   },
   "file_extension": ".py",
   "mimetype": "text/x-python",
   "name": "python",
   "nbconvert_exporter": "python",
   "pygments_lexer": "ipython3",
   "version": "3.6.7"
  }
 },
 "nbformat": 4,
 "nbformat_minor": 2
}
