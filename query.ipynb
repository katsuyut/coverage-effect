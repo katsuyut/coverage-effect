{
 "cells": [
  {
   "cell_type": "code",
   "execution_count": 5,
   "metadata": {
    "scrolled": false
   },
   "outputs": [],
   "source": [
    "from MAUtil import *\n",
    "from MAPost import *\n",
    "from MAInit import *\n",
    "import re"
   ]
  },
  {
   "cell_type": "code",
   "execution_count": 8,
   "metadata": {
    "scrolled": true
   },
   "outputs": [
    {
     "name": "stdout",
     "output_type": "stream",
     "text": [
      "788 Ni_111_u2_RPBE_no003_CO_n3_d3.traj\n",
      "792 Ni_111_u2_RPBE_no006_CO_n3_d3.traj\n",
      "795 Ni_111_u2_RPBE_no010_CO_n3_d3.traj\n",
      "801 Ni_111_u2_RPBE_no017_CO_n3_d3.traj\n",
      "805 Ni_111_u2_RPBE_no022_CO_n3_d3.traj\n"
     ]
    }
   ],
   "source": [
    "env = 'local'\n",
    "files = os.listdir('./init/')\n",
    "# files = os.listdir('./database/')\n",
    "chosen = []\n",
    "\n",
    "for i in range(len(files)):\n",
    "    if 'Ni_111' in files[i]:\n",
    "        if 'n3' in files[i]:\n",
    "            print(i, files[i])\n",
    "            chosen.append(files[i])"
   ]
  },
  {
   "cell_type": "code",
   "execution_count": 13,
   "metadata": {},
   "outputs": [
    {
     "name": "stdout",
     "output_type": "stream",
     "text": [
      "Cu_211_u2_RPBE_no014_CO_n1_d8ibrion2_all.traj\n",
      "No file named Cu_211_u2_RPBE_no014_CO_n1_d8ibrion2_all.traj in init\n",
      "-87.7898883\n",
      "0.13016053\n"
     ]
    }
   ],
   "source": [
    "file = 'Cu_211_u2_RPBE_no014_CO_n1_d8ibrion2_all' + '.traj'\n",
    "# file = files[151]\n",
    "\n",
    "print(file)\n",
    "iatoms = init_query(file, 'local')\n",
    "ratoms = query(file, 'local')\n",
    "print(ratoms.get_potential_energy())\n",
    "print(np.max(np.abs(ratoms.get_forces())))"
   ]
  },
  {
   "cell_type": "code",
   "execution_count": null,
   "metadata": {},
   "outputs": [],
   "source": []
  },
  {
   "cell_type": "code",
   "execution_count": 18,
   "metadata": {},
   "outputs": [],
   "source": [
    "with open('atoms.txt', 'w') as f:\n",
    "    for file in chosen:\n",
    "        f.write(file + '\\n')"
   ]
  },
  {
   "cell_type": "code",
   "execution_count": null,
   "metadata": {},
   "outputs": [],
   "source": []
  }
 ],
 "metadata": {
  "kernelspec": {
   "display_name": "Python 3",
   "language": "python",
   "name": "python3"
  },
  "language_info": {
   "codemirror_mode": {
    "name": "ipython",
    "version": 3
   },
   "file_extension": ".py",
   "mimetype": "text/x-python",
   "name": "python",
   "nbconvert_exporter": "python",
   "pygments_lexer": "ipython3",
   "version": "3.6.9"
  }
 },
 "nbformat": 4,
 "nbformat_minor": 2
}
