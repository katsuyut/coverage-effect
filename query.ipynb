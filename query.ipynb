{
 "cells": [
  {
   "cell_type": "code",
   "execution_count": 1,
   "metadata": {
    "scrolled": false
   },
   "outputs": [],
   "source": [
    "from MAUtil import *\n",
    "from MAPost import *\n",
    "from MAInit import *\n",
    "import re"
   ]
  },
  {
   "cell_type": "code",
   "execution_count": 3,
   "metadata": {
    "scrolled": true
   },
   "outputs": [
    {
     "name": "stdout",
     "output_type": "stream",
     "text": [
      "457 Cu_211_u2_RPBE_no014_CO_n1_d8ibrion2.traj\n",
      "458 Cu_211_u2_RPBE_no014_CO_n1_d8ibrion2_all.traj\n",
      "507 Cu_211_u2_RPBE_no027_CO_n1_d8ibrion2.traj\n",
      "508 Cu_211_u2_RPBE_no027_CO_n1_d8ibrion2_all.traj\n",
      "709 Cu_211_u2_RPBE_no101_CO_n1_d8ibrion2.traj\n",
      "710 Cu_211_u2_RPBE_no101_CO_n1_d8ibrion2_all.traj\n"
     ]
    }
   ],
   "source": [
    "env = 'local'\n",
    "# files = os.listdir('./init/')\n",
    "files = os.listdir('./database/')\n",
    "chosen = []\n",
    "\n",
    "for i in range(len(files)):\n",
    "    if 'ibrion' in files[i]:\n",
    "#     if 'Cu' in files[i] or 'Pt' in files[i]:\n",
    "        print(i, files[i])\n",
    "        chosen.append(files[i])"
   ]
  },
  {
   "cell_type": "code",
   "execution_count": 13,
   "metadata": {},
   "outputs": [
    {
     "name": "stdout",
     "output_type": "stream",
     "text": [
      "Cu_211_u2_RPBE_no014_CO_n1_d8ibrion2_all.traj\n",
      "No file named Cu_211_u2_RPBE_no014_CO_n1_d8ibrion2_all.traj in init\n",
      "-87.7898883\n",
      "0.13016053\n"
     ]
    }
   ],
   "source": [
    "file = 'Cu_211_u2_RPBE_no014_CO_n1_d8ibrion2_all' + '.traj'\n",
    "# file = files[151]\n",
    "\n",
    "print(file)\n",
    "iatoms = init_query(file, 'local')\n",
    "ratoms = query(file, 'local')\n",
    "print(ratoms.get_potential_energy())\n",
    "print(np.max(np.abs(ratoms.get_forces())))"
   ]
  },
  {
   "cell_type": "code",
   "execution_count": 2,
   "metadata": {},
   "outputs": [],
   "source": [
    "A = make_adsorbed_surface('Cu_211_u2_RPBE','CO_RPBE')"
   ]
  },
  {
   "cell_type": "code",
   "execution_count": 7,
   "metadata": {
    "scrolled": false
   },
   "outputs": [
    {
     "name": "stdout",
     "output_type": "stream",
     "text": [
      "progress: 0/10, 0.00 min\n",
      "progress: 1/10, 0.00 min\n",
      "progress: 2/10, 0.00 min\n",
      "progress: 3/10, 0.00 min\n",
      "progress: 4/10, 0.00 min\n",
      "progress: 5/10, 0.00 min\n",
      "progress: 6/10, 0.00 min\n",
      "progress: 7/10, 0.00 min\n",
      "progress: 8/10, 0.00 min\n",
      "progress: 9/10, 0.00 min\n",
      "\n",
      "adsorbates : # of structures, {'1': 10}\n",
      "total structures: 10\n"
     ]
    }
   ],
   "source": [
    "A.make_surface(1,2.5,get_only_stable=False)"
   ]
  },
  {
   "cell_type": "code",
   "execution_count": 4,
   "metadata": {},
   "outputs": [
    {
     "name": "stdout",
     "output_type": "stream",
     "text": [
      "self.get_only_stableself.get_only_stable\n",
      "Cu_211_u2_RPBE_rndno002_CO_n2_d3.traj\n",
      "Cu_211_u2_RPBE_rndno003_CO_n2_d3.traj\n",
      "Cu_211_u2_RPBE_rndno007_CO_n2_d3.traj\n",
      "Cu_211_u2_RPBE_rndno005_CO_n2_d3.traj\n"
     ]
    }
   ],
   "source": [
    "A.write_trajectory()"
   ]
  },
  {
   "cell_type": "code",
   "execution_count": 3,
   "metadata": {},
   "outputs": [
    {
     "name": "stdout",
     "output_type": "stream",
     "text": [
      "progress: 0/3, 0.00 min\n",
      "progress: 1/3, 0.00 min\n",
      "progress: 2/3, 0.00 min\n",
      "\n",
      "adsorbates : # of structures, {'1': 3, '2': 4}\n",
      "total structures: 7\n"
     ]
    }
   ],
   "source": [
    "A.make_surface(2,2.5,get_only_stable=True)"
   ]
  },
  {
   "cell_type": "code",
   "execution_count": 11,
   "metadata": {},
   "outputs": [],
   "source": [
    "for i in range(len(A.allatoms)):\n",
    "    view(A.allatoms[i])"
   ]
  },
  {
   "cell_type": "code",
   "execution_count": 6,
   "metadata": {},
   "outputs": [
    {
     "name": "stdout",
     "output_type": "stream",
     "text": [
      "1\n",
      "2\n",
      "3\n"
     ]
    }
   ],
   "source": [
    "for i in range(1,4):\n",
    "    print(i)"
   ]
  },
  {
   "cell_type": "code",
   "execution_count": 11,
   "metadata": {},
   "outputs": [
    {
     "data": {
      "text/plain": [
       "True"
      ]
     },
     "execution_count": 11,
     "metadata": {},
     "output_type": "execute_result"
    }
   ],
   "source": [
    "A.get_only_stable"
   ]
  },
  {
   "cell_type": "code",
   "execution_count": null,
   "metadata": {},
   "outputs": [],
   "source": []
  }
 ],
 "metadata": {
  "kernelspec": {
   "display_name": "Python 3",
   "language": "python",
   "name": "python3"
  },
  "language_info": {
   "codemirror_mode": {
    "name": "ipython",
    "version": 3
   },
   "file_extension": ".py",
   "mimetype": "text/x-python",
   "name": "python",
   "nbconvert_exporter": "python",
   "pygments_lexer": "ipython3",
   "version": "3.6.9"
  }
 },
 "nbformat": 4,
 "nbformat_minor": 2
}
