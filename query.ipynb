{
 "cells": [
  {
   "cell_type": "code",
   "execution_count": 1,
   "metadata": {
    "scrolled": false
   },
   "outputs": [],
   "source": [
    "from MAUtil import *\n",
    "from MAPost import *\n",
    "from MAInit import *\n",
    "import re"
   ]
  },
  {
   "cell_type": "code",
   "execution_count": 7,
   "metadata": {
    "scrolled": true
   },
   "outputs": [
    {
     "name": "stdout",
     "output_type": "stream",
     "text": [
      "817 Cu_100_u2_no01_CO_n1_d8.traj\n",
      "818 Cu_100_u2_no01_CO_n1_d8__.traj\n",
      "819 Cu_100_u2_no01_CO_n1_d8_all.traj\n",
      "844 Cu_100_u2_no10_CO_n1_d8.traj\n",
      "845 Cu_100_u2_no10_CO_n1_d8__.traj\n",
      "846 Cu_100_u2_no10_CO_n1_d8_all.traj\n",
      "874 Cu_100_u2_no20_CO_n1_d8.traj\n",
      "875 Cu_100_u2_no20_CO_n1_d8__.traj\n",
      "876 Cu_100_u2_no20_CO_n1_d8_all.traj\n"
     ]
    }
   ],
   "source": [
    "env = 'local'\n",
    "# files = os.listdir('/home/katsuyut/init/')\n",
    "files = os.listdir('/home/katsuyut/database/')\n",
    "\n",
    "for i in range(len(files)):\n",
    "    if 'Cu_100' in files[i]:\n",
    "        if 'u2' in files[i]:\n",
    "            if 'n1' in files[i]:\n",
    "                print(i, files[i])"
   ]
  },
  {
   "cell_type": "code",
   "execution_count": 9,
   "metadata": {},
   "outputs": [
    {
     "name": "stdout",
     "output_type": "stream",
     "text": [
      "Cu_100_u2_no10_CO_n1_d8.traj\n"
     ]
    }
   ],
   "source": [
    "# file = 'Pt_111_u2_no23_CO_n4_d3.traj'\n",
    "# file = files[856]\n",
    "file = files[844]\n",
    "\n",
    "print(file)\n",
    "iatoms = init_query(file, 'local')\n",
    "# ratoms = query(file, 'local')\n",
    "# print(ratoms.get_potential_energy())"
   ]
  },
  {
   "cell_type": "code",
   "execution_count": 4,
   "metadata": {},
   "outputs": [
    {
     "data": {
      "text/plain": [
       "Atoms(symbols='Cu16', pbc=[True, True, False], cell=[[5.1999636305000445, 0.0, 0.0], [2.5999818152500223, 4.503300602768196, 0.0], [0.0, 0.0, 26.368628787877718]], tags=...)"
      ]
     },
     "execution_count": 4,
     "metadata": {},
     "output_type": "execute_result"
    }
   ],
   "source": [
    "init_query('Cu_111_u2.traj', 'local')"
   ]
  },
  {
   "cell_type": "code",
   "execution_count": null,
   "metadata": {},
   "outputs": [],
   "source": []
  }
 ],
 "metadata": {
  "kernelspec": {
   "display_name": "Python 3",
   "language": "python",
   "name": "python3"
  },
  "language_info": {
   "codemirror_mode": {
    "name": "ipython",
    "version": 3
   },
   "file_extension": ".py",
   "mimetype": "text/x-python",
   "name": "python",
   "nbconvert_exporter": "python",
   "pygments_lexer": "ipython3",
   "version": "3.6.7"
  }
 },
 "nbformat": 4,
 "nbformat_minor": 2
}
