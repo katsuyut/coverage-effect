{
 "cells": [
  {
   "cell_type": "code",
   "execution_count": 1,
   "metadata": {
    "scrolled": false
   },
   "outputs": [],
   "source": [
    "from MAUtil import *\n",
    "from MAPost import *\n",
    "from MAInit import *\n",
    "import re"
   ]
  },
  {
   "cell_type": "code",
   "execution_count": 4,
   "metadata": {
    "scrolled": true
   },
   "outputs": [
    {
     "name": "stdout",
     "output_type": "stream",
     "text": [
      "0 Ag_100_u1_RPBE.traj\n",
      "1 Ag_100_u2_RPBE.traj\n",
      "2 Ag_100_u3_RPBE.traj\n",
      "3 Ag_110_u1_RPBE.traj\n",
      "4 Ag_110_u2_RPBE.traj\n",
      "5 Ag_110_u3_RPBE.traj\n",
      "6 Ag_111_u1_RPBE.traj\n",
      "7 Ag_111_u2_RPBE.traj\n",
      "8 Ag_111_u3_RPBE.traj\n",
      "9 Ag_211_u1_RPBE.traj\n",
      "10 Ag_211_u2_RPBE.traj\n",
      "11 Ag_211_u3_RPBE.traj\n",
      "12 Au_100_u1_RPBE.traj\n",
      "13 Au_100_u2_RPBE.traj\n",
      "14 Au_100_u3_RPBE.traj\n",
      "15 Au_110_u1_RPBE.traj\n",
      "16 Au_110_u2_RPBE.traj\n",
      "17 Au_110_u3_RPBE.traj\n",
      "18 Au_111_u1_RPBE.traj\n",
      "19 Au_111_u2_RPBE.traj\n",
      "20 Au_111_u3_RPBE.traj\n",
      "21 Au_211_u1_RPBE.traj\n",
      "22 Au_211_u2_RPBE.traj\n",
      "23 Au_211_u3_RPBE.traj\n",
      "24 COCO.traj\n",
      "25 CO_BEEF-vdW.traj\n",
      "26 CO_RPBE-D2.traj\n",
      "27 CO_RPBE.traj\n",
      "28 CO_optB88-vdW.traj\n",
      "29 CO_vdW-DF.traj\n",
      "30 CO_vdW-DF2.traj\n",
      "31 Cu_100_u1_RPBE.traj\n",
      "32 Cu_100_u2_RPBE.traj\n",
      "33 Cu_100_u3_RPBE.traj\n",
      "34 Cu_110_u1_RPBE.traj\n",
      "35 Cu_110_u2_RPBE.traj\n",
      "36 Cu_110_u3_RPBE.traj\n",
      "37 Cu_111_u1_RPBE.traj\n",
      "38 Cu_111_u2_RPBE.traj\n",
      "39 Cu_111_u3_RPBE.traj\n",
      "40 Cu_211_u1_RPBE.traj\n",
      "41 Cu_211_u2_RPBE.traj\n",
      "42 Cu_211_u3_RPBE.traj\n",
      "43 Pd_100_u1_RPBE.traj\n",
      "44 Pd_100_u2_RPBE.traj\n",
      "45 Pd_100_u3_RPBE.traj\n",
      "46 Pd_110_u1_RPBE.traj\n",
      "47 Pd_110_u2_RPBE.traj\n",
      "48 Pd_110_u3_RPBE.traj\n",
      "49 Pd_111_u1_RPBE.traj\n",
      "50 Pd_111_u2_RPBE.traj\n",
      "51 Pd_111_u3_RPBE.traj\n",
      "52 Pd_211_u1_RPBE.traj\n",
      "53 Pd_211_u2_RPBE.traj\n",
      "54 Pd_211_u3_RPBE.traj\n",
      "55 Pt_100_u1_RPBE.traj\n",
      "56 Pt_100_u2_RPBE.traj\n",
      "57 Pt_100_u3_RPBE.traj\n",
      "58 Pt_110_u1_RPBE.traj\n",
      "59 Pt_110_u2_RPBE.traj\n",
      "60 Pt_110_u3_RPBE.traj\n",
      "61 Pt_111_u1_RPBE.traj\n",
      "62 Pt_111_u2_RPBE.traj\n",
      "63 Pt_111_u3_RPBE.traj\n",
      "64 Pt_211_u1_RPBE.traj\n",
      "65 Pt_211_u2_RPBE.traj\n",
      "66 Pt_211_u3_RPBE.traj\n",
      "67 current\n",
      "68 current_but_no_used\n",
      "69 for_debug\n",
      "70 previous\n"
     ]
    }
   ],
   "source": [
    "env = 'local'\n",
    "files = os.listdir('./init/')\n",
    "# files = os.listdir('./database/')\n",
    "\n",
    "for i in range(len(files)):\n",
    "#     if 'Pd' in files[i]:\n",
    "#         if 'u2' in files[i]:\n",
    "#             if '__' not in files[i]:\n",
    "#                 if 'all' not in files[i]:\n",
    "    print(i, files[i])"
   ]
  },
  {
   "cell_type": "code",
   "execution_count": 8,
   "metadata": {},
   "outputs": [
    {
     "name": "stdout",
     "output_type": "stream",
     "text": [
      "Pt_211_u3_RPBE.traj\n"
     ]
    }
   ],
   "source": [
    "# file = 'Pt_111_u2_no23_CO_n4_d3.traj'\n",
    "file = files[66]\n",
    "\n",
    "print(file)\n",
    "iatoms = init_query(file, 'local')\n",
    "# ratoms = query(file, 'local')\n",
    "# print(ratoms.get_potential_energy())"
   ]
  },
  {
   "cell_type": "code",
   "execution_count": 38,
   "metadata": {},
   "outputs": [],
   "source": [
    "name = 'Cu_100_u1_BEEF-vdW_no001_CO_n1_d3.traj'\n",
    "if query(name, 'spacom') != None:\n",
    "     atoms = query(name, env)"
   ]
  },
  {
   "cell_type": "code",
   "execution_count": 30,
   "metadata": {},
   "outputs": [
    {
     "name": "stdout",
     "output_type": "stream",
     "text": [
      "No file\n"
     ]
    }
   ],
   "source": [
    "query(name, 'spacom')"
   ]
  },
  {
   "cell_type": "code",
   "execution_count": 3,
   "metadata": {},
   "outputs": [
    {
     "data": {
      "text/plain": [
       "Atoms(symbols='COCO', pbc=True, cell=[10.0, 10.0, 10.0], calculator=SinglePointCalculator(...))"
      ]
     },
     "execution_count": 3,
     "metadata": {},
     "output_type": "execute_result"
    }
   ],
   "source": [
    "file = 'COCO_all.traj'\n",
    "query(file,'local')"
   ]
  },
  {
   "cell_type": "code",
   "execution_count": 7,
   "metadata": {},
   "outputs": [],
   "source": [
    "ttt = 3\n",
    "E_not_exceeded = ((ttt < 2.0) and (ttt > -2.0))"
   ]
  },
  {
   "cell_type": "code",
   "execution_count": 8,
   "metadata": {},
   "outputs": [
    {
     "data": {
      "text/plain": [
       "False"
      ]
     },
     "execution_count": 8,
     "metadata": {},
     "output_type": "execute_result"
    }
   ],
   "source": [
    "E_not_exceeded"
   ]
  },
  {
   "cell_type": "code",
   "execution_count": null,
   "metadata": {},
   "outputs": [],
   "source": []
  }
 ],
 "metadata": {
  "kernelspec": {
   "display_name": "Python 3",
   "language": "python",
   "name": "python3"
  },
  "language_info": {
   "codemirror_mode": {
    "name": "ipython",
    "version": 3
   },
   "file_extension": ".py",
   "mimetype": "text/x-python",
   "name": "python",
   "nbconvert_exporter": "python",
   "pygments_lexer": "ipython3",
   "version": "3.6.9"
  }
 },
 "nbformat": 4,
 "nbformat_minor": 2
}
