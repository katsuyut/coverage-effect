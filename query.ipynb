{
 "cells": [
  {
   "cell_type": "code",
   "execution_count": 28,
   "metadata": {
    "scrolled": false
   },
   "outputs": [],
   "source": [
    "from MAUtil import *\n",
    "from MAPost import *\n",
    "from MAInit import *\n",
    "import re"
   ]
  },
  {
   "cell_type": "code",
   "execution_count": 35,
   "metadata": {
    "scrolled": true
   },
   "outputs": [
    {
     "name": "stdout",
     "output_type": "stream",
     "text": [
      "31 Cu_100_u2_BEEF-vdW.traj\n",
      "56 Cu_100_u2_RPBE-D2.traj\n",
      "81 Cu_100_u2_RPBE.traj\n",
      "106 Cu_100_u2_optB88-vdW.traj\n",
      "131 Cu_100_u2_vdW-DF.traj\n",
      "132 Cu_100_u2_vdW-DF2.traj\n",
      "259 Cu_111_u2_BEEF-vdW.traj\n",
      "283 Cu_111_u2_RPBE-D2.traj\n",
      "307 Cu_111_u2_RPBE.traj\n",
      "331 Cu_111_u2_optB88-vdW.traj\n",
      "355 Cu_111_u2_vdW-DF.traj\n",
      "356 Cu_111_u2_vdW-DF2.traj\n",
      "487 Pt_100_u2_BEEF-vdW.traj\n",
      "512 Pt_100_u2_RPBE-D2.traj\n",
      "537 Pt_100_u2_RPBE.traj\n",
      "562 Pt_100_u2_optB88-vdW.traj\n",
      "587 Pt_100_u2_vdW-DF.traj\n",
      "588 Pt_100_u2_vdW-DF2.traj\n",
      "715 Pt_111_u2_BEEF-vdW.traj\n",
      "739 Pt_111_u2_RPBE-D2.traj\n",
      "763 Pt_111_u2_RPBE.traj\n",
      "787 Pt_111_u2_optB88-vdW.traj\n",
      "811 Pt_111_u2_vdW-DF.traj\n",
      "812 Pt_111_u2_vdW-DF2.traj\n"
     ]
    }
   ],
   "source": [
    "env = 'local'\n",
    "files = os.listdir('./init/')\n",
    "# files = os.listdir('./database/')\n",
    "\n",
    "for i in range(len(files)):\n",
    "    if 'u2' in files[i]:\n",
    "        if 'n' not in files[i]:\n",
    "            print(i, files[i])"
   ]
  },
  {
   "cell_type": "code",
   "execution_count": 38,
   "metadata": {},
   "outputs": [
    {
     "name": "stdout",
     "output_type": "stream",
     "text": [
      "COCO_all.traj\n",
      "-28.97766624\n"
     ]
    }
   ],
   "source": [
    "# file = 'Pt_111_u2_no23_CO_n4_d3.traj'\n",
    "# file = files[856]\n",
    "\n",
    "print(file)\n",
    "# iatoms = init_query(file, 'local')\n",
    "ratoms = query(file, 'local')\n",
    "print(ratoms.get_potential_energy())"
   ]
  },
  {
   "cell_type": "code",
   "execution_count": 29,
   "metadata": {},
   "outputs": [
    {
     "name": "stdout",
     "output_type": "stream",
     "text": [
      "No file\n"
     ]
    }
   ],
   "source": [
    "name = 'Cu_100_u1_BEEF-vdW_no001_CO_n1_d3.traj'\n",
    "if query(name, 'spacom') != None:\n",
    "     atoms = query(name, env)"
   ]
  },
  {
   "cell_type": "code",
   "execution_count": 30,
   "metadata": {},
   "outputs": [
    {
     "name": "stdout",
     "output_type": "stream",
     "text": [
      "No file\n"
     ]
    }
   ],
   "source": [
    "query(name, 'spacom')"
   ]
  },
  {
   "cell_type": "code",
   "execution_count": null,
   "metadata": {},
   "outputs": [],
   "source": []
  }
 ],
 "metadata": {
  "kernelspec": {
   "display_name": "Python 3",
   "language": "python",
   "name": "python3"
  },
  "language_info": {
   "codemirror_mode": {
    "name": "ipython",
    "version": 3
   },
   "file_extension": ".py",
   "mimetype": "text/x-python",
   "name": "python",
   "nbconvert_exporter": "python",
   "pygments_lexer": "ipython3",
   "version": "3.6.9"
  }
 },
 "nbformat": 4,
 "nbformat_minor": 2
}
