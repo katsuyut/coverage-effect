{
 "cells": [
  {
   "cell_type": "code",
   "execution_count": 23,
   "metadata": {
    "scrolled": false
   },
   "outputs": [],
   "source": [
    "from MAUtil import *\n",
    "from MAPost import *\n",
    "from MAInit import *\n",
    "import re"
   ]
  },
  {
   "cell_type": "code",
   "execution_count": 25,
   "metadata": {
    "scrolled": true
   },
   "outputs": [
    {
     "name": "stdout",
     "output_type": "stream",
     "text": [
      "0 .getallene.py.un~\n",
      "1 .test.sh.un~\n",
      "2 .tmp.txt.un~\n",
      "3 CO.traj\n",
      "4 CO_BEEF-vdW.traj\n",
      "5 CO_BEEF-vdW_all.traj\n",
      "6 CO_RPBE-D2.traj\n",
      "7 CO_RPBE-D2_all.traj\n",
      "8 CO_RPBE.traj\n",
      "9 CO_RPBE_all.traj\n",
      "10 CO_optB88-vdW.traj\n",
      "11 CO_optB88-vdW_all.traj\n",
      "12 CO_vdW-DF.traj\n",
      "13 CO_vdW-DF2.traj\n",
      "14 CO_vdW-DF2_all.traj\n",
      "15 CO_vdW-DF_all.traj\n",
      "16 getallene.py\n",
      "17 getallene.py~\n"
     ]
    }
   ],
   "source": [
    "env = 'local'\n",
    "# files = os.listdir('/home/katsuyut/init/')\n",
    "files = os.listdir('./database/')\n",
    "\n",
    "for i in range(len(files)):\n",
    "#     if 'Cu_111' in files[i]:\n",
    "# #         if 'u2' in files[i]:\n",
    "# #             if 'n4' in files[i]:\n",
    "#                 if 'all' not in files[i]:\n",
    "#                     if '__' not in files[i]:\n",
    "    print(i, files[i])"
   ]
  },
  {
   "cell_type": "code",
   "execution_count": 26,
   "metadata": {},
   "outputs": [
    {
     "name": "stdout",
     "output_type": "stream",
     "text": [
      "CO.traj\n",
      "-14.48543631\n"
     ]
    }
   ],
   "source": [
    "#### file = 'Pt_111_u2_no23_CO_n4_d3.traj'\n",
    "# file = files[856]\n",
    "file = files[3]\n",
    "\n",
    "print(file)\n",
    "# iatoms = init_query(file, 'local')\n",
    "ratoms = query(file, 'local')\n",
    "print(ratoms.get_potential_energy())"
   ]
  },
  {
   "cell_type": "code",
   "execution_count": 27,
   "metadata": {},
   "outputs": [
    {
     "data": {
      "text/plain": [
       "1.148572076377045"
      ]
     },
     "execution_count": 27,
     "metadata": {},
     "output_type": "execute_result"
    }
   ],
   "source": [
    "np.linalg.norm(ratoms[0].position - ratoms[1].position)"
   ]
  },
  {
   "cell_type": "code",
   "execution_count": null,
   "metadata": {},
   "outputs": [],
   "source": []
  }
 ],
 "metadata": {
  "kernelspec": {
   "display_name": "Python 3",
   "language": "python",
   "name": "python3"
  },
  "language_info": {
   "codemirror_mode": {
    "name": "ipython",
    "version": 3
   },
   "file_extension": ".py",
   "mimetype": "text/x-python",
   "name": "python",
   "nbconvert_exporter": "python",
   "pygments_lexer": "ipython3",
   "version": "3.6.7"
  }
 },
 "nbformat": 4,
 "nbformat_minor": 2
}
