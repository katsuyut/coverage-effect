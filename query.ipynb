{
 "cells": [
  {
   "cell_type": "code",
   "execution_count": 1,
   "metadata": {
    "scrolled": false
   },
   "outputs": [
    {
     "ename": "ModuleNotFoundError",
     "evalue": "No module named 'MAUtil'",
     "output_type": "error",
     "traceback": [
      "\u001b[0;31m----------------------------------------------------\u001b[0m",
      "\u001b[0;31mModuleNotFoundError\u001b[0mTraceback (most recent call last)",
      "\u001b[0;32m<ipython-input-1-cf19f05c2cdf>\u001b[0m in \u001b[0;36m<module>\u001b[0;34m\u001b[0m\n\u001b[0;32m----> 1\u001b[0;31m \u001b[0;32mfrom\u001b[0m \u001b[0mMAUtil\u001b[0m \u001b[0;32mimport\u001b[0m \u001b[0;34m*\u001b[0m\u001b[0;34m\u001b[0m\u001b[0;34m\u001b[0m\u001b[0m\n\u001b[0m\u001b[1;32m      2\u001b[0m \u001b[0;32mfrom\u001b[0m \u001b[0mMAPost\u001b[0m \u001b[0;32mimport\u001b[0m \u001b[0;34m*\u001b[0m\u001b[0;34m\u001b[0m\u001b[0;34m\u001b[0m\u001b[0m\n\u001b[1;32m      3\u001b[0m \u001b[0;32mfrom\u001b[0m \u001b[0mMAInit\u001b[0m \u001b[0;32mimport\u001b[0m \u001b[0;34m*\u001b[0m\u001b[0;34m\u001b[0m\u001b[0;34m\u001b[0m\u001b[0m\n\u001b[1;32m      4\u001b[0m \u001b[0;32mimport\u001b[0m \u001b[0mre\u001b[0m\u001b[0;34m\u001b[0m\u001b[0;34m\u001b[0m\u001b[0m\n",
      "\u001b[0;31mModuleNotFoundError\u001b[0m: No module named 'MAUtil'"
     ]
    }
   ],
   "source": [
    "from MAUtil import *\n",
    "from MAPost import *\n",
    "from MAInit import *\n",
    "import re"
   ]
  },
  {
   "cell_type": "code",
   "execution_count": 7,
   "metadata": {
    "scrolled": true
   },
   "outputs": [
    {
     "name": "stdout",
     "output_type": "stream",
     "text": [
      "936 Cu_111_u2_no04_CO_n4_d3.traj\n",
      "957 Cu_111_u2_no11_CO_n4_d3.traj\n",
      "978 Cu_111_u2_no18_CO_n4_d3.traj\n",
      "993 Cu_111_u2_no23_CO_n4_d3.traj\n"
     ]
    }
   ],
   "source": [
    "env = 'local'\n",
    "# files = os.listdir('/home/katsuyut/init/')\n",
    "files = os.listdir('./database/')\n",
    "\n",
    "for i in range(len(files)):\n",
    "    if 'Cu_111' in files[i]:\n",
    "        if 'u2' in files[i]:\n",
    "            if 'n4' in files[i]:\n",
    "                if 'all' not in files[i]:\n",
    "                    if '__' not in files[i]:\n",
    "                        print(i, files[i])"
   ]
  },
  {
   "cell_type": "code",
   "execution_count": 25,
   "metadata": {},
   "outputs": [
    {
     "name": "stdout",
     "output_type": "stream",
     "text": [
      "Cu_111_u2_no23_CO_n4_d3.traj\n"
     ]
    }
   ],
   "source": [
    "# file = 'Pt_111_u2_no23_CO_n4_d3.traj'\n",
    "# file = files[856]\n",
    "file = files[993]\n",
    "\n",
    "print(file)\n",
    "iatoms = init_query(file, 'local')\n",
    "# ratoms = query(file, 'local')\n",
    "# print(ratoms.get_potential_energy())"
   ]
  },
  {
   "cell_type": "code",
   "execution_count": 4,
   "metadata": {},
   "outputs": [
    {
     "data": {
      "text/plain": [
       "Atoms(symbols='Cu16', pbc=[True, True, False], cell=[[5.1999636305000445, 0.0, 0.0], [2.5999818152500223, 4.503300602768196, 0.0], [0.0, 0.0, 26.368628787877718]], tags=...)"
      ]
     },
     "execution_count": 4,
     "metadata": {},
     "output_type": "execute_result"
    }
   ],
   "source": [
    "init_query('Cu_111_u2.traj', 'local')"
   ]
  },
  {
   "cell_type": "code",
   "execution_count": null,
   "metadata": {},
   "outputs": [],
   "source": []
  }
 ],
 "metadata": {
  "kernelspec": {
   "display_name": "Python 3",
   "language": "python",
   "name": "python3"
  }
 },
 "nbformat": 4,
 "nbformat_minor": 2
}
