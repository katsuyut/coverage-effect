{
 "cells": [
  {
   "cell_type": "code",
   "execution_count": 1,
   "metadata": {
    "scrolled": false
   },
   "outputs": [],
   "source": [
    "from MAUtil import *\n",
    "from MAPost import *\n",
    "from MAInit import *\n",
    "import re\n",
    "import pandas as pd\n",
    "pd.set_option('display.max_rows', 500)\n",
    "pd.set_option('display.max_columns', 500)\n",
    "env = 'local'"
   ]
  },
  {
   "cell_type": "code",
   "execution_count": 2,
   "metadata": {},
   "outputs": [],
   "source": [
    "from pymongo import MongoClient\n",
    "client = MongoClient('localhost', 27017)\n",
    "\n",
    "db = client.database\n",
    "collection = db.adsE_collection"
   ]
  },
  {
   "cell_type": "code",
   "execution_count": 3,
   "metadata": {
    "scrolled": true
   },
   "outputs": [],
   "source": [
    "formulas = ['Ag', 'Al', 'Au', 'Cu', 'Pt', 'Pd', 'Ni', 'Rh']\n",
    "faces = ['100', '111', '110', '211']\n",
    "\n",
    "dictlis = []\n",
    "\n",
    "for ele in formulas:\n",
    "    for face in faces:\n",
    "        dicte = {'formula':ele, 'face':face}\n",
    "        dictlis.append(dicte)\n",
    "\n",
    "dictlis.append({'formula':'Ru', 'face':'001'})\n",
    "dictlis.append({'formula':'Ru', 'face':'100'})\n",
    "dictlis.append({'formula':'Zn', 'face':'001'})\n",
    "dictlis.append({'formula':'Zn', 'face':'100'})\n",
    "dictlis.append({'formula':'ZnCu', 'face':'100'})\n",
    "dictlis.append({'formula':'ZnCu', 'face':'110'})\n",
    "dictlis.append({'formula':'CuSn', 'face':'100'})\n",
    "dictlis.append({'formula':'CuSn', 'face':'001'})\n",
    "dictlis.append({'formula':'CoPt3', 'face':'100'})\n",
    "dictlis.append({'formula':'GaNi', 'face':'110'})"
   ]
  },
  {
   "cell_type": "code",
   "execution_count": 4,
   "metadata": {},
   "outputs": [],
   "source": [
    "inst = []\n",
    "dfall = []\n",
    "df = []\n",
    "dfpred = []\n",
    "dfpred_onlyformula = []\n",
    "\n",
    "for i in range(len(dictlis)):\n",
    "    try:\n",
    "        du = dataset_utilizer('adsE_method2_new', **dictlis[i])\n",
    "        inst.append(du)\n",
    "        dfall.append(du.dfall)\n",
    "        df.append(du.df)\n",
    "        dfpred.append(du.dfpred)\n",
    "        dfpred_onlyformula.append(du.dfpred_onlyformula)\n",
    "    except:\n",
    "        print('Error: {0}'.format(dictlis[i]))"
   ]
  },
  {
   "cell_type": "code",
   "execution_count": 145,
   "metadata": {
    "scrolled": false
   },
   "outputs": [
    {
     "name": "stderr",
     "output_type": "stream",
     "text": [
      "/home/katsuyut/.local/lib/python3.6/site-packages/ipykernel_launcher.py:5: UserWarning: Boolean Series key will be reindexed to match DataFrame index.\n",
      "  \"\"\"\n"
     ]
    },
    {
     "data": {
      "text/html": [
       "<div>\n",
       "<style scoped>\n",
       "    .dataframe tbody tr th:only-of-type {\n",
       "        vertical-align: middle;\n",
       "    }\n",
       "\n",
       "    .dataframe tbody tr th {\n",
       "        vertical-align: top;\n",
       "    }\n",
       "\n",
       "    .dataframe thead th {\n",
       "        text-align: right;\n",
       "    }\n",
       "</style>\n",
       "<table border=\"1\" class=\"dataframe\">\n",
       "  <thead>\n",
       "    <tr style=\"text-align: right;\">\n",
       "      <th></th>\n",
       "      <th>_id</th>\n",
       "      <th>name</th>\n",
       "      <th>isvalid</th>\n",
       "      <th>ispredictable</th>\n",
       "      <th>formula</th>\n",
       "      <th>face</th>\n",
       "      <th>unitlength</th>\n",
       "      <th>xc</th>\n",
       "      <th>adsorbate</th>\n",
       "      <th>numberofads</th>\n",
       "      <th>coverage</th>\n",
       "      <th>surfatomnum</th>\n",
       "      <th>E</th>\n",
       "      <th>bareE</th>\n",
       "      <th>E_ads</th>\n",
       "      <th>totaladsE</th>\n",
       "      <th>aveadsE/suratom</th>\n",
       "      <th>aveadsE/ads</th>\n",
       "      <th>E_int_space</th>\n",
       "      <th>sumE_each_ads</th>\n",
       "      <th>E_residue/suratom</th>\n",
       "      <th>area</th>\n",
       "      <th>density</th>\n",
       "      <th>igroups</th>\n",
       "      <th>rgroups</th>\n",
       "      <th>converged</th>\n",
       "      <th>is_adsorbed</th>\n",
       "      <th>kept_sites</th>\n",
       "      <th>E_not_exceeded</th>\n",
       "      <th>minimum_distance</th>\n",
       "      <th>ads_dist2</th>\n",
       "      <th>ads_dist3</th>\n",
       "    </tr>\n",
       "  </thead>\n",
       "  <tbody>\n",
       "    <tr>\n",
       "      <th>5</th>\n",
       "      <td>5ef42ef31fa36aa7694af8a1</td>\n",
       "      <td>Ag_100_u2_RPBE_no004_CO_n4_d3.traj</td>\n",
       "      <td>yes</td>\n",
       "      <td>yes</td>\n",
       "      <td>Ag</td>\n",
       "      <td>100</td>\n",
       "      <td>2</td>\n",
       "      <td>RPBE</td>\n",
       "      <td>CO</td>\n",
       "      <td>4</td>\n",
       "      <td>1.0</td>\n",
       "      <td>4</td>\n",
       "      <td>-89.715536</td>\n",
       "      <td>-32.474988</td>\n",
       "      <td>-14.485436</td>\n",
       "      <td>0.701197</td>\n",
       "      <td>0.175299</td>\n",
       "      <td>0.175299</td>\n",
       "      <td>1.027711</td>\n",
       "      <td>-0.241715</td>\n",
       "      <td>-0.021199</td>\n",
       "      <td>35.502184</td>\n",
       "      <td>0.112669</td>\n",
       "      <td>[0, 0, 0, 0]</td>\n",
       "      <td>[0, 0, 0, 0]</td>\n",
       "      <td>yes</td>\n",
       "      <td>yes</td>\n",
       "      <td>yes</td>\n",
       "      <td>yes</td>\n",
       "      <td>3</td>\n",
       "      <td>0.0</td>\n",
       "      <td>16.0</td>\n",
       "    </tr>\n",
       "    <tr>\n",
       "      <th>7</th>\n",
       "      <td>5ef42f0d1fa36aa7694af8a5</td>\n",
       "      <td>Ag_100_u2_RPBE_no006_CO_n4_d3.traj</td>\n",
       "      <td>yes</td>\n",
       "      <td>yes</td>\n",
       "      <td>Ag</td>\n",
       "      <td>100</td>\n",
       "      <td>2</td>\n",
       "      <td>RPBE</td>\n",
       "      <td>CO</td>\n",
       "      <td>4</td>\n",
       "      <td>1.0</td>\n",
       "      <td>4</td>\n",
       "      <td>-89.429922</td>\n",
       "      <td>-32.474988</td>\n",
       "      <td>-14.485436</td>\n",
       "      <td>0.986811</td>\n",
       "      <td>0.246703</td>\n",
       "      <td>0.246703</td>\n",
       "      <td>0.849630</td>\n",
       "      <td>0.007023</td>\n",
       "      <td>0.032540</td>\n",
       "      <td>35.502184</td>\n",
       "      <td>0.112669</td>\n",
       "      <td>[1, 1, 0, 0]</td>\n",
       "      <td>[1, 1, 0, 0]</td>\n",
       "      <td>yes</td>\n",
       "      <td>yes</td>\n",
       "      <td>yes</td>\n",
       "      <td>yes</td>\n",
       "      <td>2</td>\n",
       "      <td>1.0</td>\n",
       "      <td>13.0</td>\n",
       "    </tr>\n",
       "    <tr>\n",
       "      <th>13</th>\n",
       "      <td>5ef42f5e1fa36aa7694af8b1</td>\n",
       "      <td>Ag_100_u2_RPBE_no013_CO_n4_d3.traj</td>\n",
       "      <td>yes</td>\n",
       "      <td>yes</td>\n",
       "      <td>Ag</td>\n",
       "      <td>100</td>\n",
       "      <td>2</td>\n",
       "      <td>RPBE</td>\n",
       "      <td>CO</td>\n",
       "      <td>4</td>\n",
       "      <td>1.0</td>\n",
       "      <td>4</td>\n",
       "      <td>-89.098179</td>\n",
       "      <td>-32.474988</td>\n",
       "      <td>-14.485436</td>\n",
       "      <td>1.318554</td>\n",
       "      <td>0.329639</td>\n",
       "      <td>0.329639</td>\n",
       "      <td>1.027708</td>\n",
       "      <td>0.255761</td>\n",
       "      <td>0.008771</td>\n",
       "      <td>35.502184</td>\n",
       "      <td>0.112669</td>\n",
       "      <td>[1, 1, 1, 1]</td>\n",
       "      <td>[1, 1, 1, 1]</td>\n",
       "      <td>yes</td>\n",
       "      <td>yes</td>\n",
       "      <td>yes</td>\n",
       "      <td>yes</td>\n",
       "      <td>2</td>\n",
       "      <td>2.0</td>\n",
       "      <td>10.0</td>\n",
       "    </tr>\n",
       "  </tbody>\n",
       "</table>\n",
       "</div>"
      ],
      "text/plain": [
       "                         _id                                name isvalid  \\\n",
       "5   5ef42ef31fa36aa7694af8a1  Ag_100_u2_RPBE_no004_CO_n4_d3.traj     yes   \n",
       "7   5ef42f0d1fa36aa7694af8a5  Ag_100_u2_RPBE_no006_CO_n4_d3.traj     yes   \n",
       "13  5ef42f5e1fa36aa7694af8b1  Ag_100_u2_RPBE_no013_CO_n4_d3.traj     yes   \n",
       "\n",
       "   ispredictable formula face  unitlength    xc adsorbate  numberofads  \\\n",
       "5            yes      Ag  100           2  RPBE        CO            4   \n",
       "7            yes      Ag  100           2  RPBE        CO            4   \n",
       "13           yes      Ag  100           2  RPBE        CO            4   \n",
       "\n",
       "    coverage  surfatomnum          E      bareE      E_ads  totaladsE  \\\n",
       "5        1.0            4 -89.715536 -32.474988 -14.485436   0.701197   \n",
       "7        1.0            4 -89.429922 -32.474988 -14.485436   0.986811   \n",
       "13       1.0            4 -89.098179 -32.474988 -14.485436   1.318554   \n",
       "\n",
       "    aveadsE/suratom  aveadsE/ads  E_int_space  sumE_each_ads  \\\n",
       "5          0.175299     0.175299     1.027711      -0.241715   \n",
       "7          0.246703     0.246703     0.849630       0.007023   \n",
       "13         0.329639     0.329639     1.027708       0.255761   \n",
       "\n",
       "    E_residue/suratom       area   density       igroups       rgroups  \\\n",
       "5           -0.021199  35.502184  0.112669  [0, 0, 0, 0]  [0, 0, 0, 0]   \n",
       "7            0.032540  35.502184  0.112669  [1, 1, 0, 0]  [1, 1, 0, 0]   \n",
       "13           0.008771  35.502184  0.112669  [1, 1, 1, 1]  [1, 1, 1, 1]   \n",
       "\n",
       "   converged is_adsorbed kept_sites E_not_exceeded minimum_distance  \\\n",
       "5        yes         yes        yes            yes                3   \n",
       "7        yes         yes        yes            yes                2   \n",
       "13       yes         yes        yes            yes                2   \n",
       "\n",
       "    ads_dist2  ads_dist3  \n",
       "5         0.0       16.0  \n",
       "7         1.0       13.0  \n",
       "13        2.0       10.0  "
      ]
     },
     "execution_count": 145,
     "metadata": {},
     "output_type": "execute_result"
    }
   ],
   "source": [
    "id = 0\n",
    "dfall[id]\n",
    "# dfall[id][dfall[id]['numberofads']==1]\n",
    "dfall[id][dfall[id]['isvalid']=='yes']\n",
    "dfall[id][dfall[id]['isvalid']=='yes'][dfall[id]['numberofads']==4]"
   ]
  },
  {
   "cell_type": "code",
   "execution_count": 146,
   "metadata": {},
   "outputs": [
    {
     "data": {
      "text/plain": [
       "Atoms(symbols='Ag16COCOCOCO', pbc=True, cell=[[5.958370913658996, 0.0, 4e-16], [1e-15, 5.958370913658996, 4e-16], [0.0, 0.0, 50.558453734475535]], constraint=FixAtoms(indices=[2, 3, 6, 7, 10, 11, 14, 15]), calculator=SinglePointCalculator(...))"
      ]
     },
     "execution_count": 146,
     "metadata": {},
     "output_type": "execute_result"
    }
   ],
   "source": [
    "num = 5\n",
    "name = dfall[id]['name'][num]\n",
    "allname = name[:-5] + '_all.traj'\n",
    "# query(allname, 'local')\n",
    "query(name, 'local')"
   ]
  },
  {
   "cell_type": "code",
   "execution_count": null,
   "metadata": {},
   "outputs": [],
   "source": []
  },
  {
   "cell_type": "code",
   "execution_count": 90,
   "metadata": {},
   "outputs": [
    {
     "data": {
      "text/plain": [
       "Atoms(symbols='Ag12COCOCO', pbc=[True, True, False], cell=[[5.958370913658995, 0.0, 4e-16], [-2.9791854568294998, 5.160100576398985, -1e-15], [0.0, 0.0, 36.487421091763366]], tags=..., constraint=FixAtoms(indices=[0, 3, 6, 9]), calculator=SinglePointCalculator(...))"
      ]
     },
     "execution_count": 90,
     "metadata": {},
     "output_type": "execute_result"
    }
   ],
   "source": [
    "name = 'Ag_111_u2_RPBE_no005_CO_n3_d3'\n",
    "traj = name + '.traj'\n",
    "alltraj = name + '_all.traj'\n",
    "query(traj, 'local')\n",
    "# query(alltraj, 'local')"
   ]
  },
  {
   "cell_type": "code",
   "execution_count": null,
   "metadata": {},
   "outputs": [],
   "source": []
  }
 ],
 "metadata": {
  "kernelspec": {
   "display_name": "Python 3",
   "language": "python",
   "name": "python3"
  },
  "language_info": {
   "codemirror_mode": {
    "name": "ipython",
    "version": 3
   },
   "file_extension": ".py",
   "mimetype": "text/x-python",
   "name": "python",
   "nbconvert_exporter": "python",
   "pygments_lexer": "ipython3",
   "version": "3.6.9"
  }
 },
 "nbformat": 4,
 "nbformat_minor": 2
}
