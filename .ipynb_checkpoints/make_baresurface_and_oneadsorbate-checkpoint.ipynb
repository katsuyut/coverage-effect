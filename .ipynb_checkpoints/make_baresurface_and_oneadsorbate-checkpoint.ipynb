{
 "cells": [
  {
   "cell_type": "code",
   "execution_count": 1,
   "metadata": {},
   "outputs": [],
   "source": [
    "from MAUtil import *\n",
    "from MAInit import *\n",
    "from MACalc import *\n",
    "from MAPost import *\n",
    "from GASpyfuncs import *"
   ]
  },
  {
   "cell_type": "code",
   "execution_count": 2,
   "metadata": {},
   "outputs": [],
   "source": [
    "mpid = 'mp-30'      # Cu fcc\n",
    "mpid = 'mp-81'      # Au fcc\n",
    "mpid = 'mp-124'     # Ag fcc\n",
    "mpid = 'mp-23'      # Ni fcc\n",
    "mpid = 'mp-2'       # Pd fcc\n",
    "mpid = 'mp-126'     # Pt fcc\n",
    "mpid = 'mp-74'      # Rh fcc\n",
    "mpid = 'mp-134'     # Al fcc\n",
    "mpid = 'mp-79'      # Zn hcp\n",
    "mpid = 'mp-33'      # Ru hcp\n",
    "mpid = 'mp-1941'    # NiGa    cubic\n",
    "mpid = 'mp-922'     # CoPt3   cubic\n",
    "mpid = 'mp-987'     # ZnCu    cubic\n",
    "# mpid = 'mp-488'     # CuSe    hex\n",
    "mpid = 'mp-10598'   # CuSn    hex"
   ]
  },
  {
   "cell_type": "code",
   "execution_count": 18,
   "metadata": {},
   "outputs": [],
   "source": [
    "xc = 'RPBE'\n",
    "formula = 'GaNi'\n",
    "# formula = 'CuSn'\n",
    "# formula = 'ZnCu'"
   ]
  },
  {
   "cell_type": "code",
   "execution_count": 19,
   "metadata": {},
   "outputs": [],
   "source": [
    "# faces = [[1,0,0],[1,1,0],[1,1,1],[2,1,1]] # fcc\n",
    "# # faces = [[1,1,0]] # GaNi\n",
    "# # faces = [[1,0,0]] # CoPt3\n",
    "# # faces = [[1,1,1]] # PdPt\n",
    "# faces = [[0,0,1], [1,0,0]] # hpc\n",
    "# # # faces = [[1,1,1]]\n",
    "# # faces = [[1,1,0]]\n",
    "# # faces = [[1,0,0]]\n",
    "# # faces =  [[1,0,0],[1,1,0]]\n",
    "# faces = [[1,1,1]]\n",
    "# faces = [[1,1,0]]\n",
    "\n",
    "# slab_generator_settings = {\n",
    "#     'min_slab_size':4,\n",
    "#     'min_vacuum_size':7,\n",
    "#     'lll_reduce':False, # False\n",
    "#     'center_slab':True, # False\n",
    "#     'in_unit_planes':True, # False\n",
    "#     'primitive':True, # True\n",
    "#     'max_normal_search':10, # None\n",
    "#     'reorient_lattice':True # True\n",
    "# }\n",
    "\n",
    "# for face in faces:\n",
    "#     file = formula + '_' + xc + '.traj'\n",
    "#     atoms = init_query(file)\n",
    "    \n",
    "#     slab = make_slabs_from_bulk_atoms(atoms, face, slab_generator_settings, get_slab_settings={})\n",
    "#     atoms = AseAtomsAdaptor.get_atoms(slab[0])\n",
    "\n",
    "#     repeat = 3\n",
    "#     if face == [2,1,1]:\n",
    "#         rep = [2,1,1]\n",
    "#     else:\n",
    "#         rep = [repeat,repeat,1]\n",
    "#     atoms = get_repeated_atoms(atoms, rep)\n",
    "#     atoms = set_tag(atoms, face)\n",
    "#     atoms.pbc = [True, True, False]\n",
    "#     view(atoms)\n",
    "#     slabname = formula + '_'+ str(face[0]) + str(face[1]) + str(face[2]) + '_u' + str(repeat) + '_' + xc + '.traj'\n",
    "#     trajpath = initpath + slabname\n",
    "#     atoms.write(trajpath)\n",
    "\n",
    "# #     ads = make_adsorbed_surface(slabname[:-5],'CO_RPBE')\n",
    "# #     ads.make_surface(1,2.5)\n",
    "# #     ads.write_trajectory()"
   ]
  },
  {
   "cell_type": "code",
   "execution_count": null,
   "metadata": {},
   "outputs": [],
   "source": [
    "faces = [[1,0,0],[1,1,0],[1,1,1],[2,1,1]] # fcc\n",
    "# faces = [[1,1,0]] # GaNi\n",
    "# faces = [[1,0,0]] # CoPt3\n",
    "# faces = [[1,1,1]] # PdPt\n",
    "faces = [[0,0,1], [1,0,0]] # hpc\n",
    "# # faces = [[1,1,1]]\n",
    "# faces = [[1,1,0]]\n",
    "# faces = [[1,0,0]]\n",
    "# faces =  [[1,0,0],[1,1,0]]\n",
    "faces = [[1,1,1]]\n",
    "faces = [[1,1,0]]\n",
    "\n",
    "for face in faces:\n",
    "    file = formula + '_' + xc + '.traj'\n",
    "    atoms = init_query(file)\n",
    "    view(atoms)\n",
    "    repeat = 2\n",
    "    atoms = surface(atoms, face, 4, vacuum=10.0, periodic=True)\n",
    "    atoms = atoms.repeat([repeat,repeat,1])\n",
    "\n",
    "    view(atoms)\n",
    "    slabname = formula + '_'+ str(face[0]) + str(face[1]) + str(face[2]) + '_u' + str(repeat) + '_' + xc + '.traj'\n",
    "    trajpath = initpath + slabname\n",
    "#     atoms.write(trajpath)\n",
    "\n",
    "#     ads = make_adsorbed_surface(slabname[:-5],'CO_RPBE')\n",
    "#     ads.make_surface(1,2.5)\n",
    "#     ads.write_trajectory()"
   ]
  },
  {
   "cell_type": "code",
   "execution_count": 7,
   "metadata": {},
   "outputs": [
    {
     "name": "stdout",
     "output_type": "stream",
     "text": [
      "428 CuSn_001_u2_RPBE.traj\n",
      "429 CuSn_001_u2_RPBE_no001_CO_n1_d14.traj\n",
      "430 CuSn_001_u2_RPBE_no002_CO_n1_d14.traj\n",
      "431 CuSn_001_u2_RPBE_no003_CO_n1_d14.traj\n",
      "432 CuSn_001_u2_RPBE_no004_CO_n1_d14.traj\n",
      "433 CuSn_100_u2_RPBE.traj\n",
      "434 CuSn_100_u2_RPBE_no001_CO_n1_d14.traj\n",
      "435 CuSn_100_u2_RPBE_no002_CO_n1_d14.traj\n",
      "436 CuSn_100_u2_RPBE_no003_CO_n1_d14.traj\n",
      "437 CuSn_100_u2_RPBE_no004_CO_n1_d14.traj\n",
      "438 CuSn_100_u2_RPBE_no005_CO_n1_d14.traj\n",
      "439 CuSn_100_u2_RPBE_no006_CO_n1_d14.traj\n",
      "1045 Ru_001_u2_RPBE.traj\n",
      "1046 Ru_001_u2_RPBE_no001_CO_n1_d8.traj\n",
      "1047 Ru_001_u2_RPBE_no002_CO_n1_d8.traj\n",
      "1048 Ru_001_u2_RPBE_no003_CO_n1_d8.traj\n",
      "1049 Ru_001_u2_RPBE_no004_CO_n1_d8.traj\n",
      "1050 Ru_100_u2_RPBE.traj\n",
      "1051 Ru_100_u2_RPBE_no001_CO_n1_d8.traj\n",
      "1052 Ru_100_u2_RPBE_no002_CO_n1_d8.traj\n",
      "1053 Ru_100_u2_RPBE_no003_CO_n1_d8.traj\n",
      "1054 Ru_100_u2_RPBE_no004_CO_n1_d8.traj\n",
      "1055 Ru_100_u2_RPBE_no005_CO_n1_d8.traj\n",
      "1056 Ru_100_u2_RPBE_no006_CO_n1_d8.traj\n",
      "1057 Ru_100_u2_RPBE_no007_CO_n1_d8.traj\n",
      "1059 ZnCu_100_u2_RPBE.traj\n",
      "1060 ZnCu_100_u2_RPBE_no001_CO_n1_d10.traj\n",
      "1061 ZnCu_100_u2_RPBE_no002_CO_n1_d10.traj\n",
      "1062 ZnCu_100_u2_RPBE_no003_CO_n1_d10.traj\n",
      "1063 ZnCu_110_u2_RPBE.traj\n",
      "1064 ZnCu_110_u2_RPBE_no001_CO_n1_d10.traj\n",
      "1065 ZnCu_110_u2_RPBE_no002_CO_n1_d10.traj\n",
      "1066 ZnCu_110_u2_RPBE_no003_CO_n1_d10.traj\n",
      "1067 ZnCu_110_u2_RPBE_no004_CO_n1_d10.traj\n",
      "1068 ZnCu_110_u2_RPBE_no005_CO_n1_d10.traj\n",
      "1069 ZnCu_110_u2_RPBE_no006_CO_n1_d10.traj\n",
      "1070 ZnCu_110_u2_RPBE_no007_CO_n1_d10.traj\n",
      "1071 ZnCu_111_u2_RPBE.traj\n",
      "1073 Zn_001_u2_RPBE.traj\n",
      "1074 Zn_001_u2_RPBE_no001_CO_n1_d8.traj\n",
      "1075 Zn_001_u2_RPBE_no002_CO_n1_d8.traj\n",
      "1076 Zn_001_u2_RPBE_no003_CO_n1_d8.traj\n",
      "1077 Zn_001_u2_RPBE_no004_CO_n1_d8.traj\n",
      "1078 Zn_100_u2_RPBE.traj\n",
      "1079 Zn_100_u2_RPBE_no001_CO_n1_d8.traj\n",
      "1080 Zn_100_u2_RPBE_no002_CO_n1_d8.traj\n",
      "1081 Zn_100_u2_RPBE_no003_CO_n1_d8.traj\n",
      "1082 Zn_100_u2_RPBE_no004_CO_n1_d8.traj\n",
      "1083 Zn_100_u2_RPBE_no005_CO_n1_d8.traj\n",
      "1084 Zn_100_u2_RPBE_no006_CO_n1_d8.traj\n",
      "1085 Zn_100_u2_RPBE_no007_CO_n1_d8.traj\n"
     ]
    }
   ],
   "source": [
    "### get file names ###\n",
    "env = 'local'\n",
    "files = os.listdir('./init/')\n",
    "filenames = []\n",
    "\n",
    "anywords = ['Ru','Zn','CuSn','ZnCu']\n",
    "allwords = ['u2']\n",
    "nwords = []\n",
    "\n",
    "for i in range(len(files)):\n",
    "    if any((s in files[i]) for s in anywords):\n",
    "        if all((s in files[i]) for s in allwords):\n",
    "            if all((s not in files[i]) for s in nwords):\n",
    "#     if 'E_no' in files[i]:\n",
    "#         if '__' not in files[i]:\n",
    "                filenames.append(files[i])\n",
    "                print(i, files[i])\n",
    "                with open('atoms.txt','a') as f:\n",
    "                    f.write(files[i]+'\\n')"
   ]
  },
  {
   "cell_type": "code",
   "execution_count": 14,
   "metadata": {},
   "outputs": [
    {
     "data": {
      "text/plain": [
       "Atoms(symbols='Zn2Cu2Zn2Cu2Zn2Cu2Zn2Cu2Zn2Cu2Zn2Cu2Zn2Cu2Zn2Cu2Zn2Cu2', pbc=[True, True, False], cell=[[9.021111088638275, 0.0, 5.52383740972678e-16], [2.051607119725959e-15, 12.757777649226563, 7.811885781179477e-16], [0.0, 0.0, 21.262962748710944]], tags=...)"
      ]
     },
     "execution_count": 14,
     "metadata": {},
     "output_type": "execute_result"
    }
   ],
   "source": [
    "init_query('ZnCu_110_u3_RPBE.traj','local')"
   ]
  },
  {
   "cell_type": "code",
   "execution_count": null,
   "metadata": {},
   "outputs": [],
   "source": []
  }
 ],
 "metadata": {
  "kernelspec": {
   "display_name": "Python 3",
   "language": "python",
   "name": "python3"
  },
  "language_info": {
   "codemirror_mode": {
    "name": "ipython",
    "version": 3
   },
   "file_extension": ".py",
   "mimetype": "text/x-python",
   "name": "python",
   "nbconvert_exporter": "python",
   "pygments_lexer": "ipython3",
   "version": "3.6.9"
  }
 },
 "nbformat": 4,
 "nbformat_minor": 4
}
