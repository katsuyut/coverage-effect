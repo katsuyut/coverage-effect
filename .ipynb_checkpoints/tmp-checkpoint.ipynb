{
 "cells": [
  {
   "cell_type": "markdown",
   "metadata": {},
   "source": [
    "### It's temporally used file so any modification will be fine ###"
   ]
  },
  {
   "cell_type": "code",
   "execution_count": 23,
   "metadata": {},
   "outputs": [],
   "source": [
    "from MACalc import *\n",
    "from MAUtil import *\n",
    "from MAInit import *\n",
    "from MAPost import *\n",
    "from GASpyfuncs import *\n",
    "import time\n",
    "pd.set_option('display.max_columns', 100)\n",
    "plt.rcParams[\"font.size\"] = 14\n",
    "pd.set_option('display.max_columns', 100)\n",
    "pd.set_option('display.max_rows', 100)\n",
    "figs = [20,50]\n",
    "fign = [15,4]"
   ]
  },
  {
   "cell_type": "code",
   "execution_count": 24,
   "metadata": {},
   "outputs": [],
   "source": [
    "unsta0 = init_query('Ni_111_u2_RPBE_no010_CO_n3_d3.traj')\n",
    "unsta1 = query('Ni_111_u2_RPBE_no010_CO_n3_d3.traj')\n",
    "\n",
    "sta0 = init_query('Ni_111_u2_RPBE_no006_CO_n3_d3.traj')\n",
    "sta1 = query('Ni_111_u2_RPBE_no006_CO_n3_d3.traj')"
   ]
  },
  {
   "cell_type": "code",
   "execution_count": 32,
   "metadata": {},
   "outputs": [
    {
     "data": {
      "text/plain": [
       "array([[-1.25352654,  3.61861942, 19.24950227],\n",
       "       [ 3.76057962,  0.72372388, 19.24950227],\n",
       "       [ 1.25352654,  2.17117165, 19.24950227]])"
      ]
     },
     "execution_count": 32,
     "metadata": {},
     "output_type": "execute_result"
    }
   ],
   "source": [
    "remove_adsorbate(sta0, 'C')[1]"
   ]
  },
  {
   "cell_type": "code",
   "execution_count": 50,
   "metadata": {},
   "outputs": [],
   "source": [
    "def check_if_moved(name):\n",
    "    ini = init_query(name+'.traj')\n",
    "    baresurface, inipos = remove_adsorbate(ini, 'C')\n",
    "    struct = AseAtomsAdaptor.get_structure(baresurface)\n",
    "    frinisites = struct.lattice.get_fractional_coords(inipos)\n",
    "    modfrinisites = adjust_possitions(frinisites)\n",
    "    print(modfrinisites)\n",
    "\n",
    "    fin = query(name+'.traj')\n",
    "    baresurface, inipos = remove_adsorbate(ini, 'C')\n",
    "    struct = AseAtomsAdaptor.get_structure(baresurface)\n",
    "    frinisites = struct.lattice.get_fractional_coords(inipos)\n",
    "    modfrinisites = adjust_possitions(frinisites)\n",
    "    print(modfrinisites)\n",
    "    \n",
    "    for ipos in inipos:\n",
    "        for fpos in finpos:\n",
    "            print(np.linalg.norm(ipos-fpos))"
   ]
  },
  {
   "cell_type": "code",
   "execution_count": 51,
   "metadata": {},
   "outputs": [
    {
     "name": "stdout",
     "output_type": "stream",
     "text": [
      "[[0.167, 0.833, 0.6269174323112545], [0.833, 0.167, 0.6269174323112545], [0.5, 0.5, 0.6269174323112545]]\n",
      "0.4588417910342685\n",
      "5.8082500903192855\n",
      "2.895965837861461\n",
      "5.807955884004383\n",
      "0.4623992157189225\n",
      "2.89590943998847\n",
      "2.931044777462793\n",
      "2.9316157474705538\n",
      "0.07768286142436394\n"
     ]
    }
   ],
   "source": [
    "check_if_moved('Ni_111_u2_RPBE_no006_CO_n3_d3')"
   ]
  },
  {
   "cell_type": "code",
   "execution_count": null,
   "metadata": {},
   "outputs": [],
   "source": []
  }
 ],
 "metadata": {
  "kernelspec": {
   "display_name": "Python 3",
   "language": "python",
   "name": "python3"
  },
  "language_info": {
   "codemirror_mode": {
    "name": "ipython",
    "version": 3
   },
   "file_extension": ".py",
   "mimetype": "text/x-python",
   "name": "python",
   "nbconvert_exporter": "python",
   "pygments_lexer": "ipython3",
   "version": "3.6.9"
  }
 },
 "nbformat": 4,
 "nbformat_minor": 2
}
