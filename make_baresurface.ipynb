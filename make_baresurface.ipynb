{
 "cells": [
  {
   "cell_type": "code",
   "execution_count": 35,
   "metadata": {},
   "outputs": [],
   "source": [
    "from MAUtil import *\n",
    "from MAInit import *\n",
    "from MACalc import *\n",
    "from MAPost import *\n",
    "from GASpyfuncs import *"
   ]
  },
  {
   "cell_type": "code",
   "execution_count": 36,
   "metadata": {},
   "outputs": [],
   "source": [
    "mpid = 'mp-30'      # Cu\n",
    "# mpid = 'mp-81'      # Au\n",
    "# mpid = 'mp-124'     # Ag\n",
    "# mpid = 'mp-23'      # Ni\n",
    "# mpid = 'mp-2'       # Pd\n",
    "# mpid = 'mp-126'     # Pt\n",
    "# mpid = 'mp-79'      # Zn\n",
    "# mpid = 'mp-134'     # Al\n",
    "# mpid = 'mp-74'      # Rh\n",
    "# mpid = 'mp-33'      # Ru\n",
    "# mpid = 'mp-1941'    # NiGa\n",
    "# mpid = 'mp-1219908' # PdPt\n",
    "# mpid = 'mp-922'     # CoPt3"
   ]
  },
  {
   "cell_type": "code",
   "execution_count": 37,
   "metadata": {},
   "outputs": [],
   "source": [
    "xc = 'RPBE'\n",
    "formula = 'Cu'"
   ]
  },
  {
   "cell_type": "code",
   "execution_count": 4,
   "metadata": {},
   "outputs": [
    {
     "name": "stdout",
     "output_type": "stream",
     "text": [
      "Already in cifpath\n",
      "material: Cu\n",
      "crystal system: cubic\n",
      "                Step[ FC]     Time          Energy          fmax\n",
      "*Force-consistent energies used in optimization.\n",
      "BFGSLineSearch:    0[  0] 03:12:20        0.014604*       0.0000\n",
      "                Step[ FC]     Time          Energy          fmax\n",
      "*Force-consistent energies used in optimization.\n",
      "BFGSLineSearch:    0[  0] 03:12:20       -0.005225*       0.0000\n",
      "                Step[ FC]     Time          Energy          fmax\n",
      "*Force-consistent energies used in optimization.\n",
      "BFGSLineSearch:    0[  0] 03:12:20       -0.003779*       0.0000\n",
      "                Step[ FC]     Time          Energy          fmax\n",
      "*Force-consistent energies used in optimization.\n",
      "BFGSLineSearch:    0[  0] 03:12:20        0.016065*       0.0000\n",
      "                Step[ FC]     Time          Energy          fmax\n",
      "*Force-consistent energies used in optimization.\n",
      "BFGSLineSearch:    0[  0] 03:12:20        0.051805*       0.0000\n"
     ]
    }
   ],
   "source": [
    "get_equiblium_bulk(mpid, xc, 'local')"
   ]
  },
  {
   "cell_type": "code",
   "execution_count": 29,
   "metadata": {},
   "outputs": [],
   "source": [
    "file = formula + '_' + xc + '.traj'\n",
    "atoms = init_query(file)\n",
    "\n",
    "slab_generator_settings = {\n",
    "    'min_slab_size':7,\n",
    "    'min_vacuum_size':20,\n",
    "    'lll_reduce':False, # False\n",
    "    'center_slab':True, # False\n",
    "    'in_unit_planes':False, # False\n",
    "    'primitive':True, # True\n",
    "    'max_normal_search':None, # None\n",
    "    'reorient_lattice':True # True\n",
    "}\n",
    "\n",
    "face = [1,0,0]\n",
    "face = [2,1,1]"
   ]
  },
  {
   "cell_type": "code",
   "execution_count": 30,
   "metadata": {},
   "outputs": [],
   "source": [
    "slab = make_slabs_from_bulk_atoms(atoms, face, slab_generator_settings, get_slab_settings={})\n",
    "atoms = AseAtomsAdaptor.get_atoms(slab[0])"
   ]
  },
  {
   "cell_type": "code",
   "execution_count": 31,
   "metadata": {},
   "outputs": [],
   "source": [
    "repeat = 2\n",
    "if face == [2,1,1]:\n",
    "    rep = [2,1,1]\n",
    "else:\n",
    "    rep = [2,2,1]\n",
    "atoms = get_repeated_atoms(atoms, rep)\n",
    "atoms = set_tag(atoms, face)\n",
    "atoms.pbc = [True, True, False]\n",
    "view(atoms)"
   ]
  },
  {
   "cell_type": "code",
   "execution_count": 32,
   "metadata": {},
   "outputs": [],
   "source": [
    "slabname = formula + '_'+ str(face[0]) + str(face[1]) + str(face[2]) + '_u' + str(repeat) + '_' + xc + '.traj'\n",
    "trajpath = initpath + slabname\n",
    "atoms.write(trajpath)"
   ]
  },
  {
   "cell_type": "code",
   "execution_count": 33,
   "metadata": {},
   "outputs": [],
   "source": [
    "ads = make_adsorbed_surface(slabname[:-5],'CO_RPBE')"
   ]
  },
  {
   "cell_type": "code",
   "execution_count": 34,
   "metadata": {},
   "outputs": [
    {
     "name": "stdout",
     "output_type": "stream",
     "text": [
      "progress: 0/10, 0.00 min\n",
      "progress: 1/10, 0.01 min\n",
      "progress: 2/10, 0.01 min\n",
      "progress: 3/10, 0.02 min\n",
      "progress: 4/10, 0.03 min\n",
      "progress: 5/10, 0.03 min\n",
      "progress: 6/10, 0.04 min\n",
      "progress: 7/10, 0.04 min\n",
      "progress: 8/10, 0.04 min\n",
      "progress: 9/10, 0.05 min\n",
      "adsorbates : # of structures, {'1': 10, '2': 42, '3': 30, '4': 12}\n",
      "total structures: 94\n",
      "\n"
     ]
    }
   ],
   "source": [
    "ads.make_surface(4,2.5)"
   ]
  },
  {
   "cell_type": "code",
   "execution_count": 39,
   "metadata": {},
   "outputs": [
    {
     "name": "stdout",
     "output_type": "stream",
     "text": [
      "Already in cifpath\n",
      "material: Cu\n",
      "crystal system: cubic\n",
      "Error while calculating bulk energy!\n",
      "Error while calculating bulk energy!\n",
      "Error while calculating bulk energy!\n",
      "Error while calculating bulk energy!\n",
      "Error while calculating bulk energy!\n"
     ]
    },
    {
     "ename": "TypeError",
     "evalue": "expected non-empty vector for x",
     "output_type": "error",
     "traceback": [
      "\u001b[0;31m---------------------------------------------------------------------------\u001b[0m",
      "\u001b[0;31mTypeError\u001b[0m                                 Traceback (most recent call last)",
      "\u001b[0;32m<ipython-input-39-4c4a6c618aa9>\u001b[0m in \u001b[0;36m<module>\u001b[0;34m\u001b[0m\n\u001b[1;32m     19\u001b[0m \u001b[0;32mfor\u001b[0m \u001b[0mmpid\u001b[0m \u001b[0;32min\u001b[0m \u001b[0mmpids\u001b[0m\u001b[0;34m:\u001b[0m\u001b[0;34m\u001b[0m\u001b[0;34m\u001b[0m\u001b[0m\n\u001b[1;32m     20\u001b[0m     \u001b[0;32mfor\u001b[0m \u001b[0mxc\u001b[0m \u001b[0;32min\u001b[0m \u001b[0mxcs\u001b[0m\u001b[0;34m:\u001b[0m\u001b[0;34m\u001b[0m\u001b[0;34m\u001b[0m\u001b[0m\n\u001b[0;32m---> 21\u001b[0;31m         \u001b[0mget_equiblium_bulk\u001b[0m\u001b[0;34m(\u001b[0m\u001b[0mmpid\u001b[0m\u001b[0;34m,\u001b[0m \u001b[0mxc\u001b[0m\u001b[0;34m)\u001b[0m\u001b[0;34m\u001b[0m\u001b[0;34m\u001b[0m\u001b[0m\n\u001b[0m\u001b[1;32m     22\u001b[0m \u001b[0;34m\u001b[0m\u001b[0m\n\u001b[1;32m     23\u001b[0m \u001b[0mxcs\u001b[0m \u001b[0;34m=\u001b[0m \u001b[0;34m[\u001b[0m\u001b[0;34m'RPBE-D2'\u001b[0m\u001b[0;34m,\u001b[0m \u001b[0;34m'vdW-DF'\u001b[0m\u001b[0;34m,\u001b[0m \u001b[0;34m'optB88-vdW'\u001b[0m\u001b[0;34m,\u001b[0m \u001b[0;34m'vdW-DF2'\u001b[0m\u001b[0;34m,\u001b[0m \u001b[0;34m'BEEF-vdW'\u001b[0m\u001b[0;34m]\u001b[0m\u001b[0;34m\u001b[0m\u001b[0;34m\u001b[0m\u001b[0m\n",
      "\u001b[0;32m~/research/coverage-effect/modules/MACalc.py\u001b[0m in \u001b[0;36mget_equiblium_bulk\u001b[0;34m(mpid, xc, env)\u001b[0m\n\u001b[1;32m    256\u001b[0m \u001b[0;34m\u001b[0m\u001b[0m\n\u001b[1;32m    257\u001b[0m         \u001b[0meos\u001b[0m \u001b[0;34m=\u001b[0m \u001b[0mEquationOfState\u001b[0m\u001b[0;34m(\u001b[0m\u001b[0mvolumes\u001b[0m\u001b[0;34m,\u001b[0m \u001b[0menergies\u001b[0m\u001b[0;34m)\u001b[0m\u001b[0;34m\u001b[0m\u001b[0;34m\u001b[0m\u001b[0m\n\u001b[0;32m--> 258\u001b[0;31m         \u001b[0mv0\u001b[0m\u001b[0;34m,\u001b[0m \u001b[0me0\u001b[0m\u001b[0;34m,\u001b[0m \u001b[0mB\u001b[0m \u001b[0;34m=\u001b[0m \u001b[0meos\u001b[0m\u001b[0;34m.\u001b[0m\u001b[0mfit\u001b[0m\u001b[0;34m(\u001b[0m\u001b[0;34m)\u001b[0m\u001b[0;34m\u001b[0m\u001b[0;34m\u001b[0m\u001b[0m\n\u001b[0m\u001b[1;32m    259\u001b[0m         \u001b[0mratio\u001b[0m \u001b[0;34m=\u001b[0m \u001b[0;34m(\u001b[0m\u001b[0mv0\u001b[0m\u001b[0;34m/\u001b[0m\u001b[0mv\u001b[0m\u001b[0;34m)\u001b[0m\u001b[0;34m**\u001b[0m\u001b[0;34m(\u001b[0m\u001b[0;36m1\u001b[0m\u001b[0;34m/\u001b[0m\u001b[0;36m3\u001b[0m\u001b[0;34m)\u001b[0m\u001b[0;34m\u001b[0m\u001b[0;34m\u001b[0m\u001b[0m\n\u001b[1;32m    260\u001b[0m         \u001b[0mnewcell\u001b[0m \u001b[0;34m=\u001b[0m \u001b[0mcell\u001b[0m \u001b[0;34m*\u001b[0m \u001b[0mratio\u001b[0m\u001b[0;34m\u001b[0m\u001b[0;34m\u001b[0m\u001b[0m\n",
      "\u001b[0;32m~/.local/lib/python3.6/site-packages/ase/eos.py\u001b[0m in \u001b[0;36mfit\u001b[0;34m(self, warn)\u001b[0m\n\u001b[1;32m    226\u001b[0m \u001b[0;34m\u001b[0m\u001b[0m\n\u001b[1;32m    227\u001b[0m         \u001b[0;32mif\u001b[0m \u001b[0mself\u001b[0m\u001b[0;34m.\u001b[0m\u001b[0meos_string\u001b[0m \u001b[0;34m==\u001b[0m \u001b[0;34m'sj'\u001b[0m\u001b[0;34m:\u001b[0m\u001b[0;34m\u001b[0m\u001b[0;34m\u001b[0m\u001b[0m\n\u001b[0;32m--> 228\u001b[0;31m             \u001b[0;32mreturn\u001b[0m \u001b[0mself\u001b[0m\u001b[0;34m.\u001b[0m\u001b[0mfit_sjeos\u001b[0m\u001b[0;34m(\u001b[0m\u001b[0;34m)\u001b[0m\u001b[0;34m\u001b[0m\u001b[0;34m\u001b[0m\u001b[0m\n\u001b[0m\u001b[1;32m    229\u001b[0m \u001b[0;34m\u001b[0m\u001b[0m\n\u001b[1;32m    230\u001b[0m         \u001b[0mself\u001b[0m\u001b[0;34m.\u001b[0m\u001b[0mfunc\u001b[0m \u001b[0;34m=\u001b[0m \u001b[0mglobals\u001b[0m\u001b[0;34m(\u001b[0m\u001b[0;34m)\u001b[0m\u001b[0;34m[\u001b[0m\u001b[0mself\u001b[0m\u001b[0;34m.\u001b[0m\u001b[0meos_string\u001b[0m\u001b[0;34m]\u001b[0m\u001b[0;34m\u001b[0m\u001b[0;34m\u001b[0m\u001b[0m\n",
      "\u001b[0;32m~/.local/lib/python3.6/site-packages/ase/eos.py\u001b[0m in \u001b[0;36mfit_sjeos\u001b[0;34m(self)\u001b[0m\n\u001b[1;32m    333\u001b[0m         \"\"\"\n\u001b[1;32m    334\u001b[0m \u001b[0;34m\u001b[0m\u001b[0m\n\u001b[0;32m--> 335\u001b[0;31m         \u001b[0mfit0\u001b[0m \u001b[0;34m=\u001b[0m \u001b[0mnp\u001b[0m\u001b[0;34m.\u001b[0m\u001b[0mpoly1d\u001b[0m\u001b[0;34m(\u001b[0m\u001b[0mnp\u001b[0m\u001b[0;34m.\u001b[0m\u001b[0mpolyfit\u001b[0m\u001b[0;34m(\u001b[0m\u001b[0mself\u001b[0m\u001b[0;34m.\u001b[0m\u001b[0mv\u001b[0m\u001b[0;34m**\u001b[0m\u001b[0;34m-\u001b[0m\u001b[0;34m(\u001b[0m\u001b[0;36m1\u001b[0m \u001b[0;34m/\u001b[0m \u001b[0;36m3\u001b[0m\u001b[0;34m)\u001b[0m\u001b[0;34m,\u001b[0m \u001b[0mself\u001b[0m\u001b[0;34m.\u001b[0m\u001b[0me\u001b[0m\u001b[0;34m,\u001b[0m \u001b[0;36m3\u001b[0m\u001b[0;34m)\u001b[0m\u001b[0;34m)\u001b[0m\u001b[0;34m\u001b[0m\u001b[0;34m\u001b[0m\u001b[0m\n\u001b[0m\u001b[1;32m    336\u001b[0m         \u001b[0mfit1\u001b[0m \u001b[0;34m=\u001b[0m \u001b[0mnp\u001b[0m\u001b[0;34m.\u001b[0m\u001b[0mpolyder\u001b[0m\u001b[0;34m(\u001b[0m\u001b[0mfit0\u001b[0m\u001b[0;34m,\u001b[0m \u001b[0;36m1\u001b[0m\u001b[0;34m)\u001b[0m\u001b[0;34m\u001b[0m\u001b[0;34m\u001b[0m\u001b[0m\n\u001b[1;32m    337\u001b[0m         \u001b[0mfit2\u001b[0m \u001b[0;34m=\u001b[0m \u001b[0mnp\u001b[0m\u001b[0;34m.\u001b[0m\u001b[0mpolyder\u001b[0m\u001b[0;34m(\u001b[0m\u001b[0mfit1\u001b[0m\u001b[0;34m,\u001b[0m \u001b[0;36m1\u001b[0m\u001b[0;34m)\u001b[0m\u001b[0;34m\u001b[0m\u001b[0;34m\u001b[0m\u001b[0m\n",
      "\u001b[0;32m<__array_function__ internals>\u001b[0m in \u001b[0;36mpolyfit\u001b[0;34m(*args, **kwargs)\u001b[0m\n",
      "\u001b[0;32m~/.local/lib/python3.6/site-packages/numpy/lib/polynomial.py\u001b[0m in \u001b[0;36mpolyfit\u001b[0;34m(x, y, deg, rcond, full, w, cov)\u001b[0m\n\u001b[1;32m    599\u001b[0m         \u001b[0;32mraise\u001b[0m \u001b[0mTypeError\u001b[0m\u001b[0;34m(\u001b[0m\u001b[0;34m\"expected 1D vector for x\"\u001b[0m\u001b[0;34m)\u001b[0m\u001b[0;34m\u001b[0m\u001b[0;34m\u001b[0m\u001b[0m\n\u001b[1;32m    600\u001b[0m     \u001b[0;32mif\u001b[0m \u001b[0mx\u001b[0m\u001b[0;34m.\u001b[0m\u001b[0msize\u001b[0m \u001b[0;34m==\u001b[0m \u001b[0;36m0\u001b[0m\u001b[0;34m:\u001b[0m\u001b[0;34m\u001b[0m\u001b[0;34m\u001b[0m\u001b[0m\n\u001b[0;32m--> 601\u001b[0;31m         \u001b[0;32mraise\u001b[0m \u001b[0mTypeError\u001b[0m\u001b[0;34m(\u001b[0m\u001b[0;34m\"expected non-empty vector for x\"\u001b[0m\u001b[0;34m)\u001b[0m\u001b[0;34m\u001b[0m\u001b[0;34m\u001b[0m\u001b[0m\n\u001b[0m\u001b[1;32m    602\u001b[0m     \u001b[0;32mif\u001b[0m \u001b[0my\u001b[0m\u001b[0;34m.\u001b[0m\u001b[0mndim\u001b[0m \u001b[0;34m<\u001b[0m \u001b[0;36m1\u001b[0m \u001b[0;32mor\u001b[0m \u001b[0my\u001b[0m\u001b[0;34m.\u001b[0m\u001b[0mndim\u001b[0m \u001b[0;34m>\u001b[0m \u001b[0;36m2\u001b[0m\u001b[0;34m:\u001b[0m\u001b[0;34m\u001b[0m\u001b[0;34m\u001b[0m\u001b[0m\n\u001b[1;32m    603\u001b[0m         \u001b[0;32mraise\u001b[0m \u001b[0mTypeError\u001b[0m\u001b[0;34m(\u001b[0m\u001b[0;34m\"expected 1D or 2D array for y\"\u001b[0m\u001b[0;34m)\u001b[0m\u001b[0;34m\u001b[0m\u001b[0;34m\u001b[0m\u001b[0m\n",
      "\u001b[0;31mTypeError\u001b[0m: expected non-empty vector for x"
     ]
    }
   ],
   "source": [
    "from MACalc import *\n",
    "\n",
    "mpids = ['mp-30', # Cu\n",
    "         'mp-81', # Au\n",
    "         'mp-124', # Ag\n",
    "         'mp-23', # Ni\n",
    "         'mp-2', # Pd\n",
    "         'mp-126', # Pt\n",
    "         'mp-79', # Zn\n",
    "         'mp-134', # Al\n",
    "         'mp-74', # Rh\n",
    "         'mp-33', # Ru\n",
    "         'mp-1941', # NiGa\n",
    "         'mp-1219908', # PdPt\n",
    "         'mp-922', # CoPt3\n",
    "         ]\n",
    "\n",
    "xcs = ['RPBE']\n",
    "for mpid in mpids:\n",
    "    for xc in xcs:\n",
    "        get_equiblium_bulk(mpid, xc)\n",
    "\n",
    "xcs = ['RPBE-D2', 'vdW-DF', 'optB88-vdW', 'vdW-DF2', 'BEEF-vdW']\n",
    "for mpid in mpids:\n",
    "    for xc in xcs:\n",
    "        get_equiblium_bulk(mpid, xc)"
   ]
  },
  {
   "cell_type": "code",
   "execution_count": null,
   "metadata": {},
   "outputs": [],
   "source": []
  }
 ],
 "metadata": {
  "kernelspec": {
   "display_name": "Python 3",
   "language": "python",
   "name": "python3"
  },
  "language_info": {
   "codemirror_mode": {
    "name": "ipython",
    "version": 3
   },
   "file_extension": ".py",
   "mimetype": "text/x-python",
   "name": "python",
   "nbconvert_exporter": "python",
   "pygments_lexer": "ipython3",
   "version": "3.6.9"
  }
 },
 "nbformat": 4,
 "nbformat_minor": 4
}
