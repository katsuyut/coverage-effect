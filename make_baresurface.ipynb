{
 "cells": [
  {
   "cell_type": "code",
   "execution_count": 5,
   "metadata": {},
   "outputs": [],
   "source": [
    "from MAUtil import *\n",
    "from MAInit import *\n",
    "from MACalc import *\n",
    "from MAPost import *\n",
    "from GASpyfuncs import *"
   ]
  },
  {
   "cell_type": "code",
   "execution_count": 6,
   "metadata": {},
   "outputs": [],
   "source": [
    "mpid = 'mp-30'      # Cu fcc\n",
    "mpid = 'mp-81'      # Au fcc\n",
    "mpid = 'mp-124'     # Ag fcc\n",
    "mpid = 'mp-23'      # Ni fcc\n",
    "mpid = 'mp-2'       # Pd fcc\n",
    "mpid = 'mp-126'     # Pt fcc\n",
    "mpid = 'mp-74'      # Rh fcc\n",
    "mpid = 'mp-134'     # Al fcc\n",
    "# mpid = 'mp-79'      # Zn hcp\n",
    "# mpid = 'mp-33'      # Ru hcp\n",
    "mpid = 'mp-1941'    # NiGa\n",
    "mpid = 'mp-1219908' # PdPt\n",
    "mpid = 'mp-922'     # CoPt3"
   ]
  },
  {
   "cell_type": "code",
   "execution_count": 7,
   "metadata": {},
   "outputs": [],
   "source": [
    "xc = 'RPBE'\n",
    "formula = 'Cu'"
   ]
  },
  {
   "cell_type": "code",
   "execution_count": 8,
   "metadata": {},
   "outputs": [
    {
     "name": "stdout",
     "output_type": "stream",
     "text": [
      "No file named CO_RPBE.traj in database\n"
     ]
    },
    {
     "ename": "AttributeError",
     "evalue": "'NoneType' object has no attribute 'symbols'",
     "output_type": "error",
     "traceback": [
      "\u001b[0;31m---------------------------------------------------------------------------\u001b[0m",
      "\u001b[0;31mAttributeError\u001b[0m                            Traceback (most recent call last)",
      "\u001b[0;32m<ipython-input-8-28898abe6dab>\u001b[0m in \u001b[0;36m<module>\u001b[0;34m\u001b[0m\n\u001b[1;32m     36\u001b[0m \u001b[0;34m\u001b[0m\u001b[0m\n\u001b[1;32m     37\u001b[0m     \u001b[0mads\u001b[0m \u001b[0;34m=\u001b[0m \u001b[0mmake_adsorbed_surface\u001b[0m\u001b[0;34m(\u001b[0m\u001b[0mslabname\u001b[0m\u001b[0;34m[\u001b[0m\u001b[0;34m:\u001b[0m\u001b[0;34m-\u001b[0m\u001b[0;36m5\u001b[0m\u001b[0;34m]\u001b[0m\u001b[0;34m,\u001b[0m\u001b[0;34m'CO_RPBE'\u001b[0m\u001b[0;34m)\u001b[0m\u001b[0;34m\u001b[0m\u001b[0;34m\u001b[0m\u001b[0m\n\u001b[0;32m---> 38\u001b[0;31m     \u001b[0mads\u001b[0m\u001b[0;34m.\u001b[0m\u001b[0mmake_surface\u001b[0m\u001b[0;34m(\u001b[0m\u001b[0;36m1\u001b[0m\u001b[0;34m,\u001b[0m\u001b[0;36m2.5\u001b[0m\u001b[0;34m)\u001b[0m\u001b[0;34m\u001b[0m\u001b[0;34m\u001b[0m\u001b[0m\n\u001b[0m\u001b[1;32m     39\u001b[0m     \u001b[0mads\u001b[0m\u001b[0;34m.\u001b[0m\u001b[0mwrite_trajectory\u001b[0m\u001b[0;34m(\u001b[0m\u001b[0;34m)\u001b[0m\u001b[0;34m\u001b[0m\u001b[0;34m\u001b[0m\u001b[0m\n",
      "\u001b[0;32m~/research/coverage-effect/modules/MAInit.py\u001b[0m in \u001b[0;36mmake_surface\u001b[0;34m(self, maxmole, mindist, get_only_stable)\u001b[0m\n\u001b[1;32m    223\u001b[0m         \u001b[0mself\u001b[0m\u001b[0;34m.\u001b[0m\u001b[0mmaxmole\u001b[0m \u001b[0;34m=\u001b[0m \u001b[0mmaxmole\u001b[0m\u001b[0;34m\u001b[0m\u001b[0;34m\u001b[0m\u001b[0m\n\u001b[1;32m    224\u001b[0m         \u001b[0mself\u001b[0m\u001b[0;34m.\u001b[0m\u001b[0mget_only_stable\u001b[0m \u001b[0;34m=\u001b[0m \u001b[0mget_only_stable\u001b[0m\u001b[0;34m\u001b[0m\u001b[0;34m\u001b[0m\u001b[0m\n\u001b[0;32m--> 225\u001b[0;31m         \u001b[0madseles\u001b[0m \u001b[0;34m=\u001b[0m \u001b[0mget_all_elements\u001b[0m\u001b[0;34m(\u001b[0m\u001b[0mself\u001b[0m\u001b[0;34m.\u001b[0m\u001b[0madsorbate\u001b[0m\u001b[0;34m)\u001b[0m\u001b[0;34m\u001b[0m\u001b[0;34m\u001b[0m\u001b[0m\n\u001b[0m\u001b[1;32m    226\u001b[0m         \u001b[0mbaresurface\u001b[0m\u001b[0;34m,\u001b[0m \u001b[0minitadsites\u001b[0m \u001b[0;34m=\u001b[0m \u001b[0mremove_adsorbate\u001b[0m\u001b[0;34m(\u001b[0m\u001b[0mself\u001b[0m\u001b[0;34m.\u001b[0m\u001b[0minitatoms\u001b[0m\u001b[0;34m,\u001b[0m \u001b[0madseles\u001b[0m\u001b[0;34m)\u001b[0m\u001b[0;34m\u001b[0m\u001b[0;34m\u001b[0m\u001b[0m\n\u001b[1;32m    227\u001b[0m         \u001b[0mbareadsites\u001b[0m \u001b[0;34m=\u001b[0m \u001b[0mget_adsorption_sites\u001b[0m\u001b[0;34m(\u001b[0m\u001b[0mbaresurface\u001b[0m\u001b[0;34m,\u001b[0m \u001b[0;32mFalse\u001b[0m\u001b[0;34m)\u001b[0m\u001b[0;34m\u001b[0m\u001b[0;34m\u001b[0m\u001b[0m\n",
      "\u001b[0;32m~/research/coverage-effect/modules/MAInit.py\u001b[0m in \u001b[0;36mget_all_elements\u001b[0;34m(atoms)\u001b[0m\n\u001b[1;32m     29\u001b[0m     \u001b[0matoms\u001b[0m\u001b[0;34m\u001b[0m\u001b[0;34m\u001b[0m\u001b[0m\n\u001b[1;32m     30\u001b[0m     \u001b[0melements\u001b[0m \u001b[0;34m=\u001b[0m \u001b[0;34m[\u001b[0m\u001b[0;34m]\u001b[0m\u001b[0;34m\u001b[0m\u001b[0;34m\u001b[0m\u001b[0m\n\u001b[0;32m---> 31\u001b[0;31m     \u001b[0;32mfor\u001b[0m \u001b[0mele\u001b[0m \u001b[0;32min\u001b[0m \u001b[0matoms\u001b[0m\u001b[0;34m.\u001b[0m\u001b[0msymbols\u001b[0m\u001b[0;34m:\u001b[0m\u001b[0;34m\u001b[0m\u001b[0;34m\u001b[0m\u001b[0m\n\u001b[0m\u001b[1;32m     32\u001b[0m         \u001b[0melements\u001b[0m\u001b[0;34m.\u001b[0m\u001b[0mappend\u001b[0m\u001b[0;34m(\u001b[0m\u001b[0mele\u001b[0m\u001b[0;34m)\u001b[0m\u001b[0;34m\u001b[0m\u001b[0;34m\u001b[0m\u001b[0m\n\u001b[1;32m     33\u001b[0m \u001b[0;34m\u001b[0m\u001b[0m\n",
      "\u001b[0;31mAttributeError\u001b[0m: 'NoneType' object has no attribute 'symbols'"
     ]
    }
   ],
   "source": [
    "faces = [[1,0,0],[1,1,1],[1,1,0],[2,1,1]] # fcc\n",
    "# faces = [[1,1,0]] # GaNi\n",
    "# faces = [[1,0,0]] # CoPt3\n",
    "# faces = [[1,1,1]] # PdPt\n",
    "\n",
    "slab_generator_settings = {\n",
    "    'min_slab_size':2,\n",
    "    'min_vacuum_size':20,\n",
    "    'lll_reduce':False, # False\n",
    "    'center_slab':True, # False\n",
    "    'in_unit_planes':True, # False\n",
    "    'primitive':True, # True\n",
    "    'max_normal_search':10, # None\n",
    "    'reorient_lattice':True # True\n",
    "}\n",
    "\n",
    "for face in faces:\n",
    "    file = formula + '_' + xc + '.traj'\n",
    "    atoms = init_query(file)\n",
    "    \n",
    "    slab = make_slabs_from_bulk_atoms(atoms, face, slab_generator_settings, get_slab_settings={})\n",
    "    atoms = AseAtomsAdaptor.get_atoms(slab[0])\n",
    "\n",
    "    repeat = 2\n",
    "    if face == [2,1,1]:\n",
    "        rep = [2,1,1]\n",
    "    else:\n",
    "        rep = [2,2,1]\n",
    "    atoms = get_repeated_atoms(atoms, rep)\n",
    "    atoms = set_tag(atoms, face)\n",
    "    atoms.pbc = [True, True, False]\n",
    "    view(atoms)\n",
    "    slabname = formula + '_'+ str(face[0]) + str(face[1]) + str(face[2]) + '_u' + str(repeat) + '_' + xc + '.traj'\n",
    "    trajpath = initpath + slabname\n",
    "    atoms.write(trajpath)\n",
    "\n",
    "    ads = make_adsorbed_surface(slabname[:-5],'CO_RPBE')\n",
    "    ads.make_surface(1,2.5)\n",
    "    ads.write_trajectory()"
   ]
  },
  {
   "cell_type": "code",
   "execution_count": 83,
   "metadata": {},
   "outputs": [
    {
     "data": {
      "text/plain": [
       "Atoms(symbols='Ga2Ni2Ga2Ni2Ga2Ni2Ga2Ni2Ga2Ni2Ga2Ni2Ga2Ni2Ga2Ni2CO', pbc=[True, True, False], cell=[[5.888562143067362, 0.0, 3.6057043900438617e-16], [1.339193797633343e-15, 8.32768444560264, 5.099236050308237e-16], [0.0, 0.0, 49.96610667361585]], tags=...)"
      ]
     },
     "execution_count": 83,
     "metadata": {},
     "output_type": "execute_result"
    }
   ],
   "source": [
    "init_query('CoPt3_100_u2_no008_CO_n8_d3.traj.traj','local')"
   ]
  },
  {
   "cell_type": "code",
   "execution_count": 97,
   "metadata": {},
   "outputs": [
    {
     "data": {
      "text/plain": [
       "Atoms(symbols='CoPt3CoPt3CoPt3CoPt3CoPt3CoPt3CoPt3CoPt3COCOCOCOCOCOCOCO', pbc=[True, True, False], cell=[7.77207790834, 7.77207790834, 25.829058431255], tags=..., constraint=FixAtoms(indices=[0, 1, 2, 3, 8, 9, 10, 11, 16, 17, 18, 19, 24, 25, 26, 27]), calculator=SinglePointCalculator(...))"
      ]
     },
     "execution_count": 97,
     "metadata": {},
     "output_type": "execute_result"
    }
   ],
   "source": [
    "query('CoPt3_100_u2_no008_CO_n8_d3.traj','local')"
   ]
  },
  {
   "cell_type": "code",
   "execution_count": null,
   "metadata": {},
   "outputs": [],
   "source": []
  }
 ],
 "metadata": {
  "kernelspec": {
   "display_name": "Python 3",
   "language": "python",
   "name": "python3"
  },
  "language_info": {
   "codemirror_mode": {
    "name": "ipython",
    "version": 3
   },
   "file_extension": ".py",
   "mimetype": "text/x-python",
   "name": "python",
   "nbconvert_exporter": "python",
   "pygments_lexer": "ipython3",
   "version": "3.6.9"
  }
 },
 "nbformat": 4,
 "nbformat_minor": 4
}
