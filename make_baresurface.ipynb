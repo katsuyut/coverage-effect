{
 "cells": [
  {
   "cell_type": "code",
   "execution_count": 1,
   "metadata": {},
   "outputs": [],
   "source": [
    "from MAUtil import *\n",
    "from MAInit import *\n",
    "from MACalc import *\n",
    "from MAPost import *\n",
    "from GASpyfuncs import *"
   ]
  },
  {
   "cell_type": "code",
   "execution_count": 2,
   "metadata": {},
   "outputs": [],
   "source": [
    "mpid = 'mp-30'      # Cu fcc\n",
    "mpid = 'mp-81'      # Au fcc\n",
    "mpid = 'mp-124'     # Ag fcc\n",
    "mpid = 'mp-23'      # Ni fcc\n",
    "mpid = 'mp-2'       # Pd fcc\n",
    "mpid = 'mp-126'     # Pt fcc\n",
    "mpid = 'mp-74'      # Rh fcc\n",
    "mpid = 'mp-134'     # Al fcc\n",
    "# mpid = 'mp-79'      # Zn hcp\n",
    "# mpid = 'mp-33'      # Ru hcp\n",
    "mpid = 'mp-1941'    # NiGa\n",
    "mpid = 'mp-1219908' # PdPt\n",
    "mpid = 'mp-922'     # CoPt3"
   ]
  },
  {
   "cell_type": "code",
   "execution_count": 3,
   "metadata": {},
   "outputs": [],
   "source": [
    "xc = 'RPBE'\n",
    "formula = 'Cu'"
   ]
  },
  {
   "cell_type": "code",
   "execution_count": 4,
   "metadata": {},
   "outputs": [
    {
     "name": "stdout",
     "output_type": "stream",
     "text": [
      "No file named Cu_RPBE.traj in init\n"
     ]
    },
    {
     "ename": "AttributeError",
     "evalue": "'NoneType' object has no attribute 'get_chemical_symbols'",
     "output_type": "error",
     "traceback": [
      "\u001b[0;31m---------------------------------------------------------------------------\u001b[0m",
      "\u001b[0;31mAttributeError\u001b[0m                            Traceback (most recent call last)",
      "\u001b[0;32m<ipython-input-4-28898abe6dab>\u001b[0m in \u001b[0;36m<module>\u001b[0;34m\u001b[0m\n\u001b[1;32m     19\u001b[0m     \u001b[0matoms\u001b[0m \u001b[0;34m=\u001b[0m \u001b[0minit_query\u001b[0m\u001b[0;34m(\u001b[0m\u001b[0mfile\u001b[0m\u001b[0;34m)\u001b[0m\u001b[0;34m\u001b[0m\u001b[0;34m\u001b[0m\u001b[0m\n\u001b[1;32m     20\u001b[0m \u001b[0;34m\u001b[0m\u001b[0m\n\u001b[0;32m---> 21\u001b[0;31m     \u001b[0mslab\u001b[0m \u001b[0;34m=\u001b[0m \u001b[0mmake_slabs_from_bulk_atoms\u001b[0m\u001b[0;34m(\u001b[0m\u001b[0matoms\u001b[0m\u001b[0;34m,\u001b[0m \u001b[0mface\u001b[0m\u001b[0;34m,\u001b[0m \u001b[0mslab_generator_settings\u001b[0m\u001b[0;34m,\u001b[0m \u001b[0mget_slab_settings\u001b[0m\u001b[0;34m=\u001b[0m\u001b[0;34m{\u001b[0m\u001b[0;34m}\u001b[0m\u001b[0;34m)\u001b[0m\u001b[0;34m\u001b[0m\u001b[0;34m\u001b[0m\u001b[0m\n\u001b[0m\u001b[1;32m     22\u001b[0m     \u001b[0matoms\u001b[0m \u001b[0;34m=\u001b[0m \u001b[0mAseAtomsAdaptor\u001b[0m\u001b[0;34m.\u001b[0m\u001b[0mget_atoms\u001b[0m\u001b[0;34m(\u001b[0m\u001b[0mslab\u001b[0m\u001b[0;34m[\u001b[0m\u001b[0;36m0\u001b[0m\u001b[0;34m]\u001b[0m\u001b[0;34m)\u001b[0m\u001b[0;34m\u001b[0m\u001b[0;34m\u001b[0m\u001b[0m\n\u001b[1;32m     23\u001b[0m \u001b[0;34m\u001b[0m\u001b[0m\n",
      "\u001b[0;32m~/research/coverage-effect/modules/GASpyfuncs.py\u001b[0m in \u001b[0;36mmake_slabs_from_bulk_atoms\u001b[0;34m(atoms, miller_indices, slab_generator_settings, get_slab_settings)\u001b[0m\n\u001b[1;32m     54\u001b[0m         \u001b[0;32mpass\u001b[0m\u001b[0;34m\u001b[0m\u001b[0;34m\u001b[0m\u001b[0m\n\u001b[1;32m     55\u001b[0m \u001b[0;34m\u001b[0m\u001b[0m\n\u001b[0;32m---> 56\u001b[0;31m     \u001b[0mstruct\u001b[0m \u001b[0;34m=\u001b[0m \u001b[0mAseAtomsAdaptor\u001b[0m\u001b[0;34m.\u001b[0m\u001b[0mget_structure\u001b[0m\u001b[0;34m(\u001b[0m\u001b[0matoms\u001b[0m\u001b[0;34m)\u001b[0m\u001b[0;34m\u001b[0m\u001b[0;34m\u001b[0m\u001b[0m\n\u001b[0m\u001b[1;32m     57\u001b[0m     \u001b[0msga\u001b[0m \u001b[0;34m=\u001b[0m \u001b[0mSpacegroupAnalyzer\u001b[0m\u001b[0;34m(\u001b[0m\u001b[0mstruct\u001b[0m\u001b[0;34m,\u001b[0m \u001b[0msymprec\u001b[0m\u001b[0;34m=\u001b[0m\u001b[0;36m0.1\u001b[0m\u001b[0;34m)\u001b[0m\u001b[0;34m\u001b[0m\u001b[0;34m\u001b[0m\u001b[0m\n\u001b[1;32m     58\u001b[0m     \u001b[0mstruct_stdrd\u001b[0m \u001b[0;34m=\u001b[0m \u001b[0msga\u001b[0m\u001b[0;34m.\u001b[0m\u001b[0mget_conventional_standard_structure\u001b[0m\u001b[0;34m(\u001b[0m\u001b[0;34m)\u001b[0m\u001b[0;34m\u001b[0m\u001b[0;34m\u001b[0m\u001b[0m\n",
      "\u001b[0;32m~/.local/lib/python3.6/site-packages/pymatgen/io/ase.py\u001b[0m in \u001b[0;36mget_structure\u001b[0;34m(atoms, cls)\u001b[0m\n\u001b[1;32m     69\u001b[0m             \u001b[0mEquivalent\u001b[0m \u001b[0mpymatgen\u001b[0m\u001b[0;34m.\u001b[0m\u001b[0mcore\u001b[0m\u001b[0;34m.\u001b[0m\u001b[0mstructure\u001b[0m\u001b[0;34m.\u001b[0m\u001b[0mStructure\u001b[0m\u001b[0;34m\u001b[0m\u001b[0;34m\u001b[0m\u001b[0m\n\u001b[1;32m     70\u001b[0m         \"\"\"\n\u001b[0;32m---> 71\u001b[0;31m         \u001b[0msymbols\u001b[0m \u001b[0;34m=\u001b[0m \u001b[0matoms\u001b[0m\u001b[0;34m.\u001b[0m\u001b[0mget_chemical_symbols\u001b[0m\u001b[0;34m(\u001b[0m\u001b[0;34m)\u001b[0m\u001b[0;34m\u001b[0m\u001b[0;34m\u001b[0m\u001b[0m\n\u001b[0m\u001b[1;32m     72\u001b[0m         \u001b[0mpositions\u001b[0m \u001b[0;34m=\u001b[0m \u001b[0matoms\u001b[0m\u001b[0;34m.\u001b[0m\u001b[0mget_positions\u001b[0m\u001b[0;34m(\u001b[0m\u001b[0;34m)\u001b[0m\u001b[0;34m\u001b[0m\u001b[0;34m\u001b[0m\u001b[0m\n\u001b[1;32m     73\u001b[0m         \u001b[0mlattice\u001b[0m \u001b[0;34m=\u001b[0m \u001b[0matoms\u001b[0m\u001b[0;34m.\u001b[0m\u001b[0mget_cell\u001b[0m\u001b[0;34m(\u001b[0m\u001b[0;34m)\u001b[0m\u001b[0;34m\u001b[0m\u001b[0;34m\u001b[0m\u001b[0m\n",
      "\u001b[0;31mAttributeError\u001b[0m: 'NoneType' object has no attribute 'get_chemical_symbols'"
     ]
    }
   ],
   "source": [
    "faces = [[1,0,0],[1,1,1],[1,1,0],[2,1,1]] # fcc\n",
    "# faces = [[1,1,0]] # GaNi\n",
    "# faces = [[1,0,0]] # CoPt3\n",
    "# faces = [[1,1,1]] # PdPt\n",
    "\n",
    "slab_generator_settings = {\n",
    "    'min_slab_size':2,\n",
    "    'min_vacuum_size':20,\n",
    "    'lll_reduce':False, # False\n",
    "    'center_slab':True, # False\n",
    "    'in_unit_planes':True, # False\n",
    "    'primitive':True, # True\n",
    "    'max_normal_search':10, # None\n",
    "    'reorient_lattice':True # True\n",
    "}\n",
    "\n",
    "for face in faces:\n",
    "    file = formula + '_' + xc + '.traj'\n",
    "    atoms = init_query(file)\n",
    "    \n",
    "    slab = make_slabs_from_bulk_atoms(atoms, face, slab_generator_settings, get_slab_settings={})\n",
    "    atoms = AseAtomsAdaptor.get_atoms(slab[0])\n",
    "\n",
    "    repeat = 2\n",
    "    if face == [2,1,1]:\n",
    "        rep = [2,1,1]\n",
    "    else:\n",
    "        rep = [2,2,1]\n",
    "    atoms = get_repeated_atoms(atoms, rep)\n",
    "    atoms = set_tag(atoms, face)\n",
    "    atoms.pbc = [True, True, False]\n",
    "    view(atoms)\n",
    "    slabname = formula + '_'+ str(face[0]) + str(face[1]) + str(face[2]) + '_u' + str(repeat) + '_' + xc + '.traj'\n",
    "    trajpath = initpath + slabname\n",
    "    atoms.write(trajpath)\n",
    "\n",
    "    ads = make_adsorbed_surface(slabname[:-5],'CO_RPBE')\n",
    "    ads.make_surface(1,2.5)\n",
    "    ads.write_trajectory()"
   ]
  },
  {
   "cell_type": "code",
   "execution_count": 83,
   "metadata": {},
   "outputs": [
    {
     "data": {
      "text/plain": [
       "Atoms(symbols='Ga2Ni2Ga2Ni2Ga2Ni2Ga2Ni2Ga2Ni2Ga2Ni2Ga2Ni2Ga2Ni2CO', pbc=[True, True, False], cell=[[5.888562143067362, 0.0, 3.6057043900438617e-16], [1.339193797633343e-15, 8.32768444560264, 5.099236050308237e-16], [0.0, 0.0, 49.96610667361585]], tags=...)"
      ]
     },
     "execution_count": 83,
     "metadata": {},
     "output_type": "execute_result"
    }
   ],
   "source": [
    "init_query('CoPt3_100_u2_no008_CO_n8_d3.traj.traj','local')"
   ]
  },
  {
   "cell_type": "code",
   "execution_count": 97,
   "metadata": {},
   "outputs": [
    {
     "data": {
      "text/plain": [
       "Atoms(symbols='CoPt3CoPt3CoPt3CoPt3CoPt3CoPt3CoPt3CoPt3COCOCOCOCOCOCOCO', pbc=[True, True, False], cell=[7.77207790834, 7.77207790834, 25.829058431255], tags=..., constraint=FixAtoms(indices=[0, 1, 2, 3, 8, 9, 10, 11, 16, 17, 18, 19, 24, 25, 26, 27]), calculator=SinglePointCalculator(...))"
      ]
     },
     "execution_count": 97,
     "metadata": {},
     "output_type": "execute_result"
    }
   ],
   "source": [
    "query('CoPt3_100_u2_no008_CO_n8_d3.traj','local')"
   ]
  },
  {
   "cell_type": "code",
   "execution_count": null,
   "metadata": {},
   "outputs": [],
   "source": []
  }
 ],
 "metadata": {
  "kernelspec": {
   "display_name": "Python 3",
   "language": "python",
   "name": "python3"
  },
  "language_info": {
   "codemirror_mode": {
    "name": "ipython",
    "version": 3
   },
   "file_extension": ".py",
   "mimetype": "text/x-python",
   "name": "python",
   "nbconvert_exporter": "python",
   "pygments_lexer": "ipython3",
   "version": "3.6.9"
  }
 },
 "nbformat": 4,
 "nbformat_minor": 4
}
