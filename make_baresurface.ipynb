{
 "cells": [
  {
   "cell_type": "code",
   "execution_count": 6,
   "metadata": {},
   "outputs": [],
   "source": [
    "from MAUtil import *\n",
    "from MAInit import *\n",
    "from GASpyfuncs import *"
   ]
  },
  {
   "cell_type": "code",
   "execution_count": 7,
   "metadata": {},
   "outputs": [],
   "source": [
    "id = 'mp-1219908'\n",
    "id = 'mp-922'"
   ]
  },
  {
   "cell_type": "code",
   "execution_count": 8,
   "metadata": {},
   "outputs": [
    {
     "name": "stdout",
     "output_type": "stream",
     "text": [
      "material: CoPt3\n",
      "Already in cifpath\n"
     ]
    }
   ],
   "source": [
    "atoms = request_cif_to_materials_project(id)"
   ]
  },
  {
   "cell_type": "code",
   "execution_count": 9,
   "metadata": {},
   "outputs": [],
   "source": [
    "slab_generator_settings = {\n",
    "    'min_slab_size':4,\n",
    "    'min_vacuum_size':20,\n",
    "    'lll_reduce':False,\n",
    "    'center_slab':True, # False\n",
    "    'in_unit_planes':False,\n",
    "    'primitive':True,\n",
    "    'max_normal_search':None,\n",
    "    'reorient_lattice':True\n",
    "}\n",
    "\n",
    "face = [1,0,0]"
   ]
  },
  {
   "cell_type": "code",
   "execution_count": 10,
   "metadata": {},
   "outputs": [],
   "source": [
    "slab = make_slabs_from_bulk_atoms(atoms, face, slab_generator_settings, get_slab_settings={})\n",
    "newatoms = AseAtomsAdaptor.get_atoms(slab[0])"
   ]
  },
  {
   "cell_type": "code",
   "execution_count": null,
   "metadata": {},
   "outputs": [],
   "source": []
  },
  {
   "cell_type": "code",
   "execution_count": null,
   "metadata": {},
   "outputs": [],
   "source": []
  }
 ],
 "metadata": {
  "kernelspec": {
   "display_name": "Python 3",
   "language": "python",
   "name": "python3"
  },
  "language_info": {
   "codemirror_mode": {
    "name": "ipython",
    "version": 3
   },
   "file_extension": ".py",
   "mimetype": "text/x-python",
   "name": "python",
   "nbconvert_exporter": "python",
   "pygments_lexer": "ipython3",
   "version": "3.6.9"
  }
 },
 "nbformat": 4,
 "nbformat_minor": 4
}
