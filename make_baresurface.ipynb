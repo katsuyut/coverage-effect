{
 "cells": [
  {
   "cell_type": "code",
   "execution_count": 1,
   "metadata": {},
   "outputs": [],
   "source": [
    "from MAUtil import *\n",
    "from MAInit import *\n",
    "from MACalc import *\n",
    "from MAPost import *\n",
    "from GASpyfuncs import *"
   ]
  },
  {
   "cell_type": "code",
   "execution_count": 2,
   "metadata": {},
   "outputs": [],
   "source": [
    "mpid = 'mp-30'      # Cu fcc\n",
    "mpid = 'mp-81'      # Au fcc\n",
    "mpid = 'mp-124'     # Ag fcc\n",
    "mpid = 'mp-23'      # Ni fcc\n",
    "mpid = 'mp-2'       # Pd fcc\n",
    "mpid = 'mp-126'     # Pt fcc\n",
    "mpid = 'mp-74'      # Rh fcc\n",
    "mpid = 'mp-134'     # Al fcc\n",
    "# mpid = 'mp-79'      # Zn hcp\n",
    "# mpid = 'mp-33'      # Ru hcp\n",
    "mpid = 'mp-1941'    # NiGa\n",
    "mpid = 'mp-1219908' # PdPt\n",
    "mpid = 'mp-922'     # CoPt3"
   ]
  },
  {
   "cell_type": "code",
   "execution_count": 104,
   "metadata": {},
   "outputs": [],
   "source": [
    "xc = 'RPBE'\n",
    "formula = 'PdPt'"
   ]
  },
  {
   "cell_type": "code",
   "execution_count": 106,
   "metadata": {},
   "outputs": [
    {
     "ename": "KeyboardInterrupt",
     "evalue": "",
     "output_type": "error",
     "traceback": [
      "\u001b[0;31m---------------------------------------------------------------------------\u001b[0m",
      "\u001b[0;31mKeyboardInterrupt\u001b[0m                         Traceback (most recent call last)",
      "\u001b[0;32m<ipython-input-106-abcf36d3f03f>\u001b[0m in \u001b[0;36m<module>\u001b[0;34m\u001b[0m\n\u001b[1;32m     36\u001b[0m \u001b[0;34m\u001b[0m\u001b[0m\n\u001b[1;32m     37\u001b[0m     \u001b[0mads\u001b[0m \u001b[0;34m=\u001b[0m \u001b[0mmake_adsorbed_surface\u001b[0m\u001b[0;34m(\u001b[0m\u001b[0mslabname\u001b[0m\u001b[0;34m[\u001b[0m\u001b[0;34m:\u001b[0m\u001b[0;34m-\u001b[0m\u001b[0;36m5\u001b[0m\u001b[0;34m]\u001b[0m\u001b[0;34m,\u001b[0m\u001b[0;34m'CO_RPBE'\u001b[0m\u001b[0;34m)\u001b[0m\u001b[0;34m\u001b[0m\u001b[0;34m\u001b[0m\u001b[0m\n\u001b[0;32m---> 38\u001b[0;31m     \u001b[0mads\u001b[0m\u001b[0;34m.\u001b[0m\u001b[0mmake_surface\u001b[0m\u001b[0;34m(\u001b[0m\u001b[0;36m1\u001b[0m\u001b[0;34m,\u001b[0m\u001b[0;36m2.5\u001b[0m\u001b[0;34m)\u001b[0m\u001b[0;34m\u001b[0m\u001b[0;34m\u001b[0m\u001b[0m\n\u001b[0m\u001b[1;32m     39\u001b[0m     \u001b[0mads\u001b[0m\u001b[0;34m.\u001b[0m\u001b[0mwrite_trajectory\u001b[0m\u001b[0;34m(\u001b[0m\u001b[0;34m)\u001b[0m\u001b[0;34m\u001b[0m\u001b[0;34m\u001b[0m\u001b[0m\n",
      "\u001b[0;32m~/research/coverage-effect/modules/MAInit.py\u001b[0m in \u001b[0;36mmake_surface\u001b[0;34m(self, maxmole, mindist, get_only_stable)\u001b[0m\n\u001b[1;32m    258\u001b[0m \u001b[0;34m\u001b[0m\u001b[0m\n\u001b[1;32m    259\u001b[0m         \u001b[0mallatoms\u001b[0m\u001b[0;34m,\u001b[0m \u001b[0mmindistlis\u001b[0m\u001b[0;34m,\u001b[0m \u001b[0mnumdict\u001b[0m\u001b[0;34m,\u001b[0m \u001b[0mmolenum\u001b[0m\u001b[0;31m \u001b[0m\u001b[0;31m\\\u001b[0m\u001b[0;34m\u001b[0m\u001b[0;34m\u001b[0m\u001b[0m\n\u001b[0;32m--> 260\u001b[0;31m             \u001b[0;34m=\u001b[0m \u001b[0mself\u001b[0m\u001b[0;34m.\u001b[0m\u001b[0mget_unique_surface\u001b[0m\u001b[0;34m(\u001b[0m\u001b[0mself\u001b[0m\u001b[0;34m.\u001b[0m\u001b[0minitatoms\u001b[0m\u001b[0;34m,\u001b[0m \u001b[0mbaresurface\u001b[0m\u001b[0;34m,\u001b[0m \u001b[0madsites\u001b[0m\u001b[0;34m,\u001b[0m \u001b[0mmaxmole\u001b[0m\u001b[0;34m,\u001b[0m \u001b[0mmindist\u001b[0m\u001b[0;34m,\u001b[0m \u001b[0minitadsites\u001b[0m\u001b[0;34m,\u001b[0m \u001b[0mgroup\u001b[0m\u001b[0;34m,\u001b[0m \u001b[0mself\u001b[0m\u001b[0;34m.\u001b[0m\u001b[0madsorbate\u001b[0m\u001b[0;34m)\u001b[0m\u001b[0;34m\u001b[0m\u001b[0;34m\u001b[0m\u001b[0m\n\u001b[0m\u001b[1;32m    261\u001b[0m \u001b[0;34m\u001b[0m\u001b[0m\n\u001b[1;32m    262\u001b[0m         \u001b[0mself\u001b[0m\u001b[0;34m.\u001b[0m\u001b[0mallatoms\u001b[0m \u001b[0;34m=\u001b[0m \u001b[0mallatoms\u001b[0m\u001b[0;34m\u001b[0m\u001b[0;34m\u001b[0m\u001b[0m\n",
      "\u001b[0;32m~/research/coverage-effect/modules/MAInit.py\u001b[0m in \u001b[0;36mget_unique_surface\u001b[0;34m(self, atoms, bareatoms, adsites, maxmole, mindist, initadsites, group, adsorbate)\u001b[0m\n\u001b[1;32m    375\u001b[0m                                 \u001b[0musedadsites\u001b[0m\u001b[0;34m.\u001b[0m\u001b[0mappend\u001b[0m\u001b[0;34m(\u001b[0m\u001b[0mgroup\u001b[0m\u001b[0;34m[\u001b[0m\u001b[0mj\u001b[0m\u001b[0;34m]\u001b[0m\u001b[0;34m[\u001b[0m\u001b[0mk\u001b[0m\u001b[0;34m]\u001b[0m\u001b[0;34m)\u001b[0m\u001b[0;34m\u001b[0m\u001b[0;34m\u001b[0m\u001b[0m\n\u001b[1;32m    376\u001b[0m \u001b[0;34m\u001b[0m\u001b[0m\n\u001b[0;32m--> 377\u001b[0;31m         \u001b[0mredadsites_\u001b[0m \u001b[0;34m=\u001b[0m \u001b[0mget_adsorption_sites\u001b[0m\u001b[0;34m(\u001b[0m\u001b[0matoms\u001b[0m\u001b[0;34m,\u001b[0m \u001b[0;32mTrue\u001b[0m\u001b[0;34m)\u001b[0m\u001b[0;34m[\u001b[0m\u001b[0;34m'all'\u001b[0m\u001b[0;34m]\u001b[0m\u001b[0;34m\u001b[0m\u001b[0;34m\u001b[0m\u001b[0m\n\u001b[0m\u001b[1;32m    378\u001b[0m         \u001b[0mredadsites\u001b[0m \u001b[0;34m=\u001b[0m \u001b[0;34m[\u001b[0m\u001b[0mlist\u001b[0m\u001b[0;34m(\u001b[0m\u001b[0mi\u001b[0m\u001b[0;34m)\u001b[0m \u001b[0;32mfor\u001b[0m \u001b[0mi\u001b[0m \u001b[0;32min\u001b[0m \u001b[0mredadsites_\u001b[0m\u001b[0;34m]\u001b[0m\u001b[0;34m\u001b[0m\u001b[0;34m\u001b[0m\u001b[0m\n\u001b[1;32m    379\u001b[0m \u001b[0;34m\u001b[0m\u001b[0m\n",
      "\u001b[0;32m~/research/coverage-effect/modules/MAInit.py\u001b[0m in \u001b[0;36mget_adsorption_sites\u001b[0;34m(atoms, symm_reduce)\u001b[0m\n\u001b[1;32m     87\u001b[0m         \u001b[0mstruct\u001b[0m \u001b[0;34m=\u001b[0m \u001b[0mAseAtomsAdaptor\u001b[0m\u001b[0;34m.\u001b[0m\u001b[0mget_structure\u001b[0m\u001b[0;34m(\u001b[0m\u001b[0matoms\u001b[0m\u001b[0;34m)\u001b[0m\u001b[0;34m\u001b[0m\u001b[0;34m\u001b[0m\u001b[0m\n\u001b[1;32m     88\u001b[0m         sites_dict = AdsorbateSiteFinder(\n\u001b[0;32m---> 89\u001b[0;31m             struct).find_adsorption_sites(put_inside=True)\n\u001b[0m\u001b[1;32m     90\u001b[0m         \u001b[0;32mreturn\u001b[0m \u001b[0msites_dict\u001b[0m\u001b[0;34m\u001b[0m\u001b[0;34m\u001b[0m\u001b[0m\n\u001b[1;32m     91\u001b[0m \u001b[0;34m\u001b[0m\u001b[0m\n",
      "\u001b[0;32m~/.local/lib/python3.6/site-packages/pymatgen/analysis/adsorption.py\u001b[0m in \u001b[0;36mfind_adsorption_sites\u001b[0;34m(self, distance, put_inside, symm_reduce, near_reduce, positions, no_obtuse_hollow)\u001b[0m\n\u001b[1;32m    274\u001b[0m                         \u001b[0;32mif\u001b[0m \u001b[0;34m'bridge'\u001b[0m \u001b[0;32min\u001b[0m \u001b[0mpositions\u001b[0m\u001b[0;34m:\u001b[0m\u001b[0;34m\u001b[0m\u001b[0;34m\u001b[0m\u001b[0m\n\u001b[1;32m    275\u001b[0m                             ads_sites[\"bridge\"].append(\n\u001b[0;32m--> 276\u001b[0;31m                                 self.ensemble_center(mesh, opp))\n\u001b[0m\u001b[1;32m    277\u001b[0m                     \u001b[0;31m# Prevent addition of hollow sites in obtuse triangles\u001b[0m\u001b[0;34m\u001b[0m\u001b[0;34m\u001b[0m\u001b[0;34m\u001b[0m\u001b[0m\n\u001b[1;32m    278\u001b[0m                     \u001b[0mobtuse\u001b[0m \u001b[0;34m=\u001b[0m \u001b[0mno_obtuse_hollow\u001b[0m \u001b[0;32mand\u001b[0m \u001b[0;34m(\u001b[0m\u001b[0mnp\u001b[0m\u001b[0;34m.\u001b[0m\u001b[0marray\u001b[0m\u001b[0;34m(\u001b[0m\u001b[0mdots\u001b[0m\u001b[0;34m)\u001b[0m \u001b[0;34m<\u001b[0m \u001b[0;36m1e-5\u001b[0m\u001b[0;34m)\u001b[0m\u001b[0;34m.\u001b[0m\u001b[0many\u001b[0m\u001b[0;34m(\u001b[0m\u001b[0;34m)\u001b[0m\u001b[0;34m\u001b[0m\u001b[0;34m\u001b[0m\u001b[0m\n",
      "\u001b[0;32m~/.local/lib/python3.6/site-packages/pymatgen/analysis/adsorption.py\u001b[0m in \u001b[0;36mensemble_center\u001b[0;34m(self, site_list, indices, cartesian)\u001b[0m\n\u001b[1;32m    366\u001b[0m         \u001b[0;32mif\u001b[0m \u001b[0mcartesian\u001b[0m\u001b[0;34m:\u001b[0m\u001b[0;34m\u001b[0m\u001b[0;34m\u001b[0m\u001b[0m\n\u001b[1;32m    367\u001b[0m             return np.average([site_list[i].coords for i in indices],\n\u001b[0;32m--> 368\u001b[0;31m                               axis=0)\n\u001b[0m\u001b[1;32m    369\u001b[0m         \u001b[0;32melse\u001b[0m\u001b[0;34m:\u001b[0m\u001b[0;34m\u001b[0m\u001b[0;34m\u001b[0m\u001b[0m\n\u001b[1;32m    370\u001b[0m             return np.average([site_list[i].frac_coords for i in indices],\n",
      "\u001b[0;32m<__array_function__ internals>\u001b[0m in \u001b[0;36maverage\u001b[0;34m(*args, **kwargs)\u001b[0m\n",
      "\u001b[0;32m~/.local/lib/python3.6/site-packages/numpy/lib/function_base.py\u001b[0m in \u001b[0;36maverage\u001b[0;34m(a, axis, weights, returned)\u001b[0m\n\u001b[1;32m    388\u001b[0m     \u001b[0mcomplex256\u001b[0m\u001b[0;34m\u001b[0m\u001b[0;34m\u001b[0m\u001b[0m\n\u001b[1;32m    389\u001b[0m     \"\"\"\n\u001b[0;32m--> 390\u001b[0;31m     \u001b[0ma\u001b[0m \u001b[0;34m=\u001b[0m \u001b[0mnp\u001b[0m\u001b[0;34m.\u001b[0m\u001b[0masanyarray\u001b[0m\u001b[0;34m(\u001b[0m\u001b[0ma\u001b[0m\u001b[0;34m)\u001b[0m\u001b[0;34m\u001b[0m\u001b[0;34m\u001b[0m\u001b[0m\n\u001b[0m\u001b[1;32m    391\u001b[0m \u001b[0;34m\u001b[0m\u001b[0m\n\u001b[1;32m    392\u001b[0m     \u001b[0;32mif\u001b[0m \u001b[0mweights\u001b[0m \u001b[0;32mis\u001b[0m \u001b[0;32mNone\u001b[0m\u001b[0;34m:\u001b[0m\u001b[0;34m\u001b[0m\u001b[0;34m\u001b[0m\u001b[0m\n",
      "\u001b[0;32m~/.local/lib/python3.6/site-packages/numpy/core/_asarray.py\u001b[0m in \u001b[0;36masanyarray\u001b[0;34m(a, dtype, order)\u001b[0m\n\u001b[1;32m    136\u001b[0m \u001b[0;34m\u001b[0m\u001b[0m\n\u001b[1;32m    137\u001b[0m     \"\"\"\n\u001b[0;32m--> 138\u001b[0;31m     \u001b[0;32mreturn\u001b[0m \u001b[0marray\u001b[0m\u001b[0;34m(\u001b[0m\u001b[0ma\u001b[0m\u001b[0;34m,\u001b[0m \u001b[0mdtype\u001b[0m\u001b[0;34m,\u001b[0m \u001b[0mcopy\u001b[0m\u001b[0;34m=\u001b[0m\u001b[0;32mFalse\u001b[0m\u001b[0;34m,\u001b[0m \u001b[0morder\u001b[0m\u001b[0;34m=\u001b[0m\u001b[0morder\u001b[0m\u001b[0;34m,\u001b[0m \u001b[0msubok\u001b[0m\u001b[0;34m=\u001b[0m\u001b[0;32mTrue\u001b[0m\u001b[0;34m)\u001b[0m\u001b[0;34m\u001b[0m\u001b[0;34m\u001b[0m\u001b[0m\n\u001b[0m\u001b[1;32m    139\u001b[0m \u001b[0;34m\u001b[0m\u001b[0m\n\u001b[1;32m    140\u001b[0m \u001b[0;34m\u001b[0m\u001b[0m\n",
      "\u001b[0;31mKeyboardInterrupt\u001b[0m: "
     ]
    }
   ],
   "source": [
    "faces = [[1,0,0],[1,1,1],[1,1,0],[2,1,1]] # fcc\n",
    "# faces = [[1,1,0]] # GaNi\n",
    "faces = [[1,0,0]] # CoPt3\n",
    "faces = [[1,1,1]] # PdPt\n",
    "\n",
    "slab_generator_settings = {\n",
    "    'min_slab_size':2,\n",
    "    'min_vacuum_size':20,\n",
    "    'lll_reduce':False, # False\n",
    "    'center_slab':True, # False\n",
    "    'in_unit_planes':True, # False\n",
    "    'primitive':True, # True\n",
    "    'max_normal_search':10, # None\n",
    "    'reorient_lattice':True # True\n",
    "}\n",
    "\n",
    "for face in faces:\n",
    "    file = formula + '_' + xc + '.traj'\n",
    "    atoms = init_query(file)\n",
    "    \n",
    "    slab = make_slabs_from_bulk_atoms(atoms, face, slab_generator_settings, get_slab_settings={})\n",
    "    atoms = AseAtomsAdaptor.get_atoms(slab[0])\n",
    "\n",
    "    repeat = 2\n",
    "    if face == [2,1,1]:\n",
    "        rep = [2,1,1]\n",
    "    else:\n",
    "        rep = [2,2,1]\n",
    "    atoms = get_repeated_atoms(atoms, rep)\n",
    "    atoms = set_tag(atoms, face)\n",
    "    atoms.pbc = [True, True, False]\n",
    "    view(atoms)\n",
    "    slabname = formula + '_'+ str(face[0]) + str(face[1]) + str(face[2]) + '_u' + str(repeat) + '_' + xc + '.traj'\n",
    "    trajpath = initpath + slabname\n",
    "    atoms.write(trajpath)\n",
    "\n",
    "    ads = make_adsorbed_surface(slabname[:-5],'CO_RPBE')\n",
    "    ads.make_surface(1,2.5)\n",
    "    ads.write_trajectory()"
   ]
  },
  {
   "cell_type": "code",
   "execution_count": 83,
   "metadata": {},
   "outputs": [
    {
     "data": {
      "text/plain": [
       "Atoms(symbols='Ga2Ni2Ga2Ni2Ga2Ni2Ga2Ni2Ga2Ni2Ga2Ni2Ga2Ni2Ga2Ni2CO', pbc=[True, True, False], cell=[[5.888562143067362, 0.0, 3.6057043900438617e-16], [1.339193797633343e-15, 8.32768444560264, 5.099236050308237e-16], [0.0, 0.0, 49.96610667361585]], tags=...)"
      ]
     },
     "execution_count": 83,
     "metadata": {},
     "output_type": "execute_result"
    }
   ],
   "source": [
    "init_query('CoPt3_100_u2_no008_CO_n8_d3.traj.traj','local')"
   ]
  },
  {
   "cell_type": "code",
   "execution_count": 97,
   "metadata": {},
   "outputs": [
    {
     "data": {
      "text/plain": [
       "Atoms(symbols='CoPt3CoPt3CoPt3CoPt3CoPt3CoPt3CoPt3CoPt3COCOCOCOCOCOCOCO', pbc=[True, True, False], cell=[7.77207790834, 7.77207790834, 25.829058431255], tags=..., constraint=FixAtoms(indices=[0, 1, 2, 3, 8, 9, 10, 11, 16, 17, 18, 19, 24, 25, 26, 27]), calculator=SinglePointCalculator(...))"
      ]
     },
     "execution_count": 97,
     "metadata": {},
     "output_type": "execute_result"
    }
   ],
   "source": [
    "query('CoPt3_100_u2_no008_CO_n8_d3.traj','local')"
   ]
  },
  {
   "cell_type": "code",
   "execution_count": null,
   "metadata": {},
   "outputs": [],
   "source": []
  }
 ],
 "metadata": {
  "kernelspec": {
   "display_name": "Python 3",
   "language": "python",
   "name": "python3"
  },
  "language_info": {
   "codemirror_mode": {
    "name": "ipython",
    "version": 3
   },
   "file_extension": ".py",
   "mimetype": "text/x-python",
   "name": "python",
   "nbconvert_exporter": "python",
   "pygments_lexer": "ipython3",
   "version": "3.6.9"
  }
 },
 "nbformat": 4,
 "nbformat_minor": 4
}
