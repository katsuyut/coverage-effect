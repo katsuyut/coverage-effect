{
 "cells": [
  {
   "cell_type": "code",
   "execution_count": 1,
   "metadata": {},
   "outputs": [],
   "source": [
    "from MAUtil import *\n",
    "from MAInit import *\n",
    "from MACalc import *\n",
    "from MAPost import *\n",
    "from GASpyfuncs import *"
   ]
  },
  {
   "cell_type": "code",
   "execution_count": 2,
   "metadata": {},
   "outputs": [],
   "source": [
    "mpid = 'mp-30'      # Cu\n",
    "# mpid = 'mp-81'      # Au\n",
    "# mpid = 'mp-124'     # Ag\n",
    "# mpid = 'mp-23'      # Ni\n",
    "# mpid = 'mp-2'       # Pd\n",
    "# mpid = 'mp-126'     # Pt\n",
    "# mpid = 'mp-79'      # Zn\n",
    "# mpid = 'mp-134'     # Al\n",
    "# mpid = 'mp-74'      # Rh\n",
    "# mpid = 'mp-33'      # Ru\n",
    "# mpid = 'mp-1941'    # NiGa\n",
    "# mpid = 'mp-1219908' # PdPt\n",
    "# mpid = 'mp-922'     # CoPt3"
   ]
  },
  {
   "cell_type": "code",
   "execution_count": 3,
   "metadata": {},
   "outputs": [
    {
     "name": "stdout",
     "output_type": "stream",
     "text": [
      "Already in cifpath\n",
      "material: Cu\n",
      "crystal system: cubic\n"
     ]
    }
   ],
   "source": [
    "A = make_baresurface(mpid)"
   ]
  },
  {
   "cell_type": "code",
   "execution_count": 4,
   "metadata": {},
   "outputs": [
    {
     "ename": "NameError",
     "evalue": "name 'get_kpts' is not defined",
     "output_type": "error",
     "traceback": [
      "\u001b[0;31m---------------------------------------------------------------------------\u001b[0m",
      "\u001b[0;31mNameError\u001b[0m                                 Traceback (most recent call last)",
      "\u001b[0;32m<ipython-input-4-e05318e8d02a>\u001b[0m in \u001b[0;36m<module>\u001b[0;34m\u001b[0m\n\u001b[0;32m----> 1\u001b[0;31m \u001b[0mA\u001b[0m\u001b[0;34m.\u001b[0m\u001b[0mget_equiblium_bulk\u001b[0m\u001b[0;34m(\u001b[0m\u001b[0;34m'RPBE'\u001b[0m\u001b[0;34m,\u001b[0m\u001b[0;34m'local'\u001b[0m\u001b[0;34m)\u001b[0m\u001b[0;34m\u001b[0m\u001b[0;34m\u001b[0m\u001b[0m\n\u001b[0m",
      "\u001b[0;32m~/research/coverage-effect/modules/MAInit.py\u001b[0m in \u001b[0;36mget_equiblium_bulk\u001b[0;34m(self, xc, env)\u001b[0m\n\u001b[1;32m    206\u001b[0m         \u001b[0mv\u001b[0m \u001b[0;34m=\u001b[0m \u001b[0mbulk\u001b[0m\u001b[0;34m.\u001b[0m\u001b[0mget_volume\u001b[0m\u001b[0;34m(\u001b[0m\u001b[0;34m)\u001b[0m\u001b[0;34m\u001b[0m\u001b[0;34m\u001b[0m\u001b[0m\n\u001b[1;32m    207\u001b[0m \u001b[0;34m\u001b[0m\u001b[0m\n\u001b[0;32m--> 208\u001b[0;31m         \u001b[0mkpoints\u001b[0m \u001b[0;34m=\u001b[0m \u001b[0mget_kpts\u001b[0m\u001b[0;34m(\u001b[0m\u001b[0mbulk\u001b[0m\u001b[0;34m)\u001b[0m\u001b[0;34m\u001b[0m\u001b[0;34m\u001b[0m\u001b[0m\n\u001b[0m\u001b[1;32m    209\u001b[0m         \u001b[0mtagdict\u001b[0m \u001b[0;34m=\u001b[0m \u001b[0mget_default_vasp_tags\u001b[0m\u001b[0;34m(\u001b[0m\u001b[0mxc\u001b[0m\u001b[0;34m)\u001b[0m\u001b[0;34m\u001b[0m\u001b[0;34m\u001b[0m\u001b[0m\n\u001b[1;32m    210\u001b[0m         \u001b[0mtagdict\u001b[0m\u001b[0;34m[\u001b[0m\u001b[0;34m'kpts'\u001b[0m\u001b[0;34m]\u001b[0m \u001b[0;34m=\u001b[0m \u001b[0mkpoints\u001b[0m\u001b[0;34m\u001b[0m\u001b[0;34m\u001b[0m\u001b[0m\n",
      "\u001b[0;31mNameError\u001b[0m: name 'get_kpts' is not defined"
     ]
    }
   ],
   "source": [
    "A.get_equiblium_bulk('RPBE','local')"
   ]
  },
  {
   "cell_type": "code",
   "execution_count": 29,
   "metadata": {},
   "outputs": [],
   "source": [
    "atoms = init_query('Cu_RPBE.traj')"
   ]
  },
  {
   "cell_type": "code",
   "execution_count": 50,
   "metadata": {},
   "outputs": [],
   "source": [
    "slab_generator_settings = {\n",
    "    'min_slab_size':5,\n",
    "    'min_vacuum_size':10,\n",
    "    'lll_reduce':False, # False\n",
    "    'center_slab':True, # False\n",
    "    'in_unit_planes':False, # False\n",
    "    'primitive':True, # True\n",
    "    'max_normal_search':None, # None\n",
    "    'reorient_lattice':True # True\n",
    "}\n",
    "\n",
    "face = [1,0,0]\n",
    "face = [2,1,1]"
   ]
  },
  {
   "cell_type": "code",
   "execution_count": 51,
   "metadata": {},
   "outputs": [],
   "source": [
    "slab = make_slabs_from_bulk_atoms(atoms, face, slab_generator_settings, get_slab_settings={})\n",
    "newatoms = AseAtomsAdaptor.get_atoms(slab[0])\n",
    "view(newatoms)"
   ]
  },
  {
   "cell_type": "code",
   "execution_count": 14,
   "metadata": {},
   "outputs": [],
   "source": [
    "newatoms2 = get_repeated_atoms(newatoms, [2,1,1])\n",
    "view(newatoms2)"
   ]
  },
  {
   "cell_type": "code",
   "execution_count": 40,
   "metadata": {},
   "outputs": [
    {
     "name": "stdout",
     "output_type": "stream",
     "text": [
      "[2, 1, 1]\n"
     ]
    }
   ],
   "source": [
    "newatoms2 = set_tag(newatoms2, face)"
   ]
  },
  {
   "cell_type": "code",
   "execution_count": 35,
   "metadata": {},
   "outputs": [],
   "source": [
    "view(newatoms2)"
   ]
  },
  {
   "cell_type": "code",
   "execution_count": null,
   "metadata": {},
   "outputs": [],
   "source": []
  }
 ],
 "metadata": {
  "kernelspec": {
   "display_name": "Python 3",
   "language": "python",
   "name": "python3"
  },
  "language_info": {
   "codemirror_mode": {
    "name": "ipython",
    "version": 3
   },
   "file_extension": ".py",
   "mimetype": "text/x-python",
   "name": "python",
   "nbconvert_exporter": "python",
   "pygments_lexer": "ipython3",
   "version": "3.6.9"
  }
 },
 "nbformat": 4,
 "nbformat_minor": 4
}
