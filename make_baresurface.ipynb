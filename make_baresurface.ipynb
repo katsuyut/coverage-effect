{
 "cells": [
  {
   "cell_type": "code",
   "execution_count": 35,
   "metadata": {},
   "outputs": [],
   "source": [
    "from MAUtil import *\n",
    "from MAInit import *\n",
    "from MACalc import *\n",
    "from MAPost import *\n",
    "from GASpyfuncs import *"
   ]
  },
  {
   "cell_type": "code",
   "execution_count": 36,
   "metadata": {},
   "outputs": [],
   "source": [
    "mpid = 'mp-30'      # Cu\n",
    "# mpid = 'mp-81'      # Au\n",
    "# mpid = 'mp-124'     # Ag\n",
    "# mpid = 'mp-23'      # Ni\n",
    "# mpid = 'mp-2'       # Pd\n",
    "# mpid = 'mp-126'     # Pt\n",
    "# mpid = 'mp-79'      # Zn\n",
    "# mpid = 'mp-134'     # Al\n",
    "# mpid = 'mp-74'      # Rh\n",
    "# mpid = 'mp-33'      # Ru\n",
    "# mpid = 'mp-1941'    # NiGa\n",
    "# mpid = 'mp-1219908' # PdPt\n",
    "# mpid = 'mp-922'     # CoPt3"
   ]
  },
  {
   "cell_type": "code",
   "execution_count": 37,
   "metadata": {},
   "outputs": [],
   "source": [
    "xc = 'RPBE'\n",
    "formula = 'Cu'"
   ]
  },
  {
   "cell_type": "code",
   "execution_count": 4,
   "metadata": {},
   "outputs": [
    {
     "name": "stdout",
     "output_type": "stream",
     "text": [
      "Already in cifpath\n",
      "material: Cu\n",
      "crystal system: cubic\n",
      "                Step[ FC]     Time          Energy          fmax\n",
      "*Force-consistent energies used in optimization.\n",
      "BFGSLineSearch:    0[  0] 03:12:20        0.014604*       0.0000\n",
      "                Step[ FC]     Time          Energy          fmax\n",
      "*Force-consistent energies used in optimization.\n",
      "BFGSLineSearch:    0[  0] 03:12:20       -0.005225*       0.0000\n",
      "                Step[ FC]     Time          Energy          fmax\n",
      "*Force-consistent energies used in optimization.\n",
      "BFGSLineSearch:    0[  0] 03:12:20       -0.003779*       0.0000\n",
      "                Step[ FC]     Time          Energy          fmax\n",
      "*Force-consistent energies used in optimization.\n",
      "BFGSLineSearch:    0[  0] 03:12:20        0.016065*       0.0000\n",
      "                Step[ FC]     Time          Energy          fmax\n",
      "*Force-consistent energies used in optimization.\n",
      "BFGSLineSearch:    0[  0] 03:12:20        0.051805*       0.0000\n"
     ]
    }
   ],
   "source": [
    "get_equiblium_bulk(mpid, xc, 'local')"
   ]
  },
  {
   "cell_type": "code",
   "execution_count": 29,
   "metadata": {},
   "outputs": [],
   "source": [
    "file = formula + '_' + xc + '.traj'\n",
    "atoms = init_query(file)\n",
    "\n",
    "slab_generator_settings = {\n",
    "    'min_slab_size':7,\n",
    "    'min_vacuum_size':20,\n",
    "    'lll_reduce':False, # False\n",
    "    'center_slab':True, # False\n",
    "    'in_unit_planes':False, # False\n",
    "    'primitive':True, # True\n",
    "    'max_normal_search':None, # None\n",
    "    'reorient_lattice':True # True\n",
    "}\n",
    "\n",
    "face = [1,0,0]\n",
    "face = [2,1,1]"
   ]
  },
  {
   "cell_type": "code",
   "execution_count": 30,
   "metadata": {},
   "outputs": [],
   "source": [
    "slab = make_slabs_from_bulk_atoms(atoms, face, slab_generator_settings, get_slab_settings={})\n",
    "atoms = AseAtomsAdaptor.get_atoms(slab[0])"
   ]
  },
  {
   "cell_type": "code",
   "execution_count": 31,
   "metadata": {},
   "outputs": [],
   "source": [
    "repeat = 2\n",
    "if face == [2,1,1]:\n",
    "    rep = [2,1,1]\n",
    "else:\n",
    "    rep = [2,2,1]\n",
    "atoms = get_repeated_atoms(atoms, rep)\n",
    "atoms = set_tag(atoms, face)\n",
    "atoms.pbc = [True, True, False]\n",
    "view(atoms)"
   ]
  },
  {
   "cell_type": "code",
   "execution_count": 32,
   "metadata": {},
   "outputs": [],
   "source": [
    "slabname = formula + '_'+ str(face[0]) + str(face[1]) + str(face[2]) + '_u' + str(repeat) + '_' + xc + '.traj'\n",
    "trajpath = initpath + slabname\n",
    "atoms.write(trajpath)"
   ]
  },
  {
   "cell_type": "code",
   "execution_count": 33,
   "metadata": {},
   "outputs": [],
   "source": [
    "ads = make_adsorbed_surface(slabname[:-5],'CO_RPBE')"
   ]
  },
  {
   "cell_type": "code",
   "execution_count": 34,
   "metadata": {},
   "outputs": [
    {
     "name": "stdout",
     "output_type": "stream",
     "text": [
      "progress: 0/10, 0.00 min\n",
      "progress: 1/10, 0.01 min\n",
      "progress: 2/10, 0.01 min\n",
      "progress: 3/10, 0.02 min\n",
      "progress: 4/10, 0.03 min\n",
      "progress: 5/10, 0.03 min\n",
      "progress: 6/10, 0.04 min\n",
      "progress: 7/10, 0.04 min\n",
      "progress: 8/10, 0.04 min\n",
      "progress: 9/10, 0.05 min\n",
      "adsorbates : # of structures, {'1': 10, '2': 42, '3': 30, '4': 12}\n",
      "total structures: 94\n",
      "\n"
     ]
    }
   ],
   "source": [
    "ads.make_surface(4,2.5)"
   ]
  },
  {
   "cell_type": "code",
   "execution_count": null,
   "metadata": {},
   "outputs": [],
   "source": []
  }
 ],
 "metadata": {
  "kernelspec": {
   "display_name": "Python 3",
   "language": "python",
   "name": "python3"
  },
  "language_info": {
   "codemirror_mode": {
    "name": "ipython",
    "version": 3
   },
   "file_extension": ".py",
   "mimetype": "text/x-python",
   "name": "python",
   "nbconvert_exporter": "python",
   "pygments_lexer": "ipython3",
   "version": "3.6.9"
  }
 },
 "nbformat": 4,
 "nbformat_minor": 4
}
