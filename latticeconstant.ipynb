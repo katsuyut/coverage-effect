{
 "cells": [
  {
   "cell_type": "code",
   "execution_count": 6,
   "metadata": {},
   "outputs": [
    {
     "name": "stdout",
     "output_type": "stream",
     "text": [
      "                Step[ FC]     Time          Energy          fmax\n",
      "*Force-consistent energies used in optimization.\n",
      "BFGSLineSearch:    0[  0] 16:53:13        0.049413*       0.0000\n",
      "                Step[ FC]     Time          Energy          fmax\n",
      "*Force-consistent energies used in optimization.\n",
      "BFGSLineSearch:    0[  0] 16:53:13       -0.003671*       0.0000\n",
      "                Step[ FC]     Time          Energy          fmax\n",
      "*Force-consistent energies used in optimization.\n",
      "BFGSLineSearch:    0[  0] 16:53:13        0.004597*       0.0000\n",
      "                Step[ FC]     Time          Energy          fmax\n",
      "*Force-consistent energies used in optimization.\n",
      "BFGSLineSearch:    0[  0] 16:53:13        0.061086*       0.0000\n",
      "                Step[ FC]     Time          Energy          fmax\n",
      "*Force-consistent energies used in optimization.\n",
      "BFGSLineSearch:    0[  0] 16:53:13        0.155086*       0.0000\n",
      "latticeconstant = 3.5898155317637195\n"
     ]
    }
   ],
   "source": [
    "import numpy as np\n",
    "import sys\n",
    "import util\n",
    "\n",
    "a = 3.65 # approximate lattice constant\n",
    "b = a / 2\n",
    "surface = 'Cu'\n",
    "env = 'local'\n",
    "\n",
    "atoms = ktms.Atoms(surface, \n",
    "              cell=[(0, b, b), (b, 0, b), (b, b, 0)],\n",
    "              pbc=1)\n",
    "\n",
    "kpoints = ktms.getkpts(atoms)\n",
    "nb = ktms.getnbands(atoms, 2) # default value is 0.5\n",
    "\n",
    "vaspset = ktms.Vasp(\n",
    "            xc = 'PBE',\n",
    "            gga = 'RP',\n",
    "            ncore = 4,\n",
    "            encut = 500,\n",
    "            nsw = 200,\n",
    "            kpts = kpoints,\n",
    "            ibrion = 2,\n",
    "            isif = 2,\n",
    "            ismear = 1,\n",
    "            sigma = 0.2,\n",
    "            nbands = nb,\n",
    "            #algo = 'Normal', # 'All' 'Damped'\n",
    "            prec = 'Normal', # 'Accurate'\n",
    "            lcharg = False,\n",
    "            lwave = False,\n",
    "            )\n",
    "    \n",
    "latticeconstant = ktms.getLC(atoms, vaspset, env)\n",
    "\n",
    "print('latticeconstant = {0}'.format(latticeconstant))\n",
    "f = open('result.txt', 'a')\n",
    "f.write(str(latticeconstant))\n",
    "f.close()"
   ]
  },
  {
   "cell_type": "code",
   "execution_count": null,
   "metadata": {},
   "outputs": [],
   "source": []
  }
 ],
 "metadata": {
  "kernelspec": {
   "display_name": "Python 3",
   "language": "python",
   "name": "python3"
  },
  "language_info": {
   "codemirror_mode": {
    "name": "ipython",
    "version": 3
   },
   "file_extension": ".py",
   "mimetype": "text/x-python",
   "name": "python",
   "nbconvert_exporter": "python",
   "pygments_lexer": "ipython3",
   "version": "3.6.7"
  }
 },
 "nbformat": 4,
 "nbformat_minor": 2
}
