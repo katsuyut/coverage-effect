{
 "cells": [
  {
   "cell_type": "code",
   "execution_count": 1,
   "metadata": {},
   "outputs": [],
   "source": [
    "from MAUtil import *\n",
    "from MAInit import *\n",
    "import time"
   ]
  },
  {
   "cell_type": "code",
   "execution_count": 2,
   "metadata": {},
   "outputs": [],
   "source": [
    "#############################################################################3\n",
    "# name = 'Au_111_u2'\n",
    "# name = 'Au_100_u2'\n",
    "# name = 'Pd_111_u2'\n",
    "# name = 'Pd_100_u2'\n",
    "# name = 'Al_111_u2'\n",
    "# name = 'Al_100_u2'\n",
    "# name = 'Ni_111_u2'\n",
    "# name = 'Ni_100_u1'\n",
    "# name = 'Ru_0001_u2'\n",
    "name = 'Zn_0001_u2'\n",
    "# name = 'Rh_111_u2'\n",
    "# name = 'Rh_100_u2'\n",
    "name = 'Ag_100_u2_no03_CO_n3_d3'\n",
    "name = 'Cu_100_u2_RPBE'"
   ]
  },
  {
   "cell_type": "code",
   "execution_count": 3,
   "metadata": {},
   "outputs": [
    {
     "name": "stdout",
     "output_type": "stream",
     "text": [
      "progress: 0/3, 0.00 min\n",
      "progress: 1/3, 0.00 min\n",
      "progress: 2/3, 0.01 min\n",
      "\n",
      "adsorbates : # of structures, {'1': 3, '2': 13}\n",
      "total structures: 16\n"
     ]
    }
   ],
   "source": [
    "sur = make_adsorbed_surface('Cu_100_u2_RPBE', 'CO')\n",
    "sur.make_surface(maxmole=2, mindist=0.0001)"
   ]
  },
  {
   "cell_type": "code",
   "execution_count": 4,
   "metadata": {},
   "outputs": [
    {
     "name": "stdout",
     "output_type": "stream",
     "text": [
      "Cu_100_u2_RPBE_no001_CO_n1_d8.traj\n",
      "Cu_100_u2_RPBE_no002_CO_n2_d3.traj\n",
      "Cu_100_u2_RPBE_no003_CO_n2_d5.traj\n",
      "Cu_100_u2_RPBE_no004_CO_n2_d3.traj\n",
      "Cu_100_u2_RPBE_no005_CO_n2_d1.traj\n",
      "Cu_100_u2_RPBE_no006_CO_n2_d0.traj\n",
      "Cu_100_u2_RPBE_no007_CO_n1_d8.traj\n",
      "Cu_100_u2_RPBE_no008_CO_n2_d1.traj\n",
      "Cu_100_u2_RPBE_no009_CO_n2_d0.traj\n",
      "Cu_100_u2_RPBE_no010_CO_n2_d3.traj\n",
      "Cu_100_u2_RPBE_no011_CO_n2_d5.traj\n",
      "Cu_100_u2_RPBE_no012_CO_n2_d3.traj\n",
      "Cu_100_u2_RPBE_no013_CO_n2_d3.traj\n",
      "Cu_100_u2_RPBE_no014_CO_n1_d8.traj\n",
      "Cu_100_u2_RPBE_no015_CO_n2_d3.traj\n",
      "Cu_100_u2_RPBE_no016_CO_n2_d5.traj\n"
     ]
    }
   ],
   "source": [
    "sur.write_trajectory()"
   ]
  },
  {
   "cell_type": "code",
   "execution_count": null,
   "metadata": {},
   "outputs": [],
   "source": []
  },
  {
   "cell_type": "code",
   "execution_count": null,
   "metadata": {},
   "outputs": [],
   "source": []
  },
  {
   "cell_type": "code",
   "execution_count": null,
   "metadata": {},
   "outputs": [],
   "source": []
  },
  {
   "cell_type": "code",
   "execution_count": null,
   "metadata": {
    "scrolled": true
   },
   "outputs": [],
   "source": []
  }
 ],
 "metadata": {
  "kernelspec": {
   "display_name": "Python 3",
   "language": "python",
   "name": "python3"
  },
  "language_info": {
   "codemirror_mode": {
    "name": "ipython",
    "version": 3
   },
   "file_extension": ".py",
   "mimetype": "text/x-python",
   "name": "python",
   "nbconvert_exporter": "python",
   "pygments_lexer": "ipython3",
   "version": "3.6.9"
  }
 },
 "nbformat": 4,
 "nbformat_minor": 2
}
