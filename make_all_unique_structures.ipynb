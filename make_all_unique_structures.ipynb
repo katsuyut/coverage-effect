{
 "cells": [
  {
   "cell_type": "code",
   "execution_count": 1,
   "metadata": {},
   "outputs": [],
   "source": [
    "from MAUtil import *\n",
    "from MAInit import *\n",
    "import time"
   ]
  },
  {
   "cell_type": "code",
   "execution_count": 2,
   "metadata": {},
   "outputs": [],
   "source": [
    "#############################################################################3\n",
    "# name = 'Au_111_u2'\n",
    "# name = 'Au_100_u2'\n",
    "# name = 'Pd_111_u2'\n",
    "# name = 'Pd_100_u2'\n",
    "# name = 'Al_111_u2'\n",
    "# name = 'Al_100_u2'\n",
    "# name = 'Ni_111_u2'\n",
    "# name = 'Ni_100_u1'\n",
    "# name = 'Ru_0001_u2'\n",
    "name = 'Zn_0001_u2'\n",
    "# name = 'Rh_111_u2'\n",
    "# name = 'Rh_100_u2'\n",
    "name = 'Ag_100_u2_no03_CO_n3_d3'\n",
    "name = 'Cu_100_u2_RPBE'\n",
    "\n",
    "\n",
    "inname = name + '.traj'\n",
    "atoms = init_query(inname, 'spacom')\n",
    "baresurface, initadsites = remove_molecule(atoms, ['C', 'O'])"
   ]
  },
  {
   "cell_type": "code",
   "execution_count": 3,
   "metadata": {},
   "outputs": [],
   "source": [
    "bareadsites = getadsites(baresurface, False)\n",
    "d=1.148\n",
    "\n",
    "maxmole = 4\n",
    "mindist = 0.000001 # must be not 0\n",
    "molecule = Atoms('CO', positions=[(0., 0., 0.), (0., 0., d)], cell=(10., 10., 10.))"
   ]
  },
  {
   "cell_type": "code",
   "execution_count": 4,
   "metadata": {
    "scrolled": true
   },
   "outputs": [],
   "source": [
    "allbareadsites = np.array(bareadsites['all'])\n",
    "group = create_site_group(baresurface)\n",
    "\n",
    "ind = []\n",
    "for i in range(len(allbareadsites)):\n",
    "    for j in range(len(initadsites)):\n",
    "        if np.allclose(allbareadsites[i][:2], initadsites[j][:2]):\n",
    "            ind.append(i)\n",
    "\n",
    "adsites = np.delete(allbareadsites,ind,0)\n",
    "inuse = allbareadsites[ind]\n",
    "# adsites, inuse"
   ]
  },
  {
   "cell_type": "code",
   "execution_count": null,
   "metadata": {
    "scrolled": true
   },
   "outputs": [
    {
     "name": "stdout",
     "output_type": "stream",
     "text": [
      "progress: 1/3\n"
     ]
    }
   ],
   "source": [
    "start = time.time()\n",
    "\n",
    "allatoms, allused, mindistlis, numdict, molenum \\\n",
    "    = getuniqueatoms(atoms, baresurface, adsites, maxmole, mindist, initadsites, group, molecule)\n",
    "print(time.time() - start)"
   ]
  },
  {
   "cell_type": "code",
   "execution_count": null,
   "metadata": {
    "scrolled": true
   },
   "outputs": [],
   "source": [
    "print(len(allatoms))\n",
    "\n",
    "for num in numdict:\n",
    "    print(num, numdict[num])"
   ]
  },
  {
   "cell_type": "code",
   "execution_count": null,
   "metadata": {
    "scrolled": true
   },
   "outputs": [],
   "source": [
    "mindistlis"
   ]
  },
  {
   "cell_type": "code",
   "execution_count": null,
   "metadata": {
    "scrolled": true
   },
   "outputs": [],
   "source": [
    "count = 0\n",
    "indexlist = []\n",
    "for i in range(len(mindistlis)):\n",
    "    if mindistlis[i] > 2.5:\n",
    "        indexlist.append(i)\n",
    "        count += 1\n",
    "# count, indexlist"
   ]
  },
  {
   "cell_type": "code",
   "execution_count": null,
   "metadata": {
    "scrolled": false
   },
   "outputs": [],
   "source": [
    "# for i in range(len(allatoms)): # len(allatoms)\n",
    "# #     if 'COCOCOCOCO' in str(allatoms[i].symbols):\n",
    "#     view(allatoms[i])\n",
    "#     print(allatoms[i].symbols)\n",
    "# #         print('a')"
   ]
  },
  {
   "cell_type": "code",
   "execution_count": null,
   "metadata": {
    "scrolled": true
   },
   "outputs": [],
   "source": [
    "for i in range(len(allatoms)):\n",
    "#     if 'COCOCOCOCO' in str(allatoms[i].symbols):\n",
    "    outname = name + str('_no') + str('{0:03d}'.format(i+1)) +'_CO_n' + str(molenum[i]) + str('_d') + str(int(np.ceil(mindistlis[i]/0.5)-3))  + '.traj'\n",
    "    print(outname)\n",
    "    outpath = '/home/katsuyut/init/' + str(outname)\n",
    "    allatoms[i].write(outpath)"
   ]
  },
  {
   "cell_type": "code",
   "execution_count": null,
   "metadata": {},
   "outputs": [],
   "source": []
  },
  {
   "cell_type": "code",
   "execution_count": null,
   "metadata": {},
   "outputs": [],
   "source": []
  },
  {
   "cell_type": "code",
   "execution_count": null,
   "metadata": {},
   "outputs": [],
   "source": []
  }
 ],
 "metadata": {
  "kernelspec": {
   "display_name": "Python 3",
   "language": "python",
   "name": "python3"
  },
  "language_info": {
   "codemirror_mode": {
    "name": "ipython",
    "version": 3
   },
   "file_extension": ".py",
   "mimetype": "text/x-python",
   "name": "python",
   "nbconvert_exporter": "python",
   "pygments_lexer": "ipython3",
   "version": "3.6.9"
  }
 },
 "nbformat": 4,
 "nbformat_minor": 2
}
