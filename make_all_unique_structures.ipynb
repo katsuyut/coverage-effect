{
 "cells": [
  {
   "cell_type": "code",
   "execution_count": 1,
   "metadata": {},
   "outputs": [],
   "source": [
    "from ktms import *"
   ]
  },
  {
   "cell_type": "code",
   "execution_count": 2,
   "metadata": {},
   "outputs": [],
   "source": [
    "def modpos(sites):\n",
    "    modsites = []\n",
    "    for i in range(len(sites)):\n",
    "        modsite = []\n",
    "        for j in range(len(sites[i]) - 1):\n",
    "            if sites[i][j] < 0:\n",
    "                sites[i][j] += np.ceil(abs(sites[i][j]))\n",
    "            elif sites[i][j] >= 1:\n",
    "                sites[i][j] -= np.floor(sites[i][j])\n",
    "            \n",
    "            if abs(sites[i][j]) < 0.01 or abs(sites[i][j] - 1) < 0.01:\n",
    "                sites[i][j] = 0\n",
    "            modsite.append(sites[i][j])\n",
    "        modsite.append(sites[i][2])\n",
    "        modsites.append(modsite)\n",
    "    return modsites"
   ]
  },
  {
   "cell_type": "code",
   "execution_count": 3,
   "metadata": {},
   "outputs": [],
   "source": [
    "def checkifsame(bareatoms, sites, allused):\n",
    "    '''\n",
    "    Check if in allused has same configuration of symmetrical operated sites.\n",
    "    Return True if found.\n",
    "    '''\n",
    "    struct = AseAtomsAdaptor.get_structure(bareatoms)\n",
    "    surf_sg = SpacegroupAnalyzer(struct, 0.01)\n",
    "    symm_ops = surf_sg.get_symmetry_operations()\n",
    "\n",
    "    cpallused = copy.deepcopy(allused)\n",
    "    frcpallused = []\n",
    "    \n",
    "    for i in range(len(cpallused)):\n",
    "        tmp = []\n",
    "        frused = struct.lattice.get_fractional_coords(cpallused[i])\n",
    "        for j in range(len(frused)):\n",
    "            tmp.append(list(frused[j]))\n",
    "        frcpallused.append(modpos(tmp))\n",
    "\n",
    "    for op in symm_ops:\n",
    "        froperatedsites = []\n",
    "        for i in range(len(sites)):\n",
    "            frsites = struct.lattice.get_fractional_coords(sites[i])\n",
    "            froperatedsites.append(list(op.operate(frsites)))\n",
    "        froperatedsites.sort()\n",
    "        modfropsites = modpos(froperatedsites)\n",
    "        \n",
    "        for used in frcpallused:\n",
    "            if len(modfropsites) == len(used):\n",
    "                if np.allclose(sorted(modfropsites), sorted(used), atol=0.01):\n",
    "                    print('Symmetrically same structure found!')\n",
    "                    return True"
   ]
  },
  {
   "cell_type": "code",
   "execution_count": 4,
   "metadata": {},
   "outputs": [],
   "source": [
    "def getuniqueatoms(atoms, bareatoms, sites, maxmole, mindist, rused, group):\n",
    "    '''\n",
    "    Given surface Atom object and all possible attaching site positions, create all possible unique attached Atom object.\n",
    "    Can exclude by the maximum number of molecules or minimum distance. \n",
    "    \n",
    "    return\n",
    "    allatoms   :all possible Atom object [[[x,y,z]], [[a,b,c]], [[x,y,z],[a,b,c]]]\n",
    "    allused    :attached sites for each Atom object\n",
    "    mindistlis :minimum distance of molecule for each Atom object\n",
    "    numdict    :dictionary, key=number of attached molecule, value=number of object created\n",
    "    '''\n",
    "    allatoms = []\n",
    "    allused = []\n",
    "    molenum = []\n",
    "    usedsites = []\n",
    "    \n",
    "    for i in range(len(rused)):\n",
    "        tmp = []\n",
    "        tmp.append(rused[i])\n",
    "        allused.append(tmp)\n",
    "        \n",
    "    initallused = copy.deepcopy(allused)\n",
    "    \n",
    "    def recursive(ratoms, rsites, rused, molecules, tmpused):\n",
    "        molecules += 1\n",
    "        if molecules > maxmole:\n",
    "            return None\n",
    "        \n",
    "        for i in range(len(rsites)):\n",
    "            nextatoms = copy.deepcopy(ratoms)\n",
    "            nextused = copy.deepcopy(rused)\n",
    "            if molecules == 1:\n",
    "                tmpused = copy.deepcopy(initallused)\n",
    "                print('Used initialized!')\n",
    "            \n",
    "            add_adsorbate(nextatoms, molecule, h, rsites[i][:2])\n",
    "            nextused.append(list(rsites[i]))\n",
    "            \n",
    "            dist = getmindist(nextused, bareatoms.cell)\n",
    "            if dist < mindist:\n",
    "                print('Distance {0} is below {1}'.format(dist, mindist))\n",
    "                continue\n",
    "\n",
    "            sameflag = checkifsame(bareatoms, nextused, tmpused)\n",
    "            if sameflag:\n",
    "                continue\n",
    "            \n",
    "            allatoms.append(nextatoms)\n",
    "            allused.append(nextused)\n",
    "            tmpused.append(nextused)\n",
    "            molenum.append(molecules)\n",
    "            struct = AseAtomsAdaptor.get_structure(nextatoms)\n",
    "            \n",
    "            print('{0}-------{1}-------'.format(molecules, nextatoms.symbols))\n",
    "            \n",
    "            try:\n",
    "                nextsites = AdsorbateSiteFinder(struct).symm_reduce(sites)\n",
    "                indexlist = []\n",
    "                for j in range(len(nextused)):\n",
    "                    for k in range(len(nextsites)):\n",
    "                        if np.allclose(nextused[j], nextsites[k]):\n",
    "                            indexlist.append(k)\n",
    "\n",
    "                for j in range(len(usedsites)):\n",
    "                    for k in range(len(nextsites)):\n",
    "                        if np.allclose(usedsites[j], nextsites[k]):\n",
    "                            indexlist.append(k)\n",
    "\n",
    "                indexlist.sort(reverse = True) \n",
    "                for j in range(len(indexlist)):\n",
    "                    nextsites.pop(indexlist[j])\n",
    "                \n",
    "                recursive(nextatoms, nextsites, nextused, molecules, tmpused)\n",
    "            \n",
    "            except:\n",
    "                print('Error!!')\n",
    "            \n",
    "            if molecules == 1:\n",
    "                for j in range(len(group)):\n",
    "                    if rsites[i] in group[j]:\n",
    "                        for k in range(len(group[j])):\n",
    "                            usedsites.append(group[j][k])\n",
    "\n",
    "    barestruct = AseAtomsAdaptor.get_structure(bareatoms)\n",
    "    baresites = getadsites(bareatoms, True)\n",
    "    redsites_ = baresites['all']\n",
    "    redsites = [list(i) for i in redsites_]\n",
    "\n",
    "    recursive(atoms, redsites, rused, len(rused), initallused)\n",
    "    mindistlis = getmindistlist(allused, bareatoms.cell)\n",
    "    \n",
    "    numdict = {}\n",
    "    for site in allused:\n",
    "        if str(len(site)) not in numdict.keys():\n",
    "            numdict[str(len(site))] = 1\n",
    "        else:\n",
    "            numdict[str(len(site))] += 1\n",
    "    \n",
    "    return allatoms, allused, mindistlis, numdict, molenum"
   ]
  },
  {
   "cell_type": "code",
   "execution_count": 5,
   "metadata": {},
   "outputs": [],
   "source": [
    "def removemolecule(atoms, molecule):\n",
    "    cpatoms = copy.deepcopy(atoms)\n",
    "    poslis = []\n",
    "    for i in reversed(range(len(cpatoms))):\n",
    "        if cpatoms[i].symbol == molecule[0]:\n",
    "            poslis.append(cpatoms[i].position[:2])\n",
    "\n",
    "        for j in molecule:\n",
    "            if cpatoms[i].symbol == j:\n",
    "                cpatoms.pop(i)\n",
    "                print(cpatoms.symbols)\n",
    "                break\n",
    "    return cpatoms, poslis"
   ]
  },
  {
   "cell_type": "code",
   "execution_count": 6,
   "metadata": {},
   "outputs": [],
   "source": [
    "def creategroup(bareatoms, sites):\n",
    "    barestruct = AseAtomsAdaptor.get_structure(bareatoms)\n",
    "    baresites = getadsites(bareatoms, True)\n",
    "    redsites_ = baresites['all']\n",
    "    redsites = [list(i) for i in redsites_]\n",
    "\n",
    "    unique = []\n",
    "    for i in range(len(redsites)):\n",
    "        tmp = []\n",
    "        tmp.append(redsites[i])\n",
    "        unique.append(tmp)\n",
    "    \n",
    "    group = copy.deepcopy(unique)\n",
    "    num = 0\n",
    "    for i in range(len(sites)):\n",
    "        tmp = []\n",
    "        tmp.append(sites[i])\n",
    "\n",
    "        if tmp in unique:\n",
    "            continue\n",
    "\n",
    "        for j in range(len(unique)):\n",
    "            tmp2 = []\n",
    "            tmp2.append(unique[j])\n",
    "            if checkifsame(bareatoms, tmp, tmp2):\n",
    "                print(j, 'same config found!')\n",
    "                group[j].append(sites[i])\n",
    "                break\n",
    "\n",
    "    return group"
   ]
  },
  {
   "cell_type": "code",
   "execution_count": 7,
   "metadata": {},
   "outputs": [
    {
     "name": "stdout",
     "output_type": "stream",
     "text": [
      "Ga2Ni2Ga2Ni2C\n",
      "Ga2Ni2Ga2Ni2\n"
     ]
    }
   ],
   "source": [
    "#############################################################################3\n",
    "name = 'NiGa110_u1_no03_CO_n1_d3'\n",
    "# name = 'NiGa_u1'\n",
    "# name = 'Cu111_u2'\n",
    "# name = 'NiGa110_u1_no03_CO_n1_d3'\n",
    "\n",
    "inname = name + '.traj'\n",
    "atoms = init_query(inname, 'spacom')\n",
    "bareatoms, poslis = removemolecule(atoms, ['C', 'O'])"
   ]
  },
  {
   "cell_type": "code",
   "execution_count": 8,
   "metadata": {},
   "outputs": [],
   "source": [
    "barestruct = AseAtomsAdaptor.get_structure(bareatoms)\n",
    "baresites = getadsites(bareatoms, False)\n",
    "d = 1.13\n",
    "h = 1.85\n",
    "maxmole = 2\n",
    "mindist = 0\n",
    "molecule = Atoms('CO', positions=[(0., 0., 0.), (0., 0., d)], cell=(10., 10., 10.))"
   ]
  },
  {
   "cell_type": "code",
   "execution_count": 9,
   "metadata": {
    "scrolled": true
   },
   "outputs": [
    {
     "name": "stdout",
     "output_type": "stream",
     "text": [
      "Symmetrically same structure found!\n",
      "3 same config found!\n",
      "Symmetrically same structure found!\n",
      "2 same config found!\n",
      "Symmetrically same structure found!\n",
      "2 same config found!\n",
      "Symmetrically same structure found!\n",
      "2 same config found!\n",
      "Symmetrically same structure found!\n",
      "5 same config found!\n",
      "Symmetrically same structure found!\n",
      "6 same config found!\n",
      "Symmetrically same structure found!\n",
      "5 same config found!\n"
     ]
    },
    {
     "data": {
      "text/plain": [
       "({'ontop': [array([ 0.        ,  0.        , 18.24061245]),\n",
       "   array([ 1.47092646,  2.08020415, 18.24061245])],\n",
       "  'bridge': [array([1.47092646e+00, 9.23796217e-16, 1.82406124e+01]),\n",
       "   array([ 0.73546323,  1.04010207, 18.24061245]),\n",
       "   array([ 2.20638969,  1.04010207, 18.24061245]),\n",
       "   array([1.30644514e-15, 2.08020415e+00, 1.82406124e+01]),\n",
       "   array([ 0.73546323,  3.12030622, 18.24061245]),\n",
       "   array([ 2.20638969,  3.12030622, 18.24061245])],\n",
       "  'hollow': [array([ 1.47092646,  0.69340138, 18.24061245]),\n",
       "   array([1.30644514e-15, 1.38680277e+00, 1.82406124e+01]),\n",
       "   array([ 2.94185292,  2.77360553, 18.24061245]),\n",
       "   array([ 1.47092646,  3.46700691, 18.24061245])],\n",
       "  'all': [array([ 0.        ,  0.        , 18.24061245]),\n",
       "   array([ 1.47092646,  2.08020415, 18.24061245]),\n",
       "   array([ 0.73546323,  1.04010207, 18.24061245]),\n",
       "   array([ 2.94185292,  2.08020415, 18.24061245]),\n",
       "   array([ 2.20638969,  1.04010207, 18.24061245]),\n",
       "   array([ 1.47092646,  0.        , 18.24061245]),\n",
       "   array([ 0.73546323,  3.12030622, 18.24061245]),\n",
       "   array([ 2.20638969,  3.12030622, 18.24061245]),\n",
       "   array([ 2.94185292,  1.38680277, 18.24061245]),\n",
       "   array([ 1.47092646,  0.69340138, 18.24061245]),\n",
       "   array([ 1.47092646,  3.46700691, 18.24061245]),\n",
       "   array([ 2.94185292,  2.77360553, 18.24061245])]},\n",
       " [[1.4709264597699998, 2.0802041486601768, 18.24061244598053]])"
      ]
     },
     "execution_count": 9,
     "metadata": {},
     "output_type": "execute_result"
    }
   ],
   "source": [
    "sites0_ = baresites['all']\n",
    "sites0 = [list(i) for i in sites0_]\n",
    "\n",
    "group = creategroup(bareatoms, sites0)\n",
    "\n",
    "rused = []\n",
    "for i in reversed(range(len(sites0))):\n",
    "    for j in range(len(poslis)):\n",
    "        if np.allclose(sites0[i][:2], poslis[j]):\n",
    "            tmp = sites0.pop(i)\n",
    "            rused.append(tmp)\n",
    "baresites, rused"
   ]
  },
  {
   "cell_type": "code",
   "execution_count": 10,
   "metadata": {
    "scrolled": true
   },
   "outputs": [
    {
     "name": "stdout",
     "output_type": "stream",
     "text": [
      "2-------Ga2Ni2Ga2Ni2COCO-------\n",
      "2-------Ga2Ni2Ga2Ni2COCO-------\n",
      "Error!!\n",
      "2-------Ga2Ni2Ga2Ni2COCO-------\n",
      "2-------Ga2Ni2Ga2Ni2COCO-------\n",
      "2-------Ga2Ni2Ga2Ni2COCO-------\n",
      "2-------Ga2Ni2Ga2Ni2COCO-------\n",
      "2-------Ga2Ni2Ga2Ni2COCO-------\n"
     ]
    }
   ],
   "source": [
    "allatoms, allused, mindistlis, numdict, molenum \\\n",
    "    = getuniqueatoms(atoms, bareatoms, sites0, maxmole, mindist, rused, group)"
   ]
  },
  {
   "cell_type": "code",
   "execution_count": 11,
   "metadata": {
    "scrolled": true
   },
   "outputs": [
    {
     "data": {
      "text/plain": [
       "(7, {'1': 1, '2': 7})"
      ]
     },
     "execution_count": 11,
     "metadata": {},
     "output_type": "execute_result"
    }
   ],
   "source": [
    "len(allatoms), numdict"
   ]
  },
  {
   "cell_type": "code",
   "execution_count": 12,
   "metadata": {
    "scrolled": true
   },
   "outputs": [
    {
     "data": {
      "text/plain": [
       "[2.94185291954,\n",
       " 2.547719362519058,\n",
       " 0.0,\n",
       " 1.27385968125953,\n",
       " 1.4709264597699985,\n",
       " 2.0802041486601768,\n",
       " 1.6261703870876274,\n",
       " 1.3868027657734512]"
      ]
     },
     "execution_count": 12,
     "metadata": {},
     "output_type": "execute_result"
    }
   ],
   "source": [
    "mindistlis"
   ]
  },
  {
   "cell_type": "code",
   "execution_count": 13,
   "metadata": {
    "scrolled": true
   },
   "outputs": [],
   "source": [
    "count = 0\n",
    "indexlist = []\n",
    "for i in range(len(mindistlis)):\n",
    "    if mindistlis[i] > 2.5:\n",
    "        indexlist.append(i)\n",
    "        count += 1\n",
    "# count, indexlist"
   ]
  },
  {
   "cell_type": "code",
   "execution_count": 14,
   "metadata": {
    "scrolled": false
   },
   "outputs": [
    {
     "name": "stdout",
     "output_type": "stream",
     "text": [
      "Ga2Ni2Ga2Ni2COCO\n",
      "Ga2Ni2Ga2Ni2COCO\n",
      "Ga2Ni2Ga2Ni2COCO\n",
      "Ga2Ni2Ga2Ni2COCO\n",
      "Ga2Ni2Ga2Ni2COCO\n",
      "Ga2Ni2Ga2Ni2COCO\n",
      "Ga2Ni2Ga2Ni2COCO\n"
     ]
    }
   ],
   "source": [
    "for i in range(len(allatoms)): # len(allatoms)\n",
    "#     if 'COCOCOCO' in str(allatoms[i].symbols):\n",
    "    view(allatoms[i])\n",
    "    print(allatoms[i].symbols)\n",
    "#         print('a')"
   ]
  },
  {
   "cell_type": "code",
   "execution_count": 15,
   "metadata": {
    "scrolled": true
   },
   "outputs": [
    {
     "name": "stdout",
     "output_type": "stream",
     "text": [
      "NiGa110_u1_no03_CO_n1_d3_no001_CO_n2_d3.traj\n",
      "NiGa110_u1_no03_CO_n1_d3_no002_CO_n2_d3.traj\n",
      "NiGa110_u1_no03_CO_n1_d3_no003_CO_n2_d-3.traj\n",
      "NiGa110_u1_no03_CO_n1_d3_no004_CO_n2_d0.traj\n",
      "NiGa110_u1_no03_CO_n1_d3_no005_CO_n2_d0.traj\n",
      "NiGa110_u1_no03_CO_n1_d3_no006_CO_n2_d2.traj\n",
      "NiGa110_u1_no03_CO_n1_d3_no007_CO_n2_d1.traj\n"
     ]
    }
   ],
   "source": [
    "for i in range(len(allatoms)):\n",
    "    outname = name + str('_no') + str('{0:03d}'.format(i+1)) +'_CO_n' + str(molenum[i]) + str('_d') + str(int(np.ceil(mindistlis[i]/0.5)-3))  + '.traj'\n",
    "    print(outname)\n",
    "    outpath = '/home/katsuyut/init/' + str(outname)\n",
    "#     allatoms[i].write(outpath)"
   ]
  },
  {
   "cell_type": "code",
   "execution_count": 143,
   "metadata": {
    "scrolled": true
   },
   "outputs": [
    {
     "name": "stdout",
     "output_type": "stream",
     "text": [
      "NiGa110_u2_no06_CO_n5_d3.traj\n",
      "NiGa110_u2_no28_CO_n5_d3.traj\n",
      "NiGa110_u2_no31_CO_n5_d3.traj\n",
      "NiGa110_u2_no35_CO_n5_d3.traj\n",
      "NiGa110_u2_no41_CO_n5_d3.traj\n",
      "NiGa110_u2_no49_CO_n5_d3.traj\n",
      "NiGa110_u2_no55_CO_n5_d3.traj\n",
      "NiGa110_u2_no63_CO_n5_d3.traj\n",
      "NiGa110_u2_no88_CO_n5_d3.traj\n",
      "NiGa110_u2_no93_CO_n5_d3.traj\n",
      "NiGa110_u2_no97_CO_n5_d3.traj\n",
      "NiGa110_u2_no105_CO_n5_d3.traj\n",
      "NiGa110_u2_no117_CO_n5_d3.traj\n",
      "NiGa110_u2_no135_CO_n5_d3.traj\n",
      "NiGa110_u2_no144_CO_n5_d3.traj\n",
      "NiGa110_u2_no147_CO_n5_d3.traj\n",
      "NiGa110_u2_no166_CO_n5_d3.traj\n",
      "NiGa110_u2_no171_CO_n5_d3.traj\n",
      "NiGa110_u2_no173_CO_n5_d3.traj\n",
      "NiGa110_u2_no193_CO_n5_d3.traj\n",
      "NiGa110_u2_no203_CO_n5_d3.traj\n",
      "NiGa110_u2_no205_CO_n5_d3.traj\n",
      "NiGa110_u2_no207_CO_n5_d3.traj\n",
      "NiGa110_u2_no211_CO_n5_d3.traj\n",
      "NiGa110_u2_no345_CO_n5_d3.traj\n",
      "NiGa110_u2_no355_CO_n5_d3.traj\n",
      "NiGa110_u2_no362_CO_n5_d3.traj\n",
      "NiGa110_u2_no364_CO_n5_d3.traj\n",
      "NiGa110_u2_no384_CO_n5_d3.traj\n",
      "NiGa110_u2_no408_CO_n5_d3.traj\n",
      "NiGa110_u2_no417_CO_n5_d3.traj\n",
      "NiGa110_u2_no440_CO_n5_d3.traj\n",
      "NiGa110_u2_no444_CO_n5_d3.traj\n",
      "NiGa110_u2_no446_CO_n5_d3.traj\n",
      "NiGa110_u2_no447_CO_n5_d3.traj\n",
      "NiGa110_u2_no453_CO_n5_d3.traj\n",
      "NiGa110_u2_no455_CO_n5_d3.traj\n",
      "NiGa110_u2_no457_CO_n5_d3.traj\n",
      "NiGa110_u2_no460_CO_n5_d3.traj\n",
      "NiGa110_u2_no461_CO_n5_d3.traj\n"
     ]
    }
   ],
   "source": [
    "# for i in range(len(allatoms)):\n",
    "#     if 'COCOCOCOCO' in str(allatoms[i].symbols):\n",
    "#         outname = name + str('_no') + str('{0:02d}'.format(i+1)) +'_CO_n' + str(molenum[i]) + str('_d') + str(int(np.ceil(mindistlis[i]/0.5)-3))  + '.traj'\n",
    "#         print(outname)\n",
    "#         outpath = '/home/katsuyut/init/' + str(outname)\n",
    "# #         allatoms[i].write(outpath)"
   ]
  }
 ],
 "metadata": {
  "kernelspec": {
   "display_name": "Python 3",
   "language": "python",
   "name": "python3"
  },
  "language_info": {
   "codemirror_mode": {
    "name": "ipython",
    "version": 3
   },
   "file_extension": ".py",
   "mimetype": "text/x-python",
   "name": "python",
   "nbconvert_exporter": "python",
   "pygments_lexer": "ipython3",
   "version": "3.6.7"
  }
 },
 "nbformat": 4,
 "nbformat_minor": 2
}
