{
 "cells": [
  {
   "cell_type": "code",
   "execution_count": 1,
   "metadata": {},
   "outputs": [],
   "source": [
    "from MAUtil import *\n",
    "from MAInit import *"
   ]
  },
  {
   "cell_type": "code",
   "execution_count": 2,
   "metadata": {},
   "outputs": [],
   "source": [
    "#############################################################################3\n",
    "# name = 'Au_111_u2'\n",
    "# name = 'Au_100_u2'\n",
    "# name = 'Pd_111_u2'\n",
    "# name = 'Pd_100_u2'\n",
    "# name = 'Al_111_u2'\n",
    "# name = 'Al_100_u2'\n",
    "# name = 'Ni_111_u2'\n",
    "name = 'Ni_100_u2'\n",
    "\n",
    "inname = name + '.traj'\n",
    "atoms = init_query(inname, 'spacom')\n",
    "bareatoms, poslis = removemolecule(atoms, ['C', 'O'])"
   ]
  },
  {
   "cell_type": "code",
   "execution_count": 3,
   "metadata": {},
   "outputs": [],
   "source": [
    "barestruct = AseAtomsAdaptor.get_structure(bareatoms)\n",
    "baresites = getadsites(bareatoms, False)\n",
    "d = 1.148\n",
    "\n",
    "maxmole = 4\n",
    "mindist = 2.5 # must be not 0\n",
    "molecule = Atoms('CO', positions=[(0., 0., 0.), (0., 0., d)], cell=(10., 10., 10.))"
   ]
  },
  {
   "cell_type": "code",
   "execution_count": 4,
   "metadata": {
    "scrolled": true
   },
   "outputs": [
    {
     "name": "stdout",
     "output_type": "stream",
     "text": [
      "Symmetrically same structure found!\n",
      "Symmetrically same structure found!\n",
      "Symmetrically same structure found!\n",
      "Symmetrically same structure found!\n",
      "Symmetrically same structure found!\n",
      "Symmetrically same structure found!\n",
      "Symmetrically same structure found!\n",
      "Symmetrically same structure found!\n",
      "Symmetrically same structure found!\n",
      "Symmetrically same structure found!\n",
      "Symmetrically same structure found!\n",
      "Symmetrically same structure found!\n",
      "Symmetrically same structure found!\n"
     ]
    },
    {
     "data": {
      "text/plain": [
       "({'ontop': [array([ 0.        ,  0.        , 17.31812996]),\n",
       "   array([ 2.50699051,  0.        , 17.31812996]),\n",
       "   array([ 0.        ,  2.50699051, 17.31812996]),\n",
       "   array([ 2.50699051,  2.50699051, 17.31812996])],\n",
       "  'bridge': [array([ 0.        ,  3.76048576, 17.31812996]),\n",
       "   array([ 1.25349525,  2.50699051, 17.31812996]),\n",
       "   array([ 1.25349525,  3.76048576, 17.31812996]),\n",
       "   array([ 2.50699051,  3.76048576, 17.31812996]),\n",
       "   array([ 3.76048576,  3.76048576, 17.31812996]),\n",
       "   array([ 3.76048576,  2.50699051, 17.31812996]),\n",
       "   array([ 3.76048576,  0.        , 17.31812996]),\n",
       "   array([ 1.25349525,  0.        , 17.31812996]),\n",
       "   array([ 3.76048576,  1.25349525, 17.31812996]),\n",
       "   array([ 2.50699051,  1.25349525, 17.31812996]),\n",
       "   array([2.22665487e-15, 1.25349525e+00, 1.73181300e+01]),\n",
       "   array([ 1.25349525,  1.25349525, 17.31812996])],\n",
       "  'hollow': [],\n",
       "  'all': [array([ 0.        ,  0.        , 17.31812996]),\n",
       "   array([ 2.50699051,  0.        , 17.31812996]),\n",
       "   array([ 0.        ,  2.50699051, 17.31812996]),\n",
       "   array([ 2.50699051,  2.50699051, 17.31812996]),\n",
       "   array([ 0.        ,  1.25349525, 17.31812996]),\n",
       "   array([ 1.25349525,  0.        , 17.31812996]),\n",
       "   array([ 1.25349525,  1.25349525, 17.31812996]),\n",
       "   array([ 2.50699051,  1.25349525, 17.31812996]),\n",
       "   array([ 1.25349525,  2.50699051, 17.31812996]),\n",
       "   array([ 3.76048576,  2.50699051, 17.31812996]),\n",
       "   array([ 3.76048576,  1.25349525, 17.31812996]),\n",
       "   array([ 3.76048576,  0.        , 17.31812996]),\n",
       "   array([ 2.50699051,  3.76048576, 17.31812996]),\n",
       "   array([ 1.25349525,  3.76048576, 17.31812996]),\n",
       "   array([ 0.        ,  3.76048576, 17.31812996]),\n",
       "   array([ 3.76048576,  3.76048576, 17.31812996])]},\n",
       " [])"
      ]
     },
     "execution_count": 4,
     "metadata": {},
     "output_type": "execute_result"
    }
   ],
   "source": [
    "sites0_ = baresites['all']\n",
    "sites0 = [list(i) for i in sites0_]\n",
    "\n",
    "group = creategroup(bareatoms, sites0)\n",
    "\n",
    "rused = []\n",
    "for i in reversed(range(len(sites0))):\n",
    "    for j in range(len(poslis)):\n",
    "        if np.allclose(sites0[i][:2], poslis[j][:2]):\n",
    "            tmp = sites0.pop(i)\n",
    "            rused.append(tmp)\n",
    "baresites, rused"
   ]
  },
  {
   "cell_type": "code",
   "execution_count": 5,
   "metadata": {
    "scrolled": true
   },
   "outputs": [
    {
     "data": {
      "text/plain": [
       "[[[0.0, 0.0, 17.3181299622],\n",
       "  [2.5069905063353186, 0.0, 17.3181299622],\n",
       "  [0.0, 2.5069905063353186, 17.3181299622],\n",
       "  [2.5069905063353186, 2.5069905063353186, 17.3181299622]],\n",
       " [[0.0, 1.2534952531676593, 17.3181299622],\n",
       "  [1.2534952531676593, 0.0, 17.3181299622],\n",
       "  [2.5069905063353186, 1.2534952531676593, 17.3181299622],\n",
       "  [1.2534952531676593, 2.5069905063353186, 17.3181299622],\n",
       "  [3.760485759502978, 2.5069905063353186, 17.3181299622],\n",
       "  [3.760485759502978, 0.0, 17.3181299622],\n",
       "  [2.5069905063353186, 3.760485759502978, 17.3181299622],\n",
       "  [0.0, 3.760485759502978, 17.3181299622]],\n",
       " [[1.2534952531676593, 1.2534952531676593, 17.3181299622],\n",
       "  [3.760485759502978, 1.2534952531676593, 17.3181299622],\n",
       "  [1.2534952531676593, 3.760485759502978, 17.3181299622],\n",
       "  [3.760485759502978, 3.76048575950298, 17.3181299622]]]"
      ]
     },
     "execution_count": 5,
     "metadata": {},
     "output_type": "execute_result"
    }
   ],
   "source": [
    "group"
   ]
  },
  {
   "cell_type": "code",
   "execution_count": 6,
   "metadata": {
    "scrolled": true
   },
   "outputs": [
    {
     "name": "stdout",
     "output_type": "stream",
     "text": [
      "Used initialized!\n",
      "1-------Ni16CO-------\n",
      "2-------Ni16COCO-------\n",
      "3-------Ni16COCOCO-------\n",
      "4-------Ni16COCOCOCO-------\n",
      "Distance 1.25 is below 2.5\n",
      "Distance 1.77 is below 2.5\n",
      "Distance 1.25 is below 2.5\n",
      "Distance 1.25 is below 2.5\n",
      "Distance 1.25 is below 2.5\n",
      "Distance 1.77 is below 2.5\n",
      "3-------Ni16COCOCO-------\n",
      "Distance 1.25 is below 2.5\n",
      "Distance 1.25 is below 2.5\n",
      "Distance 1.25 is below 2.5\n",
      "Distance 1.25 is below 2.5\n",
      "4-------Ni16COCOCOCO-------\n",
      "Distance 1.77 is below 2.5\n",
      "Distance 1.25 is below 2.5\n",
      "2-------Ni16COCO-------\n",
      "Symmetrically same structure found!\n",
      "Distance 1.25 is below 2.5\n",
      "Distance 1.77 is below 2.5\n",
      "Distance 1.25 is below 2.5\n",
      "Distance 1.77 is below 2.5\n",
      "2-------Ni16COCO-------\n",
      "Distance 1.25 is below 2.5\n",
      "Symmetrically same structure found!\n",
      "Distance 1.25 is below 2.5\n",
      "Distance 1.25 is below 2.5\n",
      "Distance 1.25 is below 2.5\n",
      "Distance 1.25 is below 2.5\n",
      "Distance 1.77 is below 2.5\n",
      "3-------Ni16COCOCO-------\n",
      "Distance 1.25 is below 2.5\n",
      "Symmetrically same structure found!\n",
      "Distance 1.25 is below 2.5\n",
      "Distance 1.25 is below 2.5\n",
      "Distance 1.25 is below 2.5\n",
      "Distance 1.25 is below 2.5\n",
      "Distance 1.77 is below 2.5\n",
      "Distance 1.77 is below 2.5\n",
      "Distance 1.25 is below 2.5\n",
      "Used initialized!\n",
      "1-------Ni16CO-------\n",
      "Distance 1.77 is below 2.5\n",
      "Distance 1.25 is below 2.5\n",
      "2-------Ni16COCO-------\n",
      "Distance 1.77 is below 2.5\n",
      "Distance 1.25 is below 2.5\n",
      "3-------Ni16COCOCO-------\n",
      "Distance 1.77 is below 2.5\n",
      "Distance 1.25 is below 2.5\n",
      "Distance 1.25 is below 2.5\n",
      "4-------Ni16COCOCOCO-------\n",
      "3-------Ni16COCOCO-------\n",
      "Distance 1.25 is below 2.5\n",
      "Distance 1.25 is below 2.5\n",
      "Distance 1.77 is below 2.5\n",
      "Distance 1.25 is below 2.5\n",
      "Distance 1.25 is below 2.5\n",
      "4-------Ni16COCOCOCO-------\n",
      "2-------Ni16COCO-------\n",
      "Distance 1.77 is below 2.5\n",
      "Distance 1.25 is below 2.5\n",
      "Symmetrically same structure found!\n",
      "2-------Ni16COCO-------\n",
      "Distance 1.25 is below 2.5\n",
      "Distance 1.25 is below 2.5\n",
      "Symmetrically same structure found!\n",
      "Distance 1.77 is below 2.5\n",
      "Distance 1.25 is below 2.5\n",
      "Distance 1.25 is below 2.5\n",
      "Distance 1.25 is below 2.5\n",
      "3-------Ni16COCOCO-------\n",
      "Distance 1.25 is below 2.5\n",
      "Distance 1.25 is below 2.5\n",
      "Symmetrically same structure found!\n",
      "Distance 1.25 is below 2.5\n",
      "Distance 1.25 is below 2.5\n",
      "2-------Ni16COCO-------\n",
      "Distance 1.77 is below 2.5\n",
      "Distance 1.25 is below 2.5\n",
      "Symmetrically same structure found!\n",
      "Used initialized!\n",
      "1-------Ni16CO-------\n",
      "2-------Ni16COCO-------\n",
      "3-------Ni16COCOCO-------\n",
      "4-------Ni16COCOCOCO-------\n",
      "2-------Ni16COCO-------\n",
      "Symmetrically same structure found!\n"
     ]
    }
   ],
   "source": [
    "allatoms, allused, mindistlis, numdict, molenum \\\n",
    "    = getuniqueatoms(atoms, bareatoms, sites0, maxmole, mindist, rused, group, molecule)"
   ]
  },
  {
   "cell_type": "code",
   "execution_count": 7,
   "metadata": {
    "scrolled": true
   },
   "outputs": [
    {
     "name": "stdout",
     "output_type": "stream",
     "text": [
      "24\n",
      "1 3\n",
      "2 9\n",
      "3 7\n",
      "4 5\n"
     ]
    }
   ],
   "source": [
    "print(len(allatoms))\n",
    "\n",
    "for num in numdict:\n",
    "    print(num, numdict[num])"
   ]
  },
  {
   "cell_type": "code",
   "execution_count": 8,
   "metadata": {
    "scrolled": true
   },
   "outputs": [
    {
     "data": {
      "text/plain": [
       "[5.013981012670637,\n",
       " 2.5069905063353186,\n",
       " 2.5069905063353186,\n",
       " 2.5069905063353186,\n",
       " 2.5069905063353186,\n",
       " 2.5069905063353177,\n",
       " 3.5454199748,\n",
       " 2.8029005955561948,\n",
       " 2.5069905063353177,\n",
       " 5.013981012670637,\n",
       " 2.5069905063353186,\n",
       " 2.5069905063353177,\n",
       " 2.5069905063353177,\n",
       " 2.5069905063353186,\n",
       " 2.5069905063353177,\n",
       " 3.5454199747999997,\n",
       " 2.802900595556194,\n",
       " 2.5069905063353177,\n",
       " 2.5069905063353177,\n",
       " 5.013981012670637,\n",
       " 2.5069905063353177,\n",
       " 2.5069905063353177,\n",
       " 2.5069905063353164,\n",
       " 3.545419974799998]"
      ]
     },
     "execution_count": 8,
     "metadata": {},
     "output_type": "execute_result"
    }
   ],
   "source": [
    "mindistlis"
   ]
  },
  {
   "cell_type": "code",
   "execution_count": 9,
   "metadata": {
    "scrolled": true
   },
   "outputs": [],
   "source": [
    "count = 0\n",
    "indexlist = []\n",
    "for i in range(len(mindistlis)):\n",
    "    if mindistlis[i] > 2.5:\n",
    "        indexlist.append(i)\n",
    "        count += 1\n",
    "# count, indexlist"
   ]
  },
  {
   "cell_type": "code",
   "execution_count": 10,
   "metadata": {
    "scrolled": false
   },
   "outputs": [],
   "source": [
    "# for i in range(len(allatoms)): # len(allatoms)\n",
    "# #     if 'COCOCOCOCO' in str(allatoms[i].symbols):\n",
    "#     view(allatoms[i])\n",
    "#     print(allatoms[i].symbols)\n",
    "# #         print('a')"
   ]
  },
  {
   "cell_type": "code",
   "execution_count": 11,
   "metadata": {
    "scrolled": true
   },
   "outputs": [
    {
     "name": "stdout",
     "output_type": "stream",
     "text": [
      "Ni_100_u2_no001_CO_n1_d8.traj\n",
      "Ni_100_u2_no002_CO_n2_d3.traj\n",
      "Ni_100_u2_no003_CO_n3_d3.traj\n",
      "Ni_100_u2_no004_CO_n4_d3.traj\n",
      "Ni_100_u2_no005_CO_n3_d3.traj\n",
      "Ni_100_u2_no006_CO_n4_d3.traj\n",
      "Ni_100_u2_no007_CO_n2_d5.traj\n",
      "Ni_100_u2_no008_CO_n2_d3.traj\n",
      "Ni_100_u2_no009_CO_n3_d3.traj\n",
      "Ni_100_u2_no010_CO_n1_d8.traj\n",
      "Ni_100_u2_no011_CO_n2_d3.traj\n",
      "Ni_100_u2_no012_CO_n3_d3.traj\n",
      "Ni_100_u2_no013_CO_n4_d3.traj\n",
      "Ni_100_u2_no014_CO_n3_d3.traj\n",
      "Ni_100_u2_no015_CO_n4_d3.traj\n",
      "Ni_100_u2_no016_CO_n2_d5.traj\n",
      "Ni_100_u2_no017_CO_n2_d3.traj\n",
      "Ni_100_u2_no018_CO_n3_d3.traj\n",
      "Ni_100_u2_no019_CO_n2_d3.traj\n",
      "Ni_100_u2_no020_CO_n1_d8.traj\n",
      "Ni_100_u2_no021_CO_n2_d3.traj\n",
      "Ni_100_u2_no022_CO_n3_d3.traj\n",
      "Ni_100_u2_no023_CO_n4_d3.traj\n",
      "Ni_100_u2_no024_CO_n2_d5.traj\n"
     ]
    }
   ],
   "source": [
    "for i in range(len(allatoms)):\n",
    "#     if 'COCOCOCOCO' in str(allatoms[i].symbols):\n",
    "    outname = name + str('_no') + str('{0:03d}'.format(i+1)) +'_CO_n' + str(molenum[i]) + str('_d') + str(int(np.ceil(mindistlis[i]/0.5)-3))  + '.traj'\n",
    "    print(outname)\n",
    "    outpath = '/home/katsuyut/init/' + str(outname)\n",
    "    allatoms[i].write(outpath)"
   ]
  },
  {
   "cell_type": "code",
   "execution_count": null,
   "metadata": {},
   "outputs": [],
   "source": []
  }
 ],
 "metadata": {
  "kernelspec": {
   "display_name": "Python 3",
   "language": "python",
   "name": "python3"
  },
  "language_info": {
   "codemirror_mode": {
    "name": "ipython",
    "version": 3
   },
   "file_extension": ".py",
   "mimetype": "text/x-python",
   "name": "python",
   "nbconvert_exporter": "python",
   "pygments_lexer": "ipython3",
   "version": "3.6.7"
  }
 },
 "nbformat": 4,
 "nbformat_minor": 2
}
