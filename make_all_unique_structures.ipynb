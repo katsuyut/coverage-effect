{
 "cells": [
  {
   "cell_type": "code",
   "execution_count": 1,
   "metadata": {},
   "outputs": [],
   "source": [
    "from MAUtil import *\n",
    "from MAInit import *\n",
    "import time"
   ]
  },
  {
   "cell_type": "code",
   "execution_count": 2,
   "metadata": {},
   "outputs": [],
   "source": [
    "#############################################################################3\n",
    "# name = 'Au_111_u2'\n",
    "# name = 'Au_100_u2'\n",
    "# name = 'Pd_111_u2'\n",
    "# name = 'Pd_100_u2'\n",
    "# name = 'Al_111_u2'\n",
    "# name = 'Al_100_u2'\n",
    "# name = 'Ni_111_u2'\n",
    "# name = 'Ni_100_u1'\n",
    "# name = 'Ru_0001_u2'\n",
    "name = 'Zn_0001_u2'\n",
    "# name = 'Rh_111_u2'\n",
    "# name = 'Rh_100_u2'\n",
    "name = 'Ag_100_u2_no03_CO_n3_d3'\n",
    "name = 'Cu_100_u2_RPBE'"
   ]
  },
  {
   "cell_type": "code",
   "execution_count": 3,
   "metadata": {},
   "outputs": [
    {
     "ename": "AttributeError",
     "evalue": "'str' object has no attribute 'symbols'",
     "output_type": "error",
     "traceback": [
      "\u001b[0;31m---------------------------------------------------\u001b[0m",
      "\u001b[0;31mAttributeError\u001b[0m    Traceback (most recent call last)",
      "\u001b[0;32m<ipython-input-3-448748164c16>\u001b[0m in \u001b[0;36m<module>\u001b[0;34m\u001b[0m\n\u001b[1;32m      1\u001b[0m \u001b[0msur\u001b[0m \u001b[0;34m=\u001b[0m \u001b[0mmake_adsorbed_surface\u001b[0m\u001b[0;34m(\u001b[0m\u001b[0;34m'Cu_100_u2_RPBE'\u001b[0m\u001b[0;34m,\u001b[0m \u001b[0;34m'CO'\u001b[0m\u001b[0;34m)\u001b[0m\u001b[0;34m\u001b[0m\u001b[0;34m\u001b[0m\u001b[0m\n\u001b[0;32m----> 2\u001b[0;31m \u001b[0msur\u001b[0m\u001b[0;34m.\u001b[0m\u001b[0mmake_surface\u001b[0m\u001b[0;34m(\u001b[0m\u001b[0mmaxmole\u001b[0m\u001b[0;34m=\u001b[0m\u001b[0;36m2\u001b[0m\u001b[0;34m,\u001b[0m \u001b[0mmindist\u001b[0m\u001b[0;34m=\u001b[0m\u001b[0;36m0.0001\u001b[0m\u001b[0;34m)\u001b[0m\u001b[0;34m\u001b[0m\u001b[0;34m\u001b[0m\u001b[0m\n\u001b[0m",
      "\u001b[0;32m~/research/coverage-effect/modules/MAInit.py\u001b[0m in \u001b[0;36mmake_surface\u001b[0;34m(self, maxmole, mindist)\u001b[0m\n\u001b[1;32m    336\u001b[0m \u001b[0;34m\u001b[0m\u001b[0m\n\u001b[1;32m    337\u001b[0m     \u001b[0;32mdef\u001b[0m \u001b[0mmake_surface\u001b[0m\u001b[0;34m(\u001b[0m\u001b[0mself\u001b[0m\u001b[0;34m,\u001b[0m \u001b[0mmaxmole\u001b[0m\u001b[0;34m,\u001b[0m \u001b[0mmindist\u001b[0m\u001b[0;34m)\u001b[0m\u001b[0;34m:\u001b[0m\u001b[0;34m\u001b[0m\u001b[0;34m\u001b[0m\u001b[0m\n\u001b[0;32m--> 338\u001b[0;31m         \u001b[0madseles\u001b[0m \u001b[0;34m=\u001b[0m \u001b[0mget_all_elements\u001b[0m\u001b[0;34m(\u001b[0m\u001b[0mself\u001b[0m\u001b[0;34m.\u001b[0m\u001b[0madsorbate\u001b[0m\u001b[0;34m)\u001b[0m\u001b[0;34m\u001b[0m\u001b[0;34m\u001b[0m\u001b[0m\n\u001b[0m\u001b[1;32m    339\u001b[0m         \u001b[0mbaresurface\u001b[0m\u001b[0;34m,\u001b[0m \u001b[0minitadsites\u001b[0m \u001b[0;34m=\u001b[0m \u001b[0mremove_adsorbate\u001b[0m\u001b[0;34m(\u001b[0m\u001b[0mself\u001b[0m\u001b[0;34m.\u001b[0m\u001b[0minitatoms\u001b[0m\u001b[0;34m,\u001b[0m \u001b[0madseles\u001b[0m\u001b[0;34m)\u001b[0m\u001b[0;34m\u001b[0m\u001b[0;34m\u001b[0m\u001b[0m\n\u001b[1;32m    340\u001b[0m         \u001b[0mbareadsites\u001b[0m \u001b[0;34m=\u001b[0m \u001b[0mget_adsorption_sites\u001b[0m\u001b[0;34m(\u001b[0m\u001b[0mbaresurface\u001b[0m\u001b[0;34m,\u001b[0m \u001b[0;32mFalse\u001b[0m\u001b[0;34m)\u001b[0m\u001b[0;34m\u001b[0m\u001b[0;34m\u001b[0m\u001b[0m\n",
      "\u001b[0;32m~/research/coverage-effect/modules/MAInit.py\u001b[0m in \u001b[0;36mget_all_elements\u001b[0;34m(atoms)\u001b[0m\n\u001b[1;32m     61\u001b[0m     \u001b[0matoms\u001b[0m\u001b[0;34m\u001b[0m\u001b[0;34m\u001b[0m\u001b[0m\n\u001b[1;32m     62\u001b[0m     \u001b[0melements\u001b[0m \u001b[0;34m=\u001b[0m \u001b[0;34m[\u001b[0m\u001b[0;34m]\u001b[0m\u001b[0;34m\u001b[0m\u001b[0;34m\u001b[0m\u001b[0m\n\u001b[0;32m---> 63\u001b[0;31m     \u001b[0;32mfor\u001b[0m \u001b[0mele\u001b[0m \u001b[0;32min\u001b[0m \u001b[0matoms\u001b[0m\u001b[0;34m.\u001b[0m\u001b[0msymbols\u001b[0m\u001b[0;34m:\u001b[0m\u001b[0;34m\u001b[0m\u001b[0;34m\u001b[0m\u001b[0m\n\u001b[0m\u001b[1;32m     64\u001b[0m         \u001b[0melements\u001b[0m\u001b[0;34m.\u001b[0m\u001b[0mappend\u001b[0m\u001b[0;34m(\u001b[0m\u001b[0mele\u001b[0m\u001b[0;34m)\u001b[0m\u001b[0;34m\u001b[0m\u001b[0;34m\u001b[0m\u001b[0m\n\u001b[1;32m     65\u001b[0m \u001b[0;34m\u001b[0m\u001b[0m\n",
      "\u001b[0;31mAttributeError\u001b[0m: 'str' object has no attribute 'symbols'"
     ]
    }
   ],
   "source": [
    "sur = make_adsorbed_surface('Cu_100_u2_RPBE', 'CO')\n",
    "sur.make_surface(maxmole=2, mindist=0.0001)"
   ]
  },
  {
   "cell_type": "code",
   "execution_count": 4,
   "metadata": {},
   "outputs": [
    {
     "name": "stdout",
     "output_type": "stream",
     "text": [
      "Cu_100_u2_RPBE_no001_CO_n1_d8.traj\n",
      "Cu_100_u2_RPBE_no002_CO_n2_d3.traj\n",
      "Cu_100_u2_RPBE_no003_CO_n2_d5.traj\n",
      "Cu_100_u2_RPBE_no004_CO_n2_d3.traj\n",
      "Cu_100_u2_RPBE_no005_CO_n2_d1.traj\n",
      "Cu_100_u2_RPBE_no006_CO_n2_d0.traj\n",
      "Cu_100_u2_RPBE_no007_CO_n1_d8.traj\n",
      "Cu_100_u2_RPBE_no008_CO_n2_d1.traj\n",
      "Cu_100_u2_RPBE_no009_CO_n2_d0.traj\n",
      "Cu_100_u2_RPBE_no010_CO_n2_d3.traj\n",
      "Cu_100_u2_RPBE_no011_CO_n2_d5.traj\n",
      "Cu_100_u2_RPBE_no012_CO_n2_d3.traj\n",
      "Cu_100_u2_RPBE_no013_CO_n2_d3.traj\n",
      "Cu_100_u2_RPBE_no014_CO_n1_d8.traj\n",
      "Cu_100_u2_RPBE_no015_CO_n2_d3.traj\n",
      "Cu_100_u2_RPBE_no016_CO_n2_d5.traj\n"
     ]
    }
   ],
   "source": [
    "sur.write_trajectory()"
   ]
  },
  {
   "cell_type": "code",
   "execution_count": null,
   "metadata": {},
   "outputs": [],
   "source": []
  },
  {
   "cell_type": "code",
   "execution_count": null,
   "metadata": {},
   "outputs": [],
   "source": []
  },
  {
   "cell_type": "code",
   "execution_count": null,
   "metadata": {},
   "outputs": [],
   "source": []
  },
  {
   "cell_type": "code",
   "execution_count": null,
   "metadata": {
    "scrolled": true
   },
   "outputs": [],
   "source": []
  }
 ],
 "metadata": {
  "kernelspec": {
   "display_name": "Python 3",
   "language": "python",
   "name": "python3"
  },
  "language_info": {
   "codemirror_mode": {
    "name": "ipython",
    "version": 3
   },
   "file_extension": ".py",
   "mimetype": "text/x-python",
   "name": "python",
   "nbconvert_exporter": "python",
   "pygments_lexer": "ipython3",
   "version": "3.6.9"
  }
 },
 "nbformat": 4,
 "nbformat_minor": 2
}
