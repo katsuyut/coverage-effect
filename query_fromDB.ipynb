{
 "cells": [
  {
   "cell_type": "code",
   "execution_count": 1,
   "metadata": {
    "scrolled": false
   },
   "outputs": [],
   "source": [
    "from MAUtil import *\n",
    "from MAPost import *\n",
    "from MAInit import *\n",
    "import re\n",
    "import pandas as pd\n",
    "pd.set_option('display.max_rows', 500)\n",
    "pd.set_option('display.max_columns', 500)\n",
    "env = 'local'"
   ]
  },
  {
   "cell_type": "code",
   "execution_count": 2,
   "metadata": {},
   "outputs": [],
   "source": [
    "from pymongo import MongoClient\n",
    "client = MongoClient('localhost', 27017)\n",
    "\n",
    "db = client.database\n",
    "collection = db.adsE_collection"
   ]
  },
  {
   "cell_type": "code",
   "execution_count": 3,
   "metadata": {
    "scrolled": true
   },
   "outputs": [],
   "source": [
    "formulas = ['Ag', 'Al', 'Au', 'Cu', 'Pt', 'Pd', 'Ni', 'Rh']\n",
    "faces = ['100', '111']\n",
    "# faces = ['100', '111', '110', '211']\n",
    "\n",
    "dictlis = []\n",
    "\n",
    "for ele in formulas:\n",
    "    for face in faces:\n",
    "        dicte = {'formula':ele, 'face':face}\n",
    "        dictlis.append(dicte)\n",
    "\n",
    "# dictlis.append({'formula':'Ru', 'face':'001'})\n",
    "# dictlis.append({'formula':'Ru', 'face':'100'})\n",
    "# dictlis.append({'formula':'Zn', 'face':'001'})\n",
    "# dictlis.append({'formula':'Zn', 'face':'100'})\n",
    "# dictlis.append({'formula':'ZnCu', 'face':'100'})\n",
    "# dictlis.append({'formula':'ZnCu', 'face':'110'})\n",
    "# dictlis.append({'formula':'CuSn', 'face':'100'})\n",
    "# dictlis.append({'formula':'CuSn', 'face':'001'})\n",
    "# dictlis.append({'formula':'CoPt3', 'face':'100'})\n",
    "# dictlis.append({'formula':'GaNi', 'face':'110'})"
   ]
  },
  {
   "cell_type": "code",
   "execution_count": 4,
   "metadata": {},
   "outputs": [],
   "source": [
    "inst = []\n",
    "dfall = []\n",
    "df = []\n",
    "dfpred = []\n",
    "dfpred_onlyformula = []\n",
    "\n",
    "for i in range(len(dictlis)):\n",
    "    try:\n",
    "        du = dataset_utilizer('adsE_method2_new', **dictlis[i])\n",
    "        inst.append(du)\n",
    "        dfall.append(du.dfall)\n",
    "        df.append(du.df)\n",
    "        dfpred.append(du.dfpred)\n",
    "        dfpred_onlyformula.append(du.dfpred_onlyformula)\n",
    "    except:\n",
    "        print('Error: {0}'.format(dictlis[i]))"
   ]
  },
  {
   "cell_type": "code",
   "execution_count": 5,
   "metadata": {
    "scrolled": false
   },
   "outputs": [
    {
     "name": "stderr",
     "output_type": "stream",
     "text": [
      "/home/katsuyut/.local/lib/python3.6/site-packages/ipykernel_launcher.py:6: UserWarning: Boolean Series key will be reindexed to match DataFrame index.\n",
      "  \n"
     ]
    },
    {
     "data": {
      "text/html": [
       "<div>\n",
       "<style scoped>\n",
       "    .dataframe tbody tr th:only-of-type {\n",
       "        vertical-align: middle;\n",
       "    }\n",
       "\n",
       "    .dataframe tbody tr th {\n",
       "        vertical-align: top;\n",
       "    }\n",
       "\n",
       "    .dataframe thead th {\n",
       "        text-align: right;\n",
       "    }\n",
       "</style>\n",
       "<table border=\"1\" class=\"dataframe\">\n",
       "  <thead>\n",
       "    <tr style=\"text-align: right;\">\n",
       "      <th></th>\n",
       "      <th>_id</th>\n",
       "      <th>name</th>\n",
       "      <th>isvalid</th>\n",
       "      <th>ispredictable</th>\n",
       "      <th>formula</th>\n",
       "      <th>face</th>\n",
       "      <th>unitlength</th>\n",
       "      <th>xc</th>\n",
       "      <th>adsorbate</th>\n",
       "      <th>numberofads</th>\n",
       "      <th>coverage</th>\n",
       "      <th>surfatomnum</th>\n",
       "      <th>E</th>\n",
       "      <th>bareE</th>\n",
       "      <th>E_ads</th>\n",
       "      <th>totaladsE</th>\n",
       "      <th>aveadsE/suratom</th>\n",
       "      <th>aveadsE/ads</th>\n",
       "      <th>E_int_space</th>\n",
       "      <th>sumE_each_ads</th>\n",
       "      <th>E_residue/suratom</th>\n",
       "      <th>area</th>\n",
       "      <th>density</th>\n",
       "      <th>igroups</th>\n",
       "      <th>rgroups</th>\n",
       "      <th>converged</th>\n",
       "      <th>is_adsorbed</th>\n",
       "      <th>kept_sites</th>\n",
       "      <th>E_not_exceeded</th>\n",
       "      <th>minimum_distance</th>\n",
       "      <th>ads_dist2</th>\n",
       "      <th>ads_dist3</th>\n",
       "    </tr>\n",
       "  </thead>\n",
       "  <tbody>\n",
       "    <tr>\n",
       "      <th>0</th>\n",
       "      <td>5efd2747362383004487898c</td>\n",
       "      <td>Cu_100_u2_RPBE_no001_CO_n1_d8.traj</td>\n",
       "      <td>yes</td>\n",
       "      <td>no</td>\n",
       "      <td>Cu</td>\n",
       "      <td>100</td>\n",
       "      <td>2</td>\n",
       "      <td>RPBE</td>\n",
       "      <td>CO</td>\n",
       "      <td>1</td>\n",
       "      <td>0.25</td>\n",
       "      <td>4</td>\n",
       "      <td>-63.011169</td>\n",
       "      <td>-47.974624</td>\n",
       "      <td>-14.485436</td>\n",
       "      <td>-0.551108</td>\n",
       "      <td>-0.137777</td>\n",
       "      <td>-0.551108</td>\n",
       "      <td>0.001661</td>\n",
       "      <td>NaN</td>\n",
       "      <td>NaN</td>\n",
       "      <td>27.04373</td>\n",
       "      <td>0.036977</td>\n",
       "      <td>[2]</td>\n",
       "      <td>[2]</td>\n",
       "      <td>yes</td>\n",
       "      <td>yes</td>\n",
       "      <td>yes</td>\n",
       "      <td>yes</td>\n",
       "      <td>Over 4</td>\n",
       "      <td>0.0</td>\n",
       "      <td>0.0</td>\n",
       "    </tr>\n",
       "    <tr>\n",
       "      <th>3</th>\n",
       "      <td>5efd275c3623830044878992</td>\n",
       "      <td>Cu_100_u2_RPBE_no003_CO_n1_d8.traj</td>\n",
       "      <td>yes</td>\n",
       "      <td>no</td>\n",
       "      <td>Cu</td>\n",
       "      <td>100</td>\n",
       "      <td>2</td>\n",
       "      <td>RPBE</td>\n",
       "      <td>CO</td>\n",
       "      <td>1</td>\n",
       "      <td>0.25</td>\n",
       "      <td>4</td>\n",
       "      <td>-62.944016</td>\n",
       "      <td>-47.974624</td>\n",
       "      <td>-14.485436</td>\n",
       "      <td>-0.483955</td>\n",
       "      <td>-0.120989</td>\n",
       "      <td>-0.483955</td>\n",
       "      <td>0.001661</td>\n",
       "      <td>NaN</td>\n",
       "      <td>NaN</td>\n",
       "      <td>27.04373</td>\n",
       "      <td>0.036977</td>\n",
       "      <td>[1]</td>\n",
       "      <td>[1]</td>\n",
       "      <td>yes</td>\n",
       "      <td>yes</td>\n",
       "      <td>yes</td>\n",
       "      <td>yes</td>\n",
       "      <td>3</td>\n",
       "      <td>0.0</td>\n",
       "      <td>0.5</td>\n",
       "    </tr>\n",
       "    <tr>\n",
       "      <th>1</th>\n",
       "      <td>5efd274b362383004487898e</td>\n",
       "      <td>Cu_100_u2_RPBE_no002_CO_n1_d8.traj</td>\n",
       "      <td>yes</td>\n",
       "      <td>no</td>\n",
       "      <td>Cu</td>\n",
       "      <td>100</td>\n",
       "      <td>2</td>\n",
       "      <td>RPBE</td>\n",
       "      <td>CO</td>\n",
       "      <td>1</td>\n",
       "      <td>0.25</td>\n",
       "      <td>4</td>\n",
       "      <td>-62.855458</td>\n",
       "      <td>-47.974624</td>\n",
       "      <td>-14.485436</td>\n",
       "      <td>-0.395398</td>\n",
       "      <td>-0.098850</td>\n",
       "      <td>-0.395398</td>\n",
       "      <td>0.001661</td>\n",
       "      <td>NaN</td>\n",
       "      <td>NaN</td>\n",
       "      <td>27.04373</td>\n",
       "      <td>0.036977</td>\n",
       "      <td>[0]</td>\n",
       "      <td>[0]</td>\n",
       "      <td>yes</td>\n",
       "      <td>yes</td>\n",
       "      <td>yes</td>\n",
       "      <td>yes</td>\n",
       "      <td>3</td>\n",
       "      <td>0.0</td>\n",
       "      <td>0.5</td>\n",
       "    </tr>\n",
       "  </tbody>\n",
       "</table>\n",
       "</div>"
      ],
      "text/plain": [
       "                        _id                                name isvalid  \\\n",
       "0  5efd2747362383004487898c  Cu_100_u2_RPBE_no001_CO_n1_d8.traj     yes   \n",
       "3  5efd275c3623830044878992  Cu_100_u2_RPBE_no003_CO_n1_d8.traj     yes   \n",
       "1  5efd274b362383004487898e  Cu_100_u2_RPBE_no002_CO_n1_d8.traj     yes   \n",
       "\n",
       "  ispredictable formula face  unitlength    xc adsorbate  numberofads  \\\n",
       "0            no      Cu  100           2  RPBE        CO            1   \n",
       "3            no      Cu  100           2  RPBE        CO            1   \n",
       "1            no      Cu  100           2  RPBE        CO            1   \n",
       "\n",
       "   coverage  surfatomnum          E      bareE      E_ads  totaladsE  \\\n",
       "0      0.25            4 -63.011169 -47.974624 -14.485436  -0.551108   \n",
       "3      0.25            4 -62.944016 -47.974624 -14.485436  -0.483955   \n",
       "1      0.25            4 -62.855458 -47.974624 -14.485436  -0.395398   \n",
       "\n",
       "   aveadsE/suratom  aveadsE/ads  E_int_space  sumE_each_ads  \\\n",
       "0        -0.137777    -0.551108     0.001661            NaN   \n",
       "3        -0.120989    -0.483955     0.001661            NaN   \n",
       "1        -0.098850    -0.395398     0.001661            NaN   \n",
       "\n",
       "   E_residue/suratom      area   density igroups rgroups converged  \\\n",
       "0                NaN  27.04373  0.036977     [2]     [2]       yes   \n",
       "3                NaN  27.04373  0.036977     [1]     [1]       yes   \n",
       "1                NaN  27.04373  0.036977     [0]     [0]       yes   \n",
       "\n",
       "  is_adsorbed kept_sites E_not_exceeded minimum_distance  ads_dist2  ads_dist3  \n",
       "0         yes        yes            yes           Over 4        0.0        0.0  \n",
       "3         yes        yes            yes                3        0.0        0.5  \n",
       "1         yes        yes            yes                3        0.0        0.5  "
      ]
     },
     "execution_count": 5,
     "metadata": {},
     "output_type": "execute_result"
    }
   ],
   "source": [
    "id = 6\n",
    "numberofads = 1\n",
    "dfall[id]\n",
    "dfall[id][dfall[id]['numberofads']==2]\n",
    "# dfall[id][dfall[id]['isvalid']=='yes']\n",
    "dfall[id][dfall[id]['isvalid']=='yes'][dfall[id]['numberofads']==numberofads].sort_values(by=['aveadsE/suratom'])"
   ]
  },
  {
   "cell_type": "code",
   "execution_count": 6,
   "metadata": {},
   "outputs": [
    {
     "name": "stderr",
     "output_type": "stream",
     "text": [
      "/home/katsuyut/.local/lib/python3.6/site-packages/ase/io/jsonio.py:122: VisibleDeprecationWarning: Creating an ndarray from ragged nested sequences (which is a list-or-tuple of lists-or-tuples-or ndarrays with different lengths or shapes) is deprecated. If you meant to do this, you must specify 'dtype=object' when creating the ndarray\n",
      "  a = np.array(obj)\n"
     ]
    },
    {
     "data": {
      "text/plain": [
       "Atoms(symbols='Cu16CO', pbc=[True, True, False], cell=[[5.200358657806354, 0.0, 3e-16], [8e-16, 5.200358657806353, 3e-16], [0.0, 0.0, 44.12650645844454]], tags=..., constraint=FixAtoms(indices=[2, 3, 6, 7, 10, 11, 14, 15]), calculator=SinglePointCalculator(...))"
      ]
     },
     "execution_count": 6,
     "metadata": {},
     "output_type": "execute_result"
    }
   ],
   "source": [
    "num = 1\n",
    "name = dfall[id]['name'][num]\n",
    "allname = name[:-5] + '_all.traj'\n",
    "# init_query(name,'local')\n",
    "# query(allname, 'local')\n",
    "query(name, 'local')"
   ]
  },
  {
   "cell_type": "code",
   "execution_count": null,
   "metadata": {},
   "outputs": [],
   "source": []
  },
  {
   "cell_type": "code",
   "execution_count": 7,
   "metadata": {},
   "outputs": [
    {
     "data": {
      "text/plain": [
       "Atoms(symbols='Ag12COCOCO', pbc=[True, True, False], cell=[[5.958370913658995, 0.0, 4e-16], [-2.9791854568294998, 5.160100576398985, -1e-15], [0.0, 0.0, 36.487421091763366]], tags=..., constraint=FixAtoms(indices=[0, 3, 6, 9]), calculator=SinglePointCalculator(...))"
      ]
     },
     "execution_count": 7,
     "metadata": {},
     "output_type": "execute_result"
    }
   ],
   "source": [
    "name = 'Ag_111_u2_RPBE_no005_CO_n3_d3'\n",
    "traj = name + '.traj'\n",
    "alltraj = name + '_all.traj'\n",
    "query(traj, 'local')\n",
    "# query(alltraj, 'local')"
   ]
  },
  {
   "cell_type": "code",
   "execution_count": null,
   "metadata": {},
   "outputs": [],
   "source": []
  },
  {
   "cell_type": "code",
   "execution_count": 13,
   "metadata": {},
   "outputs": [
    {
     "data": {
      "text/plain": [
       "0    -0.028217\n",
       "1    -0.033471\n",
       "2    -0.057836\n",
       "3    -0.023797\n",
       "4    -0.032496\n",
       "5     0.032020\n",
       "6     0.011687\n",
       "7     0.003992\n",
       "8     0.016173\n",
       "9    -0.020375\n",
       "10   -0.070571\n",
       "11    0.000719\n",
       "12   -0.002760\n",
       "13   -0.006197\n",
       "14   -0.099898\n",
       "15    0.046062\n",
       "16   -0.015320\n",
       "17   -0.008209\n",
       "18   -0.051760\n",
       "19    0.047162\n",
       "20   -0.009531\n",
       "Name: E_residue/suratom, dtype: float64"
      ]
     },
     "execution_count": 13,
     "metadata": {},
     "output_type": "execute_result"
    }
   ],
   "source": [
    "dfpred[2]['E_residue/suratom']"
   ]
  },
  {
   "cell_type": "code",
   "execution_count": null,
   "metadata": {},
   "outputs": [],
   "source": []
  }
 ],
 "metadata": {
  "kernelspec": {
   "display_name": "Python 3",
   "language": "python",
   "name": "python3"
  },
  "language_info": {
   "codemirror_mode": {
    "name": "ipython",
    "version": 3
   },
   "file_extension": ".py",
   "mimetype": "text/x-python",
   "name": "python",
   "nbconvert_exporter": "python",
   "pygments_lexer": "ipython3",
   "version": "3.6.9"
  }
 },
 "nbformat": 4,
 "nbformat_minor": 2
}
