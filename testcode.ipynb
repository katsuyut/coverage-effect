{
 "cells": [
  {
   "cell_type": "code",
   "execution_count": 1,
   "metadata": {
    "scrolled": false
   },
   "outputs": [],
   "source": [
    "import numpy as np\n",
    "import sys, os, random, itertools, warnings, math, copy\n",
    "from ase import Atoms, Atom\n",
    "from ase.build import fcc100, fcc111, fcc110, bcc100, bcc111, bcc110, add_adsorbate, rotate\n",
    "from ase.constraints import FixAtoms\n",
    "from ase.io import read, write\n",
    "from pymatgen.io.ase import AseAtomsAdaptor\n",
    "from pymatgen.analysis.adsorption import AdsorbateSiteFinder\n",
    "from pymatgen.symmetry.analyzer import SpacegroupAnalyzer\n",
    "\n",
    "import itertools"
   ]
  },
  {
   "cell_type": "code",
   "execution_count": 2,
   "metadata": {
    "scrolled": true
   },
   "outputs": [],
   "source": [
    "# from MAInit import *\n",
    "from MAUtil import *\n",
    "atoms = query('Cu_100_u2.traj', 'spacom')"
   ]
  },
  {
   "cell_type": "code",
   "execution_count": 3,
   "metadata": {},
   "outputs": [],
   "source": [
    "struct = AseAtomsAdaptor.get_structure(atoms)\n",
    "sites_dict = AdsorbateSiteFinder(struct).find_adsorption_sites(put_inside=True, symm_reduce=0)\n",
    "sites_dict = AdsorbateSiteFinder(struct).find_adsorption_sites(put_inside=True, symm_reduce=0)\n",
    "sites = sites_dict['all']"
   ]
  },
  {
   "cell_type": "code",
   "execution_count": 4,
   "metadata": {},
   "outputs": [],
   "source": [
    "adatoms = query('CO.traj', 'spacom')\n",
    "molecule = AseAtomsAdaptor.get_structure(adatoms)"
   ]
  },
  {
   "cell_type": "code",
   "execution_count": 19,
   "metadata": {
    "scrolled": true
   },
   "outputs": [
    {
     "name": "stdout",
     "output_type": "stream",
     "text": [
      "99 4mm P4mm\n",
      "99 4mm P4mm\n",
      "99 4mm P4mm\n",
      "99 4mm P4mm\n",
      "25 mm2 Pmm2\n",
      "25 mm2 Pmm2\n",
      "99 4mm P4mm\n",
      "25 mm2 Pmm2\n",
      "25 mm2 Pmm2\n",
      "25 mm2 Pmm2\n",
      "25 mm2 Pmm2\n",
      "99 4mm P4mm\n",
      "25 mm2 Pmm2\n",
      "25 mm2 Pmm2\n",
      "99 4mm P4mm\n",
      "99 4mm P4mm\n",
      "25 mm2 Pmm2\n",
      "25 mm2 Pmm2\n",
      "99 4mm P4mm\n",
      "6 m Pm\n",
      "6 m Pm\n",
      "8 m Cm\n",
      "6 m Pm\n",
      "6 m Pm\n",
      "6 m Pm\n",
      "6 m Pm\n",
      "8 m Cm\n",
      "6 m Pm\n",
      "6 m Pm\n",
      "8 m Cm\n",
      "8 m Cm\n",
      "99 4mm P4mm\n",
      "25 mm2 Pmm2\n",
      "6 m Pm\n",
      "6 m Pm\n",
      "8 m Cm\n",
      "6 m Pm\n",
      "6 m Pm\n",
      "6 m Pm\n",
      "6 m Pm\n",
      "8 m Cm\n",
      "6 m Pm\n",
      "6 m Pm\n",
      "8 m Cm\n",
      "8 m Cm\n",
      "25 mm2 Pmm2\n",
      "6 m Pm\n",
      "6 m Pm\n",
      "8 m Cm\n",
      "6 m Pm\n",
      "6 m Pm\n",
      "6 m Pm\n",
      "6 m Pm\n",
      "8 m Cm\n",
      "6 m Pm\n",
      "6 m Pm\n",
      "8 m Cm\n",
      "8 m Cm\n",
      "6 m Pm\n",
      "6 m Pm\n",
      "8 m Cm\n",
      "6 m Pm\n",
      "6 m Pm\n",
      "6 m Pm\n",
      "6 m Pm\n",
      "8 m Cm\n",
      "6 m Pm\n",
      "6 m Pm\n",
      "8 m Cm\n",
      "8 m Cm\n",
      "8 m Cm\n",
      "6 m Pm\n",
      "8 m Cm\n",
      "25 mm2 Pmm2\n",
      "35 mm2 Cmm2\n",
      "8 m Cm\n",
      "6 m Pm\n",
      "25 mm2 Pmm2\n",
      "8 m Cm\n",
      "6 m Pm\n",
      "6 m Pm\n",
      "6 m Pm\n",
      "25 mm2 Pmm2\n",
      "8 m Cm\n",
      "8 m Cm\n",
      "25 mm2 Pmm2\n",
      "6 m Pm\n",
      "8 m Cm\n",
      "35 mm2 Cmm2\n",
      "6 m Pm\n",
      "6 m Pm\n",
      "6 m Pm\n",
      "6 m Pm\n",
      "6 m Pm\n",
      "6 m Pm\n",
      "25 mm2 Pmm2\n",
      "6 m Pm\n",
      "6 m Pm\n",
      "99 4mm P4mm\n",
      "25 mm2 Pmm2\n",
      "8 m Cm\n",
      "8 m Cm\n",
      "35 mm2 Cmm2\n",
      "6 m Pm\n",
      "8 m Cm\n",
      "25 mm2 Pmm2\n",
      "6 m Pm\n",
      "6 m Pm\n",
      "25 mm2 Pmm2\n",
      "8 m Cm\n",
      "6 m Pm\n",
      "35 mm2 Cmm2\n",
      "8 m Cm\n",
      "6 m Pm\n",
      "6 m Pm\n",
      "8 m Cm\n",
      "6 m Pm\n",
      "25 mm2 Pmm2\n",
      "8 m Cm\n",
      "6 m Pm\n",
      "6 m Pm\n",
      "6 m Pm\n",
      "8 m Cm\n",
      "25 mm2 Pmm2\n",
      "6 m Pm\n",
      "6 m Pm\n",
      "6 m Pm\n",
      "6 m Pm\n",
      "25 mm2 Pmm2\n",
      "99 4mm P4mm\n",
      "8 m Cm\n",
      "6 m Pm\n",
      "6 m Pm\n",
      "6 m Pm\n",
      "6 m Pm\n",
      "25 mm2 Pmm2\n"
     ]
    }
   ],
   "source": [
    "for i in range(1,3): # len(sites)\n",
    "    for j in itertools.combinations(sites, i):\n",
    "        cpatoms = copy.deepcopy(atoms)\n",
    "        for k in range(i):\n",
    "            add_adsorbate(cpatoms, adatoms, 1, j[k][0:2])\n",
    "        struct = AseAtomsAdaptor.get_structure(cpatoms)\n",
    "        view(cpatoms)\n",
    "        symnum = SpacegroupAnalyzer(struct).get_space_group_number()\n",
    "        print(symnum)"
   ]
  },
  {
   "cell_type": "markdown",
   "metadata": {},
   "source": [
    "Impossible"
   ]
  },
  {
   "cell_type": "code",
   "execution_count": null,
   "metadata": {},
   "outputs": [],
   "source": []
  }
 ],
 "metadata": {
  "kernelspec": {
   "display_name": "Python 3",
   "language": "python",
   "name": "python3"
  },
  "language_info": {
   "codemirror_mode": {
    "name": "ipython",
    "version": 3
   },
   "file_extension": ".py",
   "mimetype": "text/x-python",
   "name": "python",
   "nbconvert_exporter": "python",
   "pygments_lexer": "ipython3",
   "version": "3.6.7"
  }
 },
 "nbformat": 4,
 "nbformat_minor": 2
}
