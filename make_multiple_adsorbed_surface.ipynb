{
 "cells": [
  {
   "cell_type": "code",
   "execution_count": 1,
   "metadata": {},
   "outputs": [],
   "source": [
    "from MACalc import *\n",
    "from MAUtil import *\n",
    "from MAInit import *\n",
    "from MAPost import *\n",
    "import time\n",
    "pd.set_option('display.max_columns', 100)"
   ]
  },
  {
   "cell_type": "code",
   "execution_count": null,
   "metadata": {},
   "outputs": [],
   "source": [
    "### After you have adsorbate=1 data in database\n",
    "elements = ['Pt', 'Rh'] # 'Ag', 'Au', 'Al', 'Cu', 'Ni', 'Pd'\n",
    "# elements = ['CoPt3']# GaNi\n",
    "# xcs = ['RPBE', 'RPBE-D2', 'vdW-DF', 'optB88-vdW', 'vdW-DF2', 'BEEF-vdW']\n",
    "elements = ['Ru', 'Zn']\n",
    "xcs = ['RPBE']\n",
    "# faces = ['100', '111', '110', '211']\n",
    "# faces = ['100']\n",
    "faces = ['001']\n",
    "unitlengths = [2] # for 211 surface, only unitlength=2 can be used\n",
    "adsorbate = 'CO'\n",
    "# maxmole = []\n",
    "\n",
    "for ele in elements:\n",
    "    for xc in xcs:\n",
    "        for face in faces:\n",
    "            for unit in unitlengths:\n",
    "                name = ele + '_' + face + '_u' + str(unit) + '_' + xc\n",
    "                adsname = adsorbate + '_' + xc\n",
    "                adsorbed = make_adsorbed_surface(name, adsname)\n",
    "                molenum = 100\n",
    "                adsorbed.make_surface(maxmole=molenum, mindist=2.5, get_only_stable=True)\n",
    "                adsorbed.write_trajectory()"
   ]
  },
  {
   "cell_type": "code",
   "execution_count": 4,
   "metadata": {},
   "outputs": [
    {
     "name": "stdout",
     "output_type": "stream",
     "text": [
      "1033 Ru_001_u2_RPBE_no002_CO_n2_d3.traj\n",
      "1035 Ru_001_u2_RPBE_no003_CO_n3_d3.traj\n",
      "1037 Ru_001_u2_RPBE_no004_CO_n4_d3.traj\n",
      "1038 Ru_001_u2_RPBE_no005_CO_n2_d3.traj\n",
      "1039 Ru_001_u2_RPBE_no006_CO_n3_d3.traj\n",
      "1040 Ru_001_u2_RPBE_no007_CO_n2_d3.traj\n",
      "1041 Ru_001_u2_RPBE_no009_CO_n2_d3.traj\n",
      "1042 Ru_001_u2_RPBE_no010_CO_n3_d3.traj\n",
      "1043 Ru_001_u2_RPBE_no011_CO_n4_d3.traj\n",
      "1044 Ru_001_u2_RPBE_no012_CO_n2_d3.traj\n",
      "1045 Ru_001_u2_RPBE_no013_CO_n2_d3.traj\n",
      "1046 Ru_001_u2_RPBE_no014_CO_n2_d3.traj\n",
      "1047 Ru_001_u2_RPBE_no016_CO_n2_d3.traj\n",
      "1048 Ru_001_u2_RPBE_no017_CO_n2_d3.traj\n",
      "1049 Ru_001_u2_RPBE_no018_CO_n3_d3.traj\n",
      "1050 Ru_001_u2_RPBE_no019_CO_n4_d3.traj\n",
      "1051 Ru_001_u2_RPBE_no021_CO_n2_d3.traj\n",
      "1052 Ru_001_u2_RPBE_no022_CO_n3_d3.traj\n",
      "1053 Ru_001_u2_RPBE_no023_CO_n4_d3.traj\n",
      "1058 Zn_001_u2_RPBE_no002_CO_n2_d3.traj\n",
      "1060 Zn_001_u2_RPBE_no003_CO_n3_d3.traj\n",
      "1062 Zn_001_u2_RPBE_no004_CO_n4_d3.traj\n",
      "1063 Zn_001_u2_RPBE_no005_CO_n2_d3.traj\n",
      "1064 Zn_001_u2_RPBE_no006_CO_n3_d3.traj\n",
      "1065 Zn_001_u2_RPBE_no007_CO_n2_d3.traj\n",
      "1066 Zn_001_u2_RPBE_no009_CO_n2_d3.traj\n",
      "1067 Zn_001_u2_RPBE_no010_CO_n3_d3.traj\n",
      "1068 Zn_001_u2_RPBE_no011_CO_n4_d3.traj\n",
      "1069 Zn_001_u2_RPBE_no012_CO_n2_d3.traj\n",
      "1070 Zn_001_u2_RPBE_no013_CO_n2_d3.traj\n",
      "1071 Zn_001_u2_RPBE_no014_CO_n2_d3.traj\n",
      "1072 Zn_001_u2_RPBE_no016_CO_n2_d3.traj\n",
      "1073 Zn_001_u2_RPBE_no017_CO_n3_d3.traj\n",
      "1074 Zn_001_u2_RPBE_no018_CO_n4_d3.traj\n",
      "1075 Zn_001_u2_RPBE_no019_CO_n2_d3.traj\n",
      "1076 Zn_001_u2_RPBE_no021_CO_n2_d3.traj\n",
      "1077 Zn_001_u2_RPBE_no022_CO_n3_d3.traj\n",
      "1078 Zn_001_u2_RPBE_no023_CO_n4_d3.traj\n"
     ]
    }
   ],
   "source": [
    "env = 'local'\n",
    "files = os.listdir('./init/')\n",
    "chosen = []\n",
    "\n",
    "for i in range(len(files)):\n",
    "    if '_d' in files[i]:\n",
    "        if 'n1' not in files[i]:\n",
    "            if 'Ru' in files[i] or 'Zn' in files[i]:\n",
    "                print(i, files[i])\n",
    "                chosen.append(files[i])\n",
    "                with open('atoms.txt', 'a') as f:\n",
    "                    f.write('{0}\\n'.format(files[i]))"
   ]
  },
  {
   "cell_type": "code",
   "execution_count": 2,
   "metadata": {},
   "outputs": [
    {
     "ename": "NameError",
     "evalue": "name 'cif_query' is not defined",
     "output_type": "error",
     "traceback": [
      "\u001b[0;31m---------------------------------------------------------------------------\u001b[0m",
      "\u001b[0;31mNameError\u001b[0m                                 Traceback (most recent call last)",
      "\u001b[0;32m<ipython-input-2-729f68b1726f>\u001b[0m in \u001b[0;36m<module>\u001b[0;34m\u001b[0m\n\u001b[0;32m----> 1\u001b[0;31m \u001b[0mcif_query\u001b[0m\u001b[0;34m(\u001b[0m\u001b[0;34m'mp-mp-10598_CuSn.cif'\u001b[0m\u001b[0;34m,\u001b[0m\u001b[0;34m'local'\u001b[0m\u001b[0;34m)\u001b[0m\u001b[0;34m\u001b[0m\u001b[0;34m\u001b[0m\u001b[0m\n\u001b[0m",
      "\u001b[0;31mNameError\u001b[0m: name 'cif_query' is not defined"
     ]
    }
   ],
   "source": []
  },
  {
   "cell_type": "code",
   "execution_count": null,
   "metadata": {},
   "outputs": [],
   "source": []
  }
 ],
 "metadata": {
  "kernelspec": {
   "display_name": "Python 3",
   "language": "python",
   "name": "python3"
  },
  "language_info": {
   "codemirror_mode": {
    "name": "ipython",
    "version": 3
   },
   "file_extension": ".py",
   "mimetype": "text/x-python",
   "name": "python",
   "nbconvert_exporter": "python",
   "pygments_lexer": "ipython3",
   "version": "3.6.9"
  }
 },
 "nbformat": 4,
 "nbformat_minor": 2
}
