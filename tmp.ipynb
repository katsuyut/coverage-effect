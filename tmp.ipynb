{
 "cells": [
  {
   "cell_type": "markdown",
   "metadata": {},
   "source": [
    "### It's temporally used file so any modification will be fine ###"
   ]
  },
  {
   "cell_type": "code",
   "execution_count": 1,
   "metadata": {},
   "outputs": [],
   "source": [
    "from MACalc import *\n",
    "from MAUtil import *\n",
    "from MAInit import *\n",
    "from MAPost import *\n",
    "from GASpyfuncs import *\n",
    "import time\n",
    "pd.set_option('display.max_columns', 100)"
   ]
  },
  {
   "cell_type": "code",
   "execution_count": 12,
   "metadata": {},
   "outputs": [
    {
     "name": "stdout",
     "output_type": "stream",
     "text": [
      "No file named Cu_211_u2_RPBE_no014_CO_n1_d8.traj in init\n",
      "-----------------------------------------------------------\n",
      "Cu_211_u2_RPBE_no014_CO_n1_d8.traj\n",
      "Cu_211_u2_RPBE_no014_CO_n1_d8.traj deleted\n"
     ]
    }
   ],
   "source": [
    "filenames = ['Cu_211_u2_RPBE_no014_CO_n1_d8.traj']\n",
    "### DELETE ###\n",
    "for file in filenames:\n",
    "    try:\n",
    "        A = make_database(file)\n",
    "        A.delete_from_database()\n",
    "    except:\n",
    "        print(file, 'Some error occured.')"
   ]
  },
  {
   "cell_type": "code",
   "execution_count": 14,
   "metadata": {},
   "outputs": [
    {
     "name": "stdout",
     "output_type": "stream",
     "text": [
      "-----------------------------------------------------------\n",
      "Cu_211_u2_RPBE_no014_CO_n1_d8.traj\n",
      "Not in database.\n",
      "Cu_211_u2_RPBE_no014_CO_n1_d8.traj\n",
      "One post: 5e62e68effa6f0f0db109cc8\n",
      "\n",
      "Updating energy is for surface with more than 2 adsorbates.\n",
      "Adsorbate correlatioin is for surface with more than 2 adsorbates.\n"
     ]
    }
   ],
   "source": [
    "### ADD and UPDATE ENERGY ###\n",
    "for file in filenames:\n",
    "    try:\n",
    "        A = make_database(file)\n",
    "        A.add_to_database()\n",
    "        A.update_Energy()\n",
    "        A.update_adsorbates_correlation()\n",
    "    except:\n",
    "        print(file, 'Some error occured.')"
   ]
  },
  {
   "cell_type": "code",
   "execution_count": 15,
   "metadata": {},
   "outputs": [
    {
     "data": {
      "text/plain": [
       "{'_id': ObjectId('5e62e68effa6f0f0db109cc8'),\n",
       " 'name': 'Cu_211_u2_RPBE_no014_CO_n1_d8.traj',\n",
       " 'isvalid': 'yes',\n",
       " 'ispredictable': 'No',\n",
       " 'element': 'Cu',\n",
       " 'face': '211',\n",
       " 'unitlength': 2,\n",
       " 'xc': 'RPBE',\n",
       " 'adsorbate': 'CO',\n",
       " 'numberofads': 1,\n",
       " 'coverage': 0.16666666666666666,\n",
       " 'surfatomnum': 6,\n",
       " 'E': -87.79024332,\n",
       " 'bareE': -72.89582569,\n",
       " 'E_CO': -14.48543631,\n",
       " 'totaladsE': -0.4089813200000094,\n",
       " 'aveadsE/suratom': -0.0681635533333349,\n",
       " 'aveadsE/ads': -0.4089813200000094,\n",
       " 'E_int_space': 0.0031264600000007192,\n",
       " 'sumE_each_ads': None,\n",
       " 'E_residue/suratom': None,\n",
       " 'area': 33.12219522221233,\n",
       " 'density': 0.030191235613797187,\n",
       " 'igroups': [1],\n",
       " 'rgroups': [1],\n",
       " 'COlengthlis': [1.164609896455765],\n",
       " 'converged': 'yes',\n",
       " 'not_moved': 'yes',\n",
       " 'kept_sites': 'yes',\n",
       " 'E_not_exceeded': 'yes',\n",
       " 'minimum_distance': None,\n",
       " 'ads_dist2': None,\n",
       " 'ads_dist3': None}"
      ]
     },
     "execution_count": 15,
     "metadata": {},
     "output_type": "execute_result"
    }
   ],
   "source": [
    "A.check_database()"
   ]
  }
 ],
 "metadata": {
  "kernelspec": {
   "display_name": "Python 3",
   "language": "python",
   "name": "python3"
  },
  "language_info": {
   "codemirror_mode": {
    "name": "ipython",
    "version": 3
   },
   "file_extension": ".py",
   "mimetype": "text/x-python",
   "name": "python",
   "nbconvert_exporter": "python",
   "pygments_lexer": "ipython3",
   "version": "3.6.9"
  }
 },
 "nbformat": 4,
 "nbformat_minor": 2
}
