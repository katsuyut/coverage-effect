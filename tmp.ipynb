{
 "cells": [
  {
   "cell_type": "markdown",
   "metadata": {},
   "source": [
    "### It's temporally used file so any modification will be fine ###"
   ]
  },
  {
   "cell_type": "code",
   "execution_count": 1,
   "metadata": {},
   "outputs": [],
   "source": [
    "from MACalc import *\n",
    "from MAUtil import *\n",
    "from MAInit import *\n",
    "from MAPost import *\n",
    "from GASpyfuncs import *\n",
    "import time\n",
    "pd.set_option('display.max_columns', 100)"
   ]
  },
  {
   "cell_type": "code",
   "execution_count": 2,
   "metadata": {},
   "outputs": [],
   "source": [
    "# file = 'Ag_100_u2_RPBE_no002_CO_n2_d3.traj'\n",
    "# A = make_database(file)\n",
    "# A.check_database()"
   ]
  },
  {
   "cell_type": "code",
   "execution_count": 17,
   "metadata": {
    "scrolled": false
   },
   "outputs": [
    {
     "name": "stdout",
     "output_type": "stream",
     "text": [
      "Added to mppath\n",
      "Added to mppath\n",
      "material: CuSn\n",
      "crystal system: hexagonal\n"
     ]
    },
    {
     "data": {
      "text/plain": [
       "{'energy': -16.32292233,\n",
       " 'energy_per_atom': -4.0807305825,\n",
       " 'volume': 76.95312945641541,\n",
       " 'formation_energy_per_atom': -0.026385724999999915,\n",
       " 'nsites': 4,\n",
       " 'unit_cell_formula': {'Cu': 2.0, 'Sn': 2.0},\n",
       " 'pretty_formula': 'CuSn',\n",
       " 'is_hubbard': False,\n",
       " 'elements': ['Cu', 'Sn'],\n",
       " 'nelements': 2,\n",
       " 'e_above_hull': 0,\n",
       " 'hubbards': {},\n",
       " 'is_compatible': True,\n",
       " 'spacegroup': {'symprec': 0.1,\n",
       "  'source': 'spglib',\n",
       "  'symbol': 'P6_3/mmc',\n",
       "  'number': 194,\n",
       "  'point_group': '6/mmm',\n",
       "  'crystal_system': 'hexagonal',\n",
       "  'hall': '-P 6c 2c'},\n",
       " 'task_ids': ['mp-929980', 'mp-930527', 'mp-10598', 'mp-913665'],\n",
       " 'band_gap': 0.0,\n",
       " 'density': 7.865650309794107,\n",
       " 'icsd_id': None,\n",
       " 'icsd_ids': [629278],\n",
       " 'cif': \"# generated using pymatgen\\ndata_CuSn\\n_symmetry_space_group_name_H-M   'P 1'\\n_cell_length_a   4.17542582\\n_cell_length_b   4.17542582\\n_cell_length_c   5.09675913\\n_cell_angle_alpha   90.00000000\\n_cell_angle_beta   90.00000000\\n_cell_angle_gamma   120.00000001\\n_symmetry_Int_Tables_number   1\\n_chemical_formula_structural   CuSn\\n_chemical_formula_sum   'Cu2 Sn2'\\n_cell_volume   76.95312946\\n_cell_formula_units_Z   2\\nloop_\\n _symmetry_equiv_pos_site_id\\n _symmetry_equiv_pos_as_xyz\\n  1  'x, y, z'\\nloop_\\n _atom_site_type_symbol\\n _atom_site_label\\n _atom_site_symmetry_multiplicity\\n _atom_site_fract_x\\n _atom_site_fract_y\\n _atom_site_fract_z\\n _atom_site_occupancy\\n  Cu  Cu0  1  0.000000  0.000000  0.000000  1\\n  Cu  Cu1  1  0.000000  0.000000  0.500000  1\\n  Sn  Sn2  1  0.333333  0.666667  0.250000  1\\n  Sn  Sn3  1  0.666667  0.333333  0.750000  1\\n\",\n",
       " 'total_magnetization': 0.0,\n",
       " 'material_id': 'mp-10598',\n",
       " 'oxide_type': 'None',\n",
       " 'tags': ['Copper tin (1/1)'],\n",
       " 'elasticity': {'G_Reuss': 32.0,\n",
       "  'G_VRH': 34.0,\n",
       "  'G_Voigt': 37.0,\n",
       "  'G_Voigt_Reuss_Hill': 34.0,\n",
       "  'K_Reuss': 77.0,\n",
       "  'K_VRH': 77.0,\n",
       "  'K_Voigt': 77.0,\n",
       "  'K_Voigt_Reuss_Hill': 77.0,\n",
       "  'elastic_anisotropy': 0.83,\n",
       "  'elastic_tensor': [[115.0, 72.0, 44.0, 0.0, 0.0, 0.0],\n",
       "   [72.0, 115.0, 44.0, 0.0, 0.0, 0.0],\n",
       "   [44.0, 44.0, 140.0, 0.0, 0.0, 0.0],\n",
       "   [0.0, 0.0, 0.0, 46.0, 0.0, 0.0],\n",
       "   [0.0, 0.0, 0.0, 0.0, 46.0, 0.0],\n",
       "   [0.0, 0.0, 0.0, 0.0, 0.0, 21.0]],\n",
       "  'homogeneous_poisson': 0.31,\n",
       "  'poisson_ratio': 0.31,\n",
       "  'universal_anisotropy': 0.83,\n",
       "  'elastic_tensor_original': [[113.77343235943233,\n",
       "    69.84421149288735,\n",
       "    42.18899292821592,\n",
       "    0.0,\n",
       "    0.0,\n",
       "    3.1499552360889923e-07],\n",
       "   [73.69981468275846, 116.5699554520097, 45.07936512950398, 0.0, 0.0, 0.0],\n",
       "   [43.70496324637918, 43.704952206624746, 140.1339911515787, 0.0, 0.0, 0.0],\n",
       "   [0.005649580329017723,\n",
       "    0.005621554553536962,\n",
       "    0.00582864527979422,\n",
       "    46.641385436232,\n",
       "    0.0,\n",
       "    0.0],\n",
       "   [-0.0006647905689414167,\n",
       "    0.00029121024922472015,\n",
       "    -0.00035787697294562926,\n",
       "    6.666672372152985e-09,\n",
       "    46.253819818379895,\n",
       "    0.0],\n",
       "   [-0.030163199433064676,\n",
       "    0.25959894142474654,\n",
       "    0.1394503285170232,\n",
       "    0.0,\n",
       "    0.0,\n",
       "    20.366250901132172]],\n",
       "  'compliance_tensor': [[15.0, -8.8, -2.0, -0.0, -0.0, -0.0],\n",
       "   [-8.8, 15.0, -2.0, 0.0, 0.0, -0.0],\n",
       "   [-2.0, -2.0, 8.4, 0.0, 0.0, 0.0],\n",
       "   [-0.0, 0.0, 0.0, 21.5, -0.0, -0.0],\n",
       "   [-0.0, 0.0, 0.0, -0.0, 21.5, 0.0],\n",
       "   [-0.0, -0.0, 0.0, -0.0, 0.0, 47.5]],\n",
       "  'warnings': [],\n",
       "  'nsites': 4},\n",
       " 'piezo': None,\n",
       " 'diel': None,\n",
       " 'full_formula': 'Cu2Sn2'}"
      ]
     },
     "execution_count": 17,
     "metadata": {},
     "output_type": "execute_result"
    }
   ],
   "source": [
    "request_mp('mp-10598')"
   ]
  },
  {
   "cell_type": "code",
   "execution_count": 2,
   "metadata": {},
   "outputs": [
    {
     "data": {
      "text/plain": [
       "Atoms(symbols='Pd', pbc=True, cell=[[2.79543074, 0.0, 0.0], [1.3977153733802339, 2.420914033408353, 0.0], [1.3977153678873542, 0.8069713450386617, 2.2824596427527384]])"
      ]
     },
     "execution_count": 2,
     "metadata": {},
     "output_type": "execute_result"
    }
   ],
   "source": [
    "cif_query('mp-2_Pd.cif', 'local')"
   ]
  },
  {
   "cell_type": "code",
   "execution_count": 3,
   "metadata": {},
   "outputs": [
    {
     "ename": "NameError",
     "evalue": "name 'name' is not defined",
     "output_type": "error",
     "traceback": [
      "\u001b[0;31m---------------------------------------------------------------------------\u001b[0m",
      "\u001b[0;31mNameError\u001b[0m                                 Traceback (most recent call last)",
      "\u001b[0;32m<ipython-input-3-1b732f6bd51e>\u001b[0m in \u001b[0;36m<module>\u001b[0;34m\u001b[0m\n\u001b[0;32m----> 1\u001b[0;31m \u001b[0mmp_query\u001b[0m\u001b[0;34m(\u001b[0m\u001b[0;34m'mp-2_Pd.b'\u001b[0m\u001b[0;34m,\u001b[0m \u001b[0;34m'local'\u001b[0m\u001b[0;34m)\u001b[0m\u001b[0;34m\u001b[0m\u001b[0;34m\u001b[0m\u001b[0m\n\u001b[0m",
      "\u001b[0;32m~/research/coverage-effect/modules/MAUtil.py\u001b[0m in \u001b[0;36mmp_query\u001b[0;34m(mpid, env)\u001b[0m\n\u001b[1;32m     57\u001b[0m \u001b[0;34m\u001b[0m\u001b[0m\n\u001b[1;32m     58\u001b[0m \u001b[0;32mdef\u001b[0m \u001b[0mmp_query\u001b[0m\u001b[0;34m(\u001b[0m\u001b[0mmpid\u001b[0m\u001b[0;34m,\u001b[0m \u001b[0menv\u001b[0m\u001b[0;34m=\u001b[0m\u001b[0;34m'spacom'\u001b[0m\u001b[0;34m)\u001b[0m\u001b[0;34m:\u001b[0m\u001b[0;34m\u001b[0m\u001b[0;34m\u001b[0m\u001b[0m\n\u001b[0;32m---> 59\u001b[0;31m     \u001b[0mpath\u001b[0m \u001b[0;34m=\u001b[0m \u001b[0mmppath\u001b[0m \u001b[0;34m+\u001b[0m \u001b[0mname\u001b[0m\u001b[0;34m\u001b[0m\u001b[0;34m\u001b[0m\u001b[0m\n\u001b[0m\u001b[1;32m     60\u001b[0m     \u001b[0;32mtry\u001b[0m\u001b[0;34m:\u001b[0m\u001b[0;34m\u001b[0m\u001b[0;34m\u001b[0m\u001b[0m\n\u001b[1;32m     61\u001b[0m         \u001b[0;32mwith\u001b[0m \u001b[0mopen\u001b[0m\u001b[0;34m(\u001b[0m\u001b[0mpath\u001b[0m\u001b[0;34m,\u001b[0m \u001b[0;34m'rb'\u001b[0m\u001b[0;34m)\u001b[0m \u001b[0;32mas\u001b[0m \u001b[0mf\u001b[0m\u001b[0;34m:\u001b[0m\u001b[0;34m\u001b[0m\u001b[0;34m\u001b[0m\u001b[0m\n",
      "\u001b[0;31mNameError\u001b[0m: name 'name' is not defined"
     ]
    }
   ],
   "source": [
    "mp_query('mp-2_Pd.b', 'local')"
   ]
  },
  {
   "cell_type": "code",
   "execution_count": 8,
   "metadata": {
    "scrolled": true
   },
   "outputs": [
    {
     "name": "stdout",
     "output_type": "stream",
     "text": [
      "Added to mppath\n"
     ]
    },
    {
     "ename": "KeyError",
     "evalue": "'000000  1\\n'",
     "output_type": "error",
     "traceback": [
      "\u001b[0;31m---------------------------------------------------------------------------\u001b[0m",
      "\u001b[0;31mKeyError\u001b[0m                                  Traceback (most recent call last)",
      "\u001b[0;32m<ipython-input-8-78d2dc7520be>\u001b[0m in \u001b[0;36m<module>\u001b[0;34m\u001b[0m\n\u001b[0;32m----> 1\u001b[0;31m \u001b[0mrequest_mp\u001b[0m\u001b[0;34m(\u001b[0m\u001b[0;34m'mp-30'\u001b[0m\u001b[0;34m)\u001b[0m\u001b[0;34m\u001b[0m\u001b[0;34m\u001b[0m\u001b[0m\n\u001b[0m",
      "\u001b[0;32m~/research/coverage-effect/modules/MAUtil.py\u001b[0m in \u001b[0;36mrequest_mp\u001b[0;34m(mpid)\u001b[0m\n\u001b[1;32m    111\u001b[0m         \u001b[0mpath\u001b[0m \u001b[0;34m=\u001b[0m \u001b[0mmppath\u001b[0m \u001b[0;34m+\u001b[0m \u001b[0mmpid\u001b[0m \u001b[0;34m+\u001b[0m \u001b[0;34m'_'\u001b[0m \u001b[0;34m+\u001b[0m \u001b[0mformula\u001b[0m \u001b[0;34m+\u001b[0m \u001b[0;34m'.cif'\u001b[0m\u001b[0;34m\u001b[0m\u001b[0;34m\u001b[0m\u001b[0m\n\u001b[1;32m    112\u001b[0m         \u001b[0;32mwith\u001b[0m \u001b[0mopen\u001b[0m\u001b[0;34m(\u001b[0m\u001b[0mpath\u001b[0m\u001b[0;34m,\u001b[0m \u001b[0;34m'w'\u001b[0m\u001b[0;34m)\u001b[0m \u001b[0;32mas\u001b[0m \u001b[0mf\u001b[0m\u001b[0;34m:\u001b[0m\u001b[0;34m\u001b[0m\u001b[0;34m\u001b[0m\u001b[0m\n\u001b[0;32m--> 113\u001b[0;31m             \u001b[0mwrite\u001b[0m\u001b[0;34m(\u001b[0m\u001b[0mdata\u001b[0m\u001b[0;34m[\u001b[0m\u001b[0;36m0\u001b[0m\u001b[0;34m]\u001b[0m\u001b[0;34m[\u001b[0m\u001b[0;34m'cif'\u001b[0m\u001b[0;34m]\u001b[0m \u001b[0;34m,\u001b[0m \u001b[0mf\u001b[0m\u001b[0;34m)\u001b[0m\u001b[0;34m\u001b[0m\u001b[0;34m\u001b[0m\u001b[0m\n\u001b[0m\u001b[1;32m    114\u001b[0m             \u001b[0mprint\u001b[0m\u001b[0;34m(\u001b[0m\u001b[0;34m'Added to mppath'\u001b[0m\u001b[0;34m)\u001b[0m\u001b[0;34m\u001b[0m\u001b[0;34m\u001b[0m\u001b[0m\n\u001b[1;32m    115\u001b[0m \u001b[0;34m\u001b[0m\u001b[0m\n",
      "\u001b[0;32m~/.local/lib/python3.6/site-packages/ase/io/formats.py\u001b[0m in \u001b[0;36mwrite\u001b[0;34m(filename, images, format, parallel, append, **kwargs)\u001b[0m\n\u001b[1;32m    502\u001b[0m     \u001b[0mformat\u001b[0m \u001b[0;34m=\u001b[0m \u001b[0mformat\u001b[0m \u001b[0;32mor\u001b[0m \u001b[0;34m'json'\u001b[0m  \u001b[0;31m# default is json\u001b[0m\u001b[0;34m\u001b[0m\u001b[0;34m\u001b[0m\u001b[0m\n\u001b[1;32m    503\u001b[0m \u001b[0;34m\u001b[0m\u001b[0m\n\u001b[0;32m--> 504\u001b[0;31m     \u001b[0mio\u001b[0m \u001b[0;34m=\u001b[0m \u001b[0mioformats\u001b[0m\u001b[0;34m[\u001b[0m\u001b[0mformat\u001b[0m\u001b[0;34m]\u001b[0m\u001b[0;34m\u001b[0m\u001b[0;34m\u001b[0m\u001b[0m\n\u001b[0m\u001b[1;32m    505\u001b[0m \u001b[0;34m\u001b[0m\u001b[0m\n\u001b[1;32m    506\u001b[0m     _write(filename, fd, format, io, images, parallel=parallel, append=append,\n",
      "\u001b[0;31mKeyError\u001b[0m: '000000  1\\n'"
     ]
    }
   ],
   "source": [
    "request_mp('mp-30')"
   ]
  },
  {
   "cell_type": "code",
   "execution_count": 9,
   "metadata": {},
   "outputs": [],
   "source": [
    "with MPRester(api_key=os.environ['MAPIKEY']) as m:\n",
    "    data = m.get_data('mp-30')"
   ]
  },
  {
   "cell_type": "code",
   "execution_count": 11,
   "metadata": {},
   "outputs": [
    {
     "data": {
      "text/plain": [
       "\"# generated using pymatgen\\ndata_Cu\\n_symmetry_space_group_name_H-M   'P 1'\\n_cell_length_a   2.56061937\\n_cell_length_b   2.56061937\\n_cell_length_c   2.56061937\\n_cell_angle_alpha   60.00000000\\n_cell_angle_beta   60.00000000\\n_cell_angle_gamma   60.00000000\\n_symmetry_Int_Tables_number   1\\n_chemical_formula_structural   Cu\\n_chemical_formula_sum   Cu1\\n_cell_volume   11.87189593\\n_cell_formula_units_Z   1\\nloop_\\n _symmetry_equiv_pos_site_id\\n _symmetry_equiv_pos_as_xyz\\n  1  'x, y, z'\\nloop_\\n _atom_site_type_symbol\\n _atom_site_label\\n _atom_site_symmetry_multiplicity\\n _atom_site_fract_x\\n _atom_site_fract_y\\n _atom_site_fract_z\\n _atom_site_occupancy\\n  Cu  Cu0  1  0.000000  -0.000000  0.000000  1\\n\""
      ]
     },
     "execution_count": 11,
     "metadata": {},
     "output_type": "execute_result"
    }
   ],
   "source": [
    "data[0]['cif']"
   ]
  },
  {
   "cell_type": "code",
   "execution_count": null,
   "metadata": {},
   "outputs": [],
   "source": []
  }
 ],
 "metadata": {
  "kernelspec": {
   "display_name": "Python 3",
   "language": "python",
   "name": "python3"
  },
  "language_info": {
   "codemirror_mode": {
    "name": "ipython",
    "version": 3
   },
   "file_extension": ".py",
   "mimetype": "text/x-python",
   "name": "python",
   "nbconvert_exporter": "python",
   "pygments_lexer": "ipython3",
   "version": "3.6.9"
  }
 },
 "nbformat": 4,
 "nbformat_minor": 2
}
