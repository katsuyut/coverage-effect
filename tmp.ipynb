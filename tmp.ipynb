{
 "cells": [
  {
   "cell_type": "markdown",
   "metadata": {},
   "source": [
    "### It's temporally used file so any modification will be fine ###"
   ]
  },
  {
   "cell_type": "code",
   "execution_count": 3,
   "metadata": {},
   "outputs": [],
   "source": [
    "from MACalc import *\n",
    "from MAUtil import *\n",
    "from MAInit import *\n",
    "import time"
   ]
  },
  {
   "cell_type": "code",
   "execution_count": 4,
   "metadata": {
    "scrolled": true
   },
   "outputs": [
    {
     "name": "stdout",
     "output_type": "stream",
     "text": [
      "progress: 0/3, 0.00 min\n",
      "progress: 1/3, 0.01 min\n",
      "progress: 2/3, 0.01 min\n",
      "\n",
      "adsorbates : # of structures, {'1': 3, '2': 9, '3': 7, '4': 5}\n",
      "total structures: 24\n"
     ]
    }
   ],
   "source": [
    "adsorbed = make_adsorbed_surface('Cu_100_u2_BEEF-vdW', 'CO_RPBE')\n",
    "# adsorbed = make_adsorbed_surface('Cu_100_u2_RPBE', 'CO_RPBE')\n",
    "adsorbed.make_surface(maxmole=4, mindist=2.5)\n",
    "#                 adsorbed.write_trajectory()"
   ]
  },
  {
   "cell_type": "code",
   "execution_count": 5,
   "metadata": {},
   "outputs": [],
   "source": [
    "for atoms in adsorbed.allatoms:\n",
    "    if str(atoms.symbols) == 'Cu16COCOCO':\n",
    "        view(atoms)"
   ]
  },
  {
   "cell_type": "code",
   "execution_count": 6,
   "metadata": {},
   "outputs": [
    {
     "name": "stdout",
     "output_type": "stream",
     "text": [
      "0 Cu16CO\n",
      "1 Cu16COCO\n",
      "2 Cu16COCOCO\n",
      "3 Cu16COCOCOCO\n",
      "4 Cu16COCOCO\n",
      "5 Cu16COCOCOCO\n",
      "6 Cu16COCO\n",
      "7 Cu16COCO\n",
      "8 Cu16COCOCO\n",
      "9 Cu16CO\n",
      "10 Cu16COCO\n",
      "11 Cu16COCOCO\n",
      "12 Cu16COCOCOCO\n",
      "13 Cu16COCOCO\n",
      "14 Cu16COCOCOCO\n",
      "15 Cu16COCO\n",
      "16 Cu16COCOCO\n",
      "17 Cu16COCO\n",
      "18 Cu16CO\n",
      "19 Cu16COCO\n",
      "20 Cu16COCOCO\n",
      "21 Cu16COCOCOCO\n",
      "22 Cu16COCO\n",
      "23 Cu16COCO\n"
     ]
    }
   ],
   "source": [
    "for i in range(len(adsorbed.allatoms)):\n",
    "    print(i, adsorbed.allatoms[i].symbols)"
   ]
  }
 ],
 "metadata": {
  "kernelspec": {
   "display_name": "Python 3",
   "language": "python",
   "name": "python3"
  },
  "language_info": {
   "codemirror_mode": {
    "name": "ipython",
    "version": 3
   },
   "file_extension": ".py",
   "mimetype": "text/x-python",
   "name": "python",
   "nbconvert_exporter": "python",
   "pygments_lexer": "ipython3",
   "version": "3.6.9"
  }
 },
 "nbformat": 4,
 "nbformat_minor": 2
}
