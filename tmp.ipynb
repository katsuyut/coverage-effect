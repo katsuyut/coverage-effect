{
 "cells": [
  {
   "cell_type": "markdown",
   "metadata": {},
   "source": [
    "### It's temporally used file so any modification will be fine ###"
   ]
  },
  {
   "cell_type": "code",
   "execution_count": 1,
   "metadata": {},
   "outputs": [],
   "source": [
    "from MACalc import *\n",
    "from MAUtil import *\n",
    "from MAInit import *\n",
    "from MAPost import *\n",
    "from GASpyfuncs import *\n",
    "import time\n",
    "pd.set_option('display.max_columns', 100)"
   ]
  },
  {
   "cell_type": "code",
   "execution_count": 2,
   "metadata": {},
   "outputs": [
    {
     "name": "stdout",
     "output_type": "stream",
     "text": [
      "-----------------------------------------------------------\n",
      "Ag_100_u2_RPBE_no002_CO_n2_d3.traj\n"
     ]
    },
    {
     "data": {
      "text/plain": [
       "{'_id': ObjectId('5e7caa500a0ea2c2e6ad4a80'),\n",
       " 'name': 'Ag_100_u2_RPBE_no002_CO_n2_d3.traj',\n",
       " 'isvalid': 'yes',\n",
       " 'ispredictable': 'yes',\n",
       " 'element': 'Ag',\n",
       " 'face': '100',\n",
       " 'unitlength': 2,\n",
       " 'xc': 'RPBE',\n",
       " 'adsorbate': 'CO',\n",
       " 'numberofads': 2,\n",
       " 'coverage': 0.5,\n",
       " 'surfatomnum': 4,\n",
       " 'E': -61.37397056,\n",
       " 'bareE': -32.47498785,\n",
       " 'E_ads': -14.48543631,\n",
       " 'totaladsE': 0.071889910000003,\n",
       " 'aveadsE/suratom': 0.01797247750000075,\n",
       " 'aveadsE/ads': 0.0359449550000015,\n",
       " 'E_int_space': 0.23969634000000184,\n",
       " 'sumE_each_ads': -0.12085765999999865,\n",
       " 'E_residue/suratom': -0.011737192500000049,\n",
       " 'area': 35.50218394473754,\n",
       " 'density': 0.05633456249094947,\n",
       " 'igroups': [0, 0],\n",
       " 'rgroups': [0, 0],\n",
       " 'converged': 'yes',\n",
       " 'is_adsorbed': 'yes',\n",
       " 'kept_sites': 'yes',\n",
       " 'E_not_exceeded': 'yes',\n",
       " 'minimum_distance': 3,\n",
       " 'ads_dist2': 0.0,\n",
       " 'ads_dist3': 4.0}"
      ]
     },
     "execution_count": 2,
     "metadata": {},
     "output_type": "execute_result"
    }
   ],
   "source": [
    "file = 'Ag_100_u2_RPBE_no002_CO_n2_d3.traj'\n",
    "A = make_database(file)\n",
    "A.check_database()"
   ]
  },
  {
   "cell_type": "code",
   "execution_count": 3,
   "metadata": {
    "scrolled": true
   },
   "outputs": [
    {
     "name": "stdout",
     "output_type": "stream",
     "text": [
      "Added to cifpath\n",
      "material: Ge4Ir\n",
      "crystal system: trigonal\n"
     ]
    },
    {
     "data": {
      "text/plain": [
       "{'energy': -84.5999881,\n",
       " 'energy_per_atom': -5.639999206666667,\n",
       " 'volume': 271.0042715640611,\n",
       " 'formation_energy_per_atom': -0.1690368646666665,\n",
       " 'nsites': 15,\n",
       " 'unit_cell_formula': {'Ge': 12.0, 'Ir': 3.0},\n",
       " 'pretty_formula': 'Ge4Ir',\n",
       " 'is_hubbard': False,\n",
       " 'elements': ['Ge', 'Ir'],\n",
       " 'nelements': 2,\n",
       " 'e_above_hull': 0.006889019333333302,\n",
       " 'hubbards': {},\n",
       " 'is_compatible': True,\n",
       " 'spacegroup': {'symprec': 0.1,\n",
       "  'source': 'spglib',\n",
       "  'symbol': 'P3_121',\n",
       "  'number': 152,\n",
       "  'point_group': '32',\n",
       "  'crystal_system': 'trigonal',\n",
       "  'hall': 'P 31 2\"'},\n",
       " 'task_ids': ['mp-1010794',\n",
       "  'mp-1001151',\n",
       "  'mp-1005202',\n",
       "  'mp-489',\n",
       "  'mp-570745',\n",
       "  'mp-18007',\n",
       "  'mp-1104095',\n",
       "  'mp-1104148',\n",
       "  'mp-1116361'],\n",
       " 'band_gap': 0.0,\n",
       " 'density': 8.874436386046902,\n",
       " 'icsd_id': None,\n",
       " 'icsd_ids': [53655],\n",
       " 'cif': \"# generated using pymatgen\\ndata_Ge4Ir\\n_symmetry_space_group_name_H-M   'P 1'\\n_cell_length_a   6.29710315\\n_cell_length_b   6.29710315\\n_cell_length_c   7.89157866\\n_cell_angle_alpha   90.00000000\\n_cell_angle_beta   90.00000000\\n_cell_angle_gamma   119.99999994\\n_symmetry_Int_Tables_number   1\\n_chemical_formula_structural   Ge4Ir\\n_chemical_formula_sum   'Ge12 Ir3'\\n_cell_volume   271.00427156\\n_cell_formula_units_Z   3\\nloop_\\n _symmetry_equiv_pos_site_id\\n _symmetry_equiv_pos_as_xyz\\n  1  'x, y, z'\\nloop_\\n _atom_site_type_symbol\\n _atom_site_label\\n _atom_site_symmetry_multiplicity\\n _atom_site_fract_x\\n _atom_site_fract_y\\n _atom_site_fract_z\\n _atom_site_occupancy\\n  Ge  Ge0  1  0.485778  0.221135  0.049402  1\\n  Ge  Ge1  1  0.778865  0.264643  0.382735  1\\n  Ge  Ge2  1  0.735357  0.514222  0.716068  1\\n  Ge  Ge3  1  0.221164  0.485151  0.944710  1\\n  Ge  Ge4  1  0.514849  0.736012  0.278043  1\\n  Ge  Ge5  1  0.263988  0.778836  0.611377  1\\n  Ge  Ge6  1  0.078984  0.999461  0.829756  1\\n  Ge  Ge7  1  0.000539  0.079523  0.163090  1\\n  Ge  Ge8  1  0.920477  0.921016  0.496423  1\\n  Ge  Ge9  1  0.617880  0.999673  0.830259  1\\n  Ge  Ge10  1  0.000327  0.618207  0.163593  1\\n  Ge  Ge11  1  0.381793  0.382120  0.496926  1\\n  Ir  Ir12  1  0.316606  0.000136  0.330373  1\\n  Ir  Ir13  1  0.999864  0.316469  0.663706  1\\n  Ir  Ir14  1  0.683531  0.683394  0.997039  1\\n\",\n",
       " 'total_magnetization': 0.0,\n",
       " 'material_id': 'mp-489',\n",
       " 'oxide_type': 'None',\n",
       " 'tags': ['Iridium germanide (1/4)'],\n",
       " 'elasticity': {'G_Reuss': 55.0,\n",
       "  'G_VRH': 57.0,\n",
       "  'G_Voigt': 59.0,\n",
       "  'G_Voigt_Reuss_Hill': 57.0,\n",
       "  'K_Reuss': 108.0,\n",
       "  'K_VRH': 109.0,\n",
       "  'K_Voigt': 109.0,\n",
       "  'K_Voigt_Reuss_Hill': 109.0,\n",
       "  'elastic_anisotropy': 0.34,\n",
       "  'elastic_tensor': [[174.0, 78.0, 66.0, 12.0, 0.0, 0.0],\n",
       "   [78.0, 174.0, 66.0, -12.0, 0.0, 0.0],\n",
       "   [66.0, 66.0, 210.0, 0.0, 0.0, 0.0],\n",
       "   [12.0, -12.0, 0.0, 64.0, 0.0, 0.0],\n",
       "   [0.0, 0.0, 0.0, 0.0, 64.0, 12.0],\n",
       "   [0.0, 0.0, 0.0, 0.0, 12.0, 48.0]],\n",
       "  'homogeneous_poisson': 0.28,\n",
       "  'poisson_ratio': 0.28,\n",
       "  'universal_anisotropy': 0.34,\n",
       "  'elastic_tensor_original': [[173.1156489101284,\n",
       "    78.51457345421035,\n",
       "    66.11587540100767,\n",
       "    -14.674680822126108,\n",
       "    0.0,\n",
       "    0.0],\n",
       "   [78.93940146414658,\n",
       "    173.54625437449548,\n",
       "    65.84615286784133,\n",
       "    14.598967993392252,\n",
       "    0.0,\n",
       "    0.0],\n",
       "   [66.02516417529361, 66.0251773132912, 210.10170748317816, 0.0, 0.0, 0.0],\n",
       "   [-11.68398751287612,\n",
       "    11.50070751339233,\n",
       "    0.03395382821306631,\n",
       "    64.53511368380063,\n",
       "    0.0,\n",
       "    0.0],\n",
       "   [1.1486743962247404e-05,\n",
       "    -0.0008853290164772845,\n",
       "    0.0003176900444983451,\n",
       "    -0.0004210318979923929,\n",
       "    64.3860000699231,\n",
       "    -11.41885938826162],\n",
       "   [0.046627263318248346,\n",
       "    -0.04928278348019268,\n",
       "    -0.03720054073704906,\n",
       "    0.04917512417594875,\n",
       "    -11.371013607313575,\n",
       "    48.896542160494164]],\n",
       "  'compliance_tensor': [[7.8, -3.1, -1.5, -2.1, -0.0, 0.0],\n",
       "   [-3.1, 7.8, -1.5, 2.1, -0.0, 0.0],\n",
       "   [-1.5, -1.5, 5.7, -0.0, 0.0, -0.0],\n",
       "   [-2.1, 2.1, -0.0, 16.3, 0.0, -0.0],\n",
       "   [-0.0, -0.0, -0.0, 0.0, 16.3, -4.2],\n",
       "   [0.0, 0.0, -0.0, -0.0, -4.2, 21.8]],\n",
       "  'warnings': [],\n",
       "  'nsites': 15},\n",
       " 'piezo': None,\n",
       " 'diel': None,\n",
       " 'full_formula': 'Ge12Ir3'}"
      ]
     },
     "execution_count": 3,
     "metadata": {},
     "output_type": "execute_result"
    }
   ],
   "source": [
    "request_mp('mp-489')"
   ]
  }
 ],
 "metadata": {
  "kernelspec": {
   "display_name": "Python 3",
   "language": "python",
   "name": "python3"
  },
  "language_info": {
   "codemirror_mode": {
    "name": "ipython",
    "version": 3
   },
   "file_extension": ".py",
   "mimetype": "text/x-python",
   "name": "python",
   "nbconvert_exporter": "python",
   "pygments_lexer": "ipython3",
   "version": "3.6.9"
  }
 },
 "nbformat": 4,
 "nbformat_minor": 2
}
