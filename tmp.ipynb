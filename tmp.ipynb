{
 "cells": [
  {
   "cell_type": "markdown",
   "metadata": {},
   "source": [
    "### It's temporally used file so any modification will be fine ###"
   ]
  },
  {
   "cell_type": "code",
   "execution_count": 2,
   "metadata": {},
   "outputs": [],
   "source": [
    "from MACalc import *\n",
    "from MAUtil import *\n",
    "from MAInit import *\n",
    "from MAPost import *\n",
    "from GASpyfuncs import *\n",
    "import time\n",
    "pd.set_option('display.max_columns', 100)"
   ]
  },
  {
   "cell_type": "code",
   "execution_count": 106,
   "metadata": {},
   "outputs": [],
   "source": [
    "# file = 'Ag_100_u2_RPBE_no002_CO_n2_d3.traj'\n",
    "# A = make_database(file)\n",
    "# A.check_database()"
   ]
  },
  {
   "cell_type": "code",
   "execution_count": 107,
   "metadata": {},
   "outputs": [],
   "source": [
    "client = MongoClient('localhost', 27017)\n",
    "db = client.adsE_database"
   ]
  },
  {
   "cell_type": "code",
   "execution_count": 35,
   "metadata": {},
   "outputs": [
    {
     "data": {
      "text/plain": [
       "['adsE_method2', 'adsE_method3', 'adsE_method1']"
      ]
     },
     "execution_count": 35,
     "metadata": {},
     "output_type": "execute_result"
    }
   ],
   "source": [
    "db.list_collection_names()"
   ]
  },
  {
   "cell_type": "code",
   "execution_count": null,
   "metadata": {},
   "outputs": [],
   "source": [
    "dd"
   ]
  },
  {
   "cell_type": "code",
   "execution_count": 34,
   "metadata": {},
   "outputs": [
    {
     "data": {
      "text/plain": [
       "{'ok': 1.0}"
      ]
     },
     "execution_count": 34,
     "metadata": {},
     "output_type": "execute_result"
    }
   ],
   "source": [
    "db.adsE_collection.rename('adsE_method3')"
   ]
  },
  {
   "cell_type": "code",
   "execution_count": null,
   "metadata": {},
   "outputs": [],
   "source": []
  },
  {
   "cell_type": "code",
   "execution_count": null,
   "metadata": {},
   "outputs": [],
   "source": []
  },
  {
   "cell_type": "code",
   "execution_count": 18,
   "metadata": {},
   "outputs": [
    {
     "name": "stdout",
     "output_type": "stream",
     "text": [
      "1060 ZnCu_100_u2_RPBE.traj\n",
      "1061 ZnCu_100_u2_RPBE_no001_CO_n1_d10.traj\n",
      "1062 ZnCu_100_u2_RPBE_no002_CO_n1_d10.traj\n",
      "1063 ZnCu_100_u2_RPBE_no003_CO_n1_d10.traj\n",
      "1064 ZnCu_110_u2_RPBE.traj\n",
      "1065 ZnCu_110_u2_RPBE_no001_CO_n1_d10.traj\n",
      "1066 ZnCu_110_u2_RPBE_no002_CO_n1_d10.traj\n",
      "1067 ZnCu_110_u2_RPBE_no003_CO_n1_d10.traj\n",
      "1068 ZnCu_110_u2_RPBE_no004_CO_n1_d10.traj\n",
      "1069 ZnCu_110_u2_RPBE_no005_CO_n1_d10.traj\n",
      "1070 ZnCu_110_u2_RPBE_no006_CO_n1_d10.traj\n",
      "1071 ZnCu_110_u2_RPBE_no007_CO_n1_d10.traj\n",
      "1072 ZnCu_111_u2_RPBE.traj\n",
      "1073 ZnCu_111_u2_RPBE_no001_CO_n1_d15.traj\n",
      "1074 ZnCu_111_u2_RPBE_no002_CO_n1_d15.traj\n",
      "1075 ZnCu_111_u2_RPBE_no003_CO_n1_d15.traj\n",
      "1076 ZnCu_111_u2_RPBE_no004_CO_n1_d15.traj\n",
      "1077 ZnCu_111_u2_RPBE_no005_CO_n1_d15.traj\n",
      "1078 ZnCu_111_u2_RPBE_no006_CO_n1_d15.traj\n",
      "1079 ZnCu_RPBE.traj\n",
      "1080 Zn_001_u2_RPBE.traj\n",
      "1081 Zn_001_u2_RPBE_no001_CO_n1_d8.traj\n",
      "1082 Zn_001_u2_RPBE_no002_CO_n1_d8.traj\n",
      "1083 Zn_001_u2_RPBE_no003_CO_n1_d8.traj\n",
      "1084 Zn_001_u2_RPBE_no004_CO_n1_d8.traj\n",
      "1085 Zn_100_u2_RPBE.traj\n",
      "1086 Zn_100_u2_RPBE_no001_CO_n1_d8.traj\n",
      "1087 Zn_100_u2_RPBE_no002_CO_n1_d8.traj\n",
      "1088 Zn_100_u2_RPBE_no003_CO_n1_d8.traj\n",
      "1089 Zn_100_u2_RPBE_no004_CO_n1_d8.traj\n",
      "1090 Zn_100_u2_RPBE_no005_CO_n1_d8.traj\n",
      "1091 Zn_100_u2_RPBE_no006_CO_n1_d8.traj\n",
      "1092 Zn_100_u2_RPBE_no007_CO_n1_d8.traj\n",
      "1093 Zn_RPBE.traj\n"
     ]
    }
   ],
   "source": [
    "env = 'local'\n",
    "files = os.listdir('./init/')\n",
    "# files = os.listdir('./database/')\n",
    "chosen = []\n",
    "\n",
    "for i in range(len(files)):\n",
    "    if 'Zn' in files[i]:\n",
    "#     if 'Cu' in files[i] or 'Pt' in files[i]:\n",
    "        print(i, files[i])\n",
    "        chosen.append(files[i])\n",
    "        init_query(files[i],'local')"
   ]
  },
  {
   "cell_type": "code",
   "execution_count": 24,
   "metadata": {},
   "outputs": [
    {
     "data": {
      "text/plain": [
       "Atoms(symbols='Zn16', pbc=[True, True, False], cell=[[5.323107383026382, 0.0, 3.2594632090704516e-16], [1.7178531938908502e-15, 10.682351835765004, 6.541053991517733e-16], [0.0, 0.0, 23.04973110386675]], tags=...)"
      ]
     },
     "execution_count": 24,
     "metadata": {},
     "output_type": "execute_result"
    }
   ],
   "source": [
    "index = 1085\n",
    "init_query(files[index],'local')"
   ]
  },
  {
   "cell_type": "code",
   "execution_count": 25,
   "metadata": {},
   "outputs": [
    {
     "data": {
      "text/plain": [
       "Atoms(symbols='Cu24', pbc=[True, True, False], cell=[[5.200358657806353, 0.0, 3.1843012923503882e-16], [1.0242314223236953e-15, 6.369112595545179, -1.0242314223236953e-15], [0.0, 0.0, 27.021856238703894]], tags=...)"
      ]
     },
     "execution_count": 25,
     "metadata": {},
     "output_type": "execute_result"
    }
   ],
   "source": [
    "file = 'Cu_211_u2_RPBE.traj'\n",
    "init_query(file,'local')"
   ]
  },
  {
   "cell_type": "code",
   "execution_count": null,
   "metadata": {},
   "outputs": [],
   "source": []
  }
 ],
 "metadata": {
  "kernelspec": {
   "display_name": "Python 3",
   "language": "python",
   "name": "python3"
  },
  "language_info": {
   "codemirror_mode": {
    "name": "ipython",
    "version": 3
   },
   "file_extension": ".py",
   "mimetype": "text/x-python",
   "name": "python",
   "nbconvert_exporter": "python",
   "pygments_lexer": "ipython3",
   "version": "3.6.9"
  }
 },
 "nbformat": 4,
 "nbformat_minor": 2
}
