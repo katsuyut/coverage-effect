{
 "cells": [
  {
   "cell_type": "markdown",
   "metadata": {},
   "source": [
    "### It's temporally used file so any modification will be fine ###"
   ]
  },
  {
   "cell_type": "code",
   "execution_count": 1,
   "metadata": {},
   "outputs": [],
   "source": [
    "from MACalc import *\n",
    "from MAUtil import *\n",
    "from MAInit import *\n",
    "from MAPost import *\n",
    "from GASpyfuncs import *\n",
    "import time\n",
    "pd.set_option('display.max_columns', 100)\n",
    "plt.rcParams[\"font.size\"] = 14\n",
    "pd.set_option('display.max_columns', 100)\n",
    "pd.set_option('display.max_rows', 100)\n",
    "figs = [20,50]\n",
    "fign = [15,4]"
   ]
  },
  {
   "cell_type": "code",
   "execution_count": 25,
   "metadata": {},
   "outputs": [
    {
     "data": {
      "text/plain": [
       "Atoms(symbols='Zn2Cu2Zn2Cu2Zn2Cu2Zn2Cu2Zn2Cu2Zn2Cu2Zn2Cu2Zn2Cu2COCOCO', pbc=[True, True, False], cell=[[6.0140740590921835, 0.0, 3.682558273151186e-16], [1.367738079817306e-15, 8.505185099484375, 5.207923854119651e-16], [0.0, 0.0, 25.51555529845313]], tags=...)"
      ]
     },
     "execution_count": 25,
     "metadata": {},
     "output_type": "execute_result"
    }
   ],
   "source": [
    "init_query('ZnCu_110_u2_RPBE_no052_CO_n3_d3.traj','local')"
   ]
  },
  {
   "cell_type": "code",
   "execution_count": null,
   "metadata": {},
   "outputs": [],
   "source": []
  }
 ],
 "metadata": {
  "kernelspec": {
   "display_name": "Python 3",
   "language": "python",
   "name": "python3"
  },
  "language_info": {
   "codemirror_mode": {
    "name": "ipython",
    "version": 3
   },
   "file_extension": ".py",
   "mimetype": "text/x-python",
   "name": "python",
   "nbconvert_exporter": "python",
   "pygments_lexer": "ipython3",
   "version": "3.6.9"
  }
 },
 "nbformat": 4,
 "nbformat_minor": 2
}
