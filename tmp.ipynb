{
 "cells": [
  {
   "cell_type": "code",
   "execution_count": 25,
   "metadata": {},
   "outputs": [],
   "source": [
    "### It's temporally used file so any modification will be fine ###"
   ]
  },
  {
   "cell_type": "code",
   "execution_count": 17,
   "metadata": {},
   "outputs": [],
   "source": [
    "from MAUtil import *\n",
    "from MAInit import *"
   ]
  },
  {
   "cell_type": "code",
   "execution_count": 18,
   "metadata": {},
   "outputs": [],
   "source": [
    "#############################################################################3\n",
    "# name = \"CoPt3_100_u2\"\n",
    "# name = 'Pt_100_u2_no20_CO_n1_d9'\n",
    "name = 'Cu_100_u1'\n",
    "# name = 'Pt_100_u2_no20_CO_n1_d9'\n",
    "# name = 'Cu_100_u2_no20_CO_n1_d8'\n",
    "\n",
    "inname = name + '.traj'\n",
    "atoms = init_query(inname, 'spacom')\n"
   ]
  },
  {
   "cell_type": "code",
   "execution_count": 21,
   "metadata": {},
   "outputs": [
    {
     "name": "stdout",
     "output_type": "stream",
     "text": [
      "Symmetrically same structure found!\n",
      "Used initialized!\n",
      "1-------Cu4CO-------\n",
      "Distance 1.30 is below 1.8\n",
      "2-------Cu4COCO-------\n",
      "Distance 1.30 is below 1.8\n",
      "Used initialized!\n",
      "1-------Cu4CO-------\n",
      "2-------Cu4COCO-------\n",
      "Distance 1.30 is below 1.8\n",
      "Distance 1.30 is below 1.8\n",
      "Used initialized!\n",
      "1-------Cu4CO-------\n"
     ]
    }
   ],
   "source": [
    "bareatoms, poslis = removemolecule(atoms, ['C', 'O'])\n",
    "barestruct = AseAtomsAdaptor.get_structure(bareatoms)\n",
    "baresites = getadsites(bareatoms, False)\n",
    "d = 1.13\n",
    "\n",
    "maxmole = 5\n",
    "mindist = 1.8 # must be not 0\n",
    "molecule = Atoms('CO', positions=[(0., 0., 0.), (0., 0., d)], cell=(10., 10., 10))\n",
    "                                                                    \n",
    "sites0_ = baresites['all']\n",
    "sites0 = [list(i) for i in sites0_]\n",
    "\n",
    "group = creategroup(bareatoms, sites0)\n",
    "\n",
    "rused = []\n",
    "for i in reversed(range(len(sites0))):\n",
    "    for j in range(len(poslis)):\n",
    "        if np.allclose(sites0[i][:2], poslis[j][:2]):\n",
    "            tmp = sites0.pop(i)\n",
    "            rused.append(tmp)\n",
    "\n",
    "allatoms, allused, mindistlis, numdict, molenum \\\n",
    "    = getuniqueatoms(atoms, bareatoms, sites0, maxmole, mindist, rused, group, molecule)"
   ]
  },
  {
   "cell_type": "code",
   "execution_count": 23,
   "metadata": {},
   "outputs": [
    {
     "data": {
      "text/plain": [
       "[1, 2, 1, 2, 1]"
      ]
     },
     "execution_count": 23,
     "metadata": {},
     "output_type": "execute_result"
    }
   ],
   "source": [
    "molenum"
   ]
  },
  {
   "cell_type": "code",
   "execution_count": 24,
   "metadata": {},
   "outputs": [
    {
     "data": {
      "text/plain": [
       "{'1': 3, '2': 2}"
      ]
     },
     "execution_count": 24,
     "metadata": {},
     "output_type": "execute_result"
    }
   ],
   "source": [
    "numdict"
   ]
  },
  {
   "cell_type": "code",
   "execution_count": null,
   "metadata": {},
   "outputs": [],
   "source": []
  }
 ],
 "metadata": {
  "kernelspec": {
   "display_name": "Python 3",
   "language": "python",
   "name": "python3"
  },
  "language_info": {
   "codemirror_mode": {
    "name": "ipython",
    "version": 3
   },
   "file_extension": ".py",
   "mimetype": "text/x-python",
   "name": "python",
   "nbconvert_exporter": "python",
   "pygments_lexer": "ipython3",
   "version": "3.6.7"
  }
 },
 "nbformat": 4,
 "nbformat_minor": 2
}
