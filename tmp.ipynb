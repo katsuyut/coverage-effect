{
 "cells": [
  {
   "cell_type": "markdown",
   "metadata": {},
   "source": [
    "### It's temporally used file so any modification will be fine ###"
   ]
  },
  {
   "cell_type": "code",
   "execution_count": 1,
   "metadata": {},
   "outputs": [],
   "source": [
    "from MACalc import *\n",
    "from MAUtil import *\n",
    "from MAInit import *\n",
    "from MAPost import *\n",
    "from custodian.vasp.handlers import VaspErrorHandler, UnconvergedErrorHandler\n",
    "import time\n",
    "pd.set_option('display.max_columns', 100)"
   ]
  },
  {
   "cell_type": "code",
   "execution_count": 2,
   "metadata": {},
   "outputs": [],
   "source": [
    "A = make_adsorbed_surface('Cu_100_u2_RPBE','CO_RPBE')"
   ]
  },
  {
   "cell_type": "code",
   "execution_count": 3,
   "metadata": {},
   "outputs": [
    {
     "name": "stdout",
     "output_type": "stream",
     "text": [
      "progress: 0/3, 0.00 min\n",
      "progress: 1/3, 0.01 min\n",
      "progress: 2/3, 0.01 min\n",
      "\n",
      "adsorbates : # of structures, {'1': 3, '2': 9, '3': 7, '4': 5}\n",
      "total structures: 24\n"
     ]
    }
   ],
   "source": [
    "A.make_surface(4,2.5)"
   ]
  },
  {
   "cell_type": "code",
   "execution_count": 4,
   "metadata": {},
   "outputs": [
    {
     "name": "stdout",
     "output_type": "stream",
     "text": [
      "Cu_100_u2_RPBE_no010_CO_n1_d8.traj\n",
      "Cu_100_u2_RPBE_no001_CO_n1_d8.traj\n",
      "Cu_100_u2_RPBE_no020_CO_n1_d8.traj\n",
      "Cu_100_u2_RPBE_no011_CO_n2_d3.traj\n",
      "Cu_100_u2_RPBE_no018_CO_n2_d3.traj\n",
      "Cu_100_u2_RPBE_no024_CO_n2_d3.traj\n",
      "Cu_100_u2_RPBE_no002_CO_n2_d3.traj\n",
      "Cu_100_u2_RPBE_no019_CO_n2_d3.traj\n",
      "Cu_100_u2_RPBE_no007_CO_n2_d3.traj\n",
      "Cu_100_u2_RPBE_no014_CO_n2_d3.traj\n",
      "Cu_100_u2_RPBE_no008_CO_n2_d3.traj\n",
      "Cu_100_u2_RPBE_no021_CO_n2_d3.traj\n",
      "Cu_100_u2_RPBE_no005_CO_n3_d3.traj\n",
      "Cu_100_u2_RPBE_no003_CO_n3_d3.traj\n",
      "Cu_100_u2_RPBE_no009_CO_n3_d3.traj\n",
      "Cu_100_u2_RPBE_no015_CO_n3_d3.traj\n",
      "Cu_100_u2_RPBE_no017_CO_n3_d3.traj\n",
      "Cu_100_u2_RPBE_no022_CO_n3_d3.traj\n",
      "Cu_100_u2_RPBE_no012_CO_n3_d3.traj\n",
      "Cu_100_u2_RPBE_no006_CO_n4_d3.traj\n",
      "Cu_100_u2_RPBE_no016_CO_n4_d3.traj\n",
      "Cu_100_u2_RPBE_no023_CO_n4_d3.traj\n",
      "Cu_100_u2_RPBE_no013_CO_n4_d3.traj\n",
      "Cu_100_u2_RPBE_no004_CO_n4_d3.traj\n"
     ]
    }
   ],
   "source": [
    "A.write_trajectory(15)"
   ]
  },
  {
   "cell_type": "code",
   "execution_count": null,
   "metadata": {},
   "outputs": [],
   "source": []
  },
  {
   "cell_type": "code",
   "execution_count": null,
   "metadata": {},
   "outputs": [],
   "source": []
  }
 ],
 "metadata": {
  "kernelspec": {
   "display_name": "Python 3",
   "language": "python",
   "name": "python3"
  },
  "language_info": {
   "codemirror_mode": {
    "name": "ipython",
    "version": 3
   },
   "file_extension": ".py",
   "mimetype": "text/x-python",
   "name": "python",
   "nbconvert_exporter": "python",
   "pygments_lexer": "ipython3",
   "version": "3.6.9"
  }
 },
 "nbformat": 4,
 "nbformat_minor": 2
}
