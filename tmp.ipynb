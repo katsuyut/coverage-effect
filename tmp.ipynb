{
 "cells": [
  {
   "cell_type": "markdown",
   "metadata": {},
   "source": [
    "### It's temporally used file so any modification will be fine ###"
   ]
  },
  {
   "cell_type": "code",
   "execution_count": 1,
   "metadata": {},
   "outputs": [],
   "source": [
    "from MACalc import *\n",
    "from MAUtil import *\n",
    "from MAInit import *\n",
    "from MAPost import *\n",
    "from GASpyfuncs import *\n",
    "import time\n",
    "pd.set_option('display.max_columns', 100)"
   ]
  },
  {
   "cell_type": "code",
   "execution_count": 2,
   "metadata": {},
   "outputs": [],
   "source": [
    "file='GaNi_110_u2_RPBE_no032_CO_n4_d5.traj'\n",
    "atoms = query(file)"
   ]
  },
  {
   "cell_type": "code",
   "execution_count": 3,
   "metadata": {},
   "outputs": [
    {
     "data": {
      "text/plain": [
       "5.246890330641294"
      ]
     },
     "execution_count": 3,
     "metadata": {},
     "output_type": "execute_result"
    }
   ],
   "source": [
    "get_adsorb_distance(atoms,query('CO_RPBE.traj'))"
   ]
  },
  {
   "cell_type": "code",
   "execution_count": 4,
   "metadata": {},
   "outputs": [
    {
     "name": "stdout",
     "output_type": "stream",
     "text": [
      "-----------------------------------------------------------\n",
      "Ag_100_u2_RPBE_no002_CO_n2_d3.traj\n"
     ]
    },
    {
     "data": {
      "text/plain": [
       "{'_id': ObjectId('5e7c1f3d0a0ea2c2e6ad40d9'),\n",
       " 'name': 'Ag_100_u2_RPBE_no002_CO_n2_d3.traj',\n",
       " 'isvalid': 'yes',\n",
       " 'ispredictable': 'yes',\n",
       " 'element': 'Ag',\n",
       " 'face': '100',\n",
       " 'unitlength': 2,\n",
       " 'xc': 'RPBE',\n",
       " 'adsorbate': 'CO',\n",
       " 'numberofads': 2,\n",
       " 'coverage': 0.5,\n",
       " 'surfatomnum': 4,\n",
       " 'E': -61.37397056,\n",
       " 'bareE': -32.47498785,\n",
       " 'E_ads': -14.48543631,\n",
       " 'totaladsE': 0.071889910000003,\n",
       " 'aveadsE/suratom': 0.01797247750000075,\n",
       " 'aveadsE/ads': 0.0359449550000015,\n",
       " 'E_int_space': 0.23969634000000184,\n",
       " 'sumE_each_ads': -0.12085765999999865,\n",
       " 'E_residue/suratom': -0.011737192500000049,\n",
       " 'area': 35.50218394473754,\n",
       " 'density': 0.05633456249094947,\n",
       " 'igroups': [0, 0],\n",
       " 'rgroups': [0, 0],\n",
       " 'converged': 'yes',\n",
       " 'is_adsorbed': 'yes',\n",
       " 'kept_sites': 'yes',\n",
       " 'E_not_exceeded': 'yes',\n",
       " 'minimum_distance': 3,\n",
       " 'ads_dist2': 0.0,\n",
       " 'ads_dist3': 4.0}"
      ]
     },
     "execution_count": 4,
     "metadata": {},
     "output_type": "execute_result"
    }
   ],
   "source": [
    "file = 'Ag_100_u2_RPBE_no002_CO_n2_d3.traj'\n",
    "A = make_database(file)\n",
    "A.check_database()"
   ]
  },
  {
   "cell_type": "code",
   "execution_count": 7,
   "metadata": {
    "scrolled": false
   },
   "outputs": [
    {
     "name": "stdout",
     "output_type": "stream",
     "text": [
      "Added to cifpath\n",
      "material: CuSe\n",
      "crystal system: hexagonal\n"
     ]
    },
    {
     "data": {
      "text/plain": [
       "{'energy': -47.05912875,\n",
       " 'energy_per_atom': -3.9215940625,\n",
       " 'volume': 244.80578854813,\n",
       " 'formation_energy_per_atom': -0.1271982217968747,\n",
       " 'nsites': 12,\n",
       " 'unit_cell_formula': {'Cu': 6.0, 'Se': 6.0},\n",
       " 'pretty_formula': 'CuSe',\n",
       " 'is_hubbard': False,\n",
       " 'elements': ['Cu', 'Se'],\n",
       " 'nelements': 2,\n",
       " 'e_above_hull': 0.0005548741666663304,\n",
       " 'hubbards': {},\n",
       " 'is_compatible': True,\n",
       " 'spacegroup': {'symprec': 0.1,\n",
       "  'source': 'spglib',\n",
       "  'symbol': 'P6_3/mmc',\n",
       "  'number': 194,\n",
       "  'point_group': '6/mmm',\n",
       "  'crystal_system': 'hexagonal',\n",
       "  'hall': '-P 6c 2c'},\n",
       " 'task_ids': ['mp-925051', 'mp-924280', 'mp-917478', 'mp-488'],\n",
       " 'band_gap': 0.0,\n",
       " 'density': 5.799783849172734,\n",
       " 'icsd_id': None,\n",
       " 'icsd_ids': [94677,\n",
       "  94673,\n",
       "  94678,\n",
       "  94681,\n",
       "  94674,\n",
       "  94679,\n",
       "  76960,\n",
       "  94672,\n",
       "  629029,\n",
       "  94680,\n",
       "  94670,\n",
       "  94676,\n",
       "  94675,\n",
       "  94671,\n",
       "  94683,\n",
       "  94682,\n",
       "  94684,\n",
       "  82331,\n",
       "  240],\n",
       " 'cif': \"# generated using pymatgen\\ndata_CuSe\\n_symmetry_space_group_name_H-M   'P 1'\\n_cell_length_a   4.02084906\\n_cell_length_b   4.02084906\\n_cell_length_c   17.48459232\\n_cell_angle_alpha   90.00000000\\n_cell_angle_beta   90.00000000\\n_cell_angle_gamma   120.00000001\\n_symmetry_Int_Tables_number   1\\n_chemical_formula_structural   CuSe\\n_chemical_formula_sum   'Cu6 Se6'\\n_cell_volume   244.80578855\\n_cell_formula_units_Z   6\\nloop_\\n _symmetry_equiv_pos_site_id\\n _symmetry_equiv_pos_as_xyz\\n  1  'x, y, z'\\nloop_\\n _atom_site_type_symbol\\n _atom_site_label\\n _atom_site_symmetry_multiplicity\\n _atom_site_fract_x\\n _atom_site_fract_y\\n _atom_site_fract_z\\n _atom_site_occupancy\\n  Cu  Cu0  1  0.333333  0.666667  0.750000  1\\n  Cu  Cu1  1  0.666667  0.333333  0.250000  1\\n  Cu  Cu2  1  0.333333  0.666667  0.107737  1\\n  Cu  Cu3  1  0.666667  0.333333  0.607737  1\\n  Cu  Cu4  1  0.666667  0.333333  0.892263  1\\n  Cu  Cu5  1  0.333333  0.666667  0.392263  1\\n  Se  Se6  1  0.333333  0.666667  0.250000  1\\n  Se  Se7  1  0.666667  0.333333  0.750000  1\\n  Se  Se8  1  0.000000  0.000000  0.069457  1\\n  Se  Se9  1  0.000000  0.000000  0.569457  1\\n  Se  Se10  1  0.000000  0.000000  0.930543  1\\n  Se  Se11  1  0.000000  0.000000  0.430543  1\\n\",\n",
       " 'total_magnetization': 0.0,\n",
       " 'material_id': 'mp-488',\n",
       " 'oxide_type': 'None',\n",
       " 'tags': ['Copper selenide',\n",
       "  'Copper selenide - alpha',\n",
       "  'Klockmannite',\n",
       "  'Copper selenide - gamma',\n",
       "  'Copper selenide (1/1) - subcell',\n",
       "  'Copper selenide - HT',\n",
       "  'High pressure experimental phase'],\n",
       " 'elasticity': {'G_Reuss': 10.0,\n",
       "  'G_VRH': 15.0,\n",
       "  'G_Voigt': 19.0,\n",
       "  'G_Voigt_Reuss_Hill': 15.0,\n",
       "  'K_Reuss': 65.0,\n",
       "  'K_VRH': 65.0,\n",
       "  'K_Voigt': 66.0,\n",
       "  'K_Voigt_Reuss_Hill': 65.0,\n",
       "  'elastic_anisotropy': 4.39,\n",
       "  'elastic_tensor': [[109.0, 80.0, 25.0, 0.0, 0.0, 0.0],\n",
       "   [80.0, 109.0, 25.0, 0.0, 0.0, 0.0],\n",
       "   [25.0, 25.0, 117.0, 0.0, 0.0, 0.0],\n",
       "   [0.0, 0.0, 0.0, 6.0, 0.0, 0.0],\n",
       "   [0.0, 0.0, 0.0, 0.0, 6.0, 0.0],\n",
       "   [0.0, 0.0, 0.0, 0.0, 0.0, 14.0]],\n",
       "  'homogeneous_poisson': 0.4,\n",
       "  'poisson_ratio': 0.4,\n",
       "  'universal_anisotropy': 4.39,\n",
       "  'elastic_tensor_original': [[114.85823116938371,\n",
       "    75.26700659515778,\n",
       "    24.34864446437519,\n",
       "    0.0,\n",
       "    0.0,\n",
       "    0.0],\n",
       "   [74.04521161994988, 114.23525539123986, 25.06779915863642, 0.0, 0.0, 0.0],\n",
       "   [24.909306336642434, 24.90929729882082, 117.37324102762513, 0.0, 0.0, 0.0],\n",
       "   [0.021729239374054146,\n",
       "    0.22108222136573516,\n",
       "    -0.07740462658530664,\n",
       "    7.019074922284775,\n",
       "    0.0,\n",
       "    0.0],\n",
       "   [-0.04659054589059001,\n",
       "    0.47403514326413343,\n",
       "    0.839338842221479,\n",
       "    0.0,\n",
       "    4.872171287947762,\n",
       "    0.0],\n",
       "   [0.0, 0.0, 0.0, 0.0, 0.0, 8.931831597436638]],\n",
       "  'compliance_tensor': [[20.112480935469833,\n",
       "    -14.516984179680465,\n",
       "    -1.1826988055564336,\n",
       "    3.7652354827565154e-18,\n",
       "    1.7557743315817952e-18,\n",
       "    -1.254113001398674e-05],\n",
       "   [-14.516984179680465,\n",
       "    20.11246645423329,\n",
       "    -1.1826983797774275,\n",
       "    -1.4517506050115253e-18,\n",
       "    6.8819752440399835e-19,\n",
       "    -1.2541125491412974e-05],\n",
       "   [-1.1826988055564336,\n",
       "    -1.1826983797774273,\n",
       "    9.019795025271915,\n",
       "    1.4750786646291578e-17,\n",
       "    -7.02635895798235e-18,\n",
       "    7.374714022126484e-07],\n",
       "   [-6.8476673430669334e-18,\n",
       "    3.97704555412592e-18,\n",
       "    1.5846530277274153e-17,\n",
       "    168.19090906367592,\n",
       "    -5.243770827880016e-05,\n",
       "    1.8748966214784027e-17],\n",
       "   [-4.371590177681648e-18,\n",
       "    3.822515576632419e-18,\n",
       "    -6.3937308499215266e-18,\n",
       "    -5.243770827880016e-05,\n",
       "    168.1909696134823,\n",
       "    1.4192617707934098e-17],\n",
       "   [-1.2541130025524872e-05,\n",
       "    -1.2541125481649047e-05,\n",
       "    7.374714015394733e-07,\n",
       "    -9.036091472497808e-18,\n",
       "    -1.8490986023891847e-18,\n",
       "    69.25891574906929]],\n",
       "  'warnings': [],\n",
       "  'nsites': 12},\n",
       " 'piezo': None,\n",
       " 'diel': None,\n",
       " 'full_formula': 'Cu6Se6'}"
      ]
     },
     "execution_count": 7,
     "metadata": {},
     "output_type": "execute_result"
    }
   ],
   "source": [
    "request_mp('mp-488')"
   ]
  },
  {
   "cell_type": "code",
   "execution_count": null,
   "metadata": {},
   "outputs": [],
   "source": []
  }
 ],
 "metadata": {
  "kernelspec": {
   "display_name": "Python 3",
   "language": "python",
   "name": "python3"
  },
  "language_info": {
   "codemirror_mode": {
    "name": "ipython",
    "version": 3
   },
   "file_extension": ".py",
   "mimetype": "text/x-python",
   "name": "python",
   "nbconvert_exporter": "python",
   "pygments_lexer": "ipython3",
   "version": "3.6.9"
  }
 },
 "nbformat": 4,
 "nbformat_minor": 2
}
