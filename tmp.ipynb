{
 "cells": [
  {
   "cell_type": "markdown",
   "metadata": {},
   "source": [
    "### It's temporally used file so any modification will be fine ###"
   ]
  },
  {
   "cell_type": "code",
   "execution_count": 2,
   "metadata": {},
   "outputs": [],
   "source": [
    "from MACalc import *\n",
    "from MAUtil import *\n",
    "from MAInit import *\n",
    "from MAPost import *\n",
    "from custodian.vasp.handlers import VaspErrorHandler, UnconvergedErrorHandler\n",
    "import time\n",
    "pd.set_option('display.max_columns', 100)"
   ]
  },
  {
   "cell_type": "code",
   "execution_count": 3,
   "metadata": {},
   "outputs": [
    {
     "name": "stdout",
     "output_type": "stream",
     "text": [
      "12 11\n",
      "12 11\n",
      "12 10\n",
      "12 10\n",
      "12 9\n",
      "12 9\n",
      "12 8\n",
      "12 8\n",
      "12 7\n",
      "12 7\n",
      "12 6\n",
      "12 6\n",
      "12 5\n",
      "12 5\n",
      "12 4\n",
      "12 4\n",
      "12 3\n",
      "12 3\n",
      "12 2\n",
      "12 2\n",
      "12 1\n",
      "12 1\n",
      "12 0\n",
      "12 0\n",
      "progress: 0/10, 0.00 min\n",
      "progress: 1/10, 0.01 min\n",
      "progress: 2/10, 0.01 min\n",
      "progress: 3/10, 0.02 min\n",
      "progress: 4/10, 0.03 min\n",
      "progress: 5/10, 0.04 min\n",
      "progress: 6/10, 0.05 min\n",
      "progress: 7/10, 0.05 min\n",
      "progress: 8/10, 0.05 min\n",
      "progress: 9/10, 0.06 min\n",
      "\n",
      "adsorbates : # of structures, {'1': 10, '2': 44, '3': 34, '4': 14}\n",
      "total structures: 102\n",
      "Cu_211_u2_RPBE_no061_CO_n1_d8.traj\n",
      "Cu_211_u2_RPBE_no027_CO_n1_d8.traj\n",
      "Cu_211_u2_RPBE_no101_CO_n1_d8.traj\n",
      "Cu_211_u2_RPBE_no039_CO_n1_d8.traj\n",
      "Cu_211_u2_RPBE_no014_CO_n1_d8.traj\n",
      "Cu_211_u2_RPBE_no001_CO_n1_d8.traj\n",
      "Cu_211_u2_RPBE_no095_CO_n1_d8.traj\n",
      "Cu_211_u2_RPBE_no075_CO_n1_d8.traj\n",
      "Cu_211_u2_RPBE_no085_CO_n1_d8.traj\n",
      "Cu_211_u2_RPBE_no092_CO_n1_d8.traj\n",
      "Cu_211_u2_RPBE_no020_CO_n2_d3.traj\n",
      "Cu_211_u2_RPBE_no013_CO_n2_d3.traj\n",
      "Cu_211_u2_RPBE_no062_CO_n2_d3.traj\n",
      "Cu_211_u2_RPBE_no072_CO_n2_d3.traj\n",
      "Cu_211_u2_RPBE_no055_CO_n2_d3.traj\n",
      "Cu_211_u2_RPBE_no074_CO_n2_d3.traj\n",
      "Cu_211_u2_RPBE_no094_CO_n2_d3.traj\n",
      "Cu_211_u2_RPBE_no028_CO_n2_d3.traj\n",
      "Cu_211_u2_RPBE_no086_CO_n2_d3.traj\n",
      "Cu_211_u2_RPBE_no048_CO_n2_d3.traj\n",
      "Cu_211_u2_RPBE_no026_CO_n2_d3.traj\n",
      "Cu_211_u2_RPBE_no040_CO_n2_d3.traj\n",
      "Cu_211_u2_RPBE_no060_CO_n2_d3.traj\n",
      "Cu_211_u2_RPBE_no038_CO_n2_d3.traj\n",
      "Cu_211_u2_RPBE_no102_CO_n2_d3.traj\n",
      "Cu_211_u2_RPBE_no051_CO_n3_d3.traj\n",
      "Cu_211_u2_RPBE_no047_CO_n3_d3.traj\n",
      "Cu_211_u2_RPBE_no012_CO_n3_d3.traj\n",
      "Cu_211_u2_RPBE_no087_CO_n3_d3.traj\n",
      "Cu_211_u2_RPBE_no099_CO_n3_d3.traj\n",
      "Cu_211_u2_RPBE_no029_CO_n3_d3.traj\n",
      "Cu_211_u2_RPBE_no056_CO_n3_d3.traj\n",
      "Cu_211_u2_RPBE_no043_CO_n3_d3.traj\n",
      "Cu_211_u2_RPBE_no041_CO_n3_d3.traj\n",
      "Cu_211_u2_RPBE_no036_CO_n3_d3.traj\n",
      "Cu_211_u2_RPBE_no008_CO_n3_d3.traj\n",
      "Cu_211_u2_RPBE_no089_CO_n3_d3.traj\n",
      "Cu_211_u2_RPBE_no025_CO_n3_d3.traj\n",
      "Cu_211_u2_RPBE_no045_CO_n3_d3.traj\n",
      "Cu_211_u2_RPBE_no058_CO_n3_d3.traj\n",
      "Cu_211_u2_RPBE_no068_CO_n4_d3.traj\n",
      "Cu_211_u2_RPBE_no017_CO_n4_d3.traj\n",
      "Cu_211_u2_RPBE_no066_CO_n4_d3.traj\n",
      "Cu_211_u2_RPBE_no088_CO_n4_d3.traj\n",
      "Cu_211_u2_RPBE_no032_CO_n4_d3.traj\n",
      "Cu_211_u2_RPBE_no004_CO_n4_d3.traj\n",
      "Cu_211_u2_RPBE_no035_CO_n4_d3.traj\n",
      "Cu_211_u2_RPBE_no046_CO_n4_d3.traj\n",
      "Cu_211_u2_RPBE_no081_CO_n4_d3.traj\n",
      "Cu_211_u2_RPBE_no098_CO_n4_d3.traj\n",
      "Cu_211_u2_RPBE_no050_CO_n4_d3.traj\n",
      "Cu_211_u2_RPBE_no078_CO_n4_d3.traj\n",
      "Cu_211_u2_RPBE_no042_CO_n4_d3.traj\n",
      "Cu_211_u2_RPBE_no052_CO_n4_d3.traj\n"
     ]
    }
   ],
   "source": [
    "ele = 'Cu'\n",
    "xc = 'RPBE'\n",
    "face = '211'\n",
    "adsorbate = 'CO'\n",
    "unit = 2\n",
    "bare = make_baresurface(ele)\n",
    "bare.xc = xc\n",
    "bare.make_surface_pymatgen(face, 2, 4)\n",
    "\n",
    "\n",
    "# ### other than 211\n",
    "# faces = ['100', '111', '110']\n",
    "# for ele in elements:\n",
    "#     for xc in xcs:\n",
    "#         for face in faces:\n",
    "#             for unit in unitlengths:\n",
    "#                 name = ele + '_' + face + '_u' + str(unit) + '_' + xc\n",
    "#                 adsname = adsorbate + '_' + xc\n",
    "#                 adsorbed = make_adsorbed_surface(name, adsname)\n",
    "#                 if unit == 2:\n",
    "#                     molenum = 4\n",
    "#                 else:\n",
    "#                     molenum = 1\n",
    "#                 adsorbed.make_surface(maxmole=molenum, mindist=2.5)\n",
    "#                 adsorbed.write_trajectory()\n",
    "\n",
    "### for 211\n",
    "name = ele + '_' + face + '_u' + str(2) + '_' + xc\n",
    "adsname = adsorbate + '_' + xc\n",
    "adsorbed = make_adsorbed_surface(name, adsname)\n",
    "if unit == 2:\n",
    "    molenum = 4\n",
    "else:\n",
    "    molenum = 1\n",
    "adsorbed.make_surface(maxmole=molenum, mindist=2.5)\n",
    "adsorbed.write_trajectory()"
   ]
  },
  {
   "cell_type": "code",
   "execution_count": 4,
   "metadata": {},
   "outputs": [
    {
     "data": {
      "text/plain": [
       "Atoms(symbols='Cu24COCOCOCO', pbc=[True, True, False], cell=[6.252703415323648, 5.105310960166873, 28.10576980716], tags=...)"
      ]
     },
     "execution_count": 4,
     "metadata": {},
     "output_type": "execute_result"
    }
   ],
   "source": [
    "init_query('Cu_211_u2_RPBE_no052_CO_n4_d3.traj','local')"
   ]
  },
  {
   "cell_type": "code",
   "execution_count": 17,
   "metadata": {},
   "outputs": [
    {
     "data": {
      "text/plain": [
       "Atoms(symbols='Cu24', pbc=[True, True, False], cell=[[7.65796644025031, 0.0, 0.0], [2.5526554800834367, 4.421328985723636, 0.0], [0.0, 0.0, 26.252703415323648]], tags=...)"
      ]
     },
     "execution_count": 17,
     "metadata": {},
     "output_type": "execute_result"
    }
   ],
   "source": [
    "init_query('Cu_211_u2_RPBE.traj','local')"
   ]
  },
  {
   "cell_type": "code",
   "execution_count": 22,
   "metadata": {},
   "outputs": [],
   "source": [
    "view(fcc211('Cu',[3,2,4],vacuum=10))"
   ]
  },
  {
   "cell_type": "code",
   "execution_count": null,
   "metadata": {},
   "outputs": [],
   "source": []
  }
 ],
 "metadata": {
  "kernelspec": {
   "display_name": "Python 3",
   "language": "python",
   "name": "python3"
  },
  "language_info": {
   "codemirror_mode": {
    "name": "ipython",
    "version": 3
   },
   "file_extension": ".py",
   "mimetype": "text/x-python",
   "name": "python",
   "nbconvert_exporter": "python",
   "pygments_lexer": "ipython3",
   "version": "3.6.9"
  }
 },
 "nbformat": 4,
 "nbformat_minor": 2
}
