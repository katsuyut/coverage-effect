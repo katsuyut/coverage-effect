{
 "cells": [
  {
   "cell_type": "markdown",
   "metadata": {},
   "source": [
    "### It's temporally used file so any modification will be fine ###"
   ]
  },
  {
   "cell_type": "code",
   "execution_count": 1,
   "metadata": {},
   "outputs": [],
   "source": [
    "from MACalc import *\n",
    "from MAUtil import *\n",
    "from MAInit import *\n",
    "from MAPost import *\n",
    "from GASpyfuncs import *\n",
    "import time\n",
    "pd.set_option('display.max_columns', 100)"
   ]
  },
  {
   "cell_type": "code",
   "execution_count": 106,
   "metadata": {},
   "outputs": [],
   "source": [
    "# file = 'Ag_100_u2_RPBE_no002_CO_n2_d3.traj'\n",
    "# A = make_database(file)\n",
    "# A.check_database()"
   ]
  },
  {
   "cell_type": "code",
   "execution_count": 107,
   "metadata": {},
   "outputs": [],
   "source": [
    "client = MongoClient('localhost', 27017)\n",
    "db = client.adsE_database"
   ]
  },
  {
   "cell_type": "code",
   "execution_count": 35,
   "metadata": {},
   "outputs": [
    {
     "data": {
      "text/plain": [
       "['adsE_method2', 'adsE_method3', 'adsE_method1']"
      ]
     },
     "execution_count": 35,
     "metadata": {},
     "output_type": "execute_result"
    }
   ],
   "source": [
    "db.list_collection_names()"
   ]
  },
  {
   "cell_type": "code",
   "execution_count": null,
   "metadata": {},
   "outputs": [],
   "source": [
    "dd"
   ]
  },
  {
   "cell_type": "code",
   "execution_count": 34,
   "metadata": {},
   "outputs": [
    {
     "data": {
      "text/plain": [
       "{'ok': 1.0}"
      ]
     },
     "execution_count": 34,
     "metadata": {},
     "output_type": "execute_result"
    }
   ],
   "source": [
    "db.adsE_collection.rename('adsE_method3')"
   ]
  },
  {
   "cell_type": "code",
   "execution_count": null,
   "metadata": {},
   "outputs": [],
   "source": []
  },
  {
   "cell_type": "code",
   "execution_count": null,
   "metadata": {},
   "outputs": [],
   "source": []
  },
  {
   "cell_type": "code",
   "execution_count": 3,
   "metadata": {},
   "outputs": [
    {
     "name": "stdout",
     "output_type": "stream",
     "text": [
      "427 CuSe_RPBE.traj\n",
      "428 CuSn_001_u2_RPBE.traj\n",
      "429 CuSn_001_u2_RPBE_no001_CO_n1_d14.traj\n",
      "430 CuSn_001_u2_RPBE_no002_CO_n1_d14.traj\n",
      "431 CuSn_001_u2_RPBE_no003_CO_n1_d14.traj\n",
      "432 CuSn_001_u2_RPBE_no004_CO_n1_d14.traj\n",
      "433 CuSn_100_u2_RPBE.traj\n",
      "434 CuSn_100_u2_RPBE_no001_CO_n1_d14.traj\n",
      "435 CuSn_100_u2_RPBE_no002_CO_n1_d14.traj\n",
      "436 CuSn_100_u2_RPBE_no003_CO_n1_d14.traj\n",
      "437 CuSn_100_u2_RPBE_no004_CO_n1_d14.traj\n",
      "438 CuSn_100_u2_RPBE_no005_CO_n1_d14.traj\n",
      "439 CuSn_100_u2_RPBE_no006_CO_n1_d14.traj\n",
      "440 CuSn_RPBE.traj\n",
      "441 Cu_100_u2_RPBE.traj\n",
      "442 Cu_100_u2_RPBE_no001_CO_n1_d8.traj\n",
      "443 Cu_100_u2_RPBE_no002_CO_n1_d8.traj\n",
      "444 Cu_100_u2_RPBE_no002_CO_n2_d3.traj\n",
      "445 Cu_100_u2_RPBE_no003_CO_n1_d8.traj\n",
      "446 Cu_100_u2_RPBE_no003_CO_n3_d3.traj\n",
      "447 Cu_100_u2_RPBE_no004_CO_n4_d3.traj\n",
      "448 Cu_100_u2_RPBE_no005_CO_n3_d3.traj\n",
      "449 Cu_100_u2_RPBE_no006_CO_n4_d3.traj\n",
      "450 Cu_100_u2_RPBE_no007_CO_n2_d3.traj\n",
      "451 Cu_100_u2_RPBE_no008_CO_n2_d3.traj\n",
      "452 Cu_100_u2_RPBE_no009_CO_n3_d3.traj\n",
      "453 Cu_100_u2_RPBE_no011_CO_n2_d3.traj\n",
      "454 Cu_100_u2_RPBE_no012_CO_n3_d3.traj\n",
      "455 Cu_100_u2_RPBE_no013_CO_n4_d3.traj\n",
      "456 Cu_100_u2_RPBE_no014_CO_n3_d3.traj\n",
      "457 Cu_100_u2_RPBE_no015_CO_n2_d3.traj\n",
      "458 Cu_100_u2_RPBE_no016_CO_n3_d3.traj\n",
      "459 Cu_100_u2_RPBE_no017_CO_n4_d3.traj\n",
      "460 Cu_100_u2_RPBE_no018_CO_n2_d3.traj\n",
      "461 Cu_100_u2_RPBE_no020_CO_n2_d3.traj\n",
      "462 Cu_100_u2_RPBE_no021_CO_n3_d3.traj\n",
      "463 Cu_100_u2_RPBE_no022_CO_n4_d3.traj\n",
      "464 Cu_100_u2_RPBE_no023_CO_n2_d3.traj\n",
      "465 Cu_100_u2_RPBE_no024_CO_n2_d3.traj\n",
      "466 Cu_110_u2_RPBE.traj\n",
      "467 Cu_110_u2_RPBE_no001_CO_n1_d8.traj\n",
      "468 Cu_110_u2_RPBE_no002_CO_n1_d8.traj\n",
      "469 Cu_110_u2_RPBE_no002_CO_n2_d5.traj\n",
      "470 Cu_110_u2_RPBE_no003_CO_n1_d8.traj\n",
      "471 Cu_110_u2_RPBE_no003_CO_n3_d3.traj\n",
      "472 Cu_110_u2_RPBE_no004_CO_n1_d8.traj\n",
      "473 Cu_110_u2_RPBE_no004_CO_n4_d3.traj\n",
      "474 Cu_110_u2_RPBE_no005_CO_n3_d3.traj\n",
      "475 Cu_110_u2_RPBE_no006_CO_n4_d3.traj\n",
      "476 Cu_110_u2_RPBE_no007_CO_n2_d5.traj\n",
      "477 Cu_110_u2_RPBE_no008_CO_n3_d3.traj\n",
      "478 Cu_110_u2_RPBE_no009_CO_n4_d3.traj\n",
      "479 Cu_110_u2_RPBE_no010_CO_n2_d5.traj\n",
      "480 Cu_110_u2_RPBE_no011_CO_n2_d5.traj\n",
      "481 Cu_110_u2_RPBE_no012_CO_n3_d3.traj\n",
      "482 Cu_110_u2_RPBE_no013_CO_n2_d5.traj\n",
      "483 Cu_110_u2_RPBE_no014_CO_n3_d3.traj\n",
      "484 Cu_110_u2_RPBE_no016_CO_n2_d5.traj\n",
      "485 Cu_110_u2_RPBE_no017_CO_n3_d3.traj\n",
      "486 Cu_110_u2_RPBE_no018_CO_n4_d3.traj\n",
      "487 Cu_110_u2_RPBE_no019_CO_n3_d3.traj\n",
      "488 Cu_110_u2_RPBE_no020_CO_n4_d3.traj\n",
      "489 Cu_110_u2_RPBE_no021_CO_n2_d5.traj\n",
      "490 Cu_110_u2_RPBE_no022_CO_n2_d5.traj\n",
      "491 Cu_110_u2_RPBE_no023_CO_n3_d3.traj\n",
      "492 Cu_110_u2_RPBE_no024_CO_n2_d5.traj\n",
      "493 Cu_110_u2_RPBE_no026_CO_n2_d5.traj\n",
      "494 Cu_110_u2_RPBE_no027_CO_n3_d3.traj\n",
      "495 Cu_110_u2_RPBE_no028_CO_n4_d3.traj\n",
      "496 Cu_110_u2_RPBE_no029_CO_n3_d3.traj\n",
      "497 Cu_110_u2_RPBE_no030_CO_n2_d5.traj\n",
      "498 Cu_110_u2_RPBE_no031_CO_n3_d3.traj\n",
      "499 Cu_110_u2_RPBE_no032_CO_n4_d3.traj\n",
      "500 Cu_110_u2_RPBE_no033_CO_n2_d5.traj\n",
      "501 Cu_110_u2_RPBE_no034_CO_n2_d5.traj\n",
      "502 Cu_110_u2_RPBE_no036_CO_n2_d5.traj\n",
      "503 Cu_110_u2_RPBE_no037_CO_n3_d3.traj\n",
      "504 Cu_110_u2_RPBE_no038_CO_n4_d3.traj\n",
      "505 Cu_110_u2_RPBE_no040_CO_n2_d5.traj\n",
      "506 Cu_111_u2_RPBE.traj\n",
      "507 Cu_111_u2_RPBE_no001_CO_n1_d8.traj\n",
      "508 Cu_111_u2_RPBE_no002_CO_n1_d8.traj\n",
      "509 Cu_111_u2_RPBE_no002_CO_n2_d3.traj\n",
      "510 Cu_111_u2_RPBE_no003_CO_n1_d8.traj\n",
      "511 Cu_111_u2_RPBE_no003_CO_n3_d3.traj\n",
      "512 Cu_111_u2_RPBE_no004_CO_n1_d8.traj\n",
      "513 Cu_111_u2_RPBE_no004_CO_n4_d3.traj\n",
      "514 Cu_111_u2_RPBE_no005_CO_n2_d3.traj\n",
      "515 Cu_111_u2_RPBE_no006_CO_n3_d3.traj\n",
      "516 Cu_111_u2_RPBE_no007_CO_n2_d3.traj\n",
      "517 Cu_111_u2_RPBE_no009_CO_n2_d3.traj\n",
      "518 Cu_111_u2_RPBE_no010_CO_n3_d3.traj\n",
      "519 Cu_111_u2_RPBE_no011_CO_n4_d3.traj\n",
      "520 Cu_111_u2_RPBE_no012_CO_n2_d3.traj\n",
      "521 Cu_111_u2_RPBE_no013_CO_n2_d3.traj\n",
      "522 Cu_111_u2_RPBE_no014_CO_n2_d3.traj\n",
      "523 Cu_111_u2_RPBE_no016_CO_n2_d3.traj\n",
      "524 Cu_111_u2_RPBE_no017_CO_n3_d3.traj\n",
      "525 Cu_111_u2_RPBE_no018_CO_n4_d3.traj\n",
      "526 Cu_111_u2_RPBE_no019_CO_n2_d3.traj\n",
      "527 Cu_111_u2_RPBE_no021_CO_n2_d3.traj\n",
      "528 Cu_111_u2_RPBE_no022_CO_n3_d3.traj\n",
      "529 Cu_111_u2_RPBE_no023_CO_n4_d3.traj\n",
      "530 Cu_111_u2_RPBE_no100_CO_n1_d8.traj\n",
      "531 Cu_211_u2_RPBE.traj\n",
      "532 Cu_211_u2_RPBE_no001_CO_n1_d8.traj\n",
      "533 Cu_211_u2_RPBE_no002_CO_n1_d8.traj\n",
      "534 Cu_211_u2_RPBE_no002_CO_n2_d3.traj\n",
      "535 Cu_211_u2_RPBE_no003_CO_n1_d8.traj\n",
      "536 Cu_211_u2_RPBE_no004_CO_n1_d8.traj\n",
      "537 Cu_211_u2_RPBE_no004_CO_n2_d3.traj\n",
      "538 Cu_211_u2_RPBE_no005_CO_n1_d8.traj\n",
      "539 Cu_211_u2_RPBE_no006_CO_n1_d8.traj\n",
      "540 Cu_211_u2_RPBE_no007_CO_n1_d8.traj\n",
      "541 Cu_211_u2_RPBE_no008_CO_n1_d8.traj\n",
      "542 Cu_211_u2_RPBE_no009_CO_n1_d8.traj\n",
      "543 Cu_211_u2_RPBE_no010_CO_n1_d8.traj\n",
      "544 Cu_BEEF-vdW.traj\n",
      "545 Cu_RPBE-D2.traj\n",
      "546 Cu_RPBE.traj\n",
      "547 Cu_optB88-vdW.traj\n",
      "548 Cu_vdW-DF.traj\n",
      "549 Cu_vdW-DF2.traj\n",
      "1059 ZnCu_100_u2_RPBE.traj\n",
      "1060 ZnCu_100_u2_RPBE_no001_CO_n1_d10.traj\n",
      "1061 ZnCu_100_u2_RPBE_no002_CO_n1_d10.traj\n",
      "1062 ZnCu_100_u2_RPBE_no003_CO_n1_d10.traj\n",
      "1063 ZnCu_110_u2_RPBE.traj\n",
      "1064 ZnCu_110_u2_RPBE_no001_CO_n1_d10.traj\n",
      "1065 ZnCu_110_u2_RPBE_no002_CO_n1_d10.traj\n",
      "1066 ZnCu_110_u2_RPBE_no003_CO_n1_d10.traj\n",
      "1067 ZnCu_110_u2_RPBE_no004_CO_n1_d10.traj\n",
      "1068 ZnCu_110_u2_RPBE_no005_CO_n1_d10.traj\n",
      "1069 ZnCu_110_u2_RPBE_no006_CO_n1_d10.traj\n",
      "1070 ZnCu_110_u2_RPBE_no007_CO_n1_d10.traj\n",
      "1071 ZnCu_111_u2_RPBE.traj\n",
      "1072 ZnCu_RPBE.traj\n"
     ]
    }
   ],
   "source": [
    "env = 'local'\n",
    "files = os.listdir('./init/')\n",
    "# files = os.listdir('./database/')\n",
    "chosen = []\n",
    "\n",
    "for i in range(len(files)):\n",
    "    if 'Cu' in files[i]:\n",
    "#     if 'Cu' in files[i] or 'Pt' in files[i]:\n",
    "        print(i, files[i])\n",
    "        chosen.append(files[i])\n",
    "#         init_query(files[i],'local')"
   ]
  },
  {
   "cell_type": "code",
   "execution_count": 11,
   "metadata": {},
   "outputs": [
    {
     "data": {
      "text/plain": [
       "Atoms(symbols='Cu16COCOCO', pbc=[True, True, False], cell=[[5.200358657806354, 0.0, 3.1843012923503887e-16], [8.36281454406039e-16, 5.200358657806353, 3.1843012923503882e-16], [0.0, 0.0, 44.12650645844454]], tags=...)"
      ]
     },
     "execution_count": 11,
     "metadata": {},
     "output_type": "execute_result"
    }
   ],
   "source": [
    "index = 448\n",
    "init_query(files[index],'local')"
   ]
  },
  {
   "cell_type": "code",
   "execution_count": 13,
   "metadata": {},
   "outputs": [
    {
     "data": {
      "text/plain": [
       "Atoms(symbols='COCOCO', pbc=[True, True, False], cell=[[5.200358657806354, 0.0, 3.1843012923503887e-16], [8.36281454406039e-16, 5.200358657806353, 3.1843012923503882e-16], [0.0, 0.0, 44.12650645844454]], tags=..., calculator=SinglePointCalculator(...))"
      ]
     },
     "execution_count": 13,
     "metadata": {},
     "output_type": "execute_result"
    }
   ],
   "source": [
    "file = 'Cu_100_u2_RPBE_no005_CO_n3_d3__.traj'\n",
    "query(file,'local')"
   ]
  },
  {
   "cell_type": "code",
   "execution_count": null,
   "metadata": {},
   "outputs": [],
   "source": []
  }
 ],
 "metadata": {
  "kernelspec": {
   "display_name": "Python 3",
   "language": "python",
   "name": "python3"
  },
  "language_info": {
   "codemirror_mode": {
    "name": "ipython",
    "version": 3
   },
   "file_extension": ".py",
   "mimetype": "text/x-python",
   "name": "python",
   "nbconvert_exporter": "python",
   "pygments_lexer": "ipython3",
   "version": "3.6.9"
  }
 },
 "nbformat": 4,
 "nbformat_minor": 2
}
