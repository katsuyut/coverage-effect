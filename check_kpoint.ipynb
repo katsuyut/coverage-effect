{
 "cells": [
  {
   "cell_type": "code",
   "execution_count": 1,
   "metadata": {},
   "outputs": [],
   "source": [
    "import numpy as np\n",
    "import sys\n",
    "from MAUtil import *\n",
    "from MAInit import *\n",
    "from MACalc import *"
   ]
  },
  {
   "cell_type": "code",
   "execution_count": 2,
   "metadata": {},
   "outputs": [],
   "source": [
    "env = 'local'\n",
    "# env = 'spacom'\n",
    "surface = 'Cu'\n",
    "mirror = '111'\n",
    "adsorbate = 'CO'"
   ]
  },
  {
   "cell_type": "code",
   "execution_count": 3,
   "metadata": {},
   "outputs": [],
   "source": [
    "### Set coefficients ###\n",
    "d = 1.13\n",
    "h = 1.85\n",
    "unitlength = 2\n",
    "depth = 4"
   ]
  },
  {
   "cell_type": "code",
   "execution_count": 4,
   "metadata": {},
   "outputs": [],
   "source": [
    "# x = np.linspace(3, 10, 1000)\n",
    "# c = 25\n",
    "\n",
    "# plt.plot(x, c/x)\n",
    "# plt.plot(x, [int(y) for y in c/x])\n",
    "# plt.show()"
   ]
  },
  {
   "cell_type": "code",
   "execution_count": 5,
   "metadata": {},
   "outputs": [
    {
     "data": {
      "text/plain": [
       "(4, 4, 0, 5.105310960166873, 5.1053109601668725, 26.252703415323648)"
      ]
     },
     "execution_count": 5,
     "metadata": {},
     "output_type": "execute_result"
    }
   ],
   "source": [
    "atoms = fcc111(surface, size=(unitlength, unitlength, depth), vacuum=10.0)\n",
    "c = 25\n",
    "\n",
    "cell = atoms.cell\n",
    "\n",
    "cell=atoms.get_cell()\n",
    "x=np.sqrt(np.square(cell[0][0])+np.square(cell[0][1])+np.square(cell[0][2]))\n",
    "y=np.sqrt(np.square(cell[1][0])+np.square(cell[1][1])+np.square(cell[1][2]))\n",
    "z=np.sqrt(np.square(cell[2][0])+np.square(cell[2][1])+np.square(cell[2][2]))\n",
    "kpts1=int(c/x)\n",
    "kpts2=int(c/y)\n",
    "kpts3=int(c/z)\n",
    "\n",
    "kpts1, kpts2, kpts3, x, y, z"
   ]
  },
  {
   "cell_type": "code",
   "execution_count": 6,
   "metadata": {},
   "outputs": [
    {
     "data": {
      "text/plain": [
       "[5, 5, 1]"
      ]
     },
     "execution_count": 6,
     "metadata": {},
     "output_type": "execute_result"
    }
   ],
   "source": [
    "getkpts(atoms)"
   ]
  },
  {
   "cell_type": "code",
   "execution_count": 7,
   "metadata": {},
   "outputs": [
    {
     "ename": "SyntaxError",
     "evalue": "invalid syntax (<ipython-input-7-159d0bba21c5>, line 1)",
     "output_type": "error",
     "traceback": [
      "\u001b[0;36m  File \u001b[0;32m\"<ipython-input-7-159d0bba21c5>\"\u001b[0;36m, line \u001b[0;32m1\u001b[0m\n\u001b[0;31m    unit kpoints\u001b[0m\n\u001b[0m               ^\u001b[0m\n\u001b[0;31mSyntaxError\u001b[0m\u001b[0;31m:\u001b[0m invalid syntax\n"
     ]
    }
   ],
   "source": [
    "unit kpoints\n",
    "# c=30\n",
    "1    (11, 11, 1)\n",
    "2    (5, 5, 1)\n",
    "3    (3, 3, 1)\n",
    "4    (2, 2, 1)\n",
    "\n",
    "# c=25\n",
    "1    (9, 9, 1) or (8,8,1)\n",
    "2    (4, 4, 1)\n",
    "3    (3, 3, 1)\n",
    "4    (2, 2, 1)"
   ]
  },
  {
   "cell_type": "code",
   "execution_count": 8,
   "metadata": {},
   "outputs": [
    {
     "data": {
      "text/plain": [
       "(11, 11, 11)"
      ]
     },
     "execution_count": 8,
     "metadata": {},
     "output_type": "execute_result"
    }
   ],
   "source": [
    "a = 3.6\n",
    "b = a/2\n",
    "atoms = Atoms('Cu', \n",
    "              cell=[(0, b, b), (b, 0, b), (b, b, 0)],\n",
    "              pbc=1)  # use EMT potential\n",
    "cell = atoms.get_cell()\n",
    "\n",
    "x=np.sqrt(np.square(cell[0][0])+np.square(cell[0][1])+np.square(cell[0][2]))\n",
    "y=np.sqrt(np.square(cell[1][0])+np.square(cell[1][1])+np.square(cell[1][2]))\n",
    "z=np.sqrt(np.square(cell[2][0])+np.square(cell[2][1])+np.square(cell[2][2]))\n",
    "kpts1=int(30/x)\n",
    "kpts2=int(30/y)\n",
    "kpts3=int(30/z)\n",
    "\n",
    "kpts1, kpts2, kpts3"
   ]
  },
  {
   "cell_type": "code",
   "execution_count": 9,
   "metadata": {},
   "outputs": [
    {
     "ename": "AttributeError",
     "evalue": "'Atom' object has no attribute 'cell'",
     "output_type": "error",
     "traceback": [
      "\u001b[0;31m---------------------------------------------------------------------------\u001b[0m",
      "\u001b[0;31mAttributeError\u001b[0m                            Traceback (most recent call last)",
      "\u001b[0;32m<ipython-input-9-ce4824fca4b8>\u001b[0m in \u001b[0;36m<module>\u001b[0;34m\u001b[0m\n\u001b[1;32m      1\u001b[0m \u001b[0matoms\u001b[0m \u001b[0;34m=\u001b[0m \u001b[0mquery\u001b[0m\u001b[0;34m(\u001b[0m\u001b[0;34m'CO.traj'\u001b[0m\u001b[0;34m,\u001b[0m \u001b[0menv\u001b[0m\u001b[0;34m)\u001b[0m\u001b[0;34m[\u001b[0m\u001b[0;36m0\u001b[0m\u001b[0;34m]\u001b[0m\u001b[0;34m\u001b[0m\u001b[0;34m\u001b[0m\u001b[0m\n\u001b[1;32m      2\u001b[0m \u001b[0;34m\u001b[0m\u001b[0m\n\u001b[0;32m----> 3\u001b[0;31m \u001b[0mcell\u001b[0m \u001b[0;34m=\u001b[0m \u001b[0matoms\u001b[0m\u001b[0;34m.\u001b[0m\u001b[0mcell\u001b[0m\u001b[0;34m\u001b[0m\u001b[0;34m\u001b[0m\u001b[0m\n\u001b[0m\u001b[1;32m      4\u001b[0m \u001b[0;34m\u001b[0m\u001b[0m\n\u001b[1;32m      5\u001b[0m \u001b[0mcell\u001b[0m\u001b[0;34m=\u001b[0m\u001b[0matoms\u001b[0m\u001b[0;34m.\u001b[0m\u001b[0mget_cell\u001b[0m\u001b[0;34m(\u001b[0m\u001b[0;34m)\u001b[0m\u001b[0;34m\u001b[0m\u001b[0;34m\u001b[0m\u001b[0m\n",
      "\u001b[0;31mAttributeError\u001b[0m: 'Atom' object has no attribute 'cell'"
     ]
    }
   ],
   "source": [
    "atoms = query('CO.traj', env)[0]\n",
    "\n",
    "cell = atoms.cell\n",
    "\n",
    "cell=atoms.get_cell()\n",
    "x=np.sqrt(np.square(cell[0][0])+np.square(cell[0][1])+np.square(cell[0][2]))\n",
    "y=np.sqrt(np.square(cell[1][0])+np.square(cell[1][1])+np.square(cell[1][2]))\n",
    "z=np.sqrt(np.square(cell[2][0])+np.square(cell[2][1])+np.square(cell[2][2]))\n",
    "kpts1=int(30/x)\n",
    "kpts2=int(30/y)\n",
    "kpts3=int(30/z)\n",
    "\n",
    "kpts1, kpts2, kpts3"
   ]
  },
  {
   "cell_type": "code",
   "execution_count": 10,
   "metadata": {},
   "outputs": [
    {
     "name": "stdout",
     "output_type": "stream",
     "text": [
      "5\n",
      "5\n",
      "5\n",
      "5\n",
      "5\n"
     ]
    }
   ],
   "source": [
    "b=3.61\n",
    "atoms = Atoms(surface, \n",
    "              cell=[(0, b, b), (b, 0, b), (b, b, 0)],\n",
    "              pbc=1)\n",
    "cell0 = atoms.get_cell()\n",
    "\n",
    "for x in np.linspace(0.98, 1.02, 5):\n",
    "    atoms.set_cell(cell0 * x, scale_atoms=True)\n",
    "    cell = atoms.get_cell()\n",
    "\n",
    "    x=np.sqrt(np.square(cell[0][0])+np.square(cell[0][1])+np.square(cell[0][2]))\n",
    "    y=np.sqrt(np.square(cell[1][0])+np.square(cell[1][1])+np.square(cell[1][2]))\n",
    "    z=np.sqrt(np.square(cell[2][0])+np.square(cell[2][1])+np.square(cell[2][2]))\n",
    "    kpts1=int(30/x)\n",
    "    kpts2=int(30/y)\n",
    "    kpts3=int(30/z)\n",
    "    print(kpts1)"
   ]
  },
  {
   "cell_type": "code",
   "execution_count": 11,
   "metadata": {},
   "outputs": [
    {
     "data": {
      "text/plain": [
       "(5, 5, 5)"
      ]
     },
     "execution_count": 11,
     "metadata": {},
     "output_type": "execute_result"
    }
   ],
   "source": [
    "kpts1, kpts2, kpts3"
   ]
  },
  {
   "cell_type": "code",
   "execution_count": null,
   "metadata": {},
   "outputs": [],
   "source": []
  },
  {
   "cell_type": "code",
   "execution_count": null,
   "metadata": {},
   "outputs": [],
   "source": []
  },
  {
   "cell_type": "code",
   "execution_count": 12,
   "metadata": {},
   "outputs": [
    {
     "data": {
      "text/plain": [
       "(3, 3, 1, 3.3567330867034677, 3.356733086703468, 1.0990120821510527)"
      ]
     },
     "execution_count": 12,
     "metadata": {},
     "output_type": "execute_result"
    }
   ],
   "source": [
    "c = 30\n",
    "\n",
    "atoms = query('Cu_111_u1.traj', 'spacom')\n",
    "atoms = query('Ni_111_u3.traj', 'spacom')\n",
    "atoms = query('Ag_111_u3.traj', 'spacom')\n",
    "# atoms = query('NiGa_110_u1.traj', 'spacom')\n",
    "\n",
    "cell = atoms.cell\n",
    "\n",
    "cell=atoms.get_cell()\n",
    "x=np.sqrt(np.square(cell[0][0])+np.square(cell[0][1])+np.square(cell[0][2]))\n",
    "y=np.sqrt(np.square(cell[1][0])+np.square(cell[1][1])+np.square(cell[1][2]))\n",
    "z=np.sqrt(np.square(cell[2][0])+np.square(cell[2][1])+np.square(cell[2][2]))\n",
    "kpts1=int(c/x)\n",
    "kpts2=int(c/y)\n",
    "kpts3=int(c/z)\n",
    "\n",
    "kpts1, kpts2, kpts3, c/x, c/y, c/z"
   ]
  },
  {
   "cell_type": "code",
   "execution_count": 13,
   "metadata": {},
   "outputs": [
    {
     "data": {
      "text/plain": [
       "[3, 3, 1]"
      ]
     },
     "execution_count": 13,
     "metadata": {},
     "output_type": "execute_result"
    }
   ],
   "source": [
    "getkpts(atoms)"
   ]
  },
  {
   "cell_type": "code",
   "execution_count": 20,
   "metadata": {},
   "outputs": [
    {
     "name": "stdout",
     "output_type": "stream",
     "text": [
      "\u001b[0m\u001b[01;35m200212.png\u001b[0m                     make_all_unique_structures.ipynb\r\n",
      "MACalc.py                      make_bareatoms.ipynb\r\n",
      "MAInit.py                      make_plot.ipynb\r\n",
      "MAPost.py                      \u001b[34;42mmodules\u001b[0m/\r\n",
      "MAUtil.py                      \u001b[34;42mold\u001b[0m/\r\n",
      "\u001b[34;42mPDOS\u001b[0m/                          predictE-CO+surfacebondmod-Copy1.ipynb\r\n",
      "SS.ipynb                       predictE-CO+surfacebondmod-kpoint_441.ipynb\r\n",
      "\u001b[34;42m__pycache__\u001b[0m/                   predictE-CO+surfacebondmod.ipynb\r\n",
      "atoms.txt                      predictE.ipynb\r\n",
      "check_kpoint.ipynb             query.ipynb\r\n",
      "coint.eps                      query_fromDB.ipynb\r\n",
      "create_db-kpoint_441.ipynb     slope_material-Copy1.ipynb\r\n",
      "create_db.ipynb                \u001b[01;32mslope_material.csv\u001b[0m*\r\n",
      "\u001b[34;42mdatabase\u001b[0m/                      \u001b[01;32mslope_material.csv~\u001b[0m*\r\n",
      "final.eps                      slope_material.ipynb\r\n",
      "find_bond.ipynb                \u001b[01;32mslope_material_additional.csv\u001b[0m*\r\n",
      "\u001b[34;42mfor_report\u001b[0m/                    \u001b[01;32mslope_material_additional.csv~\u001b[0m*\r\n",
      "get_CO_interaction.ipynb       slope_material_with_olddata.ipynb\r\n",
      "get_energy.ipynb               slope_material_woth_olddata.csv\r\n",
      "\u001b[01;32mget_energy.py\u001b[0m*                 test.csv\r\n",
      "\u001b[01;32mget_inter_energy.py\u001b[0m*           testcode.ipynb\r\n",
      "\u001b[34;42minit\u001b[0m/                          tests.pk\r\n",
      "interaction_energy_calc.ipynb  tmp-Copy1.ipynb\r\n",
      "ktms.py                        tmp.ipynb\r\n",
      "latticeconstant.ipynb          zval.txt\r\n",
      "latticeconstant_alloy.ipynb\r\n"
     ]
    }
   ],
   "source": [
    "ls"
   ]
  },
  {
   "cell_type": "code",
   "execution_count": null,
   "metadata": {},
   "outputs": [],
   "source": []
  }
 ],
 "metadata": {
  "kernelspec": {
   "display_name": "Python 3",
   "language": "python",
   "name": "python3"
  },
  "language_info": {
   "codemirror_mode": {
    "name": "ipython",
    "version": 3
   },
   "file_extension": ".py",
   "mimetype": "text/x-python",
   "name": "python",
   "nbconvert_exporter": "python",
   "pygments_lexer": "ipython3",
   "version": "3.6.9"
  }
 },
 "nbformat": 4,
 "nbformat_minor": 2
}
