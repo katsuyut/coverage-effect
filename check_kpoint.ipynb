{
 "cells": [
  {
   "cell_type": "code",
   "execution_count": 1,
   "metadata": {},
   "outputs": [],
   "source": [
    "import numpy as np\n",
    "import sys\n",
    "import ktms"
   ]
  },
  {
   "cell_type": "code",
   "execution_count": 2,
   "metadata": {},
   "outputs": [],
   "source": [
    "env = 'local'\n",
    "# env = 'spacom'\n",
    "surface = 'Cu'\n",
    "mirror = '111'\n",
    "adsorbate = 'CO'"
   ]
  },
  {
   "cell_type": "code",
   "execution_count": 4,
   "metadata": {},
   "outputs": [],
   "source": [
    "### Set coefficients ###\n",
    "d = 1.13\n",
    "h = 1.85\n",
    "unitlength = 2\n",
    "depth = 4"
   ]
  },
  {
   "cell_type": "code",
   "execution_count": 5,
   "metadata": {},
   "outputs": [
    {
     "data": {
      "text/plain": [
       "(5, 5, 1)"
      ]
     },
     "execution_count": 5,
     "metadata": {},
     "output_type": "execute_result"
    }
   ],
   "source": [
    "atoms = ktms.fcc111(surface, size=(unitlength, unitlength, depth), vacuum=10.0)\n",
    "\n",
    "cell = atoms.cell\n",
    "\n",
    "cell=atoms.get_cell()\n",
    "x=np.sqrt(np.square(cell[0][0])+np.square(cell[0][1])+np.square(cell[0][2]))\n",
    "y=np.sqrt(np.square(cell[1][0])+np.square(cell[1][1])+np.square(cell[1][2]))\n",
    "z=np.sqrt(np.square(cell[2][0])+np.square(cell[2][1])+np.square(cell[2][2]))\n",
    "kpts1=int(30/x)\n",
    "kpts2=int(30/y)\n",
    "kpts3=int(30/z)\n",
    "\n",
    "kpts1, kpts2, kpts3"
   ]
  },
  {
   "cell_type": "code",
   "execution_count": 38,
   "metadata": {},
   "outputs": [
    {
     "data": {
      "text/plain": [
       "array([[ 2.55265548,  0.        ,  0.        ],\n",
       "       [ 1.27632774,  2.21066449,  0.        ],\n",
       "       [ 0.        ,  0.        , 24.16846894]])"
      ]
     },
     "execution_count": 38,
     "metadata": {},
     "output_type": "execute_result"
    }
   ],
   "source": [
    "cell"
   ]
  },
  {
   "cell_type": "code",
   "execution_count": 6,
   "metadata": {},
   "outputs": [
    {
     "ename": "SyntaxError",
     "evalue": "invalid syntax (<ipython-input-6-7f762d5de557>, line 1)",
     "output_type": "error",
     "traceback": [
      "\u001b[0;36m  File \u001b[0;32m\"<ipython-input-6-7f762d5de557>\"\u001b[0;36m, line \u001b[0;32m1\u001b[0m\n\u001b[0;31m    unit kpoints\u001b[0m\n\u001b[0m               ^\u001b[0m\n\u001b[0;31mSyntaxError\u001b[0m\u001b[0;31m:\u001b[0m invalid syntax\n"
     ]
    }
   ],
   "source": [
    "unit kpoints\n",
    "1    (11, 11, 1)\n",
    "2    (5, 5, 1)\n",
    "3    (3, 3, 1)\n",
    "4    (2, 2, 1)"
   ]
  },
  {
   "cell_type": "code",
   "execution_count": 39,
   "metadata": {},
   "outputs": [
    {
     "data": {
      "text/plain": [
       "(11, 11, 11)"
      ]
     },
     "execution_count": 39,
     "metadata": {},
     "output_type": "execute_result"
    }
   ],
   "source": [
    "a = 3.6\n",
    "b = a/2\n",
    "atoms = ktms.Atoms('Cu', \n",
    "              cell=[(0, b, b), (b, 0, b), (b, b, 0)],\n",
    "              pbc=1)  # use EMT potential\n",
    "cell = atoms.get_cell()\n",
    "\n",
    "x=np.sqrt(np.square(cell[0][0])+np.square(cell[0][1])+np.square(cell[0][2]))\n",
    "y=np.sqrt(np.square(cell[1][0])+np.square(cell[1][1])+np.square(cell[1][2]))\n",
    "z=np.sqrt(np.square(cell[2][0])+np.square(cell[2][1])+np.square(cell[2][2]))\n",
    "kpts1=int(30/x)\n",
    "kpts2=int(30/y)\n",
    "kpts3=int(30/z)\n",
    "\n",
    "kpts1, kpts2, kpts3"
   ]
  },
  {
   "cell_type": "code",
   "execution_count": 41,
   "metadata": {},
   "outputs": [
    {
     "data": {
      "text/plain": [
       "(3, 3, 3)"
      ]
     },
     "execution_count": 41,
     "metadata": {},
     "output_type": "execute_result"
    }
   ],
   "source": [
    "atoms = ktms.query('CO.traj', env)[0]\n",
    "\n",
    "cell = atoms.cell\n",
    "\n",
    "cell=atoms.get_cell()\n",
    "x=np.sqrt(np.square(cell[0][0])+np.square(cell[0][1])+np.square(cell[0][2]))\n",
    "y=np.sqrt(np.square(cell[1][0])+np.square(cell[1][1])+np.square(cell[1][2]))\n",
    "z=np.sqrt(np.square(cell[2][0])+np.square(cell[2][1])+np.square(cell[2][2]))\n",
    "kpts1=int(30/x)\n",
    "kpts2=int(30/y)\n",
    "kpts3=int(30/z)\n",
    "\n",
    "kpts1, kpts2, kpts3"
   ]
  },
  {
   "cell_type": "code",
   "execution_count": 9,
   "metadata": {},
   "outputs": [],
   "source": [
    "??ktms.Vasp"
   ]
  },
  {
   "cell_type": "code",
   "execution_count": 11,
   "metadata": {},
   "outputs": [],
   "source": [
    "ktms.view(atoms)"
   ]
  },
  {
   "cell_type": "code",
   "execution_count": 33,
   "metadata": {},
   "outputs": [
    {
     "name": "stdout",
     "output_type": "stream",
     "text": [
      "5\n",
      "5\n",
      "5\n",
      "5\n",
      "5\n"
     ]
    }
   ],
   "source": [
    "b=3.61\n",
    "atoms = ktms.Atoms(surface, \n",
    "              cell=[(0, b, b), (b, 0, b), (b, b, 0)],\n",
    "              pbc=1)\n",
    "cell0 = atoms.get_cell()\n",
    "\n",
    "for x in np.linspace(0.98, 1.02, 5):\n",
    "    atoms.set_cell(cell0 * x, scale_atoms=True)\n",
    "    cell = atoms.get_cell()\n",
    "\n",
    "    x=np.sqrt(np.square(cell[0][0])+np.square(cell[0][1])+np.square(cell[0][2]))\n",
    "    y=np.sqrt(np.square(cell[1][0])+np.square(cell[1][1])+np.square(cell[1][2]))\n",
    "    z=np.sqrt(np.square(cell[2][0])+np.square(cell[2][1])+np.square(cell[2][2]))\n",
    "    kpts1=int(30/x)\n",
    "    kpts2=int(30/y)\n",
    "    kpts3=int(30/z)\n",
    "    print(kpts1)"
   ]
  },
  {
   "cell_type": "code",
   "execution_count": 18,
   "metadata": {},
   "outputs": [
    {
     "data": {
      "text/plain": [
       "(5, 5, 5)"
      ]
     },
     "execution_count": 18,
     "metadata": {},
     "output_type": "execute_result"
    }
   ],
   "source": [
    "kpts1, kpts2, kpts3"
   ]
  },
  {
   "cell_type": "code",
   "execution_count": null,
   "metadata": {},
   "outputs": [],
   "source": []
  }
 ],
 "metadata": {
  "kernelspec": {
   "display_name": "Python 3",
   "language": "python",
   "name": "python3"
  },
  "language_info": {
   "codemirror_mode": {
    "name": "ipython",
    "version": 3
   },
   "file_extension": ".py",
   "mimetype": "text/x-python",
   "name": "python",
   "nbconvert_exporter": "python",
   "pygments_lexer": "ipython3",
   "version": "3.6.7"
  }
 },
 "nbformat": 4,
 "nbformat_minor": 2
}
