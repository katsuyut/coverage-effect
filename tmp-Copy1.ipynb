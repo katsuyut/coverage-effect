{
 "cells": [
  {
   "cell_type": "code",
   "execution_count": 1,
   "metadata": {},
   "outputs": [],
   "source": [
    "### It's temporally used file so any modification will be fine ###"
   ]
  },
  {
   "cell_type": "code",
   "execution_count": 50,
   "metadata": {},
   "outputs": [],
   "source": [
    "from MAUtil import *\n",
    "from MAInit import *\n",
    "from MACalc import *\n",
    "from MAPost import *"
   ]
  },
  {
   "cell_type": "code",
   "execution_count": 51,
   "metadata": {},
   "outputs": [],
   "source": [
    "# name = 'Cu_100_u2_no14_CO_n3_d3.traj'\n",
    "# atoms = query(name)\n",
    "# ratoms = get_repeated_atoms(atoms, 3)\n",
    "# view(ratoms)\n",
    "\n",
    "# name = 'Cu_100_u2_no05_CO_n3_d3.traj'\n",
    "# atoms = query(name)\n",
    "# ratoms = get_repeated_atoms(atoms, 3)\n",
    "# view(ratoms)"
   ]
  },
  {
   "cell_type": "code",
   "execution_count": 53,
   "metadata": {},
   "outputs": [],
   "source": [
    "name = 'Cu_100_u2_no21_CO_n2_d3.traj'\n",
    "atoms = query(name)\n",
    "repeat = 5 # repeat, should be odd!\n",
    "ratoms = get_repeated_atoms(atoms, repeat)\n",
    "\n",
    "b_mat, nads = get_modified_bonding_matrix(ratoms)\n",
    "# b_mat, nads = get_bonding_matrix(ratoms)\n",
    "# results = get_number_matrix(b_mat, nads, repeat)"
   ]
  },
  {
   "cell_type": "code",
   "execution_count": 54,
   "metadata": {},
   "outputs": [
    {
     "data": {
      "text/plain": [
       "array([[0.  , 2.  , 0.25],\n",
       "       [1.  , 2.  , 0.25]])"
      ]
     },
     "execution_count": 54,
     "metadata": {},
     "output_type": "execute_result"
    }
   ],
   "source": [
    "results"
   ]
  },
  {
   "cell_type": "code",
   "execution_count": 55,
   "metadata": {},
   "outputs": [],
   "source": [
    "np.set_printoptions(threshold=10000)"
   ]
  },
  {
   "cell_type": "code",
   "execution_count": 56,
   "metadata": {},
   "outputs": [],
   "source": [
    "view(ratoms)"
   ]
  },
  {
   "cell_type": "code",
   "execution_count": 57,
   "metadata": {},
   "outputs": [
    {
     "data": {
      "text/plain": [
       "50"
      ]
     },
     "execution_count": 57,
     "metadata": {},
     "output_type": "execute_result"
    }
   ],
   "source": [
    "nads"
   ]
  },
  {
   "cell_type": "code",
   "execution_count": 58,
   "metadata": {},
   "outputs": [],
   "source": [
    "# savemat = b_mat@b_mat@b_mat@b_mat\n",
    "# print(savemat)\n",
    "# np.savetxt('test.csv', savemat, delimiter=',')"
   ]
  },
  {
   "cell_type": "code",
   "execution_count": 59,
   "metadata": {
    "scrolled": true
   },
   "outputs": [
    {
     "name": "stdout",
     "output_type": "stream",
     "text": [
      "mod [[0.    0.    0.    0.    0.    0.    0.    0.    0.    0.    0.    0.\n",
      "  0.    0.    0.    0.125 0.    0.    0.    0.    0.    0.    0.    0.\n",
      "  0.    0.125 0.    0.    0.    0.    0.    0.    0.    0.    0.    0.\n",
      "  0.    0.    0.    0.    0.    0.    0.    0.    0.    0.    0.    0.\n",
      "  0.    0.   ]\n",
      " [0.    0.    0.    0.    0.    0.    0.    0.    0.    0.    0.    0.\n",
      "  0.    0.    0.    0.    0.    0.    0.    0.    0.    0.    0.    0.\n",
      "  0.125 0.    0.    0.    0.    0.    0.    0.    0.    0.    0.125 0.\n",
      "  0.    0.    0.    0.    0.    0.    0.    0.    0.    0.    0.    0.\n",
      "  0.    0.   ]]\n",
      "mod [[0.        0.        0.        0.        0.        0.        0.\n",
      "  0.        0.        0.        0.        0.        0.        0.0078125\n",
      "  0.015625  0.        0.        0.0078125 0.        0.        0.\n",
      "  0.        0.015625  0.0078125 0.        0.        0.015625  0.0078125\n",
      "  0.        0.        0.        0.        0.        0.        0.015625\n",
      "  0.        0.        0.        0.        0.        0.        0.\n",
      "  0.        0.        0.        0.        0.        0.        0.\n",
      "  0.       ]\n",
      " [0.        0.        0.        0.        0.        0.        0.\n",
      "  0.        0.        0.        0.        0.        0.        0.\n",
      "  0.        0.015625  0.        0.        0.        0.        0.\n",
      "  0.        0.0078125 0.015625  0.        0.        0.0078125 0.015625\n",
      "  0.        0.        0.        0.        0.0078125 0.        0.\n",
      "  0.015625  0.0078125 0.        0.        0.        0.        0.\n",
      "  0.        0.        0.        0.        0.        0.        0.\n",
      "  0.       ]]\n",
      "mod [[0.         0.         0.         0.         0.         0.00195312\n",
      "  0.         0.         0.         0.         0.         0.\n",
      "  0.00292969 0.         0.         0.         0.00292969 0.\n",
      "  0.         0.         0.         0.         0.         0.\n",
      "  0.         0.         0.         0.         0.         0.\n",
      "  0.         0.         0.00292969 0.         0.         0.00195312\n",
      "  0.00292969 0.         0.         0.         0.         0.\n",
      "  0.         0.         0.         0.         0.         0.\n",
      "  0.         0.        ]\n",
      " [0.         0.         0.         0.         0.         0.\n",
      "  0.         0.         0.         0.         0.         0.\n",
      "  0.         0.00292969 0.00195312 0.         0.         0.00292969\n",
      "  0.         0.         0.         0.         0.         0.\n",
      "  0.         0.         0.         0.         0.         0.\n",
      "  0.         0.         0.         0.00292969 0.         0.\n",
      "  0.         0.00292969 0.         0.         0.         0.\n",
      "  0.         0.         0.00195312 0.         0.         0.\n",
      "  0.         0.        ]]\n"
     ]
    }
   ],
   "source": [
    "newb_mat = copy.deepcopy(b_mat)\n",
    "done = np.zeros([nads//repeat**2])\n",
    "results = []\n",
    "i = 2\n",
    "mask = np.ones(np.shape(newb_mat[nads//repeat**2*(math.floor(repeat**2/2.0)):nads//repeat**2*(math.ceil(repeat**2/2.0)),-nads:]))\n",
    "while True:\n",
    "    newb_mat = newb_mat @ b_mat\n",
    "    newb_matCO = (newb_mat - np.diag(np.diag(newb_mat)))[-nads:,-nads:] # extract related adsorbate and non-diagonal terms\n",
    "    newb_matCO = newb_matCO[nads//repeat**2*(math.floor(repeat**2/2.0)):nads//repeat**2*(math.ceil(repeat**2/2.0))] # examinimg only center one is sufficient\n",
    "\n",
    "#     print('orig', newb_matCO)\n",
    "#     print(mask)\n",
    "    masked = newb_matCO * mask\n",
    "    print('mod',masked)\n",
    "    mask = (newb_matCO == 0)\n",
    "    nnearestbonding = np.sum(masked)\n",
    "    results.append([i,nnearestbonding])\n",
    "\n",
    "    i += 1\n",
    "#     if (done == 1).all() or i==6:\n",
    "#         break\n",
    "    if i==5:\n",
    "        break"
   ]
  },
  {
   "cell_type": "code",
   "execution_count": 60,
   "metadata": {},
   "outputs": [
    {
     "data": {
      "text/plain": [
       "[[2, 0.5], [3, 0.1875], [4, 0.03125]]"
      ]
     },
     "execution_count": 60,
     "metadata": {},
     "output_type": "execute_result"
    }
   ],
   "source": [
    "results"
   ]
  },
  {
   "cell_type": "code",
   "execution_count": null,
   "metadata": {},
   "outputs": [],
   "source": []
  },
  {
   "cell_type": "code",
   "execution_count": 114,
   "metadata": {},
   "outputs": [],
   "source": [
    "name = 'Cu_100_u2_no05_CO_n3_d3.traj'"
   ]
  },
  {
   "cell_type": "code",
   "execution_count": null,
   "metadata": {},
   "outputs": [],
   "source": []
  },
  {
   "cell_type": "code",
   "execution_count": 61,
   "metadata": {},
   "outputs": [],
   "source": [
    "import numpy as np\n",
    "import sys\n",
    "import copy\n",
    "from MAUtil import *\n",
    "from MACalc import *\n",
    "\n",
    "env = 'local'\n",
    "# env = 'spacom'\n",
    "\n",
    "dist = np.linspace(0.2/2**0.5, 5/2**0.5, 50)\n",
    "\n",
    "for r in dist:\n",
    "    atoms = Atoms('HH',\n",
    "                  positions=[(0., 0., 0.), (r, r, 0)],\n",
    "                  cell=(30., 30., 30.))"
   ]
  },
  {
   "cell_type": "code",
   "execution_count": 63,
   "metadata": {},
   "outputs": [
    {
     "data": {
      "text/plain": [
       "Atoms(symbols='H2', pbc=False, cell=[30.0, 30.0, 30.0])"
      ]
     },
     "execution_count": 63,
     "metadata": {},
     "output_type": "execute_result"
    }
   ],
   "source": [
    "atoms"
   ]
  },
  {
   "cell_type": "code",
   "execution_count": 65,
   "metadata": {},
   "outputs": [],
   "source": [
    "view(atoms)"
   ]
  },
  {
   "cell_type": "code",
   "execution_count": null,
   "metadata": {},
   "outputs": [],
   "source": []
  }
 ],
 "metadata": {
  "kernelspec": {
   "display_name": "Python 3",
   "language": "python",
   "name": "python3"
  },
  "language_info": {
   "codemirror_mode": {
    "name": "ipython",
    "version": 3
   },
   "file_extension": ".py",
   "mimetype": "text/x-python",
   "name": "python",
   "nbconvert_exporter": "python",
   "pygments_lexer": "ipython3",
   "version": "3.6.7"
  }
 },
 "nbformat": 4,
 "nbformat_minor": 2
}
