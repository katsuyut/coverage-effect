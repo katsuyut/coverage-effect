{
 "cells": [
  {
   "cell_type": "code",
   "execution_count": 1,
   "metadata": {},
   "outputs": [],
   "source": [
    "from MAUtil import *\n",
    "from MAInit import *\n",
    "from MAPost import *\n",
    "np.set_printoptions(linewidth=200)\n",
    "np.set_printoptions(threshold=5000)"
   ]
  },
  {
   "cell_type": "code",
   "execution_count": 2,
   "metadata": {},
   "outputs": [],
   "source": [
    "# fingerprint_adslab_multiads(atoms)"
   ]
  },
  {
   "cell_type": "markdown",
   "metadata": {},
   "source": [
    "# Note:By removing molecule consisted of two atoms and adsorbed Kripton, atoms index has changed!!"
   ]
  },
  {
   "cell_type": "code",
   "execution_count": 3,
   "metadata": {},
   "outputs": [],
   "source": [
    "# env = 'local'\n",
    "env = 'spacom'\n",
    "name = 'Au_111_u2_no021_CO_n4_d3.traj'\n",
    "name = 'Au_111_u2_no006_CO_n4_d3.traj'\n",
    "name = 'Au_111_u2_no004_CO_n4_d3.traj'\n",
    "name = 'Au_111_u2_no030_CO_n4_d3.traj'\n",
    "# name = 'Au_111_u2_no035_CO_n4_d3.traj'\n",
    "# name = 'Cu_100_u2_no13_CO_n4_d3.traj'\n",
    "# name = 'Cu_100_u2_no14_CO_n3_d3.traj'\n",
    "# name = 'Cu_100_u2_no05_CO_n3_d3.traj'\n",
    "# name = 'Ag_100_u2_no14_CO_n3_d3.traj'\n",
    "# name = 'Ag_100_u2_no21_CO_n2_d3.traj'\n",
    "\n",
    "allname = name[:-5] + '_all.traj'\n",
    "atoms = query(name, env)\n",
    "# query(allname, env)"
   ]
  },
  {
   "cell_type": "code",
   "execution_count": 4,
   "metadata": {
    "scrolled": true
   },
   "outputs": [
    {
     "data": {
      "text/plain": [
       "array([[0, 2, 6],\n",
       "       [1, 2, 6],\n",
       "       [2, 2, 6],\n",
       "       [3, 2, 6]])"
      ]
     },
     "execution_count": 4,
     "metadata": {},
     "output_type": "execute_result"
    }
   ],
   "source": [
    "repeat = 3 # repeat\n",
    "ratoms = get_repeated_atoms(atoms, repeat)\n",
    "\n",
    "b_mat, nads = get_bonding_matrix(ratoms)\n",
    "\n",
    "results = get_number_matrix(b_mat, nads, repeat)\n",
    "results"
   ]
  },
  {
   "cell_type": "code",
   "execution_count": null,
   "metadata": {},
   "outputs": [],
   "source": []
  },
  {
   "cell_type": "code",
   "execution_count": 24,
   "metadata": {},
   "outputs": [],
   "source": [
    "def __get_coordination_string_mod(nn_info):\n",
    "    '''\n",
    "    This helper function takes the output of the `VoronoiNN.get_nn_info` method\n",
    "    and gives you a standardized coordination string.\n",
    "    Arg:\n",
    "        nn_info     The output of the\n",
    "                    `pymatgen.analysis.local_env.VoronoiNN.get_nn_info` method.\n",
    "    Returns:\n",
    "        coordination    A string indicating the coordination of the site\n",
    "                        you fed implicitly through the argument, e.g., 'Cu-Cu-Cu'\n",
    "    '''\n",
    "    coordinated_atoms = [neighbor_info['site'].species_string\n",
    "                         for neighbor_info in nn_info\n",
    "                         if neighbor_info['site'].species_string != 'Kr']\n",
    "    coordination = '-'.join(sorted(coordinated_atoms))\n",
    "    \n",
    "    coordinated_indexes = [neighbor_info['site_index']\n",
    "                         for neighbor_info in nn_info\n",
    "                         if neighbor_info['site'].species_string != 'Kr']\n",
    "\n",
    "    return coordination, coordinated_indexes\n",
    "\n",
    "def get_modified_bonding_matrix(atoms):\n",
    "    '''\n",
    "    This function will fingerprint a slab+adsorbate atoms object for you.\n",
    "    It only  with multiple adsorbates.\n",
    "    Arg:\n",
    "        atoms   `ase.Atoms` object to fingerprint. The slab atoms must be\n",
    "                tagged with non-zero integers and adsorbate atoms must be\n",
    "                tagged with zero. This function also assumes that the\n",
    "                first atom in each adsorbate is the binding atom (e.g.,\n",
    "                of all atoms with tag==1, the first atom is the binding;\n",
    "                the same goes for tag==2 and tag==3 etc.).\n",
    "    Returns:\n",
    "        fingerprint A dictionary whose keys are:\n",
    "                        coordination            A string indicating the\n",
    "                                                first shell of\n",
    "                                                coordinated atoms\n",
    "                        neighborcoord           A list of strings\n",
    "                                                indicating the coordination\n",
    "                                                of each of the atoms in\n",
    "                                                the first shell of\n",
    "                                                coordinated atoms\n",
    "                        nextnearestcoordination A string identifying the\n",
    "                                                coordination of the\n",
    "                                                adsorbate when using a\n",
    "                                                loose tolerance for\n",
    "                                                identifying \"neighbors\"\n",
    "    '''\n",
    "    # Replace the adsorbate[s] with a single Krypton atom at the first binding\n",
    "    # site. We need the Krypton there so that pymatgen can find its\n",
    "    # coordination.  \n",
    "    atoms, binding_positions = removemolecule(atoms, 'CO')\n",
    "    nads = len(binding_positions)\n",
    "    for i in reversed(range(nads)):\n",
    "        atoms += Atoms('Kr', positions=[binding_positions[i]])\n",
    "    b_mat = np.zeros([len(atoms), len(atoms)])\n",
    "    Krypton_indexes = []\n",
    "    for atom in atoms:\n",
    "        if atom.symbol == 'Kr':\n",
    "            Krypton_indexes.append(atom.index)\n",
    "    struct = AseAtomsAdaptor.get_structure(atoms)\n",
    "    \n",
    "    try:\n",
    "        for atom in atoms:\n",
    "            # We have a standard and a loose Voronoi neighbor finder for various\n",
    "            # purposes\n",
    "            vnn = VoronoiNN(allow_pathological=True, tol=0.6, cutoff=10) # originally tol=0.8\n",
    "            vnn_loose = VoronoiNN(allow_pathological=True, tol=0.2, cutoff=10)\n",
    "\n",
    "            # Find the coordination\n",
    "            if atom.symbol == 'Kr':\n",
    "                nn_info = vnn.get_nn_info(struct, n=atom.index)\n",
    "                coordination, cindexes = __get_coordination_string_mod(nn_info)\n",
    "            else:\n",
    "                nn_info = vnn_loose.get_nn_info(struct, n=atom.index)\n",
    "                coordination, cindexes = __get_coordination_string_mod(nn_info)\n",
    "            for cindex in cindexes:\n",
    "                b_mat[atom.index][cindex] = 1/len(cindexes)\n",
    "                b_mat[cindex][atom.index] = 1/len(cindexes)\n",
    "            \n",
    "        return b_mat, nads\n",
    "        \n",
    "    # If we get some QHull or ValueError, then just assume that the adsorbate desorbed\n",
    "    except (QhullError, ValueError):\n",
    "        return None\n",
    "    \n",
    "def get_modified_number_matrix(b_mat, nads, repeat):\n",
    "#     b_matlis = []\n",
    "#     sumb_matlis = []\n",
    "    newb_mat = copy.deepcopy(b_mat)\n",
    "    sumb_mat = 0\n",
    "    results = []\n",
    "\n",
    "    for i in range(2,6):\n",
    "        newb_mat = newb_mat @ b_mat\n",
    "#         b_matlis.append(newb_mat)\n",
    "        sumb_mat = sumb_mat + newb_mat\n",
    "#         sumb_matlis.append(sumb_mat)\n",
    "        sumb_matCO = (sumb_mat - np.diag(np.diag(sumb_mat)))[-nads:,-nads:] # extract related adsorbate and non-diagonal terms\n",
    "        sumb_matCO = sumb_matCO[nads//repeat**2*4:nads//repeat**2*5] # examinimg only center one is sufficient\n",
    "\n",
    "    for j in range(nads//repeat**2):\n",
    "        nnearestbonding = np.max(np.sum(sumb_matCO[j:nads:nads//repeat**2,:], axis=1))\n",
    "#                     print('adsorbate {} has {} nearest adsorbate at {}th neighbor'.format(j,nnearestbonding,i))\n",
    "#                     print(newb_matCO[j:nads:nads//repeat**2,:])\n",
    "        results.append([j,i,nnearestbonding])\n",
    "\n",
    "    return np.array(results) # [adsorbate_index, distance, # of nearest adsorbate]"
   ]
  },
  {
   "cell_type": "code",
   "execution_count": 25,
   "metadata": {},
   "outputs": [
    {
     "data": {
      "text/plain": [
       "array([[0.        , 5.        , 4.24691358],\n",
       "       [1.        , 5.        , 4.24691358],\n",
       "       [2.        , 5.        , 4.24691358],\n",
       "       [3.        , 5.        , 4.24691358]])"
      ]
     },
     "execution_count": 25,
     "metadata": {},
     "output_type": "execute_result"
    }
   ],
   "source": [
    "name = 'Au_111_u2_no021_CO_n4_d3.traj'\n",
    "name = 'Au_111_u2_no006_CO_n4_d3.traj'\n",
    "name = 'Au_111_u2_no004_CO_n4_d3.traj'\n",
    "name = 'Au_111_u2_no030_CO_n4_d3.traj'\n",
    "atoms = query(name)\n",
    "\n",
    "repeat = 3 # repeat\n",
    "ratoms = get_repeated_atoms(atoms, repeat)\n",
    "\n",
    "b_mat, nads = get_modified_bonding_matrix(ratoms)\n",
    "\n",
    "results = get_modified_number_matrix(b_mat, nads, repeat)\n",
    "results"
   ]
  },
  {
   "cell_type": "code",
   "execution_count": 16,
   "metadata": {},
   "outputs": [
    {
     "data": {
      "text/plain": [
       "1.0"
      ]
     },
     "execution_count": 16,
     "metadata": {},
     "output_type": "execute_result"
    }
   ],
   "source": [
    "np.sum((b_mat@b_mat)[-nads,-nads:])"
   ]
  },
  {
   "cell_type": "code",
   "execution_count": null,
   "metadata": {},
   "outputs": [],
   "source": []
  },
  {
   "cell_type": "code",
   "execution_count": null,
   "metadata": {},
   "outputs": [],
   "source": [
    "array([[0.        , 2.        , 0.66666667],\n",
    "       [1.        , 2.        , 0.66666667],\n",
    "       [2.        , 2.        , 0.66666667],\n",
    "       [3.        , 2.        , 0.66666667],\n",
    "       [0.        , 3.        , 0.59259259],\n",
    "       [1.        , 3.        , 0.59259259],\n",
    "       [2.        , 3.        , 0.59259259],\n",
    "       [3.        , 3.        , 0.59259259]])"
   ]
  }
 ],
 "metadata": {
  "kernelspec": {
   "display_name": "Python 3",
   "language": "python",
   "name": "python3"
  },
  "language_info": {
   "codemirror_mode": {
    "name": "ipython",
    "version": 3
   },
   "file_extension": ".py",
   "mimetype": "text/x-python",
   "name": "python",
   "nbconvert_exporter": "python",
   "pygments_lexer": "ipython3",
   "version": "3.6.7"
  }
 },
 "nbformat": 4,
 "nbformat_minor": 2
}
