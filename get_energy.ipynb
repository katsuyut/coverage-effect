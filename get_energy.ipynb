{
 "cells": [
  {
   "cell_type": "code",
   "execution_count": 6,
   "metadata": {
    "scrolled": false
   },
   "outputs": [
    {
     "name": "stdout",
     "output_type": "stream",
     "text": [
      "Cu100_unit3_CO_110_9.traj\n",
      "9.12691122053916\n",
      "Cu100_unit3_CO_110_9.traj, 9.417870864787542\n",
      "Cu100_unit3_CO_200_3.traj\n",
      "9.118459010202274\n",
      "Cu100_unit3_CO_200_3.traj, 9.417870864787542\n",
      "Cu100_unit3_CO_200_5.traj\n",
      "9.417870864787542\n",
      "Cu100_unit3_CO_200_5.traj, 9.417870864787542\n"
     ]
    }
   ],
   "source": [
    "import numpy as np\n",
    "import sys\n",
    "import copy\n",
    "import ktms\n",
    "\n",
    "env = 'local'\n",
    "# env = 'spacom'\n",
    "# name = sys.argv[1]\n",
    "\n",
    "### Set coefficients ###\n",
    "fixlayer = 3\n",
    "\n",
    "\n",
    "with open('atoms.txt') as f:\n",
    "    read_data = f.readlines()\n",
    "f.closed\n",
    "\n",
    "for file in read_data:\n",
    "    name = file.split('\\n')[0]\n",
    "    print(name)\n",
    "\n",
    "    ### Set structure ###\n",
    "    atoms = ktms.init_query(name, env)\n",
    "    cell = atoms.cell\n",
    "    \n",
    "    if 3 in set(atoms.get_tags()): # set constraint only on surface calc\n",
    "        constraint = ktms.FixAtoms(mask=[atom.tag >= fixlayer for atom in atoms])\n",
    "        atoms.set_constraint(constraint)\n",
    "    \n",
    "    \n",
    "    ### Set vasp ###    \n",
    "    kpoints = ktms.getkpts(atoms)    \n",
    "    nb = ktms.getnbands(atoms, 2) # default value is 0.5\n",
    "\n",
    "    vaspset = ktms.Vasp(                              \n",
    "                xc = 'PBE',                           \n",
    "                gga = 'RP',                           \n",
    "                ncore = 4,                            \n",
    "                encut = 350,                          \n",
    "                nsw = 200,                            \n",
    "                kpts = kpoints,                       \n",
    "                ibrion = 2,                           \n",
    "                isif = 0,                             \n",
    "                ediffg = -3.00e-02,                   \n",
    "                isym = 0,                             \n",
    "                lreal = 'Auto',                       \n",
    "                lcharg = False,                       \n",
    "                lwave = False,                        \n",
    "                )                                     \n",
    "#    vaspset = ktms.Vasp(                             \n",
    "#                xc = 'PBE',                          \n",
    "#                gga = 'RP',                          \n",
    "#                ncore = 4,                           \n",
    "#                encut = 500,                         \n",
    "#                nsw = 200,                           \n",
    "#                kpts = kpoints,                      \n",
    "#                ibrion = 2,                          \n",
    "#                isif = 2,                            \n",
    "#                ismear = 1,                          \n",
    "#                sigma = 0.2,                         \n",
    "#                nbands = nb,                         \n",
    "#                #algo = 'All', # 'All' 'Damped'      \n",
    "#                prec = 'Normal', # 'Accurate'        \n",
    "#                lcharg = False,                      \n",
    "#                lwave = False,                       \n",
    "#                )                                    \n",
    "\n",
    "    \n",
    "    ### Get energy ###\n",
    "    print(ktms.query(name, env)[1])\n",
    "    if type(ktms.query(name, env)[1]) != float:\n",
    "        e_atoms = ktms.getenergy(atoms, name[0:-5], vaspset, env)\n",
    "        \n",
    "    print('{0}, {1}'.format(name ,e_atoms))\n",
    "    f = open('result.txt', 'a')\n",
    "    f.write('{0}, {1}'.format(name ,e_atoms))\n",
    "    f.close()"
   ]
  },
  {
   "cell_type": "code",
   "execution_count": null,
   "metadata": {},
   "outputs": [],
   "source": []
  }
 ],
 "metadata": {
  "kernelspec": {
   "display_name": "Python 3",
   "language": "python",
   "name": "python3"
  },
  "language_info": {
   "codemirror_mode": {
    "name": "ipython",
    "version": 3
   },
   "file_extension": ".py",
   "mimetype": "text/x-python",
   "name": "python",
   "nbconvert_exporter": "python",
   "pygments_lexer": "ipython3",
   "version": "3.6.7"
  }
 },
 "nbformat": 4,
 "nbformat_minor": 2
}
